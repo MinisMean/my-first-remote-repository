{
 "cells": [
  {
   "cell_type": "markdown",
   "metadata": {},
   "source": [
    "<table class=\"table table-bordered\">\n",
    "    <tr>\n",
    "        <th style=\"width:250px\"><img src='https://www.np.edu.sg/PublishingImages/Pages/default/odp/ICT.jpg' style=\"width: 100%; height: 125px; \"></th>\n",
    "        <th style=\"text-align:center;\"><h1>Data Wrangling</h1><h2>Assignment 1 </h2><h3>Specialist Diploma in Data Analytics</h3></th>\n",
    "    </tr>\n",
    "</table>"
   ]
  },
  {
   "cell_type": "markdown",
   "metadata": {},
   "source": [
    "### marker: Joey Chew <br> grade: A"
   ]
  },
  {
   "cell_type": "code",
   "execution_count": 1,
   "metadata": {},
   "outputs": [],
   "source": [
    "#JC\n",
    "\n",
    "# good face-to-face presentation with slides also showing simultaneously\n",
    "\n",
    "# good work, wrangling steps were not unnecessarily complicated, and results generated, quite good\n",
    "\n",
    "# some concerns over your choice of automatic OrdinalEncoding, please see comments in individual code cells for\n",
    "# those steps\n",
    "\n",
    "# careful about fitting on test dataset\n"
   ]
  },
  {
   "cell_type": "markdown",
   "metadata": {},
   "source": [
    "Goh Min Ling\n",
    "\n",
    "\n",
    "\n",
    "### Introduction: Problem Understanding\n",
    "The aim is to predict the sales of each product at a particular outlet. Using this, supermarket management team will try to understand the properties of products and outlets which play a key role in increasing sales.\n",
    "\n",
    "\n",
    "From the data question above, we will build a linear regression model with Item_Outlet_Sales as the y variable ( dependent variable) and other x variables (independent variable) consisting of data from other columns. Therefore, when new data comes in or if we get a data request for a particular product, we will be able to input the data and predict the sales for it. We would also be able to predict the performance of different products at different outlets if our model manages to be accurate enough.\n",
    "\n",
    "I will also consider dropping and removing columns that may not be relevant to sales. However, two columns \"Item Identifier\" and \"Outlet Identifier\" cannot be dropped because they are directly related to the data question of predicting sales in each product and outlet, so these two variables must be in our regression model."
   ]
  },
  {
   "cell_type": "code",
   "execution_count": 2,
   "metadata": {},
   "outputs": [],
   "source": [
    "# import the pacakges\n",
    "import random\n",
    "import pandas as pd\n",
    "import numpy as np\n",
    "from sklearn.model_selection import train_test_split\n",
    "from sklearn.compose import ColumnTransformer\n",
    "from sklearn.pipeline import Pipeline\n",
    "from sklearn.impute import SimpleImputer\n",
    "from sklearn.pipeline import Pipeline\n",
    "import feature_engine.imputation as mdi\n",
    "\n",
    "from feature_engine.encoding import OneHotEncoder, MeanEncoder, OrdinalEncoder\n",
    "from feature_engine.encoding import CountFrequencyEncoder\n",
    "from feature_engine.discretisation import EqualFrequencyDiscretiser\n",
    "from feature_engine.encoding import RareLabelEncoder\n",
    "\n",
    "from feature_engine.transformation import YeoJohnsonTransformer\n",
    "from feature_engine.transformation import PowerTransformer\n",
    "\n",
    "\n",
    "import scipy.stats as stats\n",
    "import matplotlib.pyplot as plt\n",
    "import seaborn as sns\n",
    "\n",
    "from sklearn.linear_model import LinearRegression\n",
    "from sklearn.metrics import mean_absolute_error"
   ]
  },
  {
   "cell_type": "markdown",
   "metadata": {},
   "source": [
    "### Step 1: Load Data into Jupyter Notebook"
   ]
  },
  {
   "cell_type": "code",
   "execution_count": 3,
   "metadata": {},
   "outputs": [
    {
     "data": {
      "text/html": [
       "<div>\n",
       "<style scoped>\n",
       "    .dataframe tbody tr th:only-of-type {\n",
       "        vertical-align: middle;\n",
       "    }\n",
       "\n",
       "    .dataframe tbody tr th {\n",
       "        vertical-align: top;\n",
       "    }\n",
       "\n",
       "    .dataframe thead th {\n",
       "        text-align: right;\n",
       "    }\n",
       "</style>\n",
       "<table border=\"1\" class=\"dataframe\">\n",
       "  <thead>\n",
       "    <tr style=\"text-align: right;\">\n",
       "      <th></th>\n",
       "      <th>Item_Identifier</th>\n",
       "      <th>Item_Weight</th>\n",
       "      <th>Item_Fat_Content</th>\n",
       "      <th>Item_Visibility</th>\n",
       "      <th>Item_Type</th>\n",
       "      <th>Item_MRP</th>\n",
       "      <th>Outlet_Identifier</th>\n",
       "      <th>Outlet_Establishment_Year</th>\n",
       "      <th>Outlet_Size</th>\n",
       "      <th>Outlet_Location_Type</th>\n",
       "      <th>Outlet_Type</th>\n",
       "      <th>Item_Outlet_Sales</th>\n",
       "    </tr>\n",
       "  </thead>\n",
       "  <tbody>\n",
       "    <tr>\n",
       "      <th>0</th>\n",
       "      <td>FDA15</td>\n",
       "      <td>9.30</td>\n",
       "      <td>Low Fat</td>\n",
       "      <td>0.016047</td>\n",
       "      <td>Dairy</td>\n",
       "      <td>249.8092</td>\n",
       "      <td>OUT049</td>\n",
       "      <td>1999</td>\n",
       "      <td>Medium</td>\n",
       "      <td>Tier 1</td>\n",
       "      <td>Supermarket Type1</td>\n",
       "      <td>3735.1380</td>\n",
       "    </tr>\n",
       "    <tr>\n",
       "      <th>1</th>\n",
       "      <td>DRC01</td>\n",
       "      <td>5.92</td>\n",
       "      <td>Regular</td>\n",
       "      <td>0.019278</td>\n",
       "      <td>Soft Drinks</td>\n",
       "      <td>48.2692</td>\n",
       "      <td>OUT018</td>\n",
       "      <td>2009</td>\n",
       "      <td>Medium</td>\n",
       "      <td>Tier 3</td>\n",
       "      <td>Supermarket Type2</td>\n",
       "      <td>443.4228</td>\n",
       "    </tr>\n",
       "    <tr>\n",
       "      <th>2</th>\n",
       "      <td>FDN15</td>\n",
       "      <td>17.50</td>\n",
       "      <td>Low Fat</td>\n",
       "      <td>0.016760</td>\n",
       "      <td>Meat</td>\n",
       "      <td>141.6180</td>\n",
       "      <td>OUT049</td>\n",
       "      <td>1999</td>\n",
       "      <td>Medium</td>\n",
       "      <td>Tier 1</td>\n",
       "      <td>Supermarket Type1</td>\n",
       "      <td>2097.2700</td>\n",
       "    </tr>\n",
       "    <tr>\n",
       "      <th>3</th>\n",
       "      <td>FDX07</td>\n",
       "      <td>19.20</td>\n",
       "      <td>Regular</td>\n",
       "      <td>0.000000</td>\n",
       "      <td>Fruits and Vegetables</td>\n",
       "      <td>182.0950</td>\n",
       "      <td>OUT010</td>\n",
       "      <td>1998</td>\n",
       "      <td>NaN</td>\n",
       "      <td>Tier 3</td>\n",
       "      <td>Grocery Store</td>\n",
       "      <td>732.3800</td>\n",
       "    </tr>\n",
       "    <tr>\n",
       "      <th>4</th>\n",
       "      <td>NCD19</td>\n",
       "      <td>8.93</td>\n",
       "      <td>Low Fat</td>\n",
       "      <td>0.000000</td>\n",
       "      <td>Household</td>\n",
       "      <td>53.8614</td>\n",
       "      <td>OUT013</td>\n",
       "      <td>1987</td>\n",
       "      <td>High</td>\n",
       "      <td>Tier 3</td>\n",
       "      <td>Supermarket Type1</td>\n",
       "      <td>994.7052</td>\n",
       "    </tr>\n",
       "  </tbody>\n",
       "</table>\n",
       "</div>"
      ],
      "text/plain": [
       "  Item_Identifier  Item_Weight Item_Fat_Content  Item_Visibility  \\\n",
       "0           FDA15         9.30          Low Fat         0.016047   \n",
       "1           DRC01         5.92          Regular         0.019278   \n",
       "2           FDN15        17.50          Low Fat         0.016760   \n",
       "3           FDX07        19.20          Regular         0.000000   \n",
       "4           NCD19         8.93          Low Fat         0.000000   \n",
       "\n",
       "               Item_Type  Item_MRP Outlet_Identifier  \\\n",
       "0                  Dairy  249.8092            OUT049   \n",
       "1            Soft Drinks   48.2692            OUT018   \n",
       "2                   Meat  141.6180            OUT049   \n",
       "3  Fruits and Vegetables  182.0950            OUT010   \n",
       "4              Household   53.8614            OUT013   \n",
       "\n",
       "   Outlet_Establishment_Year Outlet_Size Outlet_Location_Type  \\\n",
       "0                       1999      Medium               Tier 1   \n",
       "1                       2009      Medium               Tier 3   \n",
       "2                       1999      Medium               Tier 1   \n",
       "3                       1998         NaN               Tier 3   \n",
       "4                       1987        High               Tier 3   \n",
       "\n",
       "         Outlet_Type  Item_Outlet_Sales  \n",
       "0  Supermarket Type1          3735.1380  \n",
       "1  Supermarket Type2           443.4228  \n",
       "2  Supermarket Type1          2097.2700  \n",
       "3      Grocery Store           732.3800  \n",
       "4  Supermarket Type1           994.7052  "
      ]
     },
     "execution_count": 3,
     "metadata": {},
     "output_type": "execute_result"
    }
   ],
   "source": [
    "data = pd.read_csv('supermarket.csv')\n",
    "data.head()"
   ]
  },
  {
   "cell_type": "code",
   "execution_count": 4,
   "metadata": {},
   "outputs": [
    {
     "name": "stdout",
     "output_type": "stream",
     "text": [
      "<class 'pandas.core.frame.DataFrame'>\n",
      "RangeIndex: 8523 entries, 0 to 8522\n",
      "Data columns (total 12 columns):\n",
      " #   Column                     Non-Null Count  Dtype  \n",
      "---  ------                     --------------  -----  \n",
      " 0   Item_Identifier            8523 non-null   object \n",
      " 1   Item_Weight                7060 non-null   float64\n",
      " 2   Item_Fat_Content           8523 non-null   object \n",
      " 3   Item_Visibility            8523 non-null   float64\n",
      " 4   Item_Type                  8523 non-null   object \n",
      " 5   Item_MRP                   8523 non-null   float64\n",
      " 6   Outlet_Identifier          8523 non-null   object \n",
      " 7   Outlet_Establishment_Year  8523 non-null   int64  \n",
      " 8   Outlet_Size                6113 non-null   object \n",
      " 9   Outlet_Location_Type       8523 non-null   object \n",
      " 10  Outlet_Type                8523 non-null   object \n",
      " 11  Item_Outlet_Sales          8523 non-null   float64\n",
      "dtypes: float64(4), int64(1), object(7)\n",
      "memory usage: 799.2+ KB\n"
     ]
    }
   ],
   "source": [
    "data.info()"
   ]
  },
  {
   "cell_type": "markdown",
   "metadata": {},
   "source": [
    "### Step 2: Data Preprocessing"
   ]
  },
  {
   "cell_type": "markdown",
   "metadata": {},
   "source": [
    "### Step 2.1 Exploring data and Identifiying columns with null values"
   ]
  },
  {
   "cell_type": "markdown",
   "metadata": {},
   "source": [
    "First we will look for the numerical variables and find the percentage of null values. We will also do the same for the categorical variables. This is to determine which columns would we need to impute values or consider dropping.As seen below, Outlet Size has quite a lot of missing values. As it may possibly be an important variable, we will be imputing values into the blanks, and will filter out at the end if it is not important to our linear regression model. We can drop the columns later if we feel that the data is not necessary to our linear regression model or not statistically significant."
   ]
  },
  {
   "cell_type": "code",
   "execution_count": 5,
   "metadata": {},
   "outputs": [
    {
     "data": {
      "text/plain": [
       "Item_Visibility              0.000000\n",
       "Item_MRP                     0.000000\n",
       "Outlet_Establishment_Year    0.000000\n",
       "Item_Outlet_Sales            0.000000\n",
       "Item_Weight                  0.171653\n",
       "dtype: float64"
      ]
     },
     "execution_count": 5,
     "metadata": {},
     "output_type": "execute_result"
    }
   ],
   "source": [
    "# find numerical variables. this shows percentage of null. we see from below that Item Weight has a significant percentage.\n",
    "num_cols = [c for c in data.columns if data[c].dtypes !='O']\n",
    "data[num_cols].isnull().mean().sort_values()"
   ]
  },
  {
   "cell_type": "code",
   "execution_count": 6,
   "metadata": {},
   "outputs": [
    {
     "data": {
      "text/html": [
       "<div>\n",
       "<style scoped>\n",
       "    .dataframe tbody tr th:only-of-type {\n",
       "        vertical-align: middle;\n",
       "    }\n",
       "\n",
       "    .dataframe tbody tr th {\n",
       "        vertical-align: top;\n",
       "    }\n",
       "\n",
       "    .dataframe thead th {\n",
       "        text-align: right;\n",
       "    }\n",
       "</style>\n",
       "<table border=\"1\" class=\"dataframe\">\n",
       "  <thead>\n",
       "    <tr style=\"text-align: right;\">\n",
       "      <th></th>\n",
       "      <th>Item_Weight</th>\n",
       "      <th>Item_Visibility</th>\n",
       "      <th>Item_MRP</th>\n",
       "      <th>Outlet_Establishment_Year</th>\n",
       "      <th>Item_Outlet_Sales</th>\n",
       "    </tr>\n",
       "  </thead>\n",
       "  <tbody>\n",
       "    <tr>\n",
       "      <th>count</th>\n",
       "      <td>7060.000000</td>\n",
       "      <td>8523.000000</td>\n",
       "      <td>8523.000000</td>\n",
       "      <td>8523.000000</td>\n",
       "      <td>8523.000000</td>\n",
       "    </tr>\n",
       "    <tr>\n",
       "      <th>mean</th>\n",
       "      <td>12.857645</td>\n",
       "      <td>0.066132</td>\n",
       "      <td>140.992782</td>\n",
       "      <td>1997.831867</td>\n",
       "      <td>2181.288914</td>\n",
       "    </tr>\n",
       "    <tr>\n",
       "      <th>std</th>\n",
       "      <td>4.643456</td>\n",
       "      <td>0.051598</td>\n",
       "      <td>62.275067</td>\n",
       "      <td>8.371760</td>\n",
       "      <td>1706.499616</td>\n",
       "    </tr>\n",
       "    <tr>\n",
       "      <th>min</th>\n",
       "      <td>4.555000</td>\n",
       "      <td>0.000000</td>\n",
       "      <td>31.290000</td>\n",
       "      <td>1985.000000</td>\n",
       "      <td>33.290000</td>\n",
       "    </tr>\n",
       "    <tr>\n",
       "      <th>25%</th>\n",
       "      <td>8.773750</td>\n",
       "      <td>0.026989</td>\n",
       "      <td>93.826500</td>\n",
       "      <td>1987.000000</td>\n",
       "      <td>834.247400</td>\n",
       "    </tr>\n",
       "    <tr>\n",
       "      <th>50%</th>\n",
       "      <td>12.600000</td>\n",
       "      <td>0.053931</td>\n",
       "      <td>143.012800</td>\n",
       "      <td>1999.000000</td>\n",
       "      <td>1794.331000</td>\n",
       "    </tr>\n",
       "    <tr>\n",
       "      <th>75%</th>\n",
       "      <td>16.850000</td>\n",
       "      <td>0.094585</td>\n",
       "      <td>185.643700</td>\n",
       "      <td>2004.000000</td>\n",
       "      <td>3101.296400</td>\n",
       "    </tr>\n",
       "    <tr>\n",
       "      <th>max</th>\n",
       "      <td>21.350000</td>\n",
       "      <td>0.328391</td>\n",
       "      <td>266.888400</td>\n",
       "      <td>2009.000000</td>\n",
       "      <td>13086.964800</td>\n",
       "    </tr>\n",
       "  </tbody>\n",
       "</table>\n",
       "</div>"
      ],
      "text/plain": [
       "       Item_Weight  Item_Visibility     Item_MRP  Outlet_Establishment_Year  \\\n",
       "count  7060.000000      8523.000000  8523.000000                8523.000000   \n",
       "mean     12.857645         0.066132   140.992782                1997.831867   \n",
       "std       4.643456         0.051598    62.275067                   8.371760   \n",
       "min       4.555000         0.000000    31.290000                1985.000000   \n",
       "25%       8.773750         0.026989    93.826500                1987.000000   \n",
       "50%      12.600000         0.053931   143.012800                1999.000000   \n",
       "75%      16.850000         0.094585   185.643700                2004.000000   \n",
       "max      21.350000         0.328391   266.888400                2009.000000   \n",
       "\n",
       "       Item_Outlet_Sales  \n",
       "count        8523.000000  \n",
       "mean         2181.288914  \n",
       "std          1706.499616  \n",
       "min            33.290000  \n",
       "25%           834.247400  \n",
       "50%          1794.331000  \n",
       "75%          3101.296400  \n",
       "max         13086.964800  "
      ]
     },
     "execution_count": 6,
     "metadata": {},
     "output_type": "execute_result"
    }
   ],
   "source": [
    "data[num_cols].describe()"
   ]
  },
  {
   "cell_type": "code",
   "execution_count": 7,
   "metadata": {},
   "outputs": [
    {
     "data": {
      "text/plain": [
       "Item_Identifier         0.000000\n",
       "Item_Fat_Content        0.000000\n",
       "Item_Type               0.000000\n",
       "Outlet_Identifier       0.000000\n",
       "Outlet_Location_Type    0.000000\n",
       "Outlet_Type             0.000000\n",
       "Outlet_Size             0.282764\n",
       "dtype: float64"
      ]
     },
     "execution_count": 7,
     "metadata": {},
     "output_type": "execute_result"
    }
   ],
   "source": [
    "cat_cols = [c for c in data.columns if data[c].dtypes =='O']\n",
    "data[cat_cols].isnull().mean().sort_values()"
   ]
  },
  {
   "cell_type": "code",
   "execution_count": 8,
   "metadata": {},
   "outputs": [
    {
     "data": {
      "text/html": [
       "<div>\n",
       "<style scoped>\n",
       "    .dataframe tbody tr th:only-of-type {\n",
       "        vertical-align: middle;\n",
       "    }\n",
       "\n",
       "    .dataframe tbody tr th {\n",
       "        vertical-align: top;\n",
       "    }\n",
       "\n",
       "    .dataframe thead th {\n",
       "        text-align: right;\n",
       "    }\n",
       "</style>\n",
       "<table border=\"1\" class=\"dataframe\">\n",
       "  <thead>\n",
       "    <tr style=\"text-align: right;\">\n",
       "      <th></th>\n",
       "      <th>Item_Identifier</th>\n",
       "      <th>Item_Fat_Content</th>\n",
       "      <th>Item_Type</th>\n",
       "      <th>Outlet_Identifier</th>\n",
       "      <th>Outlet_Size</th>\n",
       "      <th>Outlet_Location_Type</th>\n",
       "      <th>Outlet_Type</th>\n",
       "    </tr>\n",
       "  </thead>\n",
       "  <tbody>\n",
       "    <tr>\n",
       "      <th>count</th>\n",
       "      <td>8523</td>\n",
       "      <td>8523</td>\n",
       "      <td>8523</td>\n",
       "      <td>8523</td>\n",
       "      <td>6113</td>\n",
       "      <td>8523</td>\n",
       "      <td>8523</td>\n",
       "    </tr>\n",
       "    <tr>\n",
       "      <th>unique</th>\n",
       "      <td>1559</td>\n",
       "      <td>5</td>\n",
       "      <td>16</td>\n",
       "      <td>10</td>\n",
       "      <td>3</td>\n",
       "      <td>3</td>\n",
       "      <td>4</td>\n",
       "    </tr>\n",
       "    <tr>\n",
       "      <th>top</th>\n",
       "      <td>FDW13</td>\n",
       "      <td>Low Fat</td>\n",
       "      <td>Fruits and Vegetables</td>\n",
       "      <td>OUT027</td>\n",
       "      <td>Medium</td>\n",
       "      <td>Tier 3</td>\n",
       "      <td>Supermarket Type1</td>\n",
       "    </tr>\n",
       "    <tr>\n",
       "      <th>freq</th>\n",
       "      <td>10</td>\n",
       "      <td>5089</td>\n",
       "      <td>1232</td>\n",
       "      <td>935</td>\n",
       "      <td>2793</td>\n",
       "      <td>3350</td>\n",
       "      <td>5577</td>\n",
       "    </tr>\n",
       "  </tbody>\n",
       "</table>\n",
       "</div>"
      ],
      "text/plain": [
       "       Item_Identifier Item_Fat_Content              Item_Type  \\\n",
       "count             8523             8523                   8523   \n",
       "unique            1559                5                     16   \n",
       "top              FDW13          Low Fat  Fruits and Vegetables   \n",
       "freq                10             5089                   1232   \n",
       "\n",
       "       Outlet_Identifier Outlet_Size Outlet_Location_Type        Outlet_Type  \n",
       "count               8523        6113                 8523               8523  \n",
       "unique                10           3                    3                  4  \n",
       "top               OUT027      Medium               Tier 3  Supermarket Type1  \n",
       "freq                 935        2793                 3350               5577  "
      ]
     },
     "execution_count": 8,
     "metadata": {},
     "output_type": "execute_result"
    }
   ],
   "source": [
    "data[cat_cols].describe()"
   ]
  },
  {
   "cell_type": "markdown",
   "metadata": {},
   "source": [
    "From above, we can see that Item_Identifier has many unique categories. This may present many challenges in encoding as it would use up alot of memory in categorical encoding e.g. One Hot Encoding. Some of the categories also may not be statistically significant and would further complicate our machine learning model.\n",
    "\n",
    "Next we need to do some data cleaning to ensure that the data makes sense.\n",
    "\n",
    "\n",
    "### Step 2.2 Replacing incorrect values \n",
    "\n",
    "From the visualization of Item_Fat_Content in TIBCO spotfire, we have already seen that \"Low Fat\" and \"lf\" and \"low fat\" all belong to the same category but are classified as different categories in the visualisation due to irregular data entry. Same applies for \"Regular\" and \"reg\". Therefore we need to combine all the categories using the df. replace function in order for the data to have only two categories. We will then use the value_counts function to check if the values have been properly replaced in the data."
   ]
  },
  {
   "cell_type": "code",
   "execution_count": 9,
   "metadata": {},
   "outputs": [],
   "source": [
    "data[\"Item_Fat_Content\"].replace({\"LF\": \"Low Fat\", \"low fat\": \"Low Fat\",\"reg\": \"Regular\"}, inplace=True)"
   ]
  },
  {
   "cell_type": "code",
   "execution_count": 10,
   "metadata": {},
   "outputs": [
    {
     "data": {
      "text/plain": [
       "Low Fat    5517\n",
       "Regular    3006\n",
       "Name: Item_Fat_Content, dtype: int64"
      ]
     },
     "execution_count": 10,
     "metadata": {},
     "output_type": "execute_result"
    }
   ],
   "source": [
    "data[\"Item_Fat_Content\"].value_counts()"
   ]
  },
  {
   "cell_type": "markdown",
   "metadata": {},
   "source": [
    "### Step 2.3 Trimming Outlier values"
   ]
  },
  {
   "cell_type": "markdown",
   "metadata": {},
   "source": [
    "We will visualize the data below to identify from the histograms and box plot if any variables seem to have any outlier values.\n",
    "\n",
    "None of the numerical variables below are of a normal distribution. Hence, we will be using transformations to obtain a more normal distribution so it can better serve our linear model. Also we need to consider that Outlet Year may not be a true numerical variable as it is a date, so it may be more similar to a categorical variable though it is a number. We will consider dropping this column later on while building the model as prima facie it does not seem to be significant in prediction of Outlet Sales. Also it may not be of interest to the company as the Outlet Establishment Year is not something that the company is able to change to improve sales, unlike Item Visibility and Item MRP which the company can adjust to fit consumer needs.\n",
    "\n",
    "From the histogram constructed below, it seems like Item_Visibility may be suitable for outlier trimming.A very small proportion of Item Visibility beyond 0.2, hence it appears prima facie to be appropriate to be explore outlier trimming as we would not need to delete a huge amount of data if rows need to be removed, and such data seems to be a deviation from the normal distribution. We will explore this further with boxplot and trimming the data using IQR."
   ]
  },
  {
   "cell_type": "code",
   "execution_count": 11,
   "metadata": {},
   "outputs": [
    {
     "data": {
      "image/png": "[encoded data removed]",
      "text/plain": [
       "<Figure size 864x864 with 6 Axes>"
      ]
     },
     "metadata": {
      "needs_background": "light"
     },
     "output_type": "display_data"
    }
   ],
   "source": [
    "data[num_cols].hist(bins=30, figsize=(12,12))\n",
    "plt.show()\n",
    "# item outlet sales will be the target variable."
   ]
  },
  {
   "cell_type": "code",
   "execution_count": 12,
   "metadata": {},
   "outputs": [
    {
     "data": {
      "image/png": "[encoded data removed]",
      "text/plain": [
       "<Figure size 144x576 with 1 Axes>"
      ]
     },
     "metadata": {
      "needs_background": "light"
     },
     "output_type": "display_data"
    }
   ],
   "source": [
    "plt.figure(figsize=(2, 8))\n",
    "sns.boxplot(y=data['Item_Visibility'])\n",
    "plt.show()"
   ]
  },
  {
   "cell_type": "code",
   "execution_count": 13,
   "metadata": {},
   "outputs": [
    {
     "data": {
      "text/plain": [
       "(0.195979015, -0.07440424500000001)"
      ]
     },
     "execution_count": 13,
     "metadata": {},
     "output_type": "execute_result"
    }
   ],
   "source": [
    "def find_boundaries(df, variable, distance):\n",
    "\n",
    "    IQR = df[variable].quantile(0.75) - df[variable].quantile(0.25)\n",
    "\n",
    "    lower_boundary = df[variable].quantile(0.25) - (IQR * distance)\n",
    "    upper_boundary = df[variable].quantile(0.75) + (IQR * distance)\n",
    "\n",
    "    return upper_boundary, lower_boundary\n",
    "\n",
    "\n",
    "RM_upper_limit, RM_lower_limit = find_boundaries(data, 'Item_Visibility', 1.5)\n",
    "RM_upper_limit, RM_lower_limit"
   ]
  },
  {
   "cell_type": "markdown",
   "metadata": {},
   "source": [
    "The Lower limit does not matter as it does not make sense that the price is less than 0. Hence we will disregard the latter result and cap the results on the lower limit.Item Visibility with Outliers Removed shows a range of Data only within 0 and 0.2 approximately which greatly reduces the number of outliers as seen in the visualisation below.\n"
   ]
  },
  {
   "cell_type": "code",
   "execution_count": 14,
   "metadata": {},
   "outputs": [
    {
     "data": {
      "image/png": "[encoded data removed]",
      "text/plain": [
       "<Figure size 144x288 with 1 Axes>"
      ]
     },
     "metadata": {
      "needs_background": "light"
     },
     "output_type": "display_data"
    }
   ],
   "source": [
    "outliers_IV = np.where(data['Item_Visibility'] > RM_upper_limit, True,False)\n",
    "data_trimmed = data.loc[~outliers_IV]\n",
    "plt.figure(figsize=(2, 4))\n",
    "sns.boxplot(y=data_trimmed['Item_Visibility'])\n",
    "plt.show()"
   ]
  },
  {
   "cell_type": "markdown",
   "metadata": {},
   "source": [
    "From the trimmed data below, we can see that 144  values are removed, compared to the 8523 rows that we had before, now it is 8379 rows.This as there values constitute a fairly small amount of the (1.7%) and we are only removing rows for this variable, we will trim the data."
   ]
  },
  {
   "cell_type": "code",
   "execution_count": 15,
   "metadata": {},
   "outputs": [
    {
     "data": {
      "text/plain": [
       "Item_Identifier              0.000000\n",
       "Item_Fat_Content             0.000000\n",
       "Item_Visibility              0.000000\n",
       "Item_Type                    0.000000\n",
       "Item_MRP                     0.000000\n",
       "Outlet_Identifier            0.000000\n",
       "Outlet_Establishment_Year    0.000000\n",
       "Outlet_Location_Type         0.000000\n",
       "Outlet_Type                  0.000000\n",
       "Item_Outlet_Sales            0.000000\n",
       "Item_Weight                  0.165414\n",
       "Outlet_Size                  0.279628\n",
       "dtype: float64"
      ]
     },
     "execution_count": 15,
     "metadata": {},
     "output_type": "execute_result"
    }
   ],
   "source": [
    "data_trimmed.isnull().mean().sort_values()"
   ]
  },
  {
   "cell_type": "code",
   "execution_count": 16,
   "metadata": {},
   "outputs": [
    {
     "data": {
      "text/html": [
       "<div>\n",
       "<style scoped>\n",
       "    .dataframe tbody tr th:only-of-type {\n",
       "        vertical-align: middle;\n",
       "    }\n",
       "\n",
       "    .dataframe tbody tr th {\n",
       "        vertical-align: top;\n",
       "    }\n",
       "\n",
       "    .dataframe thead th {\n",
       "        text-align: right;\n",
       "    }\n",
       "</style>\n",
       "<table border=\"1\" class=\"dataframe\">\n",
       "  <thead>\n",
       "    <tr style=\"text-align: right;\">\n",
       "      <th></th>\n",
       "      <th>Item_Identifier</th>\n",
       "      <th>Item_Weight</th>\n",
       "      <th>Item_Fat_Content</th>\n",
       "      <th>Item_Visibility</th>\n",
       "      <th>Item_Type</th>\n",
       "      <th>Item_MRP</th>\n",
       "      <th>Outlet_Identifier</th>\n",
       "      <th>Outlet_Establishment_Year</th>\n",
       "      <th>Outlet_Size</th>\n",
       "      <th>Outlet_Location_Type</th>\n",
       "      <th>Outlet_Type</th>\n",
       "      <th>Item_Outlet_Sales</th>\n",
       "    </tr>\n",
       "  </thead>\n",
       "  <tbody>\n",
       "    <tr>\n",
       "      <th>0</th>\n",
       "      <td>FDA15</td>\n",
       "      <td>9.300</td>\n",
       "      <td>Low Fat</td>\n",
       "      <td>0.016047</td>\n",
       "      <td>Dairy</td>\n",
       "      <td>249.8092</td>\n",
       "      <td>OUT049</td>\n",
       "      <td>1999</td>\n",
       "      <td>Medium</td>\n",
       "      <td>Tier 1</td>\n",
       "      <td>Supermarket Type1</td>\n",
       "      <td>3735.1380</td>\n",
       "    </tr>\n",
       "    <tr>\n",
       "      <th>1</th>\n",
       "      <td>DRC01</td>\n",
       "      <td>5.920</td>\n",
       "      <td>Regular</td>\n",
       "      <td>0.019278</td>\n",
       "      <td>Soft Drinks</td>\n",
       "      <td>48.2692</td>\n",
       "      <td>OUT018</td>\n",
       "      <td>2009</td>\n",
       "      <td>Medium</td>\n",
       "      <td>Tier 3</td>\n",
       "      <td>Supermarket Type2</td>\n",
       "      <td>443.4228</td>\n",
       "    </tr>\n",
       "    <tr>\n",
       "      <th>2</th>\n",
       "      <td>FDN15</td>\n",
       "      <td>17.500</td>\n",
       "      <td>Low Fat</td>\n",
       "      <td>0.016760</td>\n",
       "      <td>Meat</td>\n",
       "      <td>141.6180</td>\n",
       "      <td>OUT049</td>\n",
       "      <td>1999</td>\n",
       "      <td>Medium</td>\n",
       "      <td>Tier 1</td>\n",
       "      <td>Supermarket Type1</td>\n",
       "      <td>2097.2700</td>\n",
       "    </tr>\n",
       "    <tr>\n",
       "      <th>3</th>\n",
       "      <td>FDX07</td>\n",
       "      <td>19.200</td>\n",
       "      <td>Regular</td>\n",
       "      <td>0.000000</td>\n",
       "      <td>Fruits and Vegetables</td>\n",
       "      <td>182.0950</td>\n",
       "      <td>OUT010</td>\n",
       "      <td>1998</td>\n",
       "      <td>NaN</td>\n",
       "      <td>Tier 3</td>\n",
       "      <td>Grocery Store</td>\n",
       "      <td>732.3800</td>\n",
       "    </tr>\n",
       "    <tr>\n",
       "      <th>4</th>\n",
       "      <td>NCD19</td>\n",
       "      <td>8.930</td>\n",
       "      <td>Low Fat</td>\n",
       "      <td>0.000000</td>\n",
       "      <td>Household</td>\n",
       "      <td>53.8614</td>\n",
       "      <td>OUT013</td>\n",
       "      <td>1987</td>\n",
       "      <td>High</td>\n",
       "      <td>Tier 3</td>\n",
       "      <td>Supermarket Type1</td>\n",
       "      <td>994.7052</td>\n",
       "    </tr>\n",
       "    <tr>\n",
       "      <th>...</th>\n",
       "      <td>...</td>\n",
       "      <td>...</td>\n",
       "      <td>...</td>\n",
       "      <td>...</td>\n",
       "      <td>...</td>\n",
       "      <td>...</td>\n",
       "      <td>...</td>\n",
       "      <td>...</td>\n",
       "      <td>...</td>\n",
       "      <td>...</td>\n",
       "      <td>...</td>\n",
       "      <td>...</td>\n",
       "    </tr>\n",
       "    <tr>\n",
       "      <th>8518</th>\n",
       "      <td>FDF22</td>\n",
       "      <td>6.865</td>\n",
       "      <td>Low Fat</td>\n",
       "      <td>0.056783</td>\n",
       "      <td>Snack Foods</td>\n",
       "      <td>214.5218</td>\n",
       "      <td>OUT013</td>\n",
       "      <td>1987</td>\n",
       "      <td>High</td>\n",
       "      <td>Tier 3</td>\n",
       "      <td>Supermarket Type1</td>\n",
       "      <td>2778.3834</td>\n",
       "    </tr>\n",
       "    <tr>\n",
       "      <th>8519</th>\n",
       "      <td>FDS36</td>\n",
       "      <td>8.380</td>\n",
       "      <td>Regular</td>\n",
       "      <td>0.046982</td>\n",
       "      <td>Baking Goods</td>\n",
       "      <td>108.1570</td>\n",
       "      <td>OUT045</td>\n",
       "      <td>2002</td>\n",
       "      <td>NaN</td>\n",
       "      <td>Tier 2</td>\n",
       "      <td>Supermarket Type1</td>\n",
       "      <td>549.2850</td>\n",
       "    </tr>\n",
       "    <tr>\n",
       "      <th>8520</th>\n",
       "      <td>NCJ29</td>\n",
       "      <td>10.600</td>\n",
       "      <td>Low Fat</td>\n",
       "      <td>0.035186</td>\n",
       "      <td>Health and Hygiene</td>\n",
       "      <td>85.1224</td>\n",
       "      <td>OUT035</td>\n",
       "      <td>2004</td>\n",
       "      <td>Small</td>\n",
       "      <td>Tier 2</td>\n",
       "      <td>Supermarket Type1</td>\n",
       "      <td>1193.1136</td>\n",
       "    </tr>\n",
       "    <tr>\n",
       "      <th>8521</th>\n",
       "      <td>FDN46</td>\n",
       "      <td>7.210</td>\n",
       "      <td>Regular</td>\n",
       "      <td>0.145221</td>\n",
       "      <td>Snack Foods</td>\n",
       "      <td>103.1332</td>\n",
       "      <td>OUT018</td>\n",
       "      <td>2009</td>\n",
       "      <td>Medium</td>\n",
       "      <td>Tier 3</td>\n",
       "      <td>Supermarket Type2</td>\n",
       "      <td>1845.5976</td>\n",
       "    </tr>\n",
       "    <tr>\n",
       "      <th>8522</th>\n",
       "      <td>DRG01</td>\n",
       "      <td>14.800</td>\n",
       "      <td>Low Fat</td>\n",
       "      <td>0.044878</td>\n",
       "      <td>Soft Drinks</td>\n",
       "      <td>75.4670</td>\n",
       "      <td>OUT046</td>\n",
       "      <td>1997</td>\n",
       "      <td>Small</td>\n",
       "      <td>Tier 1</td>\n",
       "      <td>Supermarket Type1</td>\n",
       "      <td>765.6700</td>\n",
       "    </tr>\n",
       "  </tbody>\n",
       "</table>\n",
       "<p>8379 rows × 12 columns</p>\n",
       "</div>"
      ],
      "text/plain": [
       "     Item_Identifier  Item_Weight Item_Fat_Content  Item_Visibility  \\\n",
       "0              FDA15        9.300          Low Fat         0.016047   \n",
       "1              DRC01        5.920          Regular         0.019278   \n",
       "2              FDN15       17.500          Low Fat         0.016760   \n",
       "3              FDX07       19.200          Regular         0.000000   \n",
       "4              NCD19        8.930          Low Fat         0.000000   \n",
       "...              ...          ...              ...              ...   \n",
       "8518           FDF22        6.865          Low Fat         0.056783   \n",
       "8519           FDS36        8.380          Regular         0.046982   \n",
       "8520           NCJ29       10.600          Low Fat         0.035186   \n",
       "8521           FDN46        7.210          Regular         0.145221   \n",
       "8522           DRG01       14.800          Low Fat         0.044878   \n",
       "\n",
       "                  Item_Type  Item_MRP Outlet_Identifier  \\\n",
       "0                     Dairy  249.8092            OUT049   \n",
       "1               Soft Drinks   48.2692            OUT018   \n",
       "2                      Meat  141.6180            OUT049   \n",
       "3     Fruits and Vegetables  182.0950            OUT010   \n",
       "4                 Household   53.8614            OUT013   \n",
       "...                     ...       ...               ...   \n",
       "8518            Snack Foods  214.5218            OUT013   \n",
       "8519           Baking Goods  108.1570            OUT045   \n",
       "8520     Health and Hygiene   85.1224            OUT035   \n",
       "8521            Snack Foods  103.1332            OUT018   \n",
       "8522            Soft Drinks   75.4670            OUT046   \n",
       "\n",
       "      Outlet_Establishment_Year Outlet_Size Outlet_Location_Type  \\\n",
       "0                          1999      Medium               Tier 1   \n",
       "1                          2009      Medium               Tier 3   \n",
       "2                          1999      Medium               Tier 1   \n",
       "3                          1998         NaN               Tier 3   \n",
       "4                          1987        High               Tier 3   \n",
       "...                         ...         ...                  ...   \n",
       "8518                       1987        High               Tier 3   \n",
       "8519                       2002         NaN               Tier 2   \n",
       "8520                       2004       Small               Tier 2   \n",
       "8521                       2009      Medium               Tier 3   \n",
       "8522                       1997       Small               Tier 1   \n",
       "\n",
       "            Outlet_Type  Item_Outlet_Sales  \n",
       "0     Supermarket Type1          3735.1380  \n",
       "1     Supermarket Type2           443.4228  \n",
       "2     Supermarket Type1          2097.2700  \n",
       "3         Grocery Store           732.3800  \n",
       "4     Supermarket Type1           994.7052  \n",
       "...                 ...                ...  \n",
       "8518  Supermarket Type1          2778.3834  \n",
       "8519  Supermarket Type1           549.2850  \n",
       "8520  Supermarket Type1          1193.1136  \n",
       "8521  Supermarket Type2          1845.5976  \n",
       "8522  Supermarket Type1           765.6700  \n",
       "\n",
       "[8379 rows x 12 columns]"
      ]
     },
     "execution_count": 16,
     "metadata": {},
     "output_type": "execute_result"
    }
   ],
   "source": [
    "data_trimmed"
   ]
  },
  {
   "cell_type": "markdown",
   "metadata": {},
   "source": [
    "### Step 3: Train and Test Split\n",
    "\n",
    "We will seperate into training and testing set."
   ]
  },
  {
   "cell_type": "code",
   "execution_count": 17,
   "metadata": {},
   "outputs": [
    {
     "data": {
      "text/plain": [
       "((5865, 11), (2514, 11))"
      ]
     },
     "execution_count": 17,
     "metadata": {},
     "output_type": "execute_result"
    }
   ],
   "source": [
    "X_train, X_test, y_train, y_test = train_test_split(\n",
    "    data_trimmed.drop('Item_Outlet_Sales', axis=1), data_trimmed['Item_Outlet_Sales'], test_size=0.3, random_state=0)\n",
    "\n",
    "X_train.shape, X_test.shape"
   ]
  },
  {
   "cell_type": "markdown",
   "metadata": {},
   "source": [
    "### Step 4: Missing Value Imputation"
   ]
  },
  {
   "cell_type": "markdown",
   "metadata": {},
   "source": [
    "First we determine which columns have missing values.From below, it seems like only Item Weight and Outlet Size have missing values. Item weight is a numerical variable while Outlet Size is a categorical variable. We will input the median item weight for the numerical variable and we will use missing for the categorical variable. This is because for the categorical variable there are quite a lot of missing (28 %) and only three categories (small, medium and large), if we use most frequent to impute the data it might skew the data unfairly. \n",
    "\n",
    "With Item_Weight, I attempted to impute median values into the data initially, but there was a huge peak in data in the median value which unfairly skews the data. Upon further exploration of supermarket.csv, i discovered that all the missing values for Item_Weight could be attributed to 2 outlets, OUT019 and OUT027. This means that since the missing values are not random, I can't use median value as it would unfairly skew the data. A more appropriate data imputation would be arbitrary values as it would more accurately flag that fact that the values are missing.\n",
    "\n",
    "For Outlet Size, we chose to missing value imputation. There are only three categories and 28% missing values which is quite high, so if we fill in the most frequent category into the missing value it could skew the distribution unfairly. Imputing Missing values would clearly indicate that the values were missing.\n",
    "\n",
    "For Item Visibility, it is noted that there are 526 zero values within the column, as visualized by the histogram above and in TIBCO spotfire. It is possible that this is due to missing data, but we do not have enough evidence to conclusively determine this. The zero values contribute to only about 6% of the data and may due to the products taking up negligible shop space or other factors that we are not aware of. Therefore we will not proceed with imputation and assume that the zero values are part of the distribution."
   ]
  },
  {
   "cell_type": "code",
   "execution_count": 18,
   "metadata": {},
   "outputs": [
    {
     "data": {
      "text/plain": [
       "Item_Identifier              0.000000\n",
       "Item_Fat_Content             0.000000\n",
       "Item_Visibility              0.000000\n",
       "Item_Type                    0.000000\n",
       "Item_MRP                     0.000000\n",
       "Outlet_Identifier            0.000000\n",
       "Outlet_Establishment_Year    0.000000\n",
       "Outlet_Location_Type         0.000000\n",
       "Outlet_Type                  0.000000\n",
       "Item_Weight                  0.166070\n",
       "Outlet_Size                  0.283717\n",
       "dtype: float64"
      ]
     },
     "execution_count": 18,
     "metadata": {},
     "output_type": "execute_result"
    }
   ],
   "source": [
    "X_train.isnull().mean().sort_values()"
   ]
  },
  {
   "cell_type": "code",
   "execution_count": 19,
   "metadata": {},
   "outputs": [],
   "source": [
    "features_num_arbitrary = ['Item_Weight']\n",
    "\n",
    "features_cat_missing = ['Outlet_Size']\n",
    "\n",
    "pipe = Pipeline(steps=[\n",
    "    ('imp_num_arbitrary', mdi.ArbitraryNumberImputer(variables = features_num_arbitrary,arbitrary_number=20)),\n",
    "    ('imp_cat_missing', mdi.CategoricalImputer(variables=features_cat_missing, imputation_method='missing'))\n",
    "])\n",
    "\n",
    "pipe.fit(X_train)\n",
    "\n",
    "X_train = pipe.transform(X_train)\n",
    "X_test = pipe.transform(X_test)"
   ]
  },
  {
   "cell_type": "markdown",
   "metadata": {},
   "source": [
    "Next, we will check the number of null values to ensure that the all the values have been filled in. Since all our zero our imputation was successful and we are able to continue transforming the data."
   ]
  },
  {
   "cell_type": "code",
   "execution_count": 20,
   "metadata": {},
   "outputs": [
    {
     "data": {
      "text/plain": [
       "Item_Identifier              0\n",
       "Item_Weight                  0\n",
       "Item_Fat_Content             0\n",
       "Item_Visibility              0\n",
       "Item_Type                    0\n",
       "Item_MRP                     0\n",
       "Outlet_Identifier            0\n",
       "Outlet_Establishment_Year    0\n",
       "Outlet_Size                  0\n",
       "Outlet_Location_Type         0\n",
       "Outlet_Type                  0\n",
       "dtype: int64"
      ]
     },
     "execution_count": 20,
     "metadata": {},
     "output_type": "execute_result"
    }
   ],
   "source": [
    "X_train.isnull().sum()"
   ]
  },
  {
   "cell_type": "code",
   "execution_count": 21,
   "metadata": {},
   "outputs": [
    {
     "data": {
      "text/plain": [
       "Item_Identifier              0\n",
       "Item_Weight                  0\n",
       "Item_Fat_Content             0\n",
       "Item_Visibility              0\n",
       "Item_Type                    0\n",
       "Item_MRP                     0\n",
       "Outlet_Identifier            0\n",
       "Outlet_Establishment_Year    0\n",
       "Outlet_Size                  0\n",
       "Outlet_Location_Type         0\n",
       "Outlet_Type                  0\n",
       "dtype: int64"
      ]
     },
     "execution_count": 21,
     "metadata": {},
     "output_type": "execute_result"
    }
   ],
   "source": [
    "X_test.isnull().sum()"
   ]
  },
  {
   "cell_type": "code",
   "execution_count": null,
   "metadata": {},
   "outputs": [],
   "source": []
  },
  {
   "cell_type": "markdown",
   "metadata": {},
   "source": [
    "### Step 5: Categorical Data Encoding"
   ]
  },
  {
   "cell_type": "markdown",
   "metadata": {},
   "source": [
    "\n",
    "\n",
    "For this step, I will be using a combination of One Hot Encoding and Ordinal encoding.We will use One hot encoding where data is not ordinal and does not have a large amount of values. In this case it would be Outlet Identifier and Item Type. Even though there are other categories that are not ordinal, due to to large amount of categories we may end up with several columns that complicate our linear model and using up a lot of memory if we insist on using one hot encoder on all. \n",
    "\n",
    "This is especially so for the column Item_Identifier, it is not appropriate for one hot encoder due to having 1000++ unique categories, but the data does not seem to be ordinal either they are of different products without any apparent order.Although this complicates the building of the model, I have decided not to drop this column because it is essential to answering the data question of predicting the sales of each product and each outlet. All columns will be undergoing ordered ordinal encoding , except the two mentioned above.\n",
    "\n",
    "Lastly, we will do a null value check for both X train and X test. Occasionally when encoding categorical variables, I receive a warning that NA was returned during the encoding process. As null values would make it difficult for further transformations, we need ensure that all null values are dealt with before we proceed with further transformation of the variables as this would affect the other functions that we will subsequently use."
   ]
  },
  {
   "cell_type": "code",
   "execution_count": 22,
   "metadata": {},
   "outputs": [
    {
     "data": {
      "text/plain": [
       "OneHotEncoder(variables=['Outlet_Identifier', 'Item_Type'])"
      ]
     },
     "execution_count": 22,
     "metadata": {},
     "output_type": "execute_result"
    }
   ],
   "source": [
    "ohe_enc = OneHotEncoder(\n",
    "    # to indicate how many top categories\n",
    "    top_categories=None,  \n",
    "    # we can select which variables to encode\n",
    "    variables=['Outlet_Identifier','Item_Type'],\n",
    "    # to indicate if we drop one of the binaries\n",
    "    drop_last=False)\n",
    "\n",
    "ohe_enc.fit(X_train)"
   ]
  },
  {
   "cell_type": "code",
   "execution_count": 23,
   "metadata": {},
   "outputs": [],
   "source": [
    "X_train_ohe = ohe_enc.transform(X_train)"
   ]
  },
  {
   "cell_type": "markdown",
   "metadata": {},
   "source": [
    "Next we repeat the same process for x test."
   ]
  },
  {
   "cell_type": "code",
   "execution_count": 24,
   "metadata": {},
   "outputs": [
    {
     "data": {
      "text/plain": [
       "OneHotEncoder(variables=['Outlet_Identifier', 'Item_Type'])"
      ]
     },
     "execution_count": 24,
     "metadata": {},
     "output_type": "execute_result"
    }
   ],
   "source": [
    "#JC generally shouldn't ever fit on test data, but for ohe, if unique values within train and test columns are same\n",
    "# then no mechanical issues in executing code, and logic no errors\n",
    "# idea is to always fit on train then use that fitted object to transform both train and test data though\n",
    "\n",
    "ohe_enc.fit(X_test)"
   ]
  },
  {
   "cell_type": "code",
   "execution_count": 25,
   "metadata": {},
   "outputs": [],
   "source": [
    "X_test_ohe = ohe_enc.transform(X_test)\n"
   ]
  },
  {
   "cell_type": "code",
   "execution_count": 26,
   "metadata": {},
   "outputs": [
    {
     "data": {
      "text/plain": [
       "OrdinalEncoder()"
      ]
     },
     "execution_count": 26,
     "metadata": {},
     "output_type": "execute_result"
    }
   ],
   "source": [
    "ordinal_enc = OrdinalEncoder(\n",
    "    encoding_method='ordered')\n",
    "ordinal_enc.fit(X_train_ohe, y_train)\n"
   ]
  },
  {
   "cell_type": "code",
   "execution_count": 27,
   "metadata": {},
   "outputs": [],
   "source": [
    "ordinal_enc.variables"
   ]
  },
  {
   "cell_type": "code",
   "execution_count": 28,
   "metadata": {},
   "outputs": [
    {
     "data": {
      "text/plain": [
       "{'Item_Identifier': {'FDQ04': 0,\n",
       "  'NCR42': 1,\n",
       "  'FDY40': 2,\n",
       "  'FDT51': 3,\n",
       "  'FDU21': 4,\n",
       "  'NCN29': 5,\n",
       "  'FDY09': 6,\n",
       "  'FDX10': 7,\n",
       "  'FDR07': 8,\n",
       "  'FDE59': 9,\n",
       "  'FDC32': 10,\n",
       "  'NCR30': 11,\n",
       "  'NCD55': 12,\n",
       "  'FDE51': 13,\n",
       "  'FDS48': 14,\n",
       "  'FDO51': 15,\n",
       "  'NCL41': 16,\n",
       "  'FDH28': 17,\n",
       "  'FDU47': 18,\n",
       "  'DRJ35': 19,\n",
       "  'FDT43': 20,\n",
       "  'NCO14': 21,\n",
       "  'FDD16': 22,\n",
       "  'FDL52': 23,\n",
       "  'NCN53': 24,\n",
       "  'FDM12': 25,\n",
       "  'FDT10': 26,\n",
       "  'DRH49': 27,\n",
       "  'FDG10': 28,\n",
       "  'FDZ02': 29,\n",
       "  'FDF09': 30,\n",
       "  'FDX38': 31,\n",
       "  'FDT36': 32,\n",
       "  'FDS40': 33,\n",
       "  'FDF38': 34,\n",
       "  'NCE31': 35,\n",
       "  'FDP49': 36,\n",
       "  'NCO06': 37,\n",
       "  'FDD51': 38,\n",
       "  'NCA06': 39,\n",
       "  'FDT56': 40,\n",
       "  'NCL07': 41,\n",
       "  'FDW48': 42,\n",
       "  'DRY23': 43,\n",
       "  'FDW23': 44,\n",
       "  'FDP12': 45,\n",
       "  'NCT30': 46,\n",
       "  'DRK49': 47,\n",
       "  'NCL05': 48,\n",
       "  'FDX48': 49,\n",
       "  'FDX03': 50,\n",
       "  'NCF19': 51,\n",
       "  'FDH09': 52,\n",
       "  'FDZ27': 53,\n",
       "  'FDS28': 54,\n",
       "  'FDT02': 55,\n",
       "  'NCI31': 56,\n",
       "  'DRF03': 57,\n",
       "  'DRG27': 58,\n",
       "  'FDC20': 59,\n",
       "  'FDG59': 60,\n",
       "  'NCM30': 61,\n",
       "  'FDS03': 62,\n",
       "  'FDL21': 63,\n",
       "  'FDS22': 64,\n",
       "  'FDV16': 65,\n",
       "  'FDT04': 66,\n",
       "  'NCP55': 67,\n",
       "  'FDD08': 68,\n",
       "  'FDX59': 69,\n",
       "  'NCD19': 70,\n",
       "  'FDS21': 71,\n",
       "  'FDN49': 72,\n",
       "  'FDX04': 73,\n",
       "  'DRK35': 74,\n",
       "  'FDG29': 75,\n",
       "  'FDD53': 76,\n",
       "  'DRJ59': 77,\n",
       "  'FDA13': 78,\n",
       "  'NCR18': 79,\n",
       "  'FDY12': 80,\n",
       "  'FDS09': 81,\n",
       "  'FDC58': 82,\n",
       "  'FDW35': 83,\n",
       "  'NCX53': 84,\n",
       "  'FDG57': 85,\n",
       "  'NCY05': 86,\n",
       "  'FDL28': 87,\n",
       "  'FDG40': 88,\n",
       "  'FDX40': 89,\n",
       "  'FDZ44': 90,\n",
       "  'NCU29': 91,\n",
       "  'FDN25': 92,\n",
       "  'FDU15': 93,\n",
       "  'FDT38': 94,\n",
       "  'NCD43': 95,\n",
       "  'FDB41': 96,\n",
       "  'DRK12': 97,\n",
       "  'FDJ09': 98,\n",
       "  'DRB48': 99,\n",
       "  'FDQ22': 100,\n",
       "  'FDV28': 101,\n",
       "  'FDA39': 102,\n",
       "  'FDC14': 103,\n",
       "  'FDT46': 104,\n",
       "  'FDV08': 105,\n",
       "  'DRH59': 106,\n",
       "  'FDM60': 107,\n",
       "  'DRN35': 108,\n",
       "  'NCA53': 109,\n",
       "  'FDQ36': 110,\n",
       "  'DRL35': 111,\n",
       "  'NCQ30': 112,\n",
       "  'FDJ03': 113,\n",
       "  'FDR36': 114,\n",
       "  'FDE35': 115,\n",
       "  'FDR14': 116,\n",
       "  'FDP13': 117,\n",
       "  'FDL48': 118,\n",
       "  'FDR43': 119,\n",
       "  'FDV43': 120,\n",
       "  'FDH45': 121,\n",
       "  'NCY29': 122,\n",
       "  'FDX46': 123,\n",
       "  'FDY43': 124,\n",
       "  'FDE23': 125,\n",
       "  'FDO60': 126,\n",
       "  'DRI37': 127,\n",
       "  'NCY41': 128,\n",
       "  'FDB39': 129,\n",
       "  'NCZ05': 130,\n",
       "  'FDR20': 131,\n",
       "  'FDI48': 132,\n",
       "  'FDM22': 133,\n",
       "  'FDG22': 134,\n",
       "  'NCM41': 135,\n",
       "  'FDZ13': 136,\n",
       "  'FDM13': 137,\n",
       "  'DRL59': 138,\n",
       "  'NCP29': 139,\n",
       "  'FDP31': 140,\n",
       "  'DRD01': 141,\n",
       "  'NCD42': 142,\n",
       "  'FDP39': 143,\n",
       "  'FDK24': 144,\n",
       "  'DRH13': 145,\n",
       "  'NCK31': 146,\n",
       "  'FDP22': 147,\n",
       "  'FDJ32': 148,\n",
       "  'FDE32': 149,\n",
       "  'FDP38': 150,\n",
       "  'NCD06': 151,\n",
       "  'DRE03': 152,\n",
       "  'FDJ45': 153,\n",
       "  'FDL16': 154,\n",
       "  'NCK05': 155,\n",
       "  'DRD13': 156,\n",
       "  'NCK17': 157,\n",
       "  'NCB55': 158,\n",
       "  'FDS51': 159,\n",
       "  'FDE40': 160,\n",
       "  'FDK04': 161,\n",
       "  'NCS38': 162,\n",
       "  'FDU10': 163,\n",
       "  'FDI27': 164,\n",
       "  'DRL37': 165,\n",
       "  'FDQ08': 166,\n",
       "  'FDX55': 167,\n",
       "  'FDZ07': 168,\n",
       "  'FDY52': 169,\n",
       "  'FDR49': 170,\n",
       "  'FDG52': 171,\n",
       "  'FDO10': 172,\n",
       "  'FDH48': 173,\n",
       "  'FDO56': 174,\n",
       "  'NCC55': 175,\n",
       "  'NCN54': 176,\n",
       "  'DRM49': 177,\n",
       "  'NCR06': 178,\n",
       "  'FDY07': 179,\n",
       "  'FDA01': 180,\n",
       "  'FDC09': 181,\n",
       "  'NCO54': 182,\n",
       "  'FDQ20': 183,\n",
       "  'NCP30': 184,\n",
       "  'FDV38': 185,\n",
       "  'FDV19': 186,\n",
       "  'FDQ51': 187,\n",
       "  'DRF25': 188,\n",
       "  'FDY35': 189,\n",
       "  'DRN59': 190,\n",
       "  'FDW38': 191,\n",
       "  'FDL12': 192,\n",
       "  'FDO49': 193,\n",
       "  'FDO19': 194,\n",
       "  'FDH04': 195,\n",
       "  'FDK36': 196,\n",
       "  'FDT45': 197,\n",
       "  'FDZ21': 198,\n",
       "  'NCW54': 199,\n",
       "  'FDV40': 200,\n",
       "  'DRF51': 201,\n",
       "  'DRG39': 202,\n",
       "  'FDV34': 203,\n",
       "  'DRH25': 204,\n",
       "  'FDO04': 205,\n",
       "  'NCY17': 206,\n",
       "  'FDR60': 207,\n",
       "  'FDX21': 208,\n",
       "  'FDV10': 209,\n",
       "  'FDU32': 210,\n",
       "  'FDC59': 211,\n",
       "  'FDQ47': 212,\n",
       "  'FDH33': 213,\n",
       "  'FDW11': 214,\n",
       "  'FDT20': 215,\n",
       "  'FDN13': 216,\n",
       "  'DRH03': 217,\n",
       "  'FDX14': 218,\n",
       "  'FDA40': 219,\n",
       "  'FDO22': 220,\n",
       "  'FDS24': 221,\n",
       "  'FDE44': 222,\n",
       "  'FDH12': 223,\n",
       "  'FDC21': 224,\n",
       "  'FDW13': 225,\n",
       "  'DRC25': 226,\n",
       "  'NCP17': 227,\n",
       "  'NCE19': 228,\n",
       "  'FDC53': 229,\n",
       "  'FDH52': 230,\n",
       "  'FDZ60': 231,\n",
       "  'FDI60': 232,\n",
       "  'FDO32': 233,\n",
       "  'FDV14': 234,\n",
       "  'NCA18': 235,\n",
       "  'FDV47': 236,\n",
       "  'FDO08': 237,\n",
       "  'FDK14': 238,\n",
       "  'FDM02': 239,\n",
       "  'FDQ49': 240,\n",
       "  'DRH11': 241,\n",
       "  'FDX57': 242,\n",
       "  'FDA44': 243,\n",
       "  'FDW24': 244,\n",
       "  'FDT22': 245,\n",
       "  'FDY11': 246,\n",
       "  'FDZ04': 247,\n",
       "  'NCF55': 248,\n",
       "  'FDW32': 249,\n",
       "  'FDB26': 250,\n",
       "  'FDB51': 251,\n",
       "  'FDQ26': 252,\n",
       "  'FDU39': 253,\n",
       "  'FDM04': 254,\n",
       "  'DRH51': 255,\n",
       "  'DRH23': 256,\n",
       "  'NCD07': 257,\n",
       "  'FDE09': 258,\n",
       "  'FDR44': 259,\n",
       "  'FDZ32': 260,\n",
       "  'DRM48': 261,\n",
       "  'FDE05': 262,\n",
       "  'FDV50': 263,\n",
       "  'FDW46': 264,\n",
       "  'FDG31': 265,\n",
       "  'NCZ17': 266,\n",
       "  'FDZ51': 267,\n",
       "  'FDP56': 268,\n",
       "  'FDX23': 269,\n",
       "  'FDV32': 270,\n",
       "  'FDA57': 271,\n",
       "  'FDB20': 272,\n",
       "  'DRI25': 273,\n",
       "  'DRD37': 274,\n",
       "  'FDW09': 275,\n",
       "  'FDB16': 276,\n",
       "  'FDC48': 277,\n",
       "  'DRJ25': 278,\n",
       "  'NCJ29': 279,\n",
       "  'NCJ17': 280,\n",
       "  'FDL02': 281,\n",
       "  'FDB45': 282,\n",
       "  'DRL49': 283,\n",
       "  'NCP02': 284,\n",
       "  'FDD32': 285,\n",
       "  'NCN30': 286,\n",
       "  'FDL40': 287,\n",
       "  'FDE29': 288,\n",
       "  'DRE15': 289,\n",
       "  'NCQ38': 290,\n",
       "  'FDS37': 291,\n",
       "  'DRO59': 292,\n",
       "  'FDB09': 293,\n",
       "  'FDD58': 294,\n",
       "  'FDX16': 295,\n",
       "  'FDM44': 296,\n",
       "  'NCN14': 297,\n",
       "  'DRC01': 298,\n",
       "  'FDZ08': 299,\n",
       "  'FDZ40': 300,\n",
       "  'FDI21': 301,\n",
       "  'FDY36': 302,\n",
       "  'FDV27': 303,\n",
       "  'FDG50': 304,\n",
       "  'DRG51': 305,\n",
       "  'FDL43': 306,\n",
       "  'NCQ43': 307,\n",
       "  'NCV30': 308,\n",
       "  'NCI43': 309,\n",
       "  'FDZ22': 310,\n",
       "  'FDO28': 311,\n",
       "  'FDL22': 312,\n",
       "  'FDS19': 313,\n",
       "  'FDM56': 314,\n",
       "  'NCI17': 315,\n",
       "  'FDG46': 316,\n",
       "  'NCP50': 317,\n",
       "  'NCR29': 318,\n",
       "  'FDJ50': 319,\n",
       "  'FDQ34': 320,\n",
       "  'FDP04': 321,\n",
       "  'FDV48': 322,\n",
       "  'NCO02': 323,\n",
       "  'FDV37': 324,\n",
       "  'DRE27': 325,\n",
       "  'FDT50': 326,\n",
       "  'FDJ36': 327,\n",
       "  'NCN41': 328,\n",
       "  'FDL56': 329,\n",
       "  'FDZ39': 330,\n",
       "  'NCX05': 331,\n",
       "  'FDZ48': 332,\n",
       "  'FDS35': 333,\n",
       "  'NCO55': 334,\n",
       "  'FDV24': 335,\n",
       "  'FDH40': 336,\n",
       "  'FDL36': 337,\n",
       "  'DRH36': 338,\n",
       "  'FDF45': 339,\n",
       "  'FDC11': 340,\n",
       "  'DRG15': 341,\n",
       "  'FDW36': 342,\n",
       "  'DRH15': 343,\n",
       "  'FDX27': 344,\n",
       "  'NCU05': 345,\n",
       "  'FDC40': 346,\n",
       "  'FDY03': 347,\n",
       "  'FDW07': 348,\n",
       "  'FDN24': 349,\n",
       "  'DRF15': 350,\n",
       "  'FDC10': 351,\n",
       "  'FDS34': 352,\n",
       "  'NCB19': 353,\n",
       "  'NCM17': 354,\n",
       "  'FDZ57': 355,\n",
       "  'DRC13': 356,\n",
       "  'FDE53': 357,\n",
       "  'FDI28': 358,\n",
       "  'FDP26': 359,\n",
       "  'FDY59': 360,\n",
       "  'FDP36': 361,\n",
       "  'FDW59': 362,\n",
       "  'FDH53': 363,\n",
       "  'FDO15': 364,\n",
       "  'FDA49': 365,\n",
       "  'FDY20': 366,\n",
       "  'FDP20': 367,\n",
       "  'FDF59': 368,\n",
       "  'FDC41': 369,\n",
       "  'NCA30': 370,\n",
       "  'FDL32': 371,\n",
       "  'FDI12': 372,\n",
       "  'FDP44': 373,\n",
       "  'FDU25': 374,\n",
       "  'FDH02': 375,\n",
       "  'NCT54': 376,\n",
       "  'FDA14': 377,\n",
       "  'FDF08': 378,\n",
       "  'FDD20': 379,\n",
       "  'DRJ01': 380,\n",
       "  'FDB35': 381,\n",
       "  'NCP14': 382,\n",
       "  'NCM07': 383,\n",
       "  'FDM50': 384,\n",
       "  'FDM32': 385,\n",
       "  'FDN28': 386,\n",
       "  'FDL38': 387,\n",
       "  'NCD30': 388,\n",
       "  'NCG43': 389,\n",
       "  'FDN50': 390,\n",
       "  'DRG01': 391,\n",
       "  'FDI16': 392,\n",
       "  'FDC26': 393,\n",
       "  'NCE54': 394,\n",
       "  'FDJ07': 395,\n",
       "  'FDE24': 396,\n",
       "  'FDT23': 397,\n",
       "  'NCG06': 398,\n",
       "  'FDL27': 399,\n",
       "  'NCS17': 400,\n",
       "  'FDS33': 401,\n",
       "  'FDG53': 402,\n",
       "  'FDX44': 403,\n",
       "  'FDJ16': 404,\n",
       "  'FDA32': 405,\n",
       "  'FDX24': 406,\n",
       "  'FDX32': 407,\n",
       "  'NCC30': 408,\n",
       "  'NCM42': 409,\n",
       "  'FDO16': 410,\n",
       "  'FDO13': 411,\n",
       "  'FDQ31': 412,\n",
       "  'FDO45': 413,\n",
       "  'FDY24': 414,\n",
       "  'FDP01': 415,\n",
       "  'FDJ27': 416,\n",
       "  'FDE41': 417,\n",
       "  'FDT34': 418,\n",
       "  'FDY13': 419,\n",
       "  'NCK06': 420,\n",
       "  'NCJ42': 421,\n",
       "  'FDE33': 422,\n",
       "  'FDI58': 423,\n",
       "  'DRI39': 424,\n",
       "  'FDN33': 425,\n",
       "  'FDQ14': 426,\n",
       "  'FDC57': 427,\n",
       "  'FDR08': 428,\n",
       "  'FDN48': 429,\n",
       "  'FDR26': 430,\n",
       "  'NCH54': 431,\n",
       "  'FDM09': 432,\n",
       "  'FDG24': 433,\n",
       "  'NCP06': 434,\n",
       "  'FDT60': 435,\n",
       "  'FDJ20': 436,\n",
       "  'FDU35': 437,\n",
       "  'FDY48': 438,\n",
       "  'FDK55': 439,\n",
       "  'FDS47': 440,\n",
       "  'FDO31': 441,\n",
       "  'FDL46': 442,\n",
       "  'FDD28': 443,\n",
       "  'FDV13': 444,\n",
       "  'FDD57': 445,\n",
       "  'FDB32': 446,\n",
       "  'FDO23': 447,\n",
       "  'FDC28': 448,\n",
       "  'FDA50': 449,\n",
       "  'FDR13': 450,\n",
       "  'NCM06': 451,\n",
       "  'FDR24': 452,\n",
       "  'NCJ43': 453,\n",
       "  'FDW14': 454,\n",
       "  'NCG42': 455,\n",
       "  'FDF10': 456,\n",
       "  'DRE25': 457,\n",
       "  'DRI11': 458,\n",
       "  'NCV42': 459,\n",
       "  'FDS46': 460,\n",
       "  'FDV56': 461,\n",
       "  'FDJ04': 462,\n",
       "  'DRL60': 463,\n",
       "  'FDG04': 464,\n",
       "  'NCN17': 465,\n",
       "  'DRK01': 466,\n",
       "  'FDQ48': 467,\n",
       "  'FDR04': 468,\n",
       "  'NCV54': 469,\n",
       "  'FDQ59': 470,\n",
       "  'FDM46': 471,\n",
       "  'FDL33': 472,\n",
       "  'FDH17': 473,\n",
       "  'FDH16': 474,\n",
       "  'FDX60': 475,\n",
       "  'FDU27': 476,\n",
       "  'FDT26': 477,\n",
       "  'FDS07': 478,\n",
       "  'FDU28': 479,\n",
       "  'FDN10': 480,\n",
       "  'NCS18': 481,\n",
       "  'FDH20': 482,\n",
       "  'FDK41': 483,\n",
       "  'FDS32': 484,\n",
       "  'FDT44': 485,\n",
       "  'FDC16': 486,\n",
       "  'FDG44': 487,\n",
       "  'NCE06': 488,\n",
       "  'FDA19': 489,\n",
       "  'DRD12': 490,\n",
       "  'FDU26': 491,\n",
       "  'FDZ10': 492,\n",
       "  'FDU33': 493,\n",
       "  'FDP57': 494,\n",
       "  'FDY47': 495,\n",
       "  'FDJ02': 496,\n",
       "  'NCT53': 497,\n",
       "  'FDP40': 498,\n",
       "  'FDG34': 499,\n",
       "  'DRJ49': 500,\n",
       "  'FDL39': 501,\n",
       "  'DRI49': 502,\n",
       "  'FDW08': 503,\n",
       "  'NCU53': 504,\n",
       "  'NCF31': 505,\n",
       "  'FDS49': 506,\n",
       "  'DRF48': 507,\n",
       "  'DRN36': 508,\n",
       "  'NCE07': 509,\n",
       "  'DRL47': 510,\n",
       "  'FDD36': 511,\n",
       "  'FDU52': 512,\n",
       "  'DRB01': 513,\n",
       "  'FDJ53': 514,\n",
       "  'FDI44': 515,\n",
       "  'FDQ09': 516,\n",
       "  'FDU60': 517,\n",
       "  'FDN27': 518,\n",
       "  'FDM38': 519,\n",
       "  'NCQ42': 520,\n",
       "  'DRD25': 521,\n",
       "  'FDV31': 522,\n",
       "  'FDI05': 523,\n",
       "  'FDN12': 524,\n",
       "  'FDW37': 525,\n",
       "  'FDH27': 526,\n",
       "  'FDC52': 527,\n",
       "  'DRO47': 528,\n",
       "  'FDZ46': 529,\n",
       "  'NCV41': 530,\n",
       "  'FDA25': 531,\n",
       "  'DRE13': 532,\n",
       "  'FDP24': 533,\n",
       "  'FDU46': 534,\n",
       "  'NCO17': 535,\n",
       "  'FDB58': 536,\n",
       "  'FDA11': 537,\n",
       "  'NCX42': 538,\n",
       "  'FDB04': 539,\n",
       "  'FDB29': 540,\n",
       "  'FDV58': 541,\n",
       "  'FDN52': 542,\n",
       "  'FDB34': 543,\n",
       "  'FDP07': 544,\n",
       "  'DRA24': 545,\n",
       "  'FDA28': 546,\n",
       "  'FDP46': 547,\n",
       "  'FDS57': 548,\n",
       "  'FDV11': 549,\n",
       "  'FDT24': 550,\n",
       "  'NCN07': 551,\n",
       "  'FDU48': 552,\n",
       "  'FDQ27': 553,\n",
       "  'FDF24': 554,\n",
       "  'FDX50': 555,\n",
       "  'FDZ52': 556,\n",
       "  'FDK56': 557,\n",
       "  'FDH32': 558,\n",
       "  'DRN11': 559,\n",
       "  'NCP54': 560,\n",
       "  'DRE37': 561,\n",
       "  'FDQ45': 562,\n",
       "  'FDU04': 563,\n",
       "  'FDU11': 564,\n",
       "  'NCH29': 565,\n",
       "  'NCP41': 566,\n",
       "  'DRG11': 567,\n",
       "  'FDC56': 568,\n",
       "  'NCH43': 569,\n",
       "  'FDK08': 570,\n",
       "  'FDW25': 571,\n",
       "  'FDK60': 572,\n",
       "  'FDG41': 573,\n",
       "  'NCI54': 574,\n",
       "  'FDE46': 575,\n",
       "  'FDL10': 576,\n",
       "  'FDB50': 577,\n",
       "  'FDO38': 578,\n",
       "  'NCF07': 579,\n",
       "  'NCF54': 580,\n",
       "  'DRK59': 581,\n",
       "  'FDB22': 582,\n",
       "  'FDQ15': 583,\n",
       "  'NCC07': 584,\n",
       "  'FDB49': 585,\n",
       "  'DRB25': 586,\n",
       "  'NCH55': 587,\n",
       "  'FDF58': 588,\n",
       "  'DRB13': 589,\n",
       "  'NCT29': 590,\n",
       "  'DRK39': 591,\n",
       "  'FDF02': 592,\n",
       "  'FDU08': 593,\n",
       "  'NCS41': 594,\n",
       "  'NCI29': 595,\n",
       "  'FDM16': 596,\n",
       "  'FDW47': 597,\n",
       "  'FDQ58': 598,\n",
       "  'FDY57': 599,\n",
       "  'NCZ29': 600,\n",
       "  'FDE56': 601,\n",
       "  'FDT49': 602,\n",
       "  'NCX54': 603,\n",
       "  'FDW01': 604,\n",
       "  'FDU16': 605,\n",
       "  'FDP59': 606,\n",
       "  'FDD38': 607,\n",
       "  'NCK54': 608,\n",
       "  'FDT40': 609,\n",
       "  'FDW58': 610,\n",
       "  'FDE14': 611,\n",
       "  'DRE12': 612,\n",
       "  'FDP60': 613,\n",
       "  'FDK48': 614,\n",
       "  'NCS42': 615,\n",
       "  'FDW03': 616,\n",
       "  'FDX01': 617,\n",
       "  'FDQ57': 618,\n",
       "  'FDG20': 619,\n",
       "  'FDN15': 620,\n",
       "  'FDT39': 621,\n",
       "  'FDZ01': 622,\n",
       "  'FDH56': 623,\n",
       "  'FDU36': 624,\n",
       "  'DRL23': 625,\n",
       "  'NCJ19': 626,\n",
       "  'NCB18': 627,\n",
       "  'FDK38': 628,\n",
       "  'FDQ23': 629,\n",
       "  'NCH06': 630,\n",
       "  'FDK15': 631,\n",
       "  'FDY01': 632,\n",
       "  'FDJ28': 633,\n",
       "  'NCM18': 634,\n",
       "  'NCB42': 635,\n",
       "  'FDR58': 636,\n",
       "  'FDZ37': 637,\n",
       "  'FDQ56': 638,\n",
       "  'FDR48': 639,\n",
       "  'FDG56': 640,\n",
       "  'NCW29': 641,\n",
       "  'FDU57': 642,\n",
       "  'FDD41': 643,\n",
       "  'FDD52': 644,\n",
       "  'FDJ14': 645,\n",
       "  'FDD59': 646,\n",
       "  'NCM55': 647,\n",
       "  'FDO50': 648,\n",
       "  'FDV04': 649,\n",
       "  'FDS15': 650,\n",
       "  'FDF32': 651,\n",
       "  'FDQ13': 652,\n",
       "  'FDO27': 653,\n",
       "  'NCM53': 654,\n",
       "  'FDL50': 655,\n",
       "  'FDR33': 656,\n",
       "  'NCN43': 657,\n",
       "  'NCJ06': 658,\n",
       "  'FDK45': 659,\n",
       "  'FDI52': 660,\n",
       "  'FDA36': 661,\n",
       "  'NCT42': 662,\n",
       "  'FDD45': 663,\n",
       "  'FDS23': 664,\n",
       "  'FDM51': 665,\n",
       "  'FDJ22': 666,\n",
       "  'FDS10': 667,\n",
       "  'DRN37': 668,\n",
       "  'FDO44': 669,\n",
       "  'FDX12': 670,\n",
       "  'DRH37': 671,\n",
       "  'NCK07': 672,\n",
       "  'FDW21': 673,\n",
       "  'FDS45': 674,\n",
       "  'FDM45': 675,\n",
       "  'FDQ46': 676,\n",
       "  'FDK58': 677,\n",
       "  'FDM03': 678,\n",
       "  'FDL15': 679,\n",
       "  'FDT15': 680,\n",
       "  'FDF33': 681,\n",
       "  'FDE10': 682,\n",
       "  'FDG38': 683,\n",
       "  'FDR10': 684,\n",
       "  'DRJ11': 685,\n",
       "  'DRA12': 686,\n",
       "  'FDC44': 687,\n",
       "  'FDT58': 688,\n",
       "  'FDT35': 689,\n",
       "  'FDS14': 690,\n",
       "  'FDJ56': 691,\n",
       "  'FDF35': 692,\n",
       "  'DRK11': 693,\n",
       "  'FDH14': 694,\n",
       "  'FDH35': 695,\n",
       "  'NCV05': 696,\n",
       "  'DRZ11': 697,\n",
       "  'FDV01': 698,\n",
       "  'FDP32': 699,\n",
       "  'FDH21': 700,\n",
       "  'NCN26': 701,\n",
       "  'FDZ33': 702,\n",
       "  'FDX43': 703,\n",
       "  'FDY50': 704,\n",
       "  'NCA05': 705,\n",
       "  'FDW50': 706,\n",
       "  'NCT41': 707,\n",
       "  'NCQ18': 708,\n",
       "  'FDK43': 709,\n",
       "  'FDL14': 710,\n",
       "  'FDN16': 711,\n",
       "  'FDB12': 712,\n",
       "  'FDF16': 713,\n",
       "  'FDA23': 714,\n",
       "  'NCM29': 715,\n",
       "  'FDM34': 716,\n",
       "  'FDA02': 717,\n",
       "  'FDA10': 718,\n",
       "  'FDT03': 719,\n",
       "  'FDV09': 720,\n",
       "  'DRG23': 721,\n",
       "  'FDZ28': 722,\n",
       "  'FDV20': 723,\n",
       "  'FDK20': 724,\n",
       "  'NCK29': 725,\n",
       "  'FDS59': 726,\n",
       "  'DRF01': 727,\n",
       "  'FDF52': 728,\n",
       "  'FDG58': 729,\n",
       "  'DRG37': 730,\n",
       "  'FDD05': 731,\n",
       "  'FDP03': 732,\n",
       "  'FDZ47': 733,\n",
       "  'FDU20': 734,\n",
       "  'FDD02': 735,\n",
       "  'FDH26': 736,\n",
       "  'FDX15': 737,\n",
       "  'NCB54': 738,\n",
       "  'FDE47': 739,\n",
       "  'FDE17': 740,\n",
       "  'FDE26': 741,\n",
       "  'DRI47': 742,\n",
       "  'FDZ15': 743,\n",
       "  'FDU34': 744,\n",
       "  'FDH38': 745,\n",
       "  'FDM58': 746,\n",
       "  'FDW33': 747,\n",
       "  'FDJ34': 748,\n",
       "  'FDT13': 749,\n",
       "  'FDX08': 750,\n",
       "  'FDO01': 751,\n",
       "  'NCG07': 752,\n",
       "  'NCO05': 753,\n",
       "  'FDD48': 754,\n",
       "  'FDN21': 755,\n",
       "  'FDU40': 756,\n",
       "  'DRD24': 757,\n",
       "  'FDU50': 758,\n",
       "  'FDI02': 759,\n",
       "  'FDJ58': 760,\n",
       "  'FDV23': 761,\n",
       "  'NCK53': 762,\n",
       "  'FDW02': 763,\n",
       "  'FDH22': 764,\n",
       "  'FDH47': 765,\n",
       "  'FDG35': 766,\n",
       "  'FDC29': 767,\n",
       "  'FDA38': 768,\n",
       "  'DRD60': 769,\n",
       "  'NCZ30': 770,\n",
       "  'FDU45': 771,\n",
       "  'FDV52': 772,\n",
       "  'FDC38': 773,\n",
       "  'FDA08': 774,\n",
       "  'NCM31': 775,\n",
       "  'FDW31': 776,\n",
       "  'FDA07': 777,\n",
       "  'NCC42': 778,\n",
       "  'NCG55': 779,\n",
       "  'FDC51': 780,\n",
       "  'FDK02': 781,\n",
       "  'FDM28': 782,\n",
       "  'FDD04': 783,\n",
       "  'FDH58': 784,\n",
       "  'FDQ03': 785,\n",
       "  'FDR31': 786,\n",
       "  'NCQ29': 787,\n",
       "  'NCR05': 788,\n",
       "  'FDH05': 789,\n",
       "  'NCN19': 790,\n",
       "  'DRF49': 791,\n",
       "  'FDL04': 792,\n",
       "  'FDU37': 793,\n",
       "  'NCU18': 794,\n",
       "  'FDT32': 795,\n",
       "  'FDS52': 796,\n",
       "  'NCU17': 797,\n",
       "  'NCN05': 798,\n",
       "  'FDZ31': 799,\n",
       "  'FDI40': 800,\n",
       "  'FDN46': 801,\n",
       "  'NCP43': 802,\n",
       "  'FDQ25': 803,\n",
       "  'FDR02': 804,\n",
       "  'NCH18': 805,\n",
       "  'NCW06': 806,\n",
       "  'FDN01': 807,\n",
       "  'FDY10': 808,\n",
       "  'NCS05': 809,\n",
       "  'FDB36': 810,\n",
       "  'FDK27': 811,\n",
       "  'FDR57': 812,\n",
       "  'FDA51': 813,\n",
       "  'FDB10': 814,\n",
       "  'FDG12': 815,\n",
       "  'FDU09': 816,\n",
       "  'FDI32': 817,\n",
       "  'FDP51': 818,\n",
       "  'NCL29': 819,\n",
       "  'FDY27': 820,\n",
       "  'DRJ23': 821,\n",
       "  'FDC37': 822,\n",
       "  'FDR15': 823,\n",
       "  'FDH57': 824,\n",
       "  'NCL19': 825,\n",
       "  'FDC15': 826,\n",
       "  'FDV07': 827,\n",
       "  'FDA37': 828,\n",
       "  'FDX37': 829,\n",
       "  'FDI14': 830,\n",
       "  'FDR12': 831,\n",
       "  'FDS31': 832,\n",
       "  'NCX29': 833,\n",
       "  'FDW44': 834,\n",
       "  'NCM43': 835,\n",
       "  'DRF13': 836,\n",
       "  'NCH30': 837,\n",
       "  'FDL09': 838,\n",
       "  'FDC45': 839,\n",
       "  'FDH10': 840,\n",
       "  'NCZ41': 841,\n",
       "  'DRJ24': 842,\n",
       "  'FDL51': 843,\n",
       "  'FDM36': 844,\n",
       "  'FDA58': 845,\n",
       "  'NCF30': 846,\n",
       "  'FDD21': 847,\n",
       "  'FDT25': 848,\n",
       "  'FDQ32': 849,\n",
       "  'NCA54': 850,\n",
       "  'FDN04': 851,\n",
       "  'FDU24': 852,\n",
       "  'FDX51': 853,\n",
       "  'NCO43': 854,\n",
       "  'FDD10': 855,\n",
       "  'NCI55': 856,\n",
       "  'FDI56': 857,\n",
       "  'FDK22': 858,\n",
       "  'FDO40': 859,\n",
       "  'DRG25': 860,\n",
       "  'FDV51': 861,\n",
       "  'NCS30': 862,\n",
       "  'FDQ44': 863,\n",
       "  'NCF06': 864,\n",
       "  'DRI23': 865,\n",
       "  'NCD54': 866,\n",
       "  'FDA47': 867,\n",
       "  'FDY22': 868,\n",
       "  'FDT11': 869,\n",
       "  'FDR40': 870,\n",
       "  'FDT33': 871,\n",
       "  'FDE08': 872,\n",
       "  'NCQ05': 873,\n",
       "  'FDL03': 874,\n",
       "  'NCK42': 875,\n",
       "  'NCV29': 876,\n",
       "  'NCL18': 877,\n",
       "  'FDP11': 878,\n",
       "  'FDG33': 879,\n",
       "  'NCW53': 880,\n",
       "  'FDD35': 881,\n",
       "  'FDD11': 882,\n",
       "  'FDH24': 883,\n",
       "  'FDU13': 884,\n",
       "  'FDM01': 885,\n",
       "  'FDY04': 886,\n",
       "  'NCF42': 887,\n",
       "  'FDG02': 888,\n",
       "  'FDQ16': 889,\n",
       "  'FDJ10': 890,\n",
       "  'FDY08': 891,\n",
       "  'FDW12': 892,\n",
       "  'FDA03': 893,\n",
       "  'FDS27': 894,\n",
       "  'FDU22': 895,\n",
       "  'FDP37': 896,\n",
       "  'NCM54': 897,\n",
       "  'NCO41': 898,\n",
       "  'NCO26': 899,\n",
       "  'FDM15': 900,\n",
       "  'NCF43': 901,\n",
       "  'FDF28': 902,\n",
       "  'FDN31': 903,\n",
       "  'NCO30': 904,\n",
       "  'DRM59': 905,\n",
       "  'FDL13': 906,\n",
       "  'DRH39': 907,\n",
       "  'FDA31': 908,\n",
       "  'FDS60': 909,\n",
       "  'FDU49': 910,\n",
       "  'FDJ33': 911,\n",
       "  'FDO58': 912,\n",
       "  'NCG19': 913,\n",
       "  'FDS39': 914,\n",
       "  'FDI22': 915,\n",
       "  'FDL45': 916,\n",
       "  'FDV15': 917,\n",
       "  'FDJ44': 918,\n",
       "  'FDC50': 919,\n",
       "  'FDT28': 920,\n",
       "  'NCM26': 921,\n",
       "  'FDI45': 922,\n",
       "  'FDP10': 923,\n",
       "  'FDJ52': 924,\n",
       "  'FDM24': 925,\n",
       "  'FDE04': 926,\n",
       "  'FDZ35': 927,\n",
       "  'FDB08': 928,\n",
       "  'NCS53': 929,\n",
       "  'FDS08': 930,\n",
       "  'NCS29': 931,\n",
       "  'FDX45': 932,\n",
       "  'FDI33': 933,\n",
       "  'NCQ17': 934,\n",
       "  'FDA33': 935,\n",
       "  'FDJ40': 936,\n",
       "  'FDW45': 937,\n",
       "  'FDI10': 938,\n",
       "  'FDN39': 939,\n",
       "  'FDF46': 940,\n",
       "  'FDA43': 941,\n",
       "  'FDY49': 942,\n",
       "  'NCY53': 943,\n",
       "  'FDV46': 944,\n",
       "  'FDA27': 945,\n",
       "  'FDJ21': 946,\n",
       "  'NCY42': 947,\n",
       "  'FDF12': 948,\n",
       "  'FDY60': 949,\n",
       "  'NCU30': 950,\n",
       "  'FDX33': 951,\n",
       "  'FDA35': 952,\n",
       "  'DRL01': 953,\n",
       "  'FDB14': 954,\n",
       "  'NCI30': 955,\n",
       "  'DRF27': 956,\n",
       "  'FDY15': 957,\n",
       "  'FDB59': 958,\n",
       "  'NCA29': 959,\n",
       "  'FDM40': 960,\n",
       "  'NCT06': 961,\n",
       "  'FDN32': 962,\n",
       "  'FDN60': 963,\n",
       "  'FDO24': 964,\n",
       "  'FDZ59': 965,\n",
       "  'NCV18': 966,\n",
       "  'FDW26': 967,\n",
       "  'FDW20': 968,\n",
       "  'FDT08': 969,\n",
       "  'FDQ40': 970,\n",
       "  'FDW16': 971,\n",
       "  'FDR52': 972,\n",
       "  'FDZ03': 973,\n",
       "  'FDR27': 974,\n",
       "  'FDX58': 975,\n",
       "  'FDW27': 976,\n",
       "  'FDF26': 977,\n",
       "  'FDF57': 978,\n",
       "  'FDF47': 979,\n",
       "  'FDV22': 980,\n",
       "  'FDU07': 981,\n",
       "  'FDY19': 982,\n",
       "  'NCH07': 983,\n",
       "  'FDE21': 984,\n",
       "  'NCE30': 985,\n",
       "  'FDS55': 986,\n",
       "  'NCO29': 987,\n",
       "  'FDY44': 988,\n",
       "  'FDI41': 989,\n",
       "  'FDR23': 990,\n",
       "  'NCJ05': 991,\n",
       "  'NCC31': 992,\n",
       "  'FDG28': 993,\n",
       "  'FDR21': 994,\n",
       "  'FDL20': 995,\n",
       "  'NCJ18': 996,\n",
       "  'NCL53': 997,\n",
       "  'FDZ09': 998,\n",
       "  'NCR17': 999,\n",
       "  ...},\n",
       " 'Item_Fat_Content': {'Low Fat': 0, 'Regular': 1},\n",
       " 'Outlet_Size': {'Missing': 0, 'Small': 1, 'High': 2, 'Medium': 3},\n",
       " 'Outlet_Location_Type': {'Tier 1': 0, 'Tier 3': 1, 'Tier 2': 2},\n",
       " 'Outlet_Type': {'Grocery Store': 0,\n",
       "  'Supermarket Type2': 1,\n",
       "  'Supermarket Type1': 2,\n",
       "  'Supermarket Type3': 3}}"
      ]
     },
     "execution_count": 28,
     "metadata": {},
     "output_type": "execute_result"
    }
   ],
   "source": [
    "#JC dangerous to ordinal encode using automatically assigned sequence numbers for name-label type columns\n",
    "# such as Item_Identifier\n",
    "\n",
    "# for item_identifier to be considered ordinal, best to show some sort of correlation between its converted\n",
    "# ordinal values against target variable, else it could be taken just as a name label, which isn't very convincing\n",
    "# to be classified under suitable for ordinal encoding. in this case, parameter ordered helps to align based on\n",
    "# mean value of target variable, which does help pre-modeling data, although:\n",
    "\n",
    "# scale of relation between ordinal variables might not always\n",
    "# be best represented as single integer increments - only way is to (if time permits) try multiple approaches\n",
    "# and check results. This scale thing applies for all ordinal variables, bear in mind for future real data work.\n",
    "\n",
    "\n",
    "ordinal_enc.encoder_dict_"
   ]
  },
  {
   "cell_type": "code",
   "execution_count": 29,
   "metadata": {},
   "outputs": [
    {
     "data": {
      "text/html": [
       "<div>\n",
       "<style scoped>\n",
       "    .dataframe tbody tr th:only-of-type {\n",
       "        vertical-align: middle;\n",
       "    }\n",
       "\n",
       "    .dataframe tbody tr th {\n",
       "        vertical-align: top;\n",
       "    }\n",
       "\n",
       "    .dataframe thead th {\n",
       "        text-align: right;\n",
       "    }\n",
       "</style>\n",
       "<table border=\"1\" class=\"dataframe\">\n",
       "  <thead>\n",
       "    <tr style=\"text-align: right;\">\n",
       "      <th></th>\n",
       "      <th>Item_Identifier</th>\n",
       "      <th>Item_Weight</th>\n",
       "      <th>Item_Fat_Content</th>\n",
       "      <th>Item_Visibility</th>\n",
       "      <th>Item_MRP</th>\n",
       "      <th>Outlet_Establishment_Year</th>\n",
       "      <th>Outlet_Size</th>\n",
       "      <th>Outlet_Location_Type</th>\n",
       "      <th>Outlet_Type</th>\n",
       "      <th>Outlet_Identifier_OUT027</th>\n",
       "      <th>...</th>\n",
       "      <th>Item_Type_Fruits and Vegetables</th>\n",
       "      <th>Item_Type_Breakfast</th>\n",
       "      <th>Item_Type_Meat</th>\n",
       "      <th>Item_Type_Frozen Foods</th>\n",
       "      <th>Item_Type_Dairy</th>\n",
       "      <th>Item_Type_Soft Drinks</th>\n",
       "      <th>Item_Type_Hard Drinks</th>\n",
       "      <th>Item_Type_Breads</th>\n",
       "      <th>Item_Type_Others</th>\n",
       "      <th>Item_Type_Seafood</th>\n",
       "    </tr>\n",
       "  </thead>\n",
       "  <tbody>\n",
       "    <tr>\n",
       "      <th>1688</th>\n",
       "      <td>192</td>\n",
       "      <td>20.00</td>\n",
       "      <td>1</td>\n",
       "      <td>0.121044</td>\n",
       "      <td>59.4220</td>\n",
       "      <td>1985</td>\n",
       "      <td>3</td>\n",
       "      <td>1</td>\n",
       "      <td>3</td>\n",
       "      <td>1</td>\n",
       "      <td>...</td>\n",
       "      <td>0</td>\n",
       "      <td>0</td>\n",
       "      <td>0</td>\n",
       "      <td>0</td>\n",
       "      <td>0</td>\n",
       "      <td>0</td>\n",
       "      <td>0</td>\n",
       "      <td>0</td>\n",
       "      <td>0</td>\n",
       "      <td>0</td>\n",
       "    </tr>\n",
       "    <tr>\n",
       "      <th>6310</th>\n",
       "      <td>320</td>\n",
       "      <td>10.85</td>\n",
       "      <td>0</td>\n",
       "      <td>0.162108</td>\n",
       "      <td>106.3622</td>\n",
       "      <td>1987</td>\n",
       "      <td>2</td>\n",
       "      <td>1</td>\n",
       "      <td>2</td>\n",
       "      <td>0</td>\n",
       "      <td>...</td>\n",
       "      <td>0</td>\n",
       "      <td>0</td>\n",
       "      <td>0</td>\n",
       "      <td>0</td>\n",
       "      <td>0</td>\n",
       "      <td>0</td>\n",
       "      <td>0</td>\n",
       "      <td>0</td>\n",
       "      <td>0</td>\n",
       "      <td>0</td>\n",
       "    </tr>\n",
       "    <tr>\n",
       "      <th>3251</th>\n",
       "      <td>741</td>\n",
       "      <td>9.30</td>\n",
       "      <td>0</td>\n",
       "      <td>0.089006</td>\n",
       "      <td>143.9786</td>\n",
       "      <td>1997</td>\n",
       "      <td>1</td>\n",
       "      <td>0</td>\n",
       "      <td>2</td>\n",
       "      <td>0</td>\n",
       "      <td>...</td>\n",
       "      <td>0</td>\n",
       "      <td>0</td>\n",
       "      <td>0</td>\n",
       "      <td>0</td>\n",
       "      <td>0</td>\n",
       "      <td>0</td>\n",
       "      <td>0</td>\n",
       "      <td>0</td>\n",
       "      <td>0</td>\n",
       "      <td>0</td>\n",
       "    </tr>\n",
       "    <tr>\n",
       "      <th>4125</th>\n",
       "      <td>340</td>\n",
       "      <td>20.50</td>\n",
       "      <td>0</td>\n",
       "      <td>0.141793</td>\n",
       "      <td>89.7172</td>\n",
       "      <td>1997</td>\n",
       "      <td>1</td>\n",
       "      <td>0</td>\n",
       "      <td>2</td>\n",
       "      <td>0</td>\n",
       "      <td>...</td>\n",
       "      <td>0</td>\n",
       "      <td>0</td>\n",
       "      <td>0</td>\n",
       "      <td>0</td>\n",
       "      <td>0</td>\n",
       "      <td>0</td>\n",
       "      <td>0</td>\n",
       "      <td>0</td>\n",
       "      <td>0</td>\n",
       "      <td>0</td>\n",
       "    </tr>\n",
       "    <tr>\n",
       "      <th>2573</th>\n",
       "      <td>534</td>\n",
       "      <td>10.30</td>\n",
       "      <td>1</td>\n",
       "      <td>0.018623</td>\n",
       "      <td>87.8540</td>\n",
       "      <td>1998</td>\n",
       "      <td>0</td>\n",
       "      <td>1</td>\n",
       "      <td>0</td>\n",
       "      <td>0</td>\n",
       "      <td>...</td>\n",
       "      <td>0</td>\n",
       "      <td>0</td>\n",
       "      <td>0</td>\n",
       "      <td>0</td>\n",
       "      <td>0</td>\n",
       "      <td>0</td>\n",
       "      <td>0</td>\n",
       "      <td>0</td>\n",
       "      <td>0</td>\n",
       "      <td>0</td>\n",
       "    </tr>\n",
       "    <tr>\n",
       "      <th>...</th>\n",
       "      <td>...</td>\n",
       "      <td>...</td>\n",
       "      <td>...</td>\n",
       "      <td>...</td>\n",
       "      <td>...</td>\n",
       "      <td>...</td>\n",
       "      <td>...</td>\n",
       "      <td>...</td>\n",
       "      <td>...</td>\n",
       "      <td>...</td>\n",
       "      <td>...</td>\n",
       "      <td>...</td>\n",
       "      <td>...</td>\n",
       "      <td>...</td>\n",
       "      <td>...</td>\n",
       "      <td>...</td>\n",
       "      <td>...</td>\n",
       "      <td>...</td>\n",
       "      <td>...</td>\n",
       "      <td>...</td>\n",
       "      <td>...</td>\n",
       "    </tr>\n",
       "    <tr>\n",
       "      <th>4444</th>\n",
       "      <td>532</td>\n",
       "      <td>6.28</td>\n",
       "      <td>0</td>\n",
       "      <td>0.027682</td>\n",
       "      <td>85.5198</td>\n",
       "      <td>1987</td>\n",
       "      <td>2</td>\n",
       "      <td>1</td>\n",
       "      <td>2</td>\n",
       "      <td>0</td>\n",
       "      <td>...</td>\n",
       "      <td>0</td>\n",
       "      <td>0</td>\n",
       "      <td>0</td>\n",
       "      <td>0</td>\n",
       "      <td>0</td>\n",
       "      <td>1</td>\n",
       "      <td>0</td>\n",
       "      <td>0</td>\n",
       "      <td>0</td>\n",
       "      <td>0</td>\n",
       "    </tr>\n",
       "    <tr>\n",
       "      <th>8027</th>\n",
       "      <td>1388</td>\n",
       "      <td>14.50</td>\n",
       "      <td>0</td>\n",
       "      <td>0.061987</td>\n",
       "      <td>153.0998</td>\n",
       "      <td>1997</td>\n",
       "      <td>1</td>\n",
       "      <td>0</td>\n",
       "      <td>2</td>\n",
       "      <td>0</td>\n",
       "      <td>...</td>\n",
       "      <td>0</td>\n",
       "      <td>0</td>\n",
       "      <td>0</td>\n",
       "      <td>0</td>\n",
       "      <td>1</td>\n",
       "      <td>0</td>\n",
       "      <td>0</td>\n",
       "      <td>0</td>\n",
       "      <td>0</td>\n",
       "      <td>0</td>\n",
       "    </tr>\n",
       "    <tr>\n",
       "      <th>4936</th>\n",
       "      <td>55</td>\n",
       "      <td>12.60</td>\n",
       "      <td>0</td>\n",
       "      <td>0.024332</td>\n",
       "      <td>34.9874</td>\n",
       "      <td>2007</td>\n",
       "      <td>0</td>\n",
       "      <td>2</td>\n",
       "      <td>2</td>\n",
       "      <td>0</td>\n",
       "      <td>...</td>\n",
       "      <td>0</td>\n",
       "      <td>0</td>\n",
       "      <td>0</td>\n",
       "      <td>0</td>\n",
       "      <td>1</td>\n",
       "      <td>0</td>\n",
       "      <td>0</td>\n",
       "      <td>0</td>\n",
       "      <td>0</td>\n",
       "      <td>0</td>\n",
       "    </tr>\n",
       "    <tr>\n",
       "      <th>3315</th>\n",
       "      <td>624</td>\n",
       "      <td>20.00</td>\n",
       "      <td>0</td>\n",
       "      <td>0.000000</td>\n",
       "      <td>100.1384</td>\n",
       "      <td>1985</td>\n",
       "      <td>3</td>\n",
       "      <td>1</td>\n",
       "      <td>3</td>\n",
       "      <td>1</td>\n",
       "      <td>...</td>\n",
       "      <td>0</td>\n",
       "      <td>0</td>\n",
       "      <td>0</td>\n",
       "      <td>0</td>\n",
       "      <td>0</td>\n",
       "      <td>0</td>\n",
       "      <td>0</td>\n",
       "      <td>0</td>\n",
       "      <td>0</td>\n",
       "      <td>0</td>\n",
       "    </tr>\n",
       "    <tr>\n",
       "      <th>2777</th>\n",
       "      <td>788</td>\n",
       "      <td>10.10</td>\n",
       "      <td>0</td>\n",
       "      <td>0.054585</td>\n",
       "      <td>196.5084</td>\n",
       "      <td>1987</td>\n",
       "      <td>2</td>\n",
       "      <td>1</td>\n",
       "      <td>2</td>\n",
       "      <td>0</td>\n",
       "      <td>...</td>\n",
       "      <td>0</td>\n",
       "      <td>0</td>\n",
       "      <td>0</td>\n",
       "      <td>0</td>\n",
       "      <td>0</td>\n",
       "      <td>0</td>\n",
       "      <td>0</td>\n",
       "      <td>0</td>\n",
       "      <td>0</td>\n",
       "      <td>0</td>\n",
       "    </tr>\n",
       "  </tbody>\n",
       "</table>\n",
       "<p>5865 rows × 35 columns</p>\n",
       "</div>"
      ],
      "text/plain": [
       "      Item_Identifier  Item_Weight  Item_Fat_Content  Item_Visibility  \\\n",
       "1688              192        20.00                 1         0.121044   \n",
       "6310              320        10.85                 0         0.162108   \n",
       "3251              741         9.30                 0         0.089006   \n",
       "4125              340        20.50                 0         0.141793   \n",
       "2573              534        10.30                 1         0.018623   \n",
       "...               ...          ...               ...              ...   \n",
       "4444              532         6.28                 0         0.027682   \n",
       "8027             1388        14.50                 0         0.061987   \n",
       "4936               55        12.60                 0         0.024332   \n",
       "3315              624        20.00                 0         0.000000   \n",
       "2777              788        10.10                 0         0.054585   \n",
       "\n",
       "      Item_MRP  Outlet_Establishment_Year  Outlet_Size  Outlet_Location_Type  \\\n",
       "1688   59.4220                       1985            3                     1   \n",
       "6310  106.3622                       1987            2                     1   \n",
       "3251  143.9786                       1997            1                     0   \n",
       "4125   89.7172                       1997            1                     0   \n",
       "2573   87.8540                       1998            0                     1   \n",
       "...        ...                        ...          ...                   ...   \n",
       "4444   85.5198                       1987            2                     1   \n",
       "8027  153.0998                       1997            1                     0   \n",
       "4936   34.9874                       2007            0                     2   \n",
       "3315  100.1384                       1985            3                     1   \n",
       "2777  196.5084                       1987            2                     1   \n",
       "\n",
       "      Outlet_Type  Outlet_Identifier_OUT027  ...  \\\n",
       "1688            3                         1  ...   \n",
       "6310            2                         0  ...   \n",
       "3251            2                         0  ...   \n",
       "4125            2                         0  ...   \n",
       "2573            0                         0  ...   \n",
       "...           ...                       ...  ...   \n",
       "4444            2                         0  ...   \n",
       "8027            2                         0  ...   \n",
       "4936            2                         0  ...   \n",
       "3315            3                         1  ...   \n",
       "2777            2                         0  ...   \n",
       "\n",
       "      Item_Type_Fruits and Vegetables  Item_Type_Breakfast  Item_Type_Meat  \\\n",
       "1688                                0                    0               0   \n",
       "6310                                0                    0               0   \n",
       "3251                                0                    0               0   \n",
       "4125                                0                    0               0   \n",
       "2573                                0                    0               0   \n",
       "...                               ...                  ...             ...   \n",
       "4444                                0                    0               0   \n",
       "8027                                0                    0               0   \n",
       "4936                                0                    0               0   \n",
       "3315                                0                    0               0   \n",
       "2777                                0                    0               0   \n",
       "\n",
       "      Item_Type_Frozen Foods  Item_Type_Dairy  Item_Type_Soft Drinks  \\\n",
       "1688                       0                0                      0   \n",
       "6310                       0                0                      0   \n",
       "3251                       0                0                      0   \n",
       "4125                       0                0                      0   \n",
       "2573                       0                0                      0   \n",
       "...                      ...              ...                    ...   \n",
       "4444                       0                0                      1   \n",
       "8027                       0                1                      0   \n",
       "4936                       0                1                      0   \n",
       "3315                       0                0                      0   \n",
       "2777                       0                0                      0   \n",
       "\n",
       "      Item_Type_Hard Drinks  Item_Type_Breads  Item_Type_Others  \\\n",
       "1688                      0                 0                 0   \n",
       "6310                      0                 0                 0   \n",
       "3251                      0                 0                 0   \n",
       "4125                      0                 0                 0   \n",
       "2573                      0                 0                 0   \n",
       "...                     ...               ...               ...   \n",
       "4444                      0                 0                 0   \n",
       "8027                      0                 0                 0   \n",
       "4936                      0                 0                 0   \n",
       "3315                      0                 0                 0   \n",
       "2777                      0                 0                 0   \n",
       "\n",
       "      Item_Type_Seafood  \n",
       "1688                  0  \n",
       "6310                  0  \n",
       "3251                  0  \n",
       "4125                  0  \n",
       "2573                  0  \n",
       "...                 ...  \n",
       "4444                  0  \n",
       "8027                  0  \n",
       "4936                  0  \n",
       "3315                  0  \n",
       "2777                  0  \n",
       "\n",
       "[5865 rows x 35 columns]"
      ]
     },
     "execution_count": 29,
     "metadata": {},
     "output_type": "execute_result"
    }
   ],
   "source": [
    "X_train_enc = ordinal_enc.transform(X_train_ohe)\n",
    "X_train_enc"
   ]
  },
  {
   "cell_type": "markdown",
   "metadata": {},
   "source": [
    "Next we will repeat the encoding for X test."
   ]
  },
  {
   "cell_type": "code",
   "execution_count": 30,
   "metadata": {},
   "outputs": [],
   "source": [
    "#JC technically your Item_Identifier column should be sorted out/transform/data wrangled, such that\n",
    "# all values that appear in test also are available in train, ie train is broad enough to cover all possible\n",
    "# values that appear in test\n",
    "# in this case, the data led you to having a good score still, but this is no guarantee the same providence\n",
    "# will apply to all future datasets, so be careful\n",
    "# anything that requires y_test as a parameter shouldnt be relied on, cos in real world, your y_test represents\n",
    "# target variable which is unknown and needs to be predicted, so you won't start off having access to it\n",
    "# until it happens, measured and recorded, for you to compare your earlier predictions against\n",
    "\n",
    "ordinal_enc.fit(X_test_ohe, y_test)\n",
    "X_test_enc = ordinal_enc.transform(X_test_ohe)"
   ]
  },
  {
   "cell_type": "markdown",
   "metadata": {},
   "source": [
    "### Step 6: Transformation of Numerical Variables\n",
    "### Step 6.1: Exploring Yeo-Johnson Transformation on Numerical Variables"
   ]
  },
  {
   "cell_type": "markdown",
   "metadata": {},
   "source": [
    "We will explore transforming the data as well to see if it follows a more normal distribution. First we will explore transforming the numerical variables, with are Item Visibility, MRP and Weight.The columns of importance out of the numerical variables are MRP and Item Visibility as they are the two variables most likely to affect consumer spending. Item Weight would probably not affect consumer spending as much as people typically buy a different range of foods depending on their needs, budget and other factors.\n",
    "\n",
    "\n",
    "We transform the variables using Yeo Johnson Transformer to ensure that it follows a more normal transformation.As we can see from the Graphs below, the data follows a more normal distribution under transformation and has a slightly more linear line in the probability plot. the original data skews towards the left, while the transformed data follows a more normal distribution.\n",
    "\n",
    "Due to arbitrary number imputation, Item_Weight has some outliers representing the missing non-random values. We need to take into consideration as there are a relatively high number of blanks, these arbitrary numbers might affect the final distribution of the data. However, it is still possible to achieve a more normal looking distribution through transformation.\n",
    "\n",
    "I attempted to explore log transformation but was unable to due to the presence of 0 in the values, therefore decided to use Yeo Johnson transformer so that the resulting variable can appear to be more normally distributed.Yeo Johnson transformer allows for the use of 0 values as we see in the Item Visibility plot below."
   ]
  },
  {
   "cell_type": "code",
   "execution_count": 31,
   "metadata": {},
   "outputs": [
    {
     "name": "stdout",
     "output_type": "stream",
     "text": [
      "Graph of Item_Visibility\n"
     ]
    },
    {
     "data": {
      "image/png": "[encoded data removed]",
      "text/plain": [
       "<Figure size 1080x432 with 2 Axes>"
      ]
     },
     "metadata": {
      "needs_background": "light"
     },
     "output_type": "display_data"
    },
    {
     "name": "stdout",
     "output_type": "stream",
     "text": [
      "Graph of Item_MRP\n"
     ]
    },
    {
     "data": {
      "image/png": "[encoded data removed]",
      "text/plain": [
       "<Figure size 1080x432 with 2 Axes>"
      ]
     },
     "metadata": {
      "needs_background": "light"
     },
     "output_type": "display_data"
    },
    {
     "name": "stdout",
     "output_type": "stream",
     "text": [
      "Graph of Item_Weight\n"
     ]
    },
    {
     "data": {
      "image/png": "[encoded data removed]",
      "text/plain": [
       "<Figure size 1080x432 with 2 Axes>"
      ]
     },
     "metadata": {
      "needs_background": "light"
     },
     "output_type": "display_data"
    }
   ],
   "source": [
    "def diagnostic_plots(df, variable):\n",
    "    \n",
    "    # function to plot a histogram and a Q-Q plot\n",
    "    # side by side, for a certain variable\n",
    "    \n",
    "    plt.figure(figsize=(15,6))\n",
    "    plt.subplot(1, 2, 1)\n",
    "    df[variable].hist(bins=30)\n",
    "\n",
    "    plt.subplot(1, 2, 2)\n",
    "    stats.probplot(df[variable], dist=\"norm\", plot=plt)\n",
    "    print(f'Graph of {variable}')\n",
    "    plt.show()\n",
    "diagnostic_plots(X_train_enc, 'Item_Visibility')\n",
    "diagnostic_plots(X_train_enc, 'Item_MRP')\n",
    "diagnostic_plots(X_train_enc, 'Item_Weight')"
   ]
  },
  {
   "cell_type": "markdown",
   "metadata": {},
   "source": [
    "Graphs of encoded X train after Yeo-Johnson Transformer"
   ]
  },
  {
   "cell_type": "code",
   "execution_count": 32,
   "metadata": {},
   "outputs": [
    {
     "name": "stdout",
     "output_type": "stream",
     "text": [
      "Graph of X train after Yeo Johnson Transformer\n",
      "Graph of Item_Visibility\n"
     ]
    },
    {
     "data": {
      "image/png": "[encoded data removed]",
      "text/plain": [
       "<Figure size 1080x432 with 2 Axes>"
      ]
     },
     "metadata": {
      "needs_background": "light"
     },
     "output_type": "display_data"
    },
    {
     "name": "stdout",
     "output_type": "stream",
     "text": [
      "Graph of Item_MRP\n"
     ]
    },
    {
     "data": {
      "image/png": "[encoded data removed]",
      "text/plain": [
       "<Figure size 1080x432 with 2 Axes>"
      ]
     },
     "metadata": {
      "needs_background": "light"
     },
     "output_type": "display_data"
    },
    {
     "name": "stdout",
     "output_type": "stream",
     "text": [
      "Graph of Item_Weight\n"
     ]
    },
    {
     "data": {
      "image/png": "[encoded data removed]",
      "text/plain": [
       "<Figure size 1080x432 with 2 Axes>"
      ]
     },
     "metadata": {
      "needs_background": "light"
     },
     "output_type": "display_data"
    }
   ],
   "source": [
    "yjt = YeoJohnsonTransformer(variables = ['Item_Visibility','Item_MRP','Item_Weight'])\n",
    "yjt.fit(X_train_enc)\n",
    "data_tf = yjt.transform(X_train_enc)\n",
    "\n",
    "print(\"Graph of X train after Yeo Johnson Transformer\")\n",
    "diagnostic_plots(data_tf, 'Item_Visibility')\n",
    "diagnostic_plots(data_tf, 'Item_MRP')\n",
    "diagnostic_plots(data_tf, 'Item_Weight')"
   ]
  },
  {
   "cell_type": "markdown",
   "metadata": {},
   "source": [
    "Repeat this transformation process for X test , we will get similar results with the values being more transformed into a more normal distribution."
   ]
  },
  {
   "cell_type": "code",
   "execution_count": 33,
   "metadata": {},
   "outputs": [
    {
     "name": "stdout",
     "output_type": "stream",
     "text": [
      "Graph of X test after Yeo Johnson Transformer\n",
      "Graph of Item_Visibility\n"
     ]
    },
    {
     "data": {
      "image/png": "[encoded data removed]",
      "text/plain": [
       "<Figure size 1080x432 with 2 Axes>"
      ]
     },
     "metadata": {
      "needs_background": "light"
     },
     "output_type": "display_data"
    },
    {
     "name": "stdout",
     "output_type": "stream",
     "text": [
      "Graph of Item_MRP\n"
     ]
    },
    {
     "data": {
      "image/png": "[encoded data removed]",
      "text/plain": [
       "<Figure size 1080x432 with 2 Axes>"
      ]
     },
     "metadata": {
      "needs_background": "light"
     },
     "output_type": "display_data"
    },
    {
     "name": "stdout",
     "output_type": "stream",
     "text": [
      "Graph of Item_Weight\n"
     ]
    },
    {
     "data": {
      "image/png": "[encoded data removed]",
      "text/plain": [
       "<Figure size 1080x432 with 2 Axes>"
      ]
     },
     "metadata": {
      "needs_background": "light"
     },
     "output_type": "display_data"
    }
   ],
   "source": [
    "yjt.fit(X_test_enc)\n",
    "\n",
    "data_tf_test = yjt.transform(X_test_enc)\n",
    "print(\"Graph of X test after Yeo Johnson Transformer\")\n",
    "diagnostic_plots(data_tf_test, 'Item_Visibility')\n",
    "diagnostic_plots(data_tf_test, 'Item_MRP')\n",
    "diagnostic_plots(data_tf_test, 'Item_Weight')\n"
   ]
  },
  {
   "cell_type": "markdown",
   "metadata": {},
   "source": [
    "From the transformation of numerical variables, we are able to achieve a more normal looking distribution, as we can see from the histogram and probabililty plots. This will assist in our machine learning linear regression model be more efficient. \n",
    "\n",
    "### Step 6.1.1: Comparing Yeo-Johnson Transformation with Power Transformation on Numerical Variables \n",
    "\n",
    "For comparison's sake, lets also explore the Power transformation on the numerical variables. \n",
    "As we can see below, for Item MRP and Item Weight, we managed to achieve a more normal distribution like with the Yeo-Johnson transformer. However it is not as effective on Item Visibility as this column contains a high number of 0 values who do not work well with exponential or logarithmic transformations. I decided on Yeo-Johnson because it is able to handle both 0 values and negative values in case the previous transformations led to the numerical data being negative; it worked effectively on X train and X test to make the data follow a more normal distribution.\n",
    "\n",
    "Therefore we will proceed with the next steps with using our transformed data from the Yeo-Johnson transformer."
   ]
  },
  {
   "cell_type": "code",
   "execution_count": 34,
   "metadata": {},
   "outputs": [
    {
     "name": "stdout",
     "output_type": "stream",
     "text": [
      "Graph of X test after Power Transformer\n",
      "Graph of Item_Visibility\n"
     ]
    },
    {
     "data": {
      "image/png": "[encoded data removed]",
      "text/plain": [
       "<Figure size 1080x432 with 2 Axes>"
      ]
     },
     "metadata": {
      "needs_background": "light"
     },
     "output_type": "display_data"
    },
    {
     "name": "stdout",
     "output_type": "stream",
     "text": [
      "Graph of Item_MRP\n"
     ]
    },
    {
     "data": {
      "image/png": "[encoded data removed]",
      "text/plain": [
       "<Figure size 1080x432 with 2 Axes>"
      ]
     },
     "metadata": {
      "needs_background": "light"
     },
     "output_type": "display_data"
    },
    {
     "name": "stdout",
     "output_type": "stream",
     "text": [
      "Graph of Item_Weight\n"
     ]
    },
    {
     "data": {
      "image/png": "[encoded data removed]",
      "text/plain": [
       "<Figure size 1080x432 with 2 Axes>"
      ]
     },
     "metadata": {
      "needs_background": "light"
     },
     "output_type": "display_data"
    }
   ],
   "source": [
    "et = PowerTransformer(variables = ['Item_Weight', 'Item_MRP', 'Item_Visibility'], exp=0.3)\n",
    "\n",
    "# fit transformer to data\n",
    "et.fit(X_test_enc)\n",
    "\n",
    "data_tf_power = et.transform(X_test_enc)\n",
    "\n",
    "print(\"Graph of X test after Power Transformer\")\n",
    "diagnostic_plots(data_tf_power, 'Item_Visibility')\n",
    "diagnostic_plots(data_tf_power, 'Item_MRP')\n",
    "diagnostic_plots(data_tf_power, 'Item_Weight')"
   ]
  },
  {
   "cell_type": "markdown",
   "metadata": {},
   "source": [
    "### Step 6.2: Exploring Variable Discretization/Binning"
   ]
  },
  {
   "cell_type": "markdown",
   "metadata": {},
   "source": [
    " \n",
    "Next we will explore binning the data as it may assist to visualize if it has a linear relationship with the target variable. The binning process will help to general intervals of different frequency.\n",
    "\n",
    "I have chosen the numerical variables Item_Visibility and Item_MRP as these two variables are likely to have an impact on the Item_Outlet_Sales. Earlier we trimmed the data for Item Visibility as it contains outliers, so binning the data would further improve the distribution of skewed variables and minimize the influence of any outlier data.\n",
    "\n",
    "For Item_MRP, there is a large range of data, there\n",
    "\n",
    "We will explore from the results below whether there is a linear relationship with the target variable."
   ]
  },
  {
   "cell_type": "code",
   "execution_count": 35,
   "metadata": {},
   "outputs": [
    {
     "data": {
      "text/plain": [
       "EqualFrequencyDiscretiser(return_object=True,\n",
       "                          variables=['Item_Visibility', 'Item_MRP'])"
      ]
     },
     "execution_count": 35,
     "metadata": {},
     "output_type": "execute_result"
    }
   ],
   "source": [
    "disc = EqualFrequencyDiscretiser(\n",
    "    q=10, variables=['Item_Visibility', 'Item_MRP'], return_object=True)\n",
    "\n",
    "disc.fit(data_tf)\n",
    "\n",
    "# generate intervals with equal frequency. then do a fit."
   ]
  },
  {
   "cell_type": "code",
   "execution_count": 36,
   "metadata": {},
   "outputs": [
    {
     "data": {
      "image/png": "[encoded data removed]",
      "text/plain": [
       "<Figure size 432x288 with 1 Axes>"
      ]
     },
     "metadata": {
      "needs_background": "light"
     },
     "output_type": "display_data"
    }
   ],
   "source": [
    "# Task 2: Explore if the bins have a linear relationship with the target\n",
    "\n",
    "train_t = disc.transform(data_tf)\n",
    "test_t = disc.transform(data_tf_test)\n",
    "pd.concat([train_t, y_train], axis=1).groupby('Item_Visibility')['Item_Outlet_Sales'].mean().plot()\n",
    "plt.ylabel('Mean of Item Outlet Sales')\n",
    "plt.show()"
   ]
  },
  {
   "cell_type": "code",
   "execution_count": 37,
   "metadata": {},
   "outputs": [
    {
     "data": {
      "image/png": "[encoded data removed]",
      "text/plain": [
       "<Figure size 432x288 with 1 Axes>"
      ]
     },
     "metadata": {
      "needs_background": "light"
     },
     "output_type": "display_data"
    }
   ],
   "source": [
    "pd.concat([train_t, y_train], axis=1).groupby('Item_MRP')['Item_Outlet_Sales'].mean().plot()\n",
    "plt.ylabel('Mean of Item Outlet Sales')\n",
    "plt.show()"
   ]
  },
  {
   "cell_type": "markdown",
   "metadata": {},
   "source": [
    "From the results above from discretization, Item_MRP seems to have a positive correlation with the mean of the target variable Sales. While Item Visibility does not appear to a linear relationship with Item Outlet Sales.\n",
    "\n",
    "However, it is decided to not bin the data as the above findings do not provide much additional value into organizing the dataset.Therefore we will proceed with transformation and scaling with the data_tf variable from the previous section.\n",
    "\n",
    "From the data correlation table below, we can see that there is a relatively positive correlation between the 2 variables, at least relative to the other variables. This may be because products with a higher retail price overall generate more sales and bring a higher revenue to the company. However we do not have the cost that the company has to bear to procure the products so we are unable to determine which products overall bring in more profit due to the limitations in the dataset."
   ]
  },
  {
   "cell_type": "code",
   "execution_count": 38,
   "metadata": {},
   "outputs": [
    {
     "data": {
      "image/png": "[encoded data removed]",
      "text/plain": [
       "<Figure size 720x720 with 2 Axes>"
      ]
     },
     "metadata": {
      "needs_background": "light"
     },
     "output_type": "display_data"
    }
   ],
   "source": [
    "colormap = plt.cm.viridis\n",
    "plt.figure(figsize=(10,10))\n",
    "plt.title('Pearson Correlation of Features', size=15)\n",
    "ax = sns.heatmap(data.corr(), cmap=colormap, annot=True)\n",
    "bottom, top = ax.get_ylim()\n",
    "ax.set_ylim(bottom + 0.5, top - 0.5)\n",
    "plt.show()\n"
   ]
  },
  {
   "cell_type": "markdown",
   "metadata": {},
   "source": [
    "### Step 7: Feature Engineer\n",
    "### Step 7.1: MinMax Scaling"
   ]
  },
  {
   "cell_type": "markdown",
   "metadata": {},
   "source": [
    "Our model will perform better when numerical variables are scaled to a standard range.Therefore we will attempt to do MinMax scaling for our model.We will do this for both X train and X test.\n",
    "Slightly better results were yielded from MinMax scaling, therefore we will be using the MinMax scaler in our multiple regression model. This type of scaling transforms with feature into a given range."
   ]
  },
  {
   "cell_type": "code",
   "execution_count": 39,
   "metadata": {},
   "outputs": [],
   "source": [
    "from sklearn.preprocessing import StandardScaler, MinMaxScaler\n",
    "scaler = MinMaxScaler()\n",
    "\n",
    "# fit the scaler to the train set, it will learn the parameters\n",
    "scaler.fit(data_tf)\n",
    "\n",
    "# transform train and test sets\n",
    "X_train_scaled = scaler.transform(data_tf)\n",
    "X_test_scaled = scaler.transform(data_tf_test)\n",
    "\n",
    "\n",
    "X_train_scaled = pd.DataFrame(X_train_scaled, columns=data_tf.columns)\n",
    "X_test_scaled = pd.DataFrame(X_test_scaled, columns=data_tf_test.columns)"
   ]
  },
  {
   "cell_type": "markdown",
   "metadata": {},
   "source": [
    "As we can see from the minmax scaler below,, the values are now scaled to a more normal looking distribution. Even though it is not ideal, it is far better than what we had before."
   ]
  },
  {
   "cell_type": "code",
   "execution_count": 40,
   "metadata": {},
   "outputs": [
    {
     "data": {
      "image/png": "[encoded data removed]",
      "text/plain": [
       "<Figure size 864x360 with 2 Axes>"
      ]
     },
     "metadata": {
      "needs_background": "light"
     },
     "output_type": "display_data"
    }
   ],
   "source": [
    "fig, (ax1, ax2) = plt.subplots(ncols=2, figsize=(12, 5))\n",
    "\n",
    "# before scaling\n",
    "ax1.set_title('Before Scaling')\n",
    "sns.kdeplot(data_tf['Item_Visibility'], ax=ax1, label ='Item_Visibility')\n",
    "sns.kdeplot(data_tf['Item_Weight'], ax=ax1, label ='Item_Weight')\n",
    "sns.kdeplot(data_tf['Item_MRP'], ax=ax1, label ='Item_MRP')\n",
    "\n",
    "ax1.legend()\n",
    "\n",
    "# after scaling\n",
    "ax2.set_title('After Scaling')\n",
    "sns.kdeplot(X_train_scaled['Item_Visibility'], ax=ax2, label ='Item_Visibility')\n",
    "sns.kdeplot(X_train_scaled['Item_Weight'], ax=ax2, label ='Item_Weight')\n",
    "sns.kdeplot(X_train_scaled['Item_MRP'], ax=ax2, label ='Item_MRP')\n",
    " \n",
    "ax2.legend()\n",
    "plt.show()"
   ]
  },
  {
   "cell_type": "markdown",
   "metadata": {},
   "source": [
    "We will repeat the same thing for X test. From the graph below, the values are also scaled to a more normal looking distribution compared to before. However, just from a visual comparison, X train seems to have a more normal scaling output than X test. X test also seems to cover a bigger range than X train, it might be due to the values within X test."
   ]
  },
  {
   "cell_type": "code",
   "execution_count": 41,
   "metadata": {},
   "outputs": [
    {
     "data": {
      "image/png": "[encoded data removed]",
      "text/plain": [
       "<Figure size 864x360 with 2 Axes>"
      ]
     },
     "metadata": {
      "needs_background": "light"
     },
     "output_type": "display_data"
    }
   ],
   "source": [
    "fig, (ax1, ax2) = plt.subplots(ncols=2, figsize=(12, 5))\n",
    "\n",
    "# before scaling\n",
    "ax1.set_title('Before Scaling')\n",
    "sns.kdeplot(data_tf_test['Item_Visibility'], ax=ax1, label ='Item_Visibility')\n",
    "sns.kdeplot(data_tf_test['Item_Weight'], ax=ax1, label ='Item_Weight')\n",
    "sns.kdeplot(data_tf_test['Item_MRP'], ax=ax1, label ='Item_MRP')\n",
    "\n",
    "\n",
    "ax1.legend()\n",
    "\n",
    "# after scaling\n",
    "ax2.set_title('After Scaling')\n",
    "\n",
    "sns.kdeplot(X_test_scaled['Item_Visibility'], ax=ax2, label ='Item_Visibility')\n",
    "sns.kdeplot(X_test_scaled['Item_Weight'], ax=ax2, label ='Item_Weight')\n",
    "sns.kdeplot(X_test_scaled['Item_MRP'], ax=ax2, label ='Item_MRP')\n",
    "\n",
    "ax2.legend()\n",
    "plt.show()"
   ]
  },
  {
   "cell_type": "markdown",
   "metadata": {},
   "source": [
    "As we can see above, the data is scaled and follows a more normal distribution compared to before scaling. However, as there are several variables in play, we may want to remove statistically insignificant or unimportant features from our dataset so as not to complicate our machine learning model further.\n",
    "\n",
    "We will also apply this to x test.\n",
    "\n",
    "We will also compare the results of X train (MinMax scaler) with standard scaler as illustrated below."
   ]
  },
  {
   "cell_type": "markdown",
   "metadata": {},
   "source": [
    "### Step 7.2: Standard Scaling"
   ]
  },
  {
   "cell_type": "code",
   "execution_count": 42,
   "metadata": {},
   "outputs": [],
   "source": [
    "scaler2 = StandardScaler()\n",
    "\n",
    "# fit the scaler to the train set, it will learn the parameters\n",
    "scaler2.fit(data_tf)\n",
    "\n",
    "# transform train and test sets\n",
    "X_train_scaled2 = scaler2.transform(data_tf)\n",
    "X_test_scaled2 = scaler2.transform(data_tf_test)\n",
    "\n",
    "\n",
    "X_train_scaled2 = pd.DataFrame(X_train_scaled2, columns=data_tf.columns)\n",
    "X_test_scaled2 = pd.DataFrame(X_test_scaled2, columns=data_tf_test.columns)"
   ]
  },
  {
   "cell_type": "code",
   "execution_count": 43,
   "metadata": {},
   "outputs": [
    {
     "data": {
      "image/png": "[encoded data removed]",
      "text/plain": [
       "<Figure size 864x360 with 2 Axes>"
      ]
     },
     "metadata": {
      "needs_background": "light"
     },
     "output_type": "display_data"
    }
   ],
   "source": [
    "fig, (ax1, ax2) = plt.subplots(ncols=2, figsize=(12, 5))\n",
    "\n",
    "# before scaling\n",
    "ax1.set_title('Before Scaling')\n",
    "sns.kdeplot(data_tf['Item_Visibility'], ax=ax1, label ='Item_Visibility')\n",
    "sns.kdeplot(data_tf['Item_Weight'], ax=ax1, label ='Item_Weight')\n",
    "sns.kdeplot(data_tf['Item_MRP'], ax=ax1, label ='Item_MRP')\n",
    "\n",
    "ax1.legend()\n",
    "\n",
    "# after scaling\n",
    "ax2.set_title('After Scaling')\n",
    "sns.kdeplot(X_train_scaled2['Item_Visibility'], ax=ax2, label ='Item_Visibility')\n",
    "sns.kdeplot(X_train_scaled2['Item_Weight'], ax=ax2, label ='Item_Weight')\n",
    "sns.kdeplot(X_train_scaled2['Item_MRP'], ax=ax2, label ='Item_MRP')\n",
    " \n",
    "ax2.legend()\n",
    "plt.show()"
   ]
  },
  {
   "cell_type": "markdown",
   "metadata": {},
   "source": [
    "MinMax scaler seems to be slightly more effective than Standard scaler in terms of r2 score, therefore we will stick to MinMax scaler. However both scalers are effective at achieving a more normal distribution with the data. It still does not follow a normal distribution closely but is greatly improved.Due to the arbitrary number imputation, we still see that the Item Weight distribution is skewed due to the large number of missing values while item MRP and item visibility follow a more normal distribution. We may consider removing the Item Weight column to improve our model in further steps if necessary."
   ]
  },
  {
   "cell_type": "markdown",
   "metadata": {},
   "source": [
    "### Step 8: Multiple Linear Regression Modelling"
   ]
  },
  {
   "cell_type": "markdown",
   "metadata": {},
   "source": [
    "We will firstly visualize the X train scaled table so I can get an idea of how the data looks like and whether all columns appear to be properly scaled by the MinMax scaler. We will then fit this into the LinearRegression model and evaluate the model based on MAE and r2 score before considering possible improvements.\n",
    "\n",
    "The coefficients of X train will also be printed so I can determine which columns are statistically insignificant to the model and can be removed without affecting the r2 and MAE negatively."
   ]
  },
  {
   "cell_type": "code",
   "execution_count": 44,
   "metadata": {},
   "outputs": [
    {
     "data": {
      "text/html": [
       "<div>\n",
       "<style scoped>\n",
       "    .dataframe tbody tr th:only-of-type {\n",
       "        vertical-align: middle;\n",
       "    }\n",
       "\n",
       "    .dataframe tbody tr th {\n",
       "        vertical-align: top;\n",
       "    }\n",
       "\n",
       "    .dataframe thead th {\n",
       "        text-align: right;\n",
       "    }\n",
       "</style>\n",
       "<table border=\"1\" class=\"dataframe\">\n",
       "  <thead>\n",
       "    <tr style=\"text-align: right;\">\n",
       "      <th></th>\n",
       "      <th>Item_Identifier</th>\n",
       "      <th>Item_Weight</th>\n",
       "      <th>Item_Fat_Content</th>\n",
       "      <th>Item_Visibility</th>\n",
       "      <th>Item_MRP</th>\n",
       "      <th>Outlet_Establishment_Year</th>\n",
       "      <th>Outlet_Size</th>\n",
       "      <th>Outlet_Location_Type</th>\n",
       "      <th>Outlet_Type</th>\n",
       "      <th>Outlet_Identifier_OUT027</th>\n",
       "      <th>...</th>\n",
       "      <th>Item_Type_Fruits and Vegetables</th>\n",
       "      <th>Item_Type_Breakfast</th>\n",
       "      <th>Item_Type_Meat</th>\n",
       "      <th>Item_Type_Frozen Foods</th>\n",
       "      <th>Item_Type_Dairy</th>\n",
       "      <th>Item_Type_Soft Drinks</th>\n",
       "      <th>Item_Type_Hard Drinks</th>\n",
       "      <th>Item_Type_Breads</th>\n",
       "      <th>Item_Type_Others</th>\n",
       "      <th>Item_Type_Seafood</th>\n",
       "    </tr>\n",
       "  </thead>\n",
       "  <tbody>\n",
       "    <tr>\n",
       "      <th>0</th>\n",
       "      <td>0.124594</td>\n",
       "      <td>0.920633</td>\n",
       "      <td>1.0</td>\n",
       "      <td>0.785763</td>\n",
       "      <td>0.159952</td>\n",
       "      <td>0.000000</td>\n",
       "      <td>1.000000</td>\n",
       "      <td>0.5</td>\n",
       "      <td>1.000000</td>\n",
       "      <td>1.0</td>\n",
       "      <td>...</td>\n",
       "      <td>0.0</td>\n",
       "      <td>0.0</td>\n",
       "      <td>0.0</td>\n",
       "      <td>0.0</td>\n",
       "      <td>0.0</td>\n",
       "      <td>0.0</td>\n",
       "      <td>0.0</td>\n",
       "      <td>0.0</td>\n",
       "      <td>0.0</td>\n",
       "      <td>0.0</td>\n",
       "    </tr>\n",
       "    <tr>\n",
       "      <th>1</th>\n",
       "      <td>0.207657</td>\n",
       "      <td>0.378799</td>\n",
       "      <td>0.0</td>\n",
       "      <td>0.918508</td>\n",
       "      <td>0.384901</td>\n",
       "      <td>0.083333</td>\n",
       "      <td>0.666667</td>\n",
       "      <td>0.5</td>\n",
       "      <td>0.666667</td>\n",
       "      <td>0.0</td>\n",
       "      <td>...</td>\n",
       "      <td>0.0</td>\n",
       "      <td>0.0</td>\n",
       "      <td>0.0</td>\n",
       "      <td>0.0</td>\n",
       "      <td>0.0</td>\n",
       "      <td>0.0</td>\n",
       "      <td>0.0</td>\n",
       "      <td>0.0</td>\n",
       "      <td>0.0</td>\n",
       "      <td>0.0</td>\n",
       "    </tr>\n",
       "    <tr>\n",
       "      <th>2</th>\n",
       "      <td>0.480857</td>\n",
       "      <td>0.286138</td>\n",
       "      <td>0.0</td>\n",
       "      <td>0.647701</td>\n",
       "      <td>0.544693</td>\n",
       "      <td>0.500000</td>\n",
       "      <td>0.333333</td>\n",
       "      <td>0.0</td>\n",
       "      <td>0.666667</td>\n",
       "      <td>0.0</td>\n",
       "      <td>...</td>\n",
       "      <td>0.0</td>\n",
       "      <td>0.0</td>\n",
       "      <td>0.0</td>\n",
       "      <td>0.0</td>\n",
       "      <td>0.0</td>\n",
       "      <td>0.0</td>\n",
       "      <td>0.0</td>\n",
       "      <td>0.0</td>\n",
       "      <td>0.0</td>\n",
       "      <td>0.0</td>\n",
       "    </tr>\n",
       "    <tr>\n",
       "      <th>3</th>\n",
       "      <td>0.220636</td>\n",
       "      <td>0.950043</td>\n",
       "      <td>0.0</td>\n",
       "      <td>0.858128</td>\n",
       "      <td>0.309184</td>\n",
       "      <td>0.500000</td>\n",
       "      <td>0.333333</td>\n",
       "      <td>0.0</td>\n",
       "      <td>0.666667</td>\n",
       "      <td>0.0</td>\n",
       "      <td>...</td>\n",
       "      <td>0.0</td>\n",
       "      <td>0.0</td>\n",
       "      <td>0.0</td>\n",
       "      <td>0.0</td>\n",
       "      <td>0.0</td>\n",
       "      <td>0.0</td>\n",
       "      <td>0.0</td>\n",
       "      <td>0.0</td>\n",
       "      <td>0.0</td>\n",
       "      <td>0.0</td>\n",
       "    </tr>\n",
       "    <tr>\n",
       "      <th>4</th>\n",
       "      <td>0.346528</td>\n",
       "      <td>0.345956</td>\n",
       "      <td>1.0</td>\n",
       "      <td>0.179176</td>\n",
       "      <td>0.300470</td>\n",
       "      <td>0.541667</td>\n",
       "      <td>0.000000</td>\n",
       "      <td>0.5</td>\n",
       "      <td>0.000000</td>\n",
       "      <td>0.0</td>\n",
       "      <td>...</td>\n",
       "      <td>0.0</td>\n",
       "      <td>0.0</td>\n",
       "      <td>0.0</td>\n",
       "      <td>0.0</td>\n",
       "      <td>0.0</td>\n",
       "      <td>0.0</td>\n",
       "      <td>0.0</td>\n",
       "      <td>0.0</td>\n",
       "      <td>0.0</td>\n",
       "      <td>0.0</td>\n",
       "    </tr>\n",
       "    <tr>\n",
       "      <th>...</th>\n",
       "      <td>...</td>\n",
       "      <td>...</td>\n",
       "      <td>...</td>\n",
       "      <td>...</td>\n",
       "      <td>...</td>\n",
       "      <td>...</td>\n",
       "      <td>...</td>\n",
       "      <td>...</td>\n",
       "      <td>...</td>\n",
       "      <td>...</td>\n",
       "      <td>...</td>\n",
       "      <td>...</td>\n",
       "      <td>...</td>\n",
       "      <td>...</td>\n",
       "      <td>...</td>\n",
       "      <td>...</td>\n",
       "      <td>...</td>\n",
       "      <td>...</td>\n",
       "      <td>...</td>\n",
       "      <td>...</td>\n",
       "      <td>...</td>\n",
       "    </tr>\n",
       "    <tr>\n",
       "      <th>5860</th>\n",
       "      <td>0.345230</td>\n",
       "      <td>0.104538</td>\n",
       "      <td>0.0</td>\n",
       "      <td>0.256324</td>\n",
       "      <td>0.289480</td>\n",
       "      <td>0.083333</td>\n",
       "      <td>0.666667</td>\n",
       "      <td>0.5</td>\n",
       "      <td>0.666667</td>\n",
       "      <td>0.0</td>\n",
       "      <td>...</td>\n",
       "      <td>0.0</td>\n",
       "      <td>0.0</td>\n",
       "      <td>0.0</td>\n",
       "      <td>0.0</td>\n",
       "      <td>0.0</td>\n",
       "      <td>1.0</td>\n",
       "      <td>0.0</td>\n",
       "      <td>0.0</td>\n",
       "      <td>0.0</td>\n",
       "      <td>0.0</td>\n",
       "    </tr>\n",
       "    <tr>\n",
       "      <th>5861</th>\n",
       "      <td>0.900714</td>\n",
       "      <td>0.595871</td>\n",
       "      <td>0.0</td>\n",
       "      <td>0.499697</td>\n",
       "      <td>0.581548</td>\n",
       "      <td>0.500000</td>\n",
       "      <td>0.333333</td>\n",
       "      <td>0.0</td>\n",
       "      <td>0.666667</td>\n",
       "      <td>0.0</td>\n",
       "      <td>...</td>\n",
       "      <td>0.0</td>\n",
       "      <td>0.0</td>\n",
       "      <td>0.0</td>\n",
       "      <td>0.0</td>\n",
       "      <td>1.0</td>\n",
       "      <td>0.0</td>\n",
       "      <td>0.0</td>\n",
       "      <td>0.0</td>\n",
       "      <td>0.0</td>\n",
       "      <td>0.0</td>\n",
       "    </tr>\n",
       "    <tr>\n",
       "      <th>5862</th>\n",
       "      <td>0.035691</td>\n",
       "      <td>0.483056</td>\n",
       "      <td>0.0</td>\n",
       "      <td>0.228495</td>\n",
       "      <td>0.022820</td>\n",
       "      <td>0.916667</td>\n",
       "      <td>0.000000</td>\n",
       "      <td>1.0</td>\n",
       "      <td>0.666667</td>\n",
       "      <td>0.0</td>\n",
       "      <td>...</td>\n",
       "      <td>0.0</td>\n",
       "      <td>0.0</td>\n",
       "      <td>0.0</td>\n",
       "      <td>0.0</td>\n",
       "      <td>1.0</td>\n",
       "      <td>0.0</td>\n",
       "      <td>0.0</td>\n",
       "      <td>0.0</td>\n",
       "      <td>0.0</td>\n",
       "      <td>0.0</td>\n",
       "    </tr>\n",
       "    <tr>\n",
       "      <th>5863</th>\n",
       "      <td>0.404932</td>\n",
       "      <td>0.920633</td>\n",
       "      <td>0.0</td>\n",
       "      <td>0.000000</td>\n",
       "      <td>0.357013</td>\n",
       "      <td>0.000000</td>\n",
       "      <td>1.000000</td>\n",
       "      <td>0.5</td>\n",
       "      <td>1.000000</td>\n",
       "      <td>1.0</td>\n",
       "      <td>...</td>\n",
       "      <td>0.0</td>\n",
       "      <td>0.0</td>\n",
       "      <td>0.0</td>\n",
       "      <td>0.0</td>\n",
       "      <td>0.0</td>\n",
       "      <td>0.0</td>\n",
       "      <td>0.0</td>\n",
       "      <td>0.0</td>\n",
       "      <td>0.0</td>\n",
       "      <td>0.0</td>\n",
       "    </tr>\n",
       "    <tr>\n",
       "      <th>5864</th>\n",
       "      <td>0.511356</td>\n",
       "      <td>0.334003</td>\n",
       "      <td>0.0</td>\n",
       "      <td>0.453007</td>\n",
       "      <td>0.749142</td>\n",
       "      <td>0.083333</td>\n",
       "      <td>0.666667</td>\n",
       "      <td>0.5</td>\n",
       "      <td>0.666667</td>\n",
       "      <td>0.0</td>\n",
       "      <td>...</td>\n",
       "      <td>0.0</td>\n",
       "      <td>0.0</td>\n",
       "      <td>0.0</td>\n",
       "      <td>0.0</td>\n",
       "      <td>0.0</td>\n",
       "      <td>0.0</td>\n",
       "      <td>0.0</td>\n",
       "      <td>0.0</td>\n",
       "      <td>0.0</td>\n",
       "      <td>0.0</td>\n",
       "    </tr>\n",
       "  </tbody>\n",
       "</table>\n",
       "<p>5865 rows × 35 columns</p>\n",
       "</div>"
      ],
      "text/plain": [
       "      Item_Identifier  Item_Weight  Item_Fat_Content  Item_Visibility  \\\n",
       "0            0.124594     0.920633               1.0         0.785763   \n",
       "1            0.207657     0.378799               0.0         0.918508   \n",
       "2            0.480857     0.286138               0.0         0.647701   \n",
       "3            0.220636     0.950043               0.0         0.858128   \n",
       "4            0.346528     0.345956               1.0         0.179176   \n",
       "...               ...          ...               ...              ...   \n",
       "5860         0.345230     0.104538               0.0         0.256324   \n",
       "5861         0.900714     0.595871               0.0         0.499697   \n",
       "5862         0.035691     0.483056               0.0         0.228495   \n",
       "5863         0.404932     0.920633               0.0         0.000000   \n",
       "5864         0.511356     0.334003               0.0         0.453007   \n",
       "\n",
       "      Item_MRP  Outlet_Establishment_Year  Outlet_Size  Outlet_Location_Type  \\\n",
       "0     0.159952                   0.000000     1.000000                   0.5   \n",
       "1     0.384901                   0.083333     0.666667                   0.5   \n",
       "2     0.544693                   0.500000     0.333333                   0.0   \n",
       "3     0.309184                   0.500000     0.333333                   0.0   \n",
       "4     0.300470                   0.541667     0.000000                   0.5   \n",
       "...        ...                        ...          ...                   ...   \n",
       "5860  0.289480                   0.083333     0.666667                   0.5   \n",
       "5861  0.581548                   0.500000     0.333333                   0.0   \n",
       "5862  0.022820                   0.916667     0.000000                   1.0   \n",
       "5863  0.357013                   0.000000     1.000000                   0.5   \n",
       "5864  0.749142                   0.083333     0.666667                   0.5   \n",
       "\n",
       "      Outlet_Type  Outlet_Identifier_OUT027  ...  \\\n",
       "0        1.000000                       1.0  ...   \n",
       "1        0.666667                       0.0  ...   \n",
       "2        0.666667                       0.0  ...   \n",
       "3        0.666667                       0.0  ...   \n",
       "4        0.000000                       0.0  ...   \n",
       "...           ...                       ...  ...   \n",
       "5860     0.666667                       0.0  ...   \n",
       "5861     0.666667                       0.0  ...   \n",
       "5862     0.666667                       0.0  ...   \n",
       "5863     1.000000                       1.0  ...   \n",
       "5864     0.666667                       0.0  ...   \n",
       "\n",
       "      Item_Type_Fruits and Vegetables  Item_Type_Breakfast  Item_Type_Meat  \\\n",
       "0                                 0.0                  0.0             0.0   \n",
       "1                                 0.0                  0.0             0.0   \n",
       "2                                 0.0                  0.0             0.0   \n",
       "3                                 0.0                  0.0             0.0   \n",
       "4                                 0.0                  0.0             0.0   \n",
       "...                               ...                  ...             ...   \n",
       "5860                              0.0                  0.0             0.0   \n",
       "5861                              0.0                  0.0             0.0   \n",
       "5862                              0.0                  0.0             0.0   \n",
       "5863                              0.0                  0.0             0.0   \n",
       "5864                              0.0                  0.0             0.0   \n",
       "\n",
       "      Item_Type_Frozen Foods  Item_Type_Dairy  Item_Type_Soft Drinks  \\\n",
       "0                        0.0              0.0                    0.0   \n",
       "1                        0.0              0.0                    0.0   \n",
       "2                        0.0              0.0                    0.0   \n",
       "3                        0.0              0.0                    0.0   \n",
       "4                        0.0              0.0                    0.0   \n",
       "...                      ...              ...                    ...   \n",
       "5860                     0.0              0.0                    1.0   \n",
       "5861                     0.0              1.0                    0.0   \n",
       "5862                     0.0              1.0                    0.0   \n",
       "5863                     0.0              0.0                    0.0   \n",
       "5864                     0.0              0.0                    0.0   \n",
       "\n",
       "      Item_Type_Hard Drinks  Item_Type_Breads  Item_Type_Others  \\\n",
       "0                       0.0               0.0               0.0   \n",
       "1                       0.0               0.0               0.0   \n",
       "2                       0.0               0.0               0.0   \n",
       "3                       0.0               0.0               0.0   \n",
       "4                       0.0               0.0               0.0   \n",
       "...                     ...               ...               ...   \n",
       "5860                    0.0               0.0               0.0   \n",
       "5861                    0.0               0.0               0.0   \n",
       "5862                    0.0               0.0               0.0   \n",
       "5863                    0.0               0.0               0.0   \n",
       "5864                    0.0               0.0               0.0   \n",
       "\n",
       "      Item_Type_Seafood  \n",
       "0                   0.0  \n",
       "1                   0.0  \n",
       "2                   0.0  \n",
       "3                   0.0  \n",
       "4                   0.0  \n",
       "...                 ...  \n",
       "5860                0.0  \n",
       "5861                0.0  \n",
       "5862                0.0  \n",
       "5863                0.0  \n",
       "5864                0.0  \n",
       "\n",
       "[5865 rows x 35 columns]"
      ]
     },
     "execution_count": 44,
     "metadata": {},
     "output_type": "execute_result"
    }
   ],
   "source": [
    "X_train_scaled"
   ]
  },
  {
   "cell_type": "code",
   "execution_count": 45,
   "metadata": {},
   "outputs": [
    {
     "name": "stdout",
     "output_type": "stream",
     "text": [
      "train_mae: 779.1538625063938\n"
     ]
    }
   ],
   "source": [
    "regressor_multi = LinearRegression()\n",
    "model = regressor_multi.fit(X_train_scaled, y_train)\n",
    "\n",
    "# Evaluate the Linear Regression Model using Mean Absolute Error (MAE)\n",
    "# The lower MAE, the better model performance\n",
    "print('train_mae:', mean_absolute_error(regressor_multi.predict(X_train_scaled), y_train))"
   ]
  },
  {
   "cell_type": "code",
   "execution_count": 46,
   "metadata": {},
   "outputs": [
    {
     "name": "stdout",
     "output_type": "stream",
     "text": [
      "r2 for X_train: 0.6252890021079294\n"
     ]
    }
   ],
   "source": [
    "print('r2 for X_train:',regressor_multi.score(X_train_scaled, y_train))"
   ]
  },
  {
   "cell_type": "code",
   "execution_count": 47,
   "metadata": {},
   "outputs": [
    {
     "name": "stdout",
     "output_type": "stream",
     "text": [
      "[ 3.13482618e+03 -4.37020516e+01 -6.03724398e+00 -1.78048680e+02\n",
      "  8.49394606e+02  8.37126321e+15  9.58232637e+15  2.89262312e+15\n",
      " -5.14446689e+15  1.36938947e+15  2.15107069e+15  3.30346470e+15\n",
      "  1.27281471e+15 -2.03077685e+15  1.16924038e+14  1.86093721e+15\n",
      " -1.04315183e+16 -3.78235815e+15  4.05945172e+15  2.93039024e+12\n",
      "  2.93039024e+12  2.93039024e+12  2.93039024e+12  2.93039024e+12\n",
      "  2.93039024e+12  2.93039024e+12  2.93039024e+12  2.93039024e+12\n",
      "  2.93039024e+12  2.93039024e+12  2.93039024e+12  2.93039024e+12\n",
      "  2.93039024e+12  2.93039024e+12  2.93039024e+12]\n"
     ]
    }
   ],
   "source": [
    "print(regressor_multi.coef_) # Check the coefficients"
   ]
  },
  {
   "cell_type": "markdown",
   "metadata": {},
   "source": [
    "Next, we will display the column names and coefficients so as to have a visual representation of which variables to possibly cull. Values (positive or negative) that are closer to 0 would have a smaller impact on the linear model and should be removed to improve the accuracy of the model and make it less complicated. We will try removing as many statistically insignificant columns without compromising on the r2 or MAE for the linear model."
   ]
  },
  {
   "cell_type": "code",
   "execution_count": 48,
   "metadata": {},
   "outputs": [
    {
     "data": {
      "text/plain": [
       "[('Item_Identifier', 3134.826181884884),\n",
       " ('Item_Weight', -43.70205160352271),\n",
       " ('Item_Fat_Content', -6.0372439801299365),\n",
       " ('Item_Visibility', -178.04868035466538),\n",
       " ('Item_MRP', 849.3946063126933),\n",
       " ('Outlet_Establishment_Year', 8371263211687285.0),\n",
       " ('Outlet_Size', 9582326369791802.0),\n",
       " ('Outlet_Location_Type', 2892623116366227.0),\n",
       " ('Outlet_Type', -5144466885423183.0),\n",
       " ('Outlet_Identifier_OUT027', 1369389465380730.5),\n",
       " ('Outlet_Identifier_OUT013', 2151070692528415.5),\n",
       " ('Outlet_Identifier_OUT046', 3303464702439007.0),\n",
       " ('Outlet_Identifier_OUT010', 1272814710082413.2),\n",
       " ('Outlet_Identifier_OUT035', -2030776850669281.0),\n",
       " ('Outlet_Identifier_OUT017', 116924037800397.9),\n",
       " ('Outlet_Identifier_OUT045', 1860937206901866.0),\n",
       " ('Outlet_Identifier_OUT018', -1.0431518336590254e+16),\n",
       " ('Outlet_Identifier_OUT049', -3782358145062714.0),\n",
       " ('Outlet_Identifier_OUT019', 4059451717998993.0),\n",
       " ('Item_Type_Baking Goods', 2930390240038.547),\n",
       " ('Item_Type_Snack Foods', 2930390240064.7954),\n",
       " ('Item_Type_Canned', 2930390240044.0005),\n",
       " ('Item_Type_Starchy Foods', 2930390240104.348),\n",
       " ('Item_Type_Health and Hygiene', 2930390240060.9155),\n",
       " ('Item_Type_Household', 2930390240039.022),\n",
       " ('Item_Type_Fruits and Vegetables', 2930390240072.2075),\n",
       " ('Item_Type_Breakfast', 2930390240214.966),\n",
       " ('Item_Type_Meat', 2930390240139.1733),\n",
       " ('Item_Type_Frozen Foods', 2930390240092.523),\n",
       " ('Item_Type_Dairy', 2930390240121.1284),\n",
       " ('Item_Type_Soft Drinks', 2930390240092.6855),\n",
       " ('Item_Type_Hard Drinks', 2930390240032.183),\n",
       " ('Item_Type_Breads', 2930390240059.454),\n",
       " ('Item_Type_Others', 2930390240140.1055),\n",
       " ('Item_Type_Seafood', 2930390240121.972)]"
      ]
     },
     "execution_count": 48,
     "metadata": {},
     "output_type": "execute_result"
    }
   ],
   "source": [
    "# displays column name and coefficient\n",
    "names = X_train_scaled.columns\n",
    "list(zip(names,regressor_multi.coef_))"
   ]
  },
  {
   "cell_type": "code",
   "execution_count": 49,
   "metadata": {},
   "outputs": [
    {
     "name": "stdout",
     "output_type": "stream",
     "text": [
      "<class 'pandas.core.frame.DataFrame'>\n",
      "RangeIndex: 5865 entries, 0 to 5864\n",
      "Data columns (total 35 columns):\n",
      " #   Column                           Non-Null Count  Dtype  \n",
      "---  ------                           --------------  -----  \n",
      " 0   Item_Identifier                  5865 non-null   float64\n",
      " 1   Item_Weight                      5865 non-null   float64\n",
      " 2   Item_Fat_Content                 5865 non-null   float64\n",
      " 3   Item_Visibility                  5865 non-null   float64\n",
      " 4   Item_MRP                         5865 non-null   float64\n",
      " 5   Outlet_Establishment_Year        5865 non-null   float64\n",
      " 6   Outlet_Size                      5865 non-null   float64\n",
      " 7   Outlet_Location_Type             5865 non-null   float64\n",
      " 8   Outlet_Type                      5865 non-null   float64\n",
      " 9   Outlet_Identifier_OUT027         5865 non-null   float64\n",
      " 10  Outlet_Identifier_OUT013         5865 non-null   float64\n",
      " 11  Outlet_Identifier_OUT046         5865 non-null   float64\n",
      " 12  Outlet_Identifier_OUT010         5865 non-null   float64\n",
      " 13  Outlet_Identifier_OUT035         5865 non-null   float64\n",
      " 14  Outlet_Identifier_OUT017         5865 non-null   float64\n",
      " 15  Outlet_Identifier_OUT045         5865 non-null   float64\n",
      " 16  Outlet_Identifier_OUT018         5865 non-null   float64\n",
      " 17  Outlet_Identifier_OUT049         5865 non-null   float64\n",
      " 18  Outlet_Identifier_OUT019         5865 non-null   float64\n",
      " 19  Item_Type_Baking Goods           5865 non-null   float64\n",
      " 20  Item_Type_Snack Foods            5865 non-null   float64\n",
      " 21  Item_Type_Canned                 5865 non-null   float64\n",
      " 22  Item_Type_Starchy Foods          5865 non-null   float64\n",
      " 23  Item_Type_Health and Hygiene     5865 non-null   float64\n",
      " 24  Item_Type_Household              5865 non-null   float64\n",
      " 25  Item_Type_Fruits and Vegetables  5865 non-null   float64\n",
      " 26  Item_Type_Breakfast              5865 non-null   float64\n",
      " 27  Item_Type_Meat                   5865 non-null   float64\n",
      " 28  Item_Type_Frozen Foods           5865 non-null   float64\n",
      " 29  Item_Type_Dairy                  5865 non-null   float64\n",
      " 30  Item_Type_Soft Drinks            5865 non-null   float64\n",
      " 31  Item_Type_Hard Drinks            5865 non-null   float64\n",
      " 32  Item_Type_Breads                 5865 non-null   float64\n",
      " 33  Item_Type_Others                 5865 non-null   float64\n",
      " 34  Item_Type_Seafood                5865 non-null   float64\n",
      "dtypes: float64(35)\n",
      "memory usage: 1.6 MB\n"
     ]
    }
   ],
   "source": [
    "X_train_scaled.info()"
   ]
  },
  {
   "cell_type": "code",
   "execution_count": 50,
   "metadata": {},
   "outputs": [
    {
     "name": "stdout",
     "output_type": "stream",
     "text": [
      "test_mae: 668.6268059665872\n"
     ]
    }
   ],
   "source": [
    "regressor_multi.fit(X_test_scaled, y_test)\n",
    "print('test_mae:',mean_absolute_error(regressor_multi.predict(X_test_scaled), y_test))"
   ]
  },
  {
   "cell_type": "code",
   "execution_count": 51,
   "metadata": {},
   "outputs": [
    {
     "name": "stdout",
     "output_type": "stream",
     "text": [
      "r2 for X_test: 0.692416290136832\n"
     ]
    }
   ],
   "source": [
    "print('r2 for X_test:',regressor_multi.score(X_test_scaled, y_test))"
   ]
  },
  {
   "cell_type": "markdown",
   "metadata": {},
   "source": [
    "### Step 8.1: Evaluation of Model & Possible Improvements\n",
    "\n",
    "Currently the r2 score and train MAE is not ideal.This may be due to the multiple variables involved in the regression model, as more variables may affect the data and make it less accurate. To improve the model, I tried with standard scalar, got a higher MAE but values still about the same.I also attempted to remove columns that seemed to be less relevant , based on domain knowledge about supermarkets ( Outlet Year, etc.), with minimal or negative impact to the r2 score.\n",
    "\n",
    "As the data question is to predict the sales of each product and each outlet, I am unable to drop Item and Outlet Identifier. This proves to be challenging because Item Identifier has many many categories which do now follow a specific order. This makes it difficult to encode with either one hot encoding ( too many columns) or ordinal encoding ( the values do not follow any order). I attempted to do so with both types of encoding, with one hot encoding yielding slightly better r2 results but leading to a sparse matrix with too many variables correlated and too much memory consumption.\n",
    "\n",
    "<b> For our next step, we will drop the following columns that are statistically insignificant/ not important. </b>\n",
    "\n",
    "Item Weight - Low coefficient score. There are a lot of  missing values from Item_Weight due to missing values from two particular outlets (not random). I have input in an arbitrary number of 20 using arbitrary imputation to indicate that the missing values are not random, however this would affect the distribution of values.I could also drop rows with missing values for Weight, but the downside of dropping the rows for these 2 outlets with missing values, is that these 2 outlets would not be included in the linear regression model and may not be appropriate as the data question was to predict sales of each product for each outlet.\n",
    "\n",
    "Item Fat Content - Low coefficient score close to 0 relative to other variables, therefore may not be significant to the model.\n",
    "\n",
    "We will disregard the columns transformed by One Hot Encoder for now, as it causes a variable to have more coefficients."
   ]
  },
  {
   "cell_type": "markdown",
   "metadata": {},
   "source": [
    "We will drop columns that are not statistically significant as illustrated above by the coefficients, then we check the r2 again.\n",
    "\n",
    "The MAE and r2 is still not ideal, but we have managed to reduce the number of variables in the ML model and determine which variables are not important.This may be useful to the supermarket team as it helps to determine which information is more important to predicting Outlet Sales. They can then focus their budget on the more important variables to improve sales."
   ]
  },
  {
   "cell_type": "code",
   "execution_count": 52,
   "metadata": {},
   "outputs": [],
   "source": [
    "X_train_drop = X_train_scaled.drop(columns=['Item_Fat_Content','Item_Weight'])\n",
    "X_test_drop = X_test_scaled.drop(columns=['Item_Fat_Content','Item_Weight'])"
   ]
  },
  {
   "cell_type": "code",
   "execution_count": 53,
   "metadata": {},
   "outputs": [
    {
     "name": "stdout",
     "output_type": "stream",
     "text": [
      "X train drop_mae: 779.0643389599319\n"
     ]
    }
   ],
   "source": [
    "model = regressor_multi.fit(X_train_drop, y_train)\n",
    "\n",
    "# Evaluate the Linear Regression Model using Mean Absolute Error (MAE)\n",
    "print('X train drop_mae:', mean_absolute_error(regressor_multi.predict(X_train_drop), y_train))"
   ]
  },
  {
   "cell_type": "code",
   "execution_count": 54,
   "metadata": {},
   "outputs": [
    {
     "name": "stdout",
     "output_type": "stream",
     "text": [
      "r2 for X_train drop : 0.6252469198201507\n"
     ]
    }
   ],
   "source": [
    "print('r2 for X_train drop :',regressor_multi.score(X_train_drop, y_train))"
   ]
  },
  {
   "cell_type": "markdown",
   "metadata": {},
   "source": [
    "We will do the same dropping of columns for X test since it was successful for X train. We can see that the train and r2 score remain the same after dropping the four columns."
   ]
  },
  {
   "cell_type": "code",
   "execution_count": 55,
   "metadata": {},
   "outputs": [
    {
     "name": "stdout",
     "output_type": "stream",
     "text": [
      "X test drop_mae: 667.721731662689\n",
      "r2 for X_test_drop: 0.6924497252359636\n"
     ]
    }
   ],
   "source": [
    "model = regressor_multi.fit(X_test_drop, y_test)\n",
    "\n",
    "print('X test drop_mae:', mean_absolute_error(regressor_multi.predict(X_test_drop), y_test))\n",
    "print('r2 for X_test_drop:',regressor_multi.score(X_test_drop, y_test))"
   ]
  },
  {
   "cell_type": "markdown",
   "metadata": {},
   "source": [
    "I also attemped to drop even more columns, limiting to the 6th column onwards. However, This seems to affect the linear model negatively as the MAE increases and the r2 decreases. It seems like it is ok to drop statistically insignificant columns, but not to take too aggressive an approach in dropping data as other columns can also affect the linear model significantly.\n",
    "\n",
    "Based on the Coefficients, Item_Type categories seem to have a similar coefficient for each category. Therefore we will continue to drop the columns for Item Type to below to see if the model is affected. First we will display the information to see which column number should we cut off at."
   ]
  },
  {
   "cell_type": "code",
   "execution_count": 56,
   "metadata": {},
   "outputs": [
    {
     "name": "stdout",
     "output_type": "stream",
     "text": [
      "<class 'pandas.core.frame.DataFrame'>\n",
      "RangeIndex: 5865 entries, 0 to 5864\n",
      "Data columns (total 33 columns):\n",
      " #   Column                           Non-Null Count  Dtype  \n",
      "---  ------                           --------------  -----  \n",
      " 0   Item_Identifier                  5865 non-null   float64\n",
      " 1   Item_Visibility                  5865 non-null   float64\n",
      " 2   Item_MRP                         5865 non-null   float64\n",
      " 3   Outlet_Establishment_Year        5865 non-null   float64\n",
      " 4   Outlet_Size                      5865 non-null   float64\n",
      " 5   Outlet_Location_Type             5865 non-null   float64\n",
      " 6   Outlet_Type                      5865 non-null   float64\n",
      " 7   Outlet_Identifier_OUT027         5865 non-null   float64\n",
      " 8   Outlet_Identifier_OUT013         5865 non-null   float64\n",
      " 9   Outlet_Identifier_OUT046         5865 non-null   float64\n",
      " 10  Outlet_Identifier_OUT010         5865 non-null   float64\n",
      " 11  Outlet_Identifier_OUT035         5865 non-null   float64\n",
      " 12  Outlet_Identifier_OUT017         5865 non-null   float64\n",
      " 13  Outlet_Identifier_OUT045         5865 non-null   float64\n",
      " 14  Outlet_Identifier_OUT018         5865 non-null   float64\n",
      " 15  Outlet_Identifier_OUT049         5865 non-null   float64\n",
      " 16  Outlet_Identifier_OUT019         5865 non-null   float64\n",
      " 17  Item_Type_Baking Goods           5865 non-null   float64\n",
      " 18  Item_Type_Snack Foods            5865 non-null   float64\n",
      " 19  Item_Type_Canned                 5865 non-null   float64\n",
      " 20  Item_Type_Starchy Foods          5865 non-null   float64\n",
      " 21  Item_Type_Health and Hygiene     5865 non-null   float64\n",
      " 22  Item_Type_Household              5865 non-null   float64\n",
      " 23  Item_Type_Fruits and Vegetables  5865 non-null   float64\n",
      " 24  Item_Type_Breakfast              5865 non-null   float64\n",
      " 25  Item_Type_Meat                   5865 non-null   float64\n",
      " 26  Item_Type_Frozen Foods           5865 non-null   float64\n",
      " 27  Item_Type_Dairy                  5865 non-null   float64\n",
      " 28  Item_Type_Soft Drinks            5865 non-null   float64\n",
      " 29  Item_Type_Hard Drinks            5865 non-null   float64\n",
      " 30  Item_Type_Breads                 5865 non-null   float64\n",
      " 31  Item_Type_Others                 5865 non-null   float64\n",
      " 32  Item_Type_Seafood                5865 non-null   float64\n",
      "dtypes: float64(33)\n",
      "memory usage: 1.5 MB\n"
     ]
    }
   ],
   "source": [
    "X_train_drop.info()"
   ]
  },
  {
   "cell_type": "code",
   "execution_count": 57,
   "metadata": {},
   "outputs": [],
   "source": [
    "X_train_drop2 = X_train_drop.iloc[:, 0:15]"
   ]
  },
  {
   "cell_type": "code",
   "execution_count": 58,
   "metadata": {},
   "outputs": [
    {
     "name": "stdout",
     "output_type": "stream",
     "text": [
      "train_mae: 778.8853912305989\n",
      "r2 for X_train drop2 : 0.6248615222674787\n"
     ]
    }
   ],
   "source": [
    "model = regressor_multi.fit(X_train_drop2, y_train)\n",
    "\n",
    "# Evaluate the Linear Regression Model using Mean Absolute Error (MAE)\n",
    "# The lower MAE, the better model performance\n",
    "print('train_mae:', mean_absolute_error(regressor_multi.predict(X_train_drop2), y_train))\n",
    "print('r2 for X_train drop2 :',regressor_multi.score(X_train_drop2, y_train))"
   ]
  },
  {
   "cell_type": "markdown",
   "metadata": {},
   "source": [
    "From the results above after dropping Item_Type, the model does not seem to have much of a change in MAE or r2 score. This could be due to other factors such as Outlet Identifier and Item Identifier having more of an impact on the MAE or r2.\n",
    "After dropping Item_Type, we arrive at the X_train_drop2 model containing the following variables as illustrated below. We will repeat the same for x test, the values are roughly the same for the r2 and MAE even after dropping the columns."
   ]
  },
  {
   "cell_type": "code",
   "execution_count": 59,
   "metadata": {},
   "outputs": [
    {
     "name": "stdout",
     "output_type": "stream",
     "text": [
      "<class 'pandas.core.frame.DataFrame'>\n",
      "RangeIndex: 5865 entries, 0 to 5864\n",
      "Data columns (total 15 columns):\n",
      " #   Column                     Non-Null Count  Dtype  \n",
      "---  ------                     --------------  -----  \n",
      " 0   Item_Identifier            5865 non-null   float64\n",
      " 1   Item_Visibility            5865 non-null   float64\n",
      " 2   Item_MRP                   5865 non-null   float64\n",
      " 3   Outlet_Establishment_Year  5865 non-null   float64\n",
      " 4   Outlet_Size                5865 non-null   float64\n",
      " 5   Outlet_Location_Type       5865 non-null   float64\n",
      " 6   Outlet_Type                5865 non-null   float64\n",
      " 7   Outlet_Identifier_OUT027   5865 non-null   float64\n",
      " 8   Outlet_Identifier_OUT013   5865 non-null   float64\n",
      " 9   Outlet_Identifier_OUT046   5865 non-null   float64\n",
      " 10  Outlet_Identifier_OUT010   5865 non-null   float64\n",
      " 11  Outlet_Identifier_OUT035   5865 non-null   float64\n",
      " 12  Outlet_Identifier_OUT017   5865 non-null   float64\n",
      " 13  Outlet_Identifier_OUT045   5865 non-null   float64\n",
      " 14  Outlet_Identifier_OUT018   5865 non-null   float64\n",
      "dtypes: float64(15)\n",
      "memory usage: 687.4 KB\n"
     ]
    }
   ],
   "source": [
    "X_train_drop2.info()"
   ]
  },
  {
   "cell_type": "code",
   "execution_count": 60,
   "metadata": {},
   "outputs": [
    {
     "name": "stdout",
     "output_type": "stream",
     "text": [
      "X test drop2_mae: 668.174070336226\n",
      "r2 for X_test drop2 : 0.691165654981323\n"
     ]
    }
   ],
   "source": [
    "X_test_drop2 = X_test_drop.iloc[:, 0:15]\n",
    "model = regressor_multi.fit(X_test_drop2, y_test)\n",
    "\n",
    "# Evaluate the Linear Regression Model using Mean Absolute Error (MAE)\n",
    "# The lower MAE, the better model performance\n",
    "print('X test drop2_mae:', mean_absolute_error(regressor_multi.predict(X_test_drop2), y_test))\n",
    "print('r2 for X_test drop2 :',regressor_multi.score(X_test_drop2, y_test))"
   ]
  },
  {
   "cell_type": "markdown",
   "metadata": {},
   "source": [
    "Even though I did not manage to change the r2 values much by dropping columns, it can still help the marketing team as they know which variables to focus on to improve sales. X_train_drop2 is much simpler than X train scaled originally after I have dropped the statistically insignificant columns. It also saves time on data collection by prioritizing the most important variables in the model. If data collection time is an issue, having less variables would require less work on the part of the data entry staff, especially if new items and new outlets are added to the original data."
   ]
  }
 ],
 "metadata": {
  "kernelspec": {
   "display_name": "Python 3",
   "language": "python",
   "name": "python3"
  },
  "language_info": {
   "codemirror_mode": {
    "name": "ipython",
    "version": 3
   },
   "file_extension": ".py",
   "mimetype": "text/x-python",
   "name": "python",
   "nbconvert_exporter": "python",
   "pygments_lexer": "ipython3",
   "version": "3.8.5"
  }
 },
 "nbformat": 4,
 "nbformat_minor": 4
}
