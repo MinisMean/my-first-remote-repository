{
 "cells": [
  {
   "cell_type": "markdown",
   "metadata": {},
   "source": [
    "### Question 1: Is there a correlation between good performance in one module and another?\n",
    "(20 Marks)\n",
    "Hint: Perform suitable technique to deal with missing values. There are multiple ways to deal with missing values, provide reasonable explanation for the technique used. Pick a group of students and determine if there is a correlation between the results of two modules of your choice. How did the correlation compare across students from different academic programs?"
   ]
  },
  {
   "cell_type": "markdown",
   "metadata": {},
   "source": [
    "Firstly, we will import the basic packages required then open the file using pandas to observe the data.\n",
    "The data is noted to have 335 rows."
   ]
  },
  {
   "cell_type": "code",
   "execution_count": 1,
   "metadata": {},
   "outputs": [],
   "source": [
    "#import packages\n",
    "import numpy as np\n",
    "import pandas as pd"
   ]
  },
  {
   "cell_type": "code",
   "execution_count": 2,
   "metadata": {},
   "outputs": [
    {
     "data": {
      "text/html": [
       "<div>\n",
       "<style scoped>\n",
       "    .dataframe tbody tr th:only-of-type {\n",
       "        vertical-align: middle;\n",
       "    }\n",
       "\n",
       "    .dataframe tbody tr th {\n",
       "        vertical-align: top;\n",
       "    }\n",
       "\n",
       "    .dataframe thead th {\n",
       "        text-align: right;\n",
       "    }\n",
       "</style>\n",
       "<table border=\"1\" class=\"dataframe\">\n",
       "  <thead>\n",
       "    <tr style=\"text-align: right;\">\n",
       "      <th></th>\n",
       "      <th>Student ID</th>\n",
       "      <th>Program ID</th>\n",
       "      <th>CLASS</th>\n",
       "      <th>Chem.CA</th>\n",
       "      <th>Chem.TEST1</th>\n",
       "      <th>Chem.TEST2</th>\n",
       "      <th>Chem.TEST3</th>\n",
       "      <th>Chem.SemMark</th>\n",
       "      <th>Chem.SemGrade</th>\n",
       "      <th>Physics.CA1</th>\n",
       "      <th>...</th>\n",
       "      <th>English.ASG2</th>\n",
       "      <th>English.CA1</th>\n",
       "      <th>English.CA2</th>\n",
       "      <th>English.SemMark</th>\n",
       "      <th>English.SemGrade</th>\n",
       "      <th>Geo.CA1</th>\n",
       "      <th>Geo.CA2</th>\n",
       "      <th>Geo.ASG1</th>\n",
       "      <th>Geo.SemMark</th>\n",
       "      <th>Geo.Sem Grade</th>\n",
       "    </tr>\n",
       "  </thead>\n",
       "  <tbody>\n",
       "    <tr>\n",
       "      <th>0</th>\n",
       "      <td>198</td>\n",
       "      <td>Prog_B</td>\n",
       "      <td>A</td>\n",
       "      <td>85</td>\n",
       "      <td>68</td>\n",
       "      <td>100</td>\n",
       "      <td>90</td>\n",
       "      <td>86</td>\n",
       "      <td>A+</td>\n",
       "      <td>80.9</td>\n",
       "      <td>...</td>\n",
       "      <td>78.0</td>\n",
       "      <td>79.0</td>\n",
       "      <td>70.0</td>\n",
       "      <td>77.0</td>\n",
       "      <td>B+</td>\n",
       "      <td>100.0</td>\n",
       "      <td>75.0</td>\n",
       "      <td>71.5</td>\n",
       "      <td>81.0</td>\n",
       "      <td>A</td>\n",
       "    </tr>\n",
       "    <tr>\n",
       "      <th>1</th>\n",
       "      <td>199</td>\n",
       "      <td>Prog_B</td>\n",
       "      <td>A</td>\n",
       "      <td>90</td>\n",
       "      <td>95</td>\n",
       "      <td>100</td>\n",
       "      <td>88</td>\n",
       "      <td>93</td>\n",
       "      <td>A+</td>\n",
       "      <td>84.8</td>\n",
       "      <td>...</td>\n",
       "      <td>80.0</td>\n",
       "      <td>86.0</td>\n",
       "      <td>85.0</td>\n",
       "      <td>84.0</td>\n",
       "      <td>A</td>\n",
       "      <td>85.0</td>\n",
       "      <td>65.0</td>\n",
       "      <td>55.0</td>\n",
       "      <td>67.0</td>\n",
       "      <td>C+</td>\n",
       "    </tr>\n",
       "    <tr>\n",
       "      <th>2</th>\n",
       "      <td>200</td>\n",
       "      <td>Prog_B</td>\n",
       "      <td>A</td>\n",
       "      <td>79</td>\n",
       "      <td>53</td>\n",
       "      <td>29</td>\n",
       "      <td>75</td>\n",
       "      <td>63</td>\n",
       "      <td>C</td>\n",
       "      <td>80.9</td>\n",
       "      <td>...</td>\n",
       "      <td>80.5</td>\n",
       "      <td>78.0</td>\n",
       "      <td>60.0</td>\n",
       "      <td>79.0</td>\n",
       "      <td>B+</td>\n",
       "      <td>95.0</td>\n",
       "      <td>43.3</td>\n",
       "      <td>58.5</td>\n",
       "      <td>65.0</td>\n",
       "      <td>C+</td>\n",
       "    </tr>\n",
       "    <tr>\n",
       "      <th>3</th>\n",
       "      <td>201</td>\n",
       "      <td>Prog_B</td>\n",
       "      <td>A</td>\n",
       "      <td>85</td>\n",
       "      <td>100</td>\n",
       "      <td>93</td>\n",
       "      <td>58</td>\n",
       "      <td>84</td>\n",
       "      <td>A</td>\n",
       "      <td>85.0</td>\n",
       "      <td>...</td>\n",
       "      <td>74.0</td>\n",
       "      <td>88.0</td>\n",
       "      <td>85.0</td>\n",
       "      <td>78.0</td>\n",
       "      <td>B+</td>\n",
       "      <td>83.3</td>\n",
       "      <td>66.7</td>\n",
       "      <td>68.5</td>\n",
       "      <td>72.0</td>\n",
       "      <td>B</td>\n",
       "    </tr>\n",
       "    <tr>\n",
       "      <th>4</th>\n",
       "      <td>202</td>\n",
       "      <td>Prog_B</td>\n",
       "      <td>A</td>\n",
       "      <td>90</td>\n",
       "      <td>93</td>\n",
       "      <td>93</td>\n",
       "      <td>68</td>\n",
       "      <td>87</td>\n",
       "      <td>A+</td>\n",
       "      <td>85.9</td>\n",
       "      <td>...</td>\n",
       "      <td>84.4</td>\n",
       "      <td>95.0</td>\n",
       "      <td>85.0</td>\n",
       "      <td>88.0</td>\n",
       "      <td>AD</td>\n",
       "      <td>98.3</td>\n",
       "      <td>85.0</td>\n",
       "      <td>96.0</td>\n",
       "      <td>93.0</td>\n",
       "      <td>A+</td>\n",
       "    </tr>\n",
       "    <tr>\n",
       "      <th>...</th>\n",
       "      <td>...</td>\n",
       "      <td>...</td>\n",
       "      <td>...</td>\n",
       "      <td>...</td>\n",
       "      <td>...</td>\n",
       "      <td>...</td>\n",
       "      <td>...</td>\n",
       "      <td>...</td>\n",
       "      <td>...</td>\n",
       "      <td>...</td>\n",
       "      <td>...</td>\n",
       "      <td>...</td>\n",
       "      <td>...</td>\n",
       "      <td>...</td>\n",
       "      <td>...</td>\n",
       "      <td>...</td>\n",
       "      <td>...</td>\n",
       "      <td>...</td>\n",
       "      <td>...</td>\n",
       "      <td>...</td>\n",
       "      <td>...</td>\n",
       "    </tr>\n",
       "    <tr>\n",
       "      <th>330</th>\n",
       "      <td>145</td>\n",
       "      <td>Prog_D</td>\n",
       "      <td>N</td>\n",
       "      <td>96</td>\n",
       "      <td>100</td>\n",
       "      <td>100</td>\n",
       "      <td>80</td>\n",
       "      <td>94</td>\n",
       "      <td>A+</td>\n",
       "      <td>77.5</td>\n",
       "      <td>...</td>\n",
       "      <td>74.5</td>\n",
       "      <td>95.0</td>\n",
       "      <td>85.0</td>\n",
       "      <td>81.0</td>\n",
       "      <td>A</td>\n",
       "      <td>100.0</td>\n",
       "      <td>70.0</td>\n",
       "      <td>77.5</td>\n",
       "      <td>82.0</td>\n",
       "      <td>A</td>\n",
       "    </tr>\n",
       "    <tr>\n",
       "      <th>331</th>\n",
       "      <td>146</td>\n",
       "      <td>Prog_D</td>\n",
       "      <td>N</td>\n",
       "      <td>82</td>\n",
       "      <td>83</td>\n",
       "      <td>95</td>\n",
       "      <td>95</td>\n",
       "      <td>87</td>\n",
       "      <td>A+</td>\n",
       "      <td>78.9</td>\n",
       "      <td>...</td>\n",
       "      <td>77.0</td>\n",
       "      <td>95.0</td>\n",
       "      <td>90.0</td>\n",
       "      <td>83.0</td>\n",
       "      <td>A</td>\n",
       "      <td>100.0</td>\n",
       "      <td>86.7</td>\n",
       "      <td>85.0</td>\n",
       "      <td>90.0</td>\n",
       "      <td>A+</td>\n",
       "    </tr>\n",
       "    <tr>\n",
       "      <th>332</th>\n",
       "      <td>147</td>\n",
       "      <td>Prog_D</td>\n",
       "      <td>N</td>\n",
       "      <td>85</td>\n",
       "      <td>68</td>\n",
       "      <td>70</td>\n",
       "      <td>55</td>\n",
       "      <td>73</td>\n",
       "      <td>B</td>\n",
       "      <td>78.9</td>\n",
       "      <td>...</td>\n",
       "      <td>79.5</td>\n",
       "      <td>84.0</td>\n",
       "      <td>80.0</td>\n",
       "      <td>81.0</td>\n",
       "      <td>A</td>\n",
       "      <td>90.0</td>\n",
       "      <td>61.7</td>\n",
       "      <td>57.0</td>\n",
       "      <td>68.0</td>\n",
       "      <td>C+</td>\n",
       "    </tr>\n",
       "    <tr>\n",
       "      <th>333</th>\n",
       "      <td>148</td>\n",
       "      <td>Prog_D</td>\n",
       "      <td>N</td>\n",
       "      <td>88</td>\n",
       "      <td>95</td>\n",
       "      <td>100</td>\n",
       "      <td>78</td>\n",
       "      <td>90</td>\n",
       "      <td>A+</td>\n",
       "      <td>78.0</td>\n",
       "      <td>...</td>\n",
       "      <td>80.5</td>\n",
       "      <td>98.0</td>\n",
       "      <td>85.0</td>\n",
       "      <td>83.0</td>\n",
       "      <td>A</td>\n",
       "      <td>90.0</td>\n",
       "      <td>58.3</td>\n",
       "      <td>60.0</td>\n",
       "      <td>68.0</td>\n",
       "      <td>C+</td>\n",
       "    </tr>\n",
       "    <tr>\n",
       "      <th>334</th>\n",
       "      <td>149</td>\n",
       "      <td>Prog_D</td>\n",
       "      <td>N</td>\n",
       "      <td>81</td>\n",
       "      <td>100</td>\n",
       "      <td>97</td>\n",
       "      <td>78</td>\n",
       "      <td>87</td>\n",
       "      <td>A+</td>\n",
       "      <td>80.2</td>\n",
       "      <td>...</td>\n",
       "      <td>74.5</td>\n",
       "      <td>90.0</td>\n",
       "      <td>80.0</td>\n",
       "      <td>78.0</td>\n",
       "      <td>B+</td>\n",
       "      <td>96.7</td>\n",
       "      <td>70.0</td>\n",
       "      <td>65.0</td>\n",
       "      <td>76.0</td>\n",
       "      <td>B+</td>\n",
       "    </tr>\n",
       "  </tbody>\n",
       "</table>\n",
       "<p>335 rows × 25 columns</p>\n",
       "</div>"
      ],
      "text/plain": [
       "     Student ID Program ID CLASS  Chem.CA  Chem.TEST1  Chem.TEST2  Chem.TEST3  \\\n",
       "0           198     Prog_B     A       85          68         100          90   \n",
       "1           199     Prog_B     A       90          95         100          88   \n",
       "2           200     Prog_B     A       79          53          29          75   \n",
       "3           201     Prog_B     A       85         100          93          58   \n",
       "4           202     Prog_B     A       90          93          93          68   \n",
       "..          ...        ...   ...      ...         ...         ...         ...   \n",
       "330         145     Prog_D     N       96         100         100          80   \n",
       "331         146     Prog_D     N       82          83          95          95   \n",
       "332         147     Prog_D     N       85          68          70          55   \n",
       "333         148     Prog_D     N       88          95         100          78   \n",
       "334         149     Prog_D     N       81         100          97          78   \n",
       "\n",
       "     Chem.SemMark Chem.SemGrade  Physics.CA1  ...  English.ASG2  English.CA1  \\\n",
       "0              86            A+         80.9  ...          78.0         79.0   \n",
       "1              93            A+         84.8  ...          80.0         86.0   \n",
       "2              63             C         80.9  ...          80.5         78.0   \n",
       "3              84             A         85.0  ...          74.0         88.0   \n",
       "4              87            A+         85.9  ...          84.4         95.0   \n",
       "..            ...           ...          ...  ...           ...          ...   \n",
       "330            94            A+         77.5  ...          74.5         95.0   \n",
       "331            87            A+         78.9  ...          77.0         95.0   \n",
       "332            73             B         78.9  ...          79.5         84.0   \n",
       "333            90            A+         78.0  ...          80.5         98.0   \n",
       "334            87            A+         80.2  ...          74.5         90.0   \n",
       "\n",
       "     English.CA2 English.SemMark  English.SemGrade  Geo.CA1  Geo.CA2  \\\n",
       "0           70.0            77.0                B+    100.0     75.0   \n",
       "1           85.0            84.0                 A     85.0     65.0   \n",
       "2           60.0            79.0                B+     95.0     43.3   \n",
       "3           85.0            78.0                B+     83.3     66.7   \n",
       "4           85.0            88.0                AD     98.3     85.0   \n",
       "..           ...             ...               ...      ...      ...   \n",
       "330         85.0            81.0                 A    100.0     70.0   \n",
       "331         90.0            83.0                 A    100.0     86.7   \n",
       "332         80.0            81.0                 A     90.0     61.7   \n",
       "333         85.0            83.0                 A     90.0     58.3   \n",
       "334         80.0            78.0                B+     96.7     70.0   \n",
       "\n",
       "     Geo.ASG1  Geo.SemMark Geo.Sem Grade  \n",
       "0        71.5         81.0             A  \n",
       "1        55.0         67.0            C+  \n",
       "2        58.5         65.0            C+  \n",
       "3        68.5         72.0             B  \n",
       "4        96.0         93.0            A+  \n",
       "..        ...          ...           ...  \n",
       "330      77.5         82.0             A  \n",
       "331      85.0         90.0            A+  \n",
       "332      57.0         68.0            C+  \n",
       "333      60.0         68.0            C+  \n",
       "334      65.0         76.0            B+  \n",
       "\n",
       "[335 rows x 25 columns]"
      ]
     },
     "execution_count": 2,
     "metadata": {},
     "output_type": "execute_result"
    }
   ],
   "source": [
    "data = pd.read_csv('student-grades_1021.csv')\n",
    "data"
   ]
  },
  {
   "cell_type": "code",
   "execution_count": 3,
   "metadata": {},
   "outputs": [
    {
     "data": {
      "text/plain": [
       "Student ID          0\n",
       "Program ID          0\n",
       "CLASS               0\n",
       "Chem.CA             0\n",
       "Chem.TEST1          0\n",
       "Chem.TEST2          0\n",
       "Chem.TEST3          0\n",
       "Chem.SemMark        0\n",
       "Chem.SemGrade       0\n",
       "Physics.CA1         2\n",
       "Physics.CA2         2\n",
       "Physics.ASG1        2\n",
       "Physics.SemMark     2\n",
       "Physics.SemGrade    2\n",
       "English.ASG1        3\n",
       "English.ASG2        3\n",
       "English.CA1         3\n",
       "English.CA2         3\n",
       "English.SemMark     3\n",
       "English.SemGrade    3\n",
       "Geo.CA1             3\n",
       "Geo.CA2             3\n",
       "Geo.ASG1            3\n",
       "Geo.SemMark         3\n",
       "Geo.Sem Grade       3\n",
       "dtype: int64"
      ]
     },
     "execution_count": 3,
     "metadata": {},
     "output_type": "execute_result"
    }
   ],
   "source": [
    "data.isnull().sum()"
   ]
  },
  {
   "cell_type": "code",
   "execution_count": 4,
   "metadata": {},
   "outputs": [
    {
     "data": {
      "text/html": [
       "<div>\n",
       "<style scoped>\n",
       "    .dataframe tbody tr th:only-of-type {\n",
       "        vertical-align: middle;\n",
       "    }\n",
       "\n",
       "    .dataframe tbody tr th {\n",
       "        vertical-align: top;\n",
       "    }\n",
       "\n",
       "    .dataframe thead th {\n",
       "        text-align: right;\n",
       "    }\n",
       "</style>\n",
       "<table border=\"1\" class=\"dataframe\">\n",
       "  <thead>\n",
       "    <tr style=\"text-align: right;\">\n",
       "      <th></th>\n",
       "      <th>Student ID</th>\n",
       "      <th>Program ID</th>\n",
       "      <th>CLASS</th>\n",
       "      <th>Chem.CA</th>\n",
       "      <th>Chem.TEST1</th>\n",
       "      <th>Chem.TEST2</th>\n",
       "      <th>Chem.TEST3</th>\n",
       "      <th>Chem.SemMark</th>\n",
       "      <th>Chem.SemGrade</th>\n",
       "      <th>Physics.CA1</th>\n",
       "      <th>...</th>\n",
       "      <th>English.ASG2</th>\n",
       "      <th>English.CA1</th>\n",
       "      <th>English.CA2</th>\n",
       "      <th>English.SemMark</th>\n",
       "      <th>English.SemGrade</th>\n",
       "      <th>Geo.CA1</th>\n",
       "      <th>Geo.CA2</th>\n",
       "      <th>Geo.ASG1</th>\n",
       "      <th>Geo.SemMark</th>\n",
       "      <th>Geo.Sem Grade</th>\n",
       "    </tr>\n",
       "  </thead>\n",
       "  <tbody>\n",
       "    <tr>\n",
       "      <th>12</th>\n",
       "      <td>210</td>\n",
       "      <td>Prog_B</td>\n",
       "      <td>A</td>\n",
       "      <td>98</td>\n",
       "      <td>100</td>\n",
       "      <td>100</td>\n",
       "      <td>95</td>\n",
       "      <td>98</td>\n",
       "      <td>AD</td>\n",
       "      <td>87.5</td>\n",
       "      <td>...</td>\n",
       "      <td>NaN</td>\n",
       "      <td>NaN</td>\n",
       "      <td>NaN</td>\n",
       "      <td>NaN</td>\n",
       "      <td>NaN</td>\n",
       "      <td>NaN</td>\n",
       "      <td>NaN</td>\n",
       "      <td>NaN</td>\n",
       "      <td>NaN</td>\n",
       "      <td>NaN</td>\n",
       "    </tr>\n",
       "    <tr>\n",
       "      <th>14</th>\n",
       "      <td>212</td>\n",
       "      <td>Prog_B</td>\n",
       "      <td>A</td>\n",
       "      <td>80</td>\n",
       "      <td>40</td>\n",
       "      <td>35</td>\n",
       "      <td>38</td>\n",
       "      <td>55</td>\n",
       "      <td>D+</td>\n",
       "      <td>NaN</td>\n",
       "      <td>...</td>\n",
       "      <td>NaN</td>\n",
       "      <td>NaN</td>\n",
       "      <td>NaN</td>\n",
       "      <td>NaN</td>\n",
       "      <td>NaN</td>\n",
       "      <td>NaN</td>\n",
       "      <td>NaN</td>\n",
       "      <td>NaN</td>\n",
       "      <td>NaN</td>\n",
       "      <td>NaN</td>\n",
       "    </tr>\n",
       "    <tr>\n",
       "      <th>233</th>\n",
       "      <td>265</td>\n",
       "      <td>Prog_C</td>\n",
       "      <td>J</td>\n",
       "      <td>68</td>\n",
       "      <td>73</td>\n",
       "      <td>35</td>\n",
       "      <td>23</td>\n",
       "      <td>53</td>\n",
       "      <td>D</td>\n",
       "      <td>NaN</td>\n",
       "      <td>...</td>\n",
       "      <td>NaN</td>\n",
       "      <td>NaN</td>\n",
       "      <td>NaN</td>\n",
       "      <td>NaN</td>\n",
       "      <td>NaN</td>\n",
       "      <td>NaN</td>\n",
       "      <td>NaN</td>\n",
       "      <td>NaN</td>\n",
       "      <td>NaN</td>\n",
       "      <td>NaN</td>\n",
       "    </tr>\n",
       "  </tbody>\n",
       "</table>\n",
       "<p>3 rows × 25 columns</p>\n",
       "</div>"
      ],
      "text/plain": [
       "     Student ID Program ID CLASS  Chem.CA  Chem.TEST1  Chem.TEST2  Chem.TEST3  \\\n",
       "12          210     Prog_B     A       98         100         100          95   \n",
       "14          212     Prog_B     A       80          40          35          38   \n",
       "233         265     Prog_C     J       68          73          35          23   \n",
       "\n",
       "     Chem.SemMark Chem.SemGrade  Physics.CA1  ...  English.ASG2  English.CA1  \\\n",
       "12             98            AD         87.5  ...           NaN          NaN   \n",
       "14             55            D+          NaN  ...           NaN          NaN   \n",
       "233            53             D          NaN  ...           NaN          NaN   \n",
       "\n",
       "     English.CA2 English.SemMark  English.SemGrade  Geo.CA1  Geo.CA2  \\\n",
       "12           NaN             NaN               NaN      NaN      NaN   \n",
       "14           NaN             NaN               NaN      NaN      NaN   \n",
       "233          NaN             NaN               NaN      NaN      NaN   \n",
       "\n",
       "     Geo.ASG1  Geo.SemMark Geo.Sem Grade  \n",
       "12        NaN          NaN           NaN  \n",
       "14        NaN          NaN           NaN  \n",
       "233       NaN          NaN           NaN  \n",
       "\n",
       "[3 rows x 25 columns]"
      ]
     },
     "execution_count": 4,
     "metadata": {},
     "output_type": "execute_result"
    }
   ],
   "source": [
    "# see rows with null values\n",
    "nulldata = data.isnull()\n",
    "nulldata = nulldata.any(axis=1)\n",
    "rows_with_null = data[nulldata]\n",
    "\n",
    "rows_with_null"
   ]
  },
  {
   "cell_type": "markdown",
   "metadata": {},
   "source": [
    "The number of null values seem to be similar , hence it may be due to missing values per row rather than column. \n",
    "\n",
    "By filtering out the rows with NA values, those with #N/A values come from only 3 rows.Hence it would make more sense to delete the rows rather than to fill the columns. 3 out of 335 rows is less than 1 percent of the values hence it would not affect our analysis much.\n",
    "\n",
    "In the next step we will drop the rows with NA values and do a check again to see if the null values are removed. Then we will check how many rows are removed from the dropna function."
   ]
  },
  {
   "cell_type": "code",
   "execution_count": 5,
   "metadata": {},
   "outputs": [],
   "source": [
    "data.dropna(inplace=True)"
   ]
  },
  {
   "cell_type": "code",
   "execution_count": 6,
   "metadata": {},
   "outputs": [
    {
     "data": {
      "text/plain": [
       "Student ID          0\n",
       "Program ID          0\n",
       "CLASS               0\n",
       "Chem.CA             0\n",
       "Chem.TEST1          0\n",
       "Chem.TEST2          0\n",
       "Chem.TEST3          0\n",
       "Chem.SemMark        0\n",
       "Chem.SemGrade       0\n",
       "Physics.CA1         0\n",
       "Physics.CA2         0\n",
       "Physics.ASG1        0\n",
       "Physics.SemMark     0\n",
       "Physics.SemGrade    0\n",
       "English.ASG1        0\n",
       "English.ASG2        0\n",
       "English.CA1         0\n",
       "English.CA2         0\n",
       "English.SemMark     0\n",
       "English.SemGrade    0\n",
       "Geo.CA1             0\n",
       "Geo.CA2             0\n",
       "Geo.ASG1            0\n",
       "Geo.SemMark         0\n",
       "Geo.Sem Grade       0\n",
       "dtype: int64"
      ]
     },
     "execution_count": 6,
     "metadata": {},
     "output_type": "execute_result"
    }
   ],
   "source": [
    "data.isnull().sum()"
   ]
  },
  {
   "cell_type": "code",
   "execution_count": 7,
   "metadata": {},
   "outputs": [
    {
     "name": "stdout",
     "output_type": "stream",
     "text": [
      "<class 'pandas.core.frame.DataFrame'>\n",
      "Int64Index: 332 entries, 0 to 334\n",
      "Data columns (total 25 columns):\n",
      " #   Column            Non-Null Count  Dtype  \n",
      "---  ------            --------------  -----  \n",
      " 0   Student ID        332 non-null    int64  \n",
      " 1   Program ID        332 non-null    object \n",
      " 2   CLASS             332 non-null    object \n",
      " 3   Chem.CA           332 non-null    int64  \n",
      " 4   Chem.TEST1        332 non-null    int64  \n",
      " 5   Chem.TEST2        332 non-null    int64  \n",
      " 6   Chem.TEST3        332 non-null    int64  \n",
      " 7   Chem.SemMark      332 non-null    int64  \n",
      " 8   Chem.SemGrade     332 non-null    object \n",
      " 9   Physics.CA1       332 non-null    float64\n",
      " 10  Physics.CA2       332 non-null    float64\n",
      " 11  Physics.ASG1      332 non-null    float64\n",
      " 12  Physics.SemMark   332 non-null    float64\n",
      " 13  Physics.SemGrade  332 non-null    object \n",
      " 14  English.ASG1      332 non-null    float64\n",
      " 15  English.ASG2      332 non-null    float64\n",
      " 16  English.CA1       332 non-null    float64\n",
      " 17  English.CA2       332 non-null    float64\n",
      " 18  English.SemMark   332 non-null    float64\n",
      " 19  English.SemGrade  332 non-null    object \n",
      " 20  Geo.CA1           332 non-null    float64\n",
      " 21  Geo.CA2           332 non-null    float64\n",
      " 22  Geo.ASG1          332 non-null    float64\n",
      " 23  Geo.SemMark       332 non-null    float64\n",
      " 24  Geo.Sem Grade     332 non-null    object \n",
      "dtypes: float64(13), int64(6), object(6)\n",
      "memory usage: 67.4+ KB\n"
     ]
    }
   ],
   "source": [
    "data.info()"
   ]
  },
  {
   "cell_type": "markdown",
   "metadata": {},
   "source": [
    "From the information above, 3 rows have been removed out of the 335 rows, therefore there are no more null values.\n",
    "\n",
    "Next we will move on to the second part of the question- Pick a group of students and determine if there is a correlation between the results of two modules of your choice. How did the correlation compare across students from different academic programs?\n",
    "\n",
    "We will pick Program B students and determine if there is a correlation between the results of chem sem marks and physics sem marks. We choose a numerical variable because it is easier to compare than a categorical variable."
   ]
  },
  {
   "cell_type": "code",
   "execution_count": 8,
   "metadata": {},
   "outputs": [
    {
     "data": {
      "text/html": [
       "<div>\n",
       "<style scoped>\n",
       "    .dataframe tbody tr th:only-of-type {\n",
       "        vertical-align: middle;\n",
       "    }\n",
       "\n",
       "    .dataframe tbody tr th {\n",
       "        vertical-align: top;\n",
       "    }\n",
       "\n",
       "    .dataframe thead th {\n",
       "        text-align: right;\n",
       "    }\n",
       "</style>\n",
       "<table border=\"1\" class=\"dataframe\">\n",
       "  <thead>\n",
       "    <tr style=\"text-align: right;\">\n",
       "      <th></th>\n",
       "      <th>Program ID</th>\n",
       "      <th>Chem.SemMark</th>\n",
       "      <th>Physics.SemMark</th>\n",
       "    </tr>\n",
       "  </thead>\n",
       "  <tbody>\n",
       "    <tr>\n",
       "      <th>0</th>\n",
       "      <td>Prog_B</td>\n",
       "      <td>86</td>\n",
       "      <td>79.0</td>\n",
       "    </tr>\n",
       "    <tr>\n",
       "      <th>1</th>\n",
       "      <td>Prog_B</td>\n",
       "      <td>93</td>\n",
       "      <td>81.0</td>\n",
       "    </tr>\n",
       "    <tr>\n",
       "      <th>2</th>\n",
       "      <td>Prog_B</td>\n",
       "      <td>63</td>\n",
       "      <td>75.0</td>\n",
       "    </tr>\n",
       "    <tr>\n",
       "      <th>3</th>\n",
       "      <td>Prog_B</td>\n",
       "      <td>84</td>\n",
       "      <td>76.0</td>\n",
       "    </tr>\n",
       "    <tr>\n",
       "      <th>4</th>\n",
       "      <td>Prog_B</td>\n",
       "      <td>87</td>\n",
       "      <td>88.0</td>\n",
       "    </tr>\n",
       "    <tr>\n",
       "      <th>...</th>\n",
       "      <td>...</td>\n",
       "      <td>...</td>\n",
       "      <td>...</td>\n",
       "    </tr>\n",
       "    <tr>\n",
       "      <th>79</th>\n",
       "      <td>Prog_B</td>\n",
       "      <td>83</td>\n",
       "      <td>86.0</td>\n",
       "    </tr>\n",
       "    <tr>\n",
       "      <th>80</th>\n",
       "      <td>Prog_B</td>\n",
       "      <td>50</td>\n",
       "      <td>59.0</td>\n",
       "    </tr>\n",
       "    <tr>\n",
       "      <th>81</th>\n",
       "      <td>Prog_B</td>\n",
       "      <td>93</td>\n",
       "      <td>89.0</td>\n",
       "    </tr>\n",
       "    <tr>\n",
       "      <th>82</th>\n",
       "      <td>Prog_B</td>\n",
       "      <td>50</td>\n",
       "      <td>80.0</td>\n",
       "    </tr>\n",
       "    <tr>\n",
       "      <th>83</th>\n",
       "      <td>Prog_B</td>\n",
       "      <td>90</td>\n",
       "      <td>84.0</td>\n",
       "    </tr>\n",
       "  </tbody>\n",
       "</table>\n",
       "<p>82 rows × 3 columns</p>\n",
       "</div>"
      ],
      "text/plain": [
       "   Program ID  Chem.SemMark  Physics.SemMark\n",
       "0      Prog_B            86             79.0\n",
       "1      Prog_B            93             81.0\n",
       "2      Prog_B            63             75.0\n",
       "3      Prog_B            84             76.0\n",
       "4      Prog_B            87             88.0\n",
       "..        ...           ...              ...\n",
       "79     Prog_B            83             86.0\n",
       "80     Prog_B            50             59.0\n",
       "81     Prog_B            93             89.0\n",
       "82     Prog_B            50             80.0\n",
       "83     Prog_B            90             84.0\n",
       "\n",
       "[82 rows x 3 columns]"
      ]
     },
     "execution_count": 8,
     "metadata": {},
     "output_type": "execute_result"
    }
   ],
   "source": [
    "#program B - chemistry and physics - we will use\n",
    "prog_b = data[[\"Program ID\", \"Chem.SemMark\", \"Physics.SemMark\"]]\n",
    "prog_b = prog_b[prog_b[\"Program ID\"] == \"Prog_B\"]\n",
    "\n",
    "prog_b"
   ]
  },
  {
   "cell_type": "markdown",
   "metadata": {},
   "source": [
    "We will explore the correlation between Chem and Physics for all programs."
   ]
  },
  {
   "cell_type": "code",
   "execution_count": 9,
   "metadata": {},
   "outputs": [
    {
     "name": "stdout",
     "output_type": "stream",
     "text": [
      "The correlation between Physics and Chem Sem Marks for Prog_B is 0.49\n",
      "The correlation between Physics and Chem Sem Marks for Prog_E is 0.39\n",
      "The correlation between Physics and Chem Sem Marks for Prog_C is 0.57\n",
      "The correlation between Physics and Chem Sem Marks for Prog_A is 0.34\n",
      "The correlation between Physics and Chem Sem Marks for Prog_D is 0.52\n"
     ]
    }
   ],
   "source": [
    "prog_b = data[[\"Program ID\", \"Chem.SemMark\", \"Physics.SemMark\"]]\n",
    "\n",
    "proglist = data['Program ID'].unique().tolist()\n",
    "\n",
    "for i in proglist:\n",
    "    prog = prog_b[prog_b[\"Program ID\"] == i]\n",
    "    corrr = prog['Chem.SemMark'].corr(prog['Physics.SemMark']).round(2)\n",
    "    print('The correlation between Physics and Chem Sem Marks for',i,'is', corrr)"
   ]
  },
  {
   "cell_type": "markdown",
   "metadata": {},
   "source": [
    "They generally have a low to moderate positive correlation. This might not be surprising as students who are good at Physic would also be expected to be decent at Chemistry as they are both science subjects.Program C has the highest correlation between Physics and Chemistry marks compared to the other programs.\n"
   ]
  },
  {
   "cell_type": "markdown",
   "metadata": {},
   "source": [
    "## Question 2: Is the distribution of marks similar across academic groups? Is there a particular academic group that fared better?\n",
    "(15 Marks)"
   ]
  },
  {
   "cell_type": "markdown",
   "metadata": {},
   "source": [
    "meanmedianmode, diff program, boxplot/histogram. no hypo testing, comment, boxplot, histogram. use central tendency, dispersion, visualisation to comment. "
   ]
  },
  {
   "cell_type": "code",
   "execution_count": 10,
   "metadata": {},
   "outputs": [
    {
     "data": {
      "text/plain": [
       "['Prog_B', 'Prog_E', 'Prog_C', 'Prog_A', 'Prog_D']"
      ]
     },
     "execution_count": 10,
     "metadata": {},
     "output_type": "execute_result"
    }
   ],
   "source": [
    "chem = data[[\"Program ID\", \"Chem.SemMark\"]]\n",
    "\n",
    "proglist = data['Program ID'].unique().tolist()\n",
    "proglist"
   ]
  },
  {
   "cell_type": "code",
   "execution_count": 11,
   "metadata": {},
   "outputs": [
    {
     "data": {
      "image/png": "[encoded data removed]",
      "text/plain": [
       "<Figure size 360x144 with 1 Axes>"
      ]
     },
     "metadata": {
      "needs_background": "light"
     },
     "output_type": "display_data"
    },
    {
     "name": "stdout",
     "output_type": "stream",
     "text": [
      "Distribution of Chemistry Marks for Class Prog_B\n",
      "Mean of Chemistry Marks 78.67\n",
      "Median of Chemistry Marks 82.0\n",
      "Mode of Chemistry Marks 0    84\n",
      "dtype: int64\n"
     ]
    },
    {
     "data": {
      "image/png": "[encoded data removed]",
      "text/plain": [
       "<Figure size 360x144 with 1 Axes>"
      ]
     },
     "metadata": {
      "needs_background": "light"
     },
     "output_type": "display_data"
    },
    {
     "name": "stdout",
     "output_type": "stream",
     "text": [
      "Distribution of Chemistry Marks for Class Prog_E\n",
      "Mean of Chemistry Marks 76.92\n",
      "Median of Chemistry Marks 80.0\n",
      "Mode of Chemistry Marks 0    80\n",
      "1    87\n",
      "dtype: int64\n"
     ]
    },
    {
     "data": {
      "image/png": "[encoded data removed]",
      "text/plain": [
       "<Figure size 360x144 with 1 Axes>"
      ]
     },
     "metadata": {
      "needs_background": "light"
     },
     "output_type": "display_data"
    },
    {
     "name": "stdout",
     "output_type": "stream",
     "text": [
      "Distribution of Chemistry Marks for Class Prog_C\n",
      "Mean of Chemistry Marks 80.5\n",
      "Median of Chemistry Marks 82.0\n",
      "Mode of Chemistry Marks 0    76\n",
      "1    91\n",
      "dtype: int64\n"
     ]
    },
    {
     "data": {
      "image/png": "[encoded data removed]",
      "text/plain": [
       "<Figure size 360x144 with 1 Axes>"
      ]
     },
     "metadata": {
      "needs_background": "light"
     },
     "output_type": "display_data"
    },
    {
     "name": "stdout",
     "output_type": "stream",
     "text": [
      "Distribution of Chemistry Marks for Class Prog_A\n",
      "Mean of Chemistry Marks 71.62\n",
      "Median of Chemistry Marks 73.5\n",
      "Mode of Chemistry Marks 0    66\n",
      "1    68\n",
      "2    72\n",
      "3    74\n",
      "4    86\n",
      "dtype: int64\n"
     ]
    },
    {
     "data": {
      "image/png": "[encoded data removed]",
      "text/plain": [
       "<Figure size 360x144 with 1 Axes>"
      ]
     },
     "metadata": {
      "needs_background": "light"
     },
     "output_type": "display_data"
    },
    {
     "name": "stdout",
     "output_type": "stream",
     "text": [
      "Distribution of Chemistry Marks for Class Prog_D\n",
      "Mean of Chemistry Marks 82.82\n",
      "Median of Chemistry Marks 87.0\n",
      "Mode of Chemistry Marks 0    88\n",
      "1    90\n",
      "2    94\n",
      "dtype: int64\n"
     ]
    }
   ],
   "source": [
    "\n",
    "import matplotlib.pyplot as plt\n",
    "\n",
    "for i in proglist:\n",
    "    chem2 = chem[chem['Program ID'] == i]    \n",
    "    chem2.hist(bins=30, figsize=(5,2))\n",
    "    plt.show()\n",
    "    print('Distribution of Chemistry Marks for Class',i)\n",
    "    mean = round(chem2['Chem.SemMark'].mean(),2)\n",
    "    median = chem2['Chem.SemMark'].median()\n",
    "    mode = chem2['Chem.SemMark'].mode()\n",
    "    print('Mean of Chemistry Marks',mean)\n",
    "    print('Median of Chemistry Marks',median)\n",
    "    print('Mode of Chemistry Marks',mode)\n",
    "    plt.show()"
   ]
  },
  {
   "cell_type": "markdown",
   "metadata": {},
   "source": [
    "from the results above, program D has the highest median and mean for chemistry across all the programs while program A students do not seem to be doing as well with relatively lower mean and median compared to the other programs.\n",
    "\n",
    "The median of the marks is more than the mean across all the programs. This indicates a negative skew, most values are concentrated on the right side of the distribution. In general students are performing better than average.\n",
    "\n",
    "Program A might have more students that are struggling with chemistry if we look at the mode values they tend to be lower than the other programs."
   ]
  },
  {
   "cell_type": "code",
   "execution_count": 12,
   "metadata": {},
   "outputs": [
    {
     "data": {
      "text/html": [
       "<div>\n",
       "<style scoped>\n",
       "    .dataframe tbody tr th:only-of-type {\n",
       "        vertical-align: middle;\n",
       "    }\n",
       "\n",
       "    .dataframe tbody tr th {\n",
       "        vertical-align: top;\n",
       "    }\n",
       "\n",
       "    .dataframe thead th {\n",
       "        text-align: right;\n",
       "    }\n",
       "</style>\n",
       "<table border=\"1\" class=\"dataframe\">\n",
       "  <thead>\n",
       "    <tr style=\"text-align: right;\">\n",
       "      <th></th>\n",
       "      <th>CLASS</th>\n",
       "      <th>Chem.SemMark</th>\n",
       "    </tr>\n",
       "  </thead>\n",
       "  <tbody>\n",
       "    <tr>\n",
       "      <th>0</th>\n",
       "      <td>A</td>\n",
       "      <td>86</td>\n",
       "    </tr>\n",
       "    <tr>\n",
       "      <th>1</th>\n",
       "      <td>A</td>\n",
       "      <td>93</td>\n",
       "    </tr>\n",
       "    <tr>\n",
       "      <th>2</th>\n",
       "      <td>A</td>\n",
       "      <td>63</td>\n",
       "    </tr>\n",
       "    <tr>\n",
       "      <th>3</th>\n",
       "      <td>A</td>\n",
       "      <td>84</td>\n",
       "    </tr>\n",
       "    <tr>\n",
       "      <th>4</th>\n",
       "      <td>A</td>\n",
       "      <td>87</td>\n",
       "    </tr>\n",
       "    <tr>\n",
       "      <th>...</th>\n",
       "      <td>...</td>\n",
       "      <td>...</td>\n",
       "    </tr>\n",
       "    <tr>\n",
       "      <th>330</th>\n",
       "      <td>N</td>\n",
       "      <td>94</td>\n",
       "    </tr>\n",
       "    <tr>\n",
       "      <th>331</th>\n",
       "      <td>N</td>\n",
       "      <td>87</td>\n",
       "    </tr>\n",
       "    <tr>\n",
       "      <th>332</th>\n",
       "      <td>N</td>\n",
       "      <td>73</td>\n",
       "    </tr>\n",
       "    <tr>\n",
       "      <th>333</th>\n",
       "      <td>N</td>\n",
       "      <td>90</td>\n",
       "    </tr>\n",
       "    <tr>\n",
       "      <th>334</th>\n",
       "      <td>N</td>\n",
       "      <td>87</td>\n",
       "    </tr>\n",
       "  </tbody>\n",
       "</table>\n",
       "<p>332 rows × 2 columns</p>\n",
       "</div>"
      ],
      "text/plain": [
       "    CLASS  Chem.SemMark\n",
       "0       A            86\n",
       "1       A            93\n",
       "2       A            63\n",
       "3       A            84\n",
       "4       A            87\n",
       "..    ...           ...\n",
       "330     N            94\n",
       "331     N            87\n",
       "332     N            73\n",
       "333     N            90\n",
       "334     N            87\n",
       "\n",
       "[332 rows x 2 columns]"
      ]
     },
     "execution_count": 12,
     "metadata": {},
     "output_type": "execute_result"
    }
   ],
   "source": [
    "classdata = data[[\"CLASS\", \"Chem.SemMark\"]]\n",
    "classdata"
   ]
  },
  {
   "cell_type": "code",
   "execution_count": 13,
   "metadata": {},
   "outputs": [
    {
     "data": {
      "text/plain": [
       "['A', 'B', 'C', 'D', 'E', 'F', 'G', 'H', 'I', 'J', 'K', 'L', 'M', 'N']"
      ]
     },
     "execution_count": 13,
     "metadata": {},
     "output_type": "execute_result"
    }
   ],
   "source": [
    "classlist = data['CLASS'].unique().tolist()\n",
    "classlist"
   ]
  },
  {
   "cell_type": "code",
   "execution_count": 14,
   "metadata": {},
   "outputs": [
    {
     "name": "stdout",
     "output_type": "stream",
     "text": [
      "Distribution of Chemistry Marks for Class A\n",
      "Mean of Chemistry Marks 84.28571428571429\n",
      "Median of Chemistry Marks 86.0\n"
     ]
    },
    {
     "data": {
      "image/png": "[encoded data removed]",
      "text/plain": [
       "<Figure size 360x144 with 1 Axes>"
      ]
     },
     "metadata": {
      "needs_background": "light"
     },
     "output_type": "display_data"
    },
    {
     "name": "stdout",
     "output_type": "stream",
     "text": [
      "Distribution of Chemistry Marks for Class B\n",
      "Mean of Chemistry Marks 78.0952380952381\n",
      "Median of Chemistry Marks 82.0\n"
     ]
    },
    {
     "data": {
      "image/png": "[encoded data removed]",
      "text/plain": [
       "<Figure size 360x144 with 1 Axes>"
      ]
     },
     "metadata": {
      "needs_background": "light"
     },
     "output_type": "display_data"
    },
    {
     "name": "stdout",
     "output_type": "stream",
     "text": [
      "Distribution of Chemistry Marks for Class C\n",
      "Mean of Chemistry Marks 78.66666666666667\n",
      "Median of Chemistry Marks 79.0\n"
     ]
    },
    {
     "data": {
      "image/png": "[encoded data removed]",
      "text/plain": [
       "<Figure size 360x144 with 1 Axes>"
      ]
     },
     "metadata": {
      "needs_background": "light"
     },
     "output_type": "display_data"
    },
    {
     "name": "stdout",
     "output_type": "stream",
     "text": [
      "Distribution of Chemistry Marks for Class D\n",
      "Mean of Chemistry Marks 73.10526315789474\n",
      "Median of Chemistry Marks 81.0\n"
     ]
    },
    {
     "data": {
      "image/png": "[encoded data removed]",
      "text/plain": [
       "<Figure size 360x144 with 1 Axes>"
      ]
     },
     "metadata": {
      "needs_background": "light"
     },
     "output_type": "display_data"
    },
    {
     "name": "stdout",
     "output_type": "stream",
     "text": [
      "Distribution of Chemistry Marks for Class E\n",
      "Mean of Chemistry Marks 77.78260869565217\n",
      "Median of Chemistry Marks 82.0\n"
     ]
    },
    {
     "data": {
      "image/png": "[encoded data removed]",
      "text/plain": [
       "<Figure size 360x144 with 1 Axes>"
      ]
     },
     "metadata": {
      "needs_background": "light"
     },
     "output_type": "display_data"
    },
    {
     "name": "stdout",
     "output_type": "stream",
     "text": [
      "Distribution of Chemistry Marks for Class F\n",
      "Mean of Chemistry Marks 71.72\n",
      "Median of Chemistry Marks 75.0\n"
     ]
    },
    {
     "data": {
      "image/png": "[encoded data removed]",
      "text/plain": [
       "<Figure size 360x144 with 1 Axes>"
      ]
     },
     "metadata": {
      "needs_background": "light"
     },
     "output_type": "display_data"
    },
    {
     "name": "stdout",
     "output_type": "stream",
     "text": [
      "Distribution of Chemistry Marks for Class G\n",
      "Mean of Chemistry Marks 79.0\n",
      "Median of Chemistry Marks 82.0\n"
     ]
    },
    {
     "data": {
      "image/png": "[encoded data removed]",
      "text/plain": [
       "<Figure size 360x144 with 1 Axes>"
      ]
     },
     "metadata": {
      "needs_background": "light"
     },
     "output_type": "display_data"
    },
    {
     "name": "stdout",
     "output_type": "stream",
     "text": [
      "Distribution of Chemistry Marks for Class H\n",
      "Mean of Chemistry Marks 79.0\n",
      "Median of Chemistry Marks 80.0\n"
     ]
    },
    {
     "data": {
      "image/png": "[encoded data removed]",
      "text/plain": [
       "<Figure size 360x144 with 1 Axes>"
      ]
     },
     "metadata": {
      "needs_background": "light"
     },
     "output_type": "display_data"
    },
    {
     "name": "stdout",
     "output_type": "stream",
     "text": [
      "Distribution of Chemistry Marks for Class I\n",
      "Mean of Chemistry Marks 79.625\n",
      "Median of Chemistry Marks 79.5\n"
     ]
    },
    {
     "data": {
      "image/png": "[encoded data removed]",
      "text/plain": [
       "<Figure size 360x144 with 1 Axes>"
      ]
     },
     "metadata": {
      "needs_background": "light"
     },
     "output_type": "display_data"
    },
    {
     "name": "stdout",
     "output_type": "stream",
     "text": [
      "Distribution of Chemistry Marks for Class J\n",
      "Mean of Chemistry Marks 81.375\n",
      "Median of Chemistry Marks 85.0\n"
     ]
    },
    {
     "data": {
      "image/png": "[encoded data removed]",
      "text/plain": [
       "<Figure size 360x144 with 1 Axes>"
      ]
     },
     "metadata": {
      "needs_background": "light"
     },
     "output_type": "display_data"
    },
    {
     "name": "stdout",
     "output_type": "stream",
     "text": [
      "Distribution of Chemistry Marks for Class K\n",
      "Mean of Chemistry Marks 76.96\n",
      "Median of Chemistry Marks 77.0\n"
     ]
    },
    {
     "data": {
      "image/png": "[encoded data removed]",
      "text/plain": [
       "<Figure size 360x144 with 1 Axes>"
      ]
     },
     "metadata": {
      "needs_background": "light"
     },
     "output_type": "display_data"
    },
    {
     "name": "stdout",
     "output_type": "stream",
     "text": [
      "Distribution of Chemistry Marks for Class L\n",
      "Mean of Chemistry Marks 66.28\n",
      "Median of Chemistry Marks 67.0\n"
     ]
    },
    {
     "data": {
      "image/png": "[encoded data removed]",
      "text/plain": [
       "<Figure size 360x144 with 1 Axes>"
      ]
     },
     "metadata": {
      "needs_background": "light"
     },
     "output_type": "display_data"
    },
    {
     "name": "stdout",
     "output_type": "stream",
     "text": [
      "Distribution of Chemistry Marks for Class M\n",
      "Mean of Chemistry Marks 82.2\n",
      "Median of Chemistry Marks 88.0\n"
     ]
    },
    {
     "data": {
      "image/png": "[encoded data removed]",
      "text/plain": [
       "<Figure size 360x144 with 1 Axes>"
      ]
     },
     "metadata": {
      "needs_background": "light"
     },
     "output_type": "display_data"
    },
    {
     "name": "stdout",
     "output_type": "stream",
     "text": [
      "Distribution of Chemistry Marks for Class N\n",
      "Mean of Chemistry Marks 83.42307692307692\n",
      "Median of Chemistry Marks 87.0\n"
     ]
    },
    {
     "data": {
      "image/png": "[encoded data removed]",
      "text/plain": [
       "<Figure size 360x144 with 1 Axes>"
      ]
     },
     "metadata": {
      "needs_background": "light"
     },
     "output_type": "display_data"
    }
   ],
   "source": [
    "for i in classlist:\n",
    "    classdata2 = classdata[classdata[\"CLASS\"] == i]    \n",
    "    classdata2.hist(bins=30, figsize=(5,2))\n",
    "    print('Distribution of Chemistry Marks for Class',i)\n",
    "    mean = classdata2['Chem.SemMark'].mean()\n",
    "    median = classdata2['Chem.SemMark'].median()\n",
    "    print('Mean of Chemistry Marks',mean)\n",
    "    print('Median of Chemistry Marks',median)\n",
    "    plt.show()"
   ]
  },
  {
   "cell_type": "markdown",
   "metadata": {},
   "source": [
    "From the data above, it generally does not follow a normal distribution with some exceptions such as class B . this may be due to smaller sample sizes as there are more classes than programs. Hence using Programs instead of classes to evaluate effectiveness may be a better way."
   ]
  },
  {
   "cell_type": "markdown",
   "metadata": {},
   "source": [
    "### Question 3: Students from Prog_D consistently perform better. Is that a fair statement? Use hypothesis testing to prove or disprove this statement.\n",
    "(15 Marks)\n",
    "\n",
    "- Note: Use a one tail test. , one tail test ( which program program best or poorest)\n",
    "have to filter for prog A vs B, to create sample dataset.\n",
    "many hypothesis testing in place\n",
    "choose one subject, compare with other programs ABCDE Q3 it is enough to pick one subject?\n"
   ]
  },
  {
   "cell_type": "markdown",
   "metadata": {},
   "source": [
    "### Step 1: Construct the null and alternative hypothesis\n",
    "\n",
    "We will be doing multiple hypothesis testing to show that Program D is better than all the other programs at a significance level of 0.05, which is the probability of rejecting the null hypothesis when it is true(type 1 error).\n",
    "\n",
    "To show that students from Program D consistently perform better, we will show that the marks of students from program D is more than the averge mark of students from the other programs.\n",
    "\n"
   ]
  },
  {
   "cell_type": "code",
   "execution_count": 15,
   "metadata": {},
   "outputs": [
    {
     "name": "stdout",
     "output_type": "stream",
     "text": [
      "The Mean Chemistry Sem Mark for Prog_B is 78.67\n",
      "The Mean Chemistry Sem Mark for Prog_E is 76.92\n",
      "The Mean Chemistry Sem Mark for Prog_C is 80.5\n",
      "The Mean Chemistry Sem Mark for Prog_A is 71.62\n",
      "The Mean Chemistry Sem Mark for Prog_D is 82.82\n"
     ]
    }
   ],
   "source": [
    "#first we find out the mean of all the programs for Chemistry Sem Mark.\n",
    "# proglist is the list of program IDs from previous question\n",
    "for i in proglist:\n",
    "    marks = prog_b[prog_b[\"Program ID\"] == i]\n",
    "    meanmark = marks['Chem.SemMark'].mean()\n",
    "    print('The Mean Chemistry Sem Mark for',i,'is', round(meanmark,2))"
   ]
  },
  {
   "cell_type": "markdown",
   "metadata": {},
   "source": [
    "<br>\n",
    "$ H_0: \\text{On average, the students of Program D perform better than Program A in Chemistry. (μ > 71.62)} $\n",
    "<br>\n",
    "$ H_1: \\text{On average, the students of Program D do not perform better than Program A in Chemistry. (μ ≤71.62)} $"
   ]
  },
  {
   "cell_type": "code",
   "execution_count": 16,
   "metadata": {},
   "outputs": [
    {
     "name": "stdout",
     "output_type": "stream",
     "text": [
      "-1.6448536269514722\n"
     ]
    }
   ],
   "source": [
    "sig_level = 0.05\n",
    "\n",
    "# Critical value. since critic\n",
    "import scipy.stats\n",
    "critical_value = scipy.stats.norm.ppf(.95,0,1)\n",
    "\n",
    "# since the rejection region is on the left, the critical value is negative\n",
    "critical_value = -critical_value\n",
    "print(critical_value)"
   ]
  },
  {
   "cell_type": "code",
   "execution_count": 17,
   "metadata": {},
   "outputs": [],
   "source": [
    "#make a dataset for Program D\n",
    "program = data[data[\"Program ID\"] == 'Prog_D']  # filters out program D from dataset\n",
    "program_d = program['Chem.SemMark'] # filters out Chem Sem Marks for program D"
   ]
  },
  {
   "cell_type": "code",
   "execution_count": 18,
   "metadata": {},
   "outputs": [
    {
     "name": "stdout",
     "output_type": "stream",
     "text": [
      "p-value is 0.9999999997068267\n",
      "z-statistic is 6.194057961923656\n"
     ]
    }
   ],
   "source": [
    "from scipy import stats\n",
    "from statsmodels.stats import weightstats as stests\n",
    "\n",
    "null_hypothesis = 71.62 # average mark of program A\n",
    "\n",
    "ztest ,pval = stests.ztest(program_d, alternative = 'smaller', x2=None, value=null_hypothesis, ddof = 0)\n",
    "print(f\"p-value is {float(pval)}\")\n",
    "print(f\"z-statistic is {float(ztest)}\")"
   ]
  },
  {
   "cell_type": "code",
   "execution_count": 19,
   "metadata": {},
   "outputs": [
    {
     "name": "stdout",
     "output_type": "stream",
     "text": [
      "Accept null hypothesis,the students of Program D perform better than Program A in Chemistry.\n"
     ]
    }
   ],
   "source": [
    "if ztest < critical_value:\n",
    "    print(\"Reject null hypothesis, the students of Program D do not perform better than Program A in Chemistry.\")\n",
    "else:\n",
    "    print(\"Accept null hypothesis,the students of Program D perform better than Program A in Chemistry.\")"
   ]
  },
  {
   "cell_type": "markdown",
   "metadata": {},
   "source": [
    "We will continue with comparing Program D and Program B, plus the rest of the other programs.\n",
    "\n",
    "<br>\n",
    "$ H_0: \\text{On average, the students of Program D perform better than Program B in Chemistry. (μ >78.67)} $\n",
    "<br>\n",
    "$ H_1: \\text{On average, the students of Program D do not perform better than Program B in Chemistry.(μ ≤78.67)} $"
   ]
  },
  {
   "cell_type": "code",
   "execution_count": 20,
   "metadata": {},
   "outputs": [
    {
     "name": "stdout",
     "output_type": "stream",
     "text": [
      "p-value is 0.9902295597232418\n",
      "z-statistic is 2.335048627880498\n"
     ]
    }
   ],
   "source": [
    "null_hypothesis_B = 78.6 # average mark of Program B\n",
    "\n",
    "ztest_b ,pval_b = stests.ztest(program_d, alternative = 'smaller', x2=None, value=null_hypothesis_B, ddof = 0)\n",
    "print(f\"p-value is {float(pval_b)}\")\n",
    "print(f\"z-statistic is {float(ztest_b)}\")"
   ]
  },
  {
   "cell_type": "code",
   "execution_count": 21,
   "metadata": {},
   "outputs": [
    {
     "name": "stdout",
     "output_type": "stream",
     "text": [
      "Accept null hypothesis,the students of Program D perform better than Program B in Chemistry.\n"
     ]
    }
   ],
   "source": [
    "if ztest_b < critical_value:\n",
    "    print(\"Reject null hypothesis, the students of Program D do not perform better than Program B in Chemistry.\")\n",
    "else:\n",
    "    print(\"Accept null hypothesis,the students of Program D perform better than Program B in Chemistry.\")"
   ]
  },
  {
   "cell_type": "markdown",
   "metadata": {},
   "source": [
    "<br>\n",
    "$ H_0: \\text{On average, the students of Program D perform better than Program C in Chemistry. (μ >80.5)} $\n",
    "<br>\n",
    "$ H_1: \\text{On average, the students of Program D do not perform better than Program C in Chemistry.(μ ≤80.5)} $"
   ]
  },
  {
   "cell_type": "code",
   "execution_count": 22,
   "metadata": {},
   "outputs": [
    {
     "name": "stdout",
     "output_type": "stream",
     "text": [
      "p-value is 0.9005342934674863\n",
      "z-statistic is 1.2846019610206074\n"
     ]
    }
   ],
   "source": [
    "\n",
    "null_hypothesis_c = 80.5\n",
    "\n",
    "ztest_c ,pval_c = stests.ztest(program_d, alternative = 'smaller', x2=None, value=null_hypothesis_c, ddof = 0)\n",
    "print(f\"p-value is {float(pval_c)}\")\n",
    "print(f\"z-statistic is {float(ztest_c)}\")"
   ]
  },
  {
   "cell_type": "code",
   "execution_count": 23,
   "metadata": {},
   "outputs": [
    {
     "name": "stdout",
     "output_type": "stream",
     "text": [
      "Accept null hypothesis,the students of Program D perform better than Program C in Chemistry.\n"
     ]
    }
   ],
   "source": [
    "if ztest_c < critical_value:\n",
    "    print(\"Reject null hypothesis, the students of Program D do not perform better than Program C in Chemistry.\")\n",
    "else:\n",
    "    print(\"Accept null hypothesis,the students of Program D perform better than Program C in Chemistry.\")"
   ]
  },
  {
   "cell_type": "markdown",
   "metadata": {},
   "source": [
    "<br>\n",
    "$ H_0: \\text{On average, the students of Program D perform better than Program E in Chemistry. (μ >76.92)} $\n",
    "<br>\n",
    "$ H_1: \\text{On average, the students of Program D do not perform better than Program E in Chemistry.(μ ≤76.92)} $"
   ]
  },
  {
   "cell_type": "code",
   "execution_count": 24,
   "metadata": {},
   "outputs": [
    {
     "name": "stdout",
     "output_type": "stream",
     "text": [
      "p-value is 0.9994504816820282\n",
      "z-statistic is 3.263864628051341\n"
     ]
    }
   ],
   "source": [
    "null_hypothesis_e = 76.92\n",
    "\n",
    "ztest_e ,pval_e = stests.ztest(program_d, alternative = 'smaller', x2=None, value=null_hypothesis_e, ddof = 0)\n",
    "print(f\"p-value is {float(pval_e)}\")\n",
    "print(f\"z-statistic is {float(ztest_e)}\")"
   ]
  },
  {
   "cell_type": "code",
   "execution_count": 25,
   "metadata": {},
   "outputs": [
    {
     "name": "stdout",
     "output_type": "stream",
     "text": [
      "Accept null hypothesis,the students of Program D perform better than Program E in Chemistry.\n"
     ]
    }
   ],
   "source": [
    "if ztest_e < critical_value:\n",
    "    print(\"Reject null hypothesis, the students of Program D do not perform better than Program E in Chemistry.\")\n",
    "else:\n",
    "    print(\"Accept null hypothesis,the students of Program D perform better than Program E in Chemistry.\")"
   ]
  },
  {
   "cell_type": "markdown",
   "metadata": {},
   "source": [
    "<b>Question 4: Is the distribution of grades independent of the academic program?\n",
    "(15 Marks)\n",
    "Hint: Use a suitable chi-square test to examine if grade distribution is indeed independent of the academic program the student is in.</b>"
   ]
  },
  {
   "cell_type": "markdown",
   "metadata": {},
   "source": [
    "\n",
    "### Step 1: Construct the null and alternative hypothesis\n",
    "\n",
    "<br>\n",
    "$ H_0: \\text{Among all students, grades and academic program are independent.}$\n",
    "<br>\n",
    "$ H_1: \\text{Among all students,grades and academic program are associated.} $"
   ]
  },
  {
   "cell_type": "code",
   "execution_count": 26,
   "metadata": {},
   "outputs": [],
   "source": [
    "# if grade distribution independent of the academic program.\n",
    "# this would be the test of independence Test of Independence (One sample, two response variables)"
   ]
  },
  {
   "cell_type": "code",
   "execution_count": 27,
   "metadata": {},
   "outputs": [],
   "source": [
    "sig_level = 0.05"
   ]
  },
  {
   "cell_type": "code",
   "execution_count": 28,
   "metadata": {},
   "outputs": [
    {
     "data": {
      "text/html": [
       "<div>\n",
       "<style scoped>\n",
       "    .dataframe tbody tr th:only-of-type {\n",
       "        vertical-align: middle;\n",
       "    }\n",
       "\n",
       "    .dataframe tbody tr th {\n",
       "        vertical-align: top;\n",
       "    }\n",
       "\n",
       "    .dataframe thead th {\n",
       "        text-align: right;\n",
       "    }\n",
       "</style>\n",
       "<table border=\"1\" class=\"dataframe\">\n",
       "  <thead>\n",
       "    <tr style=\"text-align: right;\">\n",
       "      <th>Chem.SemGrade</th>\n",
       "      <th>A</th>\n",
       "      <th>A+</th>\n",
       "      <th>AD</th>\n",
       "      <th>B</th>\n",
       "      <th>B+</th>\n",
       "      <th>C</th>\n",
       "      <th>C+</th>\n",
       "      <th>D</th>\n",
       "      <th>D+</th>\n",
       "      <th>F</th>\n",
       "    </tr>\n",
       "    <tr>\n",
       "      <th>Program ID</th>\n",
       "      <th></th>\n",
       "      <th></th>\n",
       "      <th></th>\n",
       "      <th></th>\n",
       "      <th></th>\n",
       "      <th></th>\n",
       "      <th></th>\n",
       "      <th></th>\n",
       "      <th></th>\n",
       "      <th></th>\n",
       "    </tr>\n",
       "  </thead>\n",
       "  <tbody>\n",
       "    <tr>\n",
       "      <th>Prog_A</th>\n",
       "      <td>8</td>\n",
       "      <td>9</td>\n",
       "      <td>1</td>\n",
       "      <td>7</td>\n",
       "      <td>4</td>\n",
       "      <td>4</td>\n",
       "      <td>8</td>\n",
       "      <td>4</td>\n",
       "      <td>3</td>\n",
       "      <td>2</td>\n",
       "    </tr>\n",
       "    <tr>\n",
       "      <th>Prog_B</th>\n",
       "      <td>19</td>\n",
       "      <td>29</td>\n",
       "      <td>2</td>\n",
       "      <td>8</td>\n",
       "      <td>9</td>\n",
       "      <td>3</td>\n",
       "      <td>4</td>\n",
       "      <td>4</td>\n",
       "      <td>1</td>\n",
       "      <td>3</td>\n",
       "    </tr>\n",
       "    <tr>\n",
       "      <th>Prog_C</th>\n",
       "      <td>5</td>\n",
       "      <td>18</td>\n",
       "      <td>4</td>\n",
       "      <td>4</td>\n",
       "      <td>9</td>\n",
       "      <td>2</td>\n",
       "      <td>3</td>\n",
       "      <td>1</td>\n",
       "      <td>2</td>\n",
       "      <td>0</td>\n",
       "    </tr>\n",
       "    <tr>\n",
       "      <th>Prog_D</th>\n",
       "      <td>7</td>\n",
       "      <td>21</td>\n",
       "      <td>7</td>\n",
       "      <td>4</td>\n",
       "      <td>5</td>\n",
       "      <td>1</td>\n",
       "      <td>3</td>\n",
       "      <td>2</td>\n",
       "      <td>0</td>\n",
       "      <td>1</td>\n",
       "    </tr>\n",
       "    <tr>\n",
       "      <th>Prog_E</th>\n",
       "      <td>19</td>\n",
       "      <td>30</td>\n",
       "      <td>3</td>\n",
       "      <td>10</td>\n",
       "      <td>12</td>\n",
       "      <td>4</td>\n",
       "      <td>12</td>\n",
       "      <td>4</td>\n",
       "      <td>5</td>\n",
       "      <td>2</td>\n",
       "    </tr>\n",
       "  </tbody>\n",
       "</table>\n",
       "</div>"
      ],
      "text/plain": [
       "Chem.SemGrade   A  A+  AD   B  B+  C  C+  D  D+  F\n",
       "Program ID                                        \n",
       "Prog_A          8   9   1   7   4  4   8  4   3  2\n",
       "Prog_B         19  29   2   8   9  3   4  4   1  3\n",
       "Prog_C          5  18   4   4   9  2   3  1   2  0\n",
       "Prog_D          7  21   7   4   5  1   3  2   0  1\n",
       "Prog_E         19  30   3  10  12  4  12  4   5  2"
      ]
     },
     "execution_count": 28,
     "metadata": {},
     "output_type": "execute_result"
    }
   ],
   "source": [
    "grades_acad = data[['Program ID','Chem.SemGrade']]\n",
    "# do a pivot table to show distribution of grades across different programs\n",
    "grades_acad.pivot_table(index=\"Program ID\", columns=\"Chem.SemGrade\",values ='Program ID',aggfunc=len, fill_value=0)"
   ]
  },
  {
   "cell_type": "markdown",
   "metadata": {},
   "source": [
    "We need to group some of the columns together due to small sample size. Grouping the As,Bs s and Ds together would be appropriate.As the values for F is very little, it may be appropriate to group them with D.\n"
   ]
  },
  {
   "cell_type": "code",
   "execution_count": 29,
   "metadata": {},
   "outputs": [
    {
     "name": "stderr",
     "output_type": "stream",
     "text": [
      "C:\\Users\\Min\\anaconda3\\lib\\site-packages\\pandas\\core\\frame.py:4379: SettingWithCopyWarning: \n",
      "A value is trying to be set on a copy of a slice from a DataFrame\n",
      "\n",
      "See the caveats in the documentation: https://pandas.pydata.org/pandas-docs/stable/user_guide/indexing.html#returning-a-view-versus-a-copy\n",
      "  return super().replace(\n"
     ]
    }
   ],
   "source": [
    "# we need to group some of the columsn together due to small sample size. Grouping the As,Bs s and Ds together would be appropriate.\n",
    "\n",
    "grades_acad.replace({'A+': 'A', 'AD': 'A','B+':'B','C+':'C','D+':'D','F':'D'},inplace=True)"
   ]
  },
  {
   "cell_type": "code",
   "execution_count": 30,
   "metadata": {},
   "outputs": [
    {
     "data": {
      "text/html": [
       "<div>\n",
       "<style scoped>\n",
       "    .dataframe tbody tr th:only-of-type {\n",
       "        vertical-align: middle;\n",
       "    }\n",
       "\n",
       "    .dataframe tbody tr th {\n",
       "        vertical-align: top;\n",
       "    }\n",
       "\n",
       "    .dataframe thead th {\n",
       "        text-align: right;\n",
       "    }\n",
       "</style>\n",
       "<table border=\"1\" class=\"dataframe\">\n",
       "  <thead>\n",
       "    <tr style=\"text-align: right;\">\n",
       "      <th>Chem.SemGrade</th>\n",
       "      <th>A</th>\n",
       "      <th>B</th>\n",
       "      <th>C</th>\n",
       "      <th>D</th>\n",
       "    </tr>\n",
       "    <tr>\n",
       "      <th>Program ID</th>\n",
       "      <th></th>\n",
       "      <th></th>\n",
       "      <th></th>\n",
       "      <th></th>\n",
       "    </tr>\n",
       "  </thead>\n",
       "  <tbody>\n",
       "    <tr>\n",
       "      <th>Prog_A</th>\n",
       "      <td>18</td>\n",
       "      <td>11</td>\n",
       "      <td>12</td>\n",
       "      <td>9</td>\n",
       "    </tr>\n",
       "    <tr>\n",
       "      <th>Prog_B</th>\n",
       "      <td>50</td>\n",
       "      <td>17</td>\n",
       "      <td>7</td>\n",
       "      <td>8</td>\n",
       "    </tr>\n",
       "    <tr>\n",
       "      <th>Prog_C</th>\n",
       "      <td>27</td>\n",
       "      <td>13</td>\n",
       "      <td>5</td>\n",
       "      <td>3</td>\n",
       "    </tr>\n",
       "    <tr>\n",
       "      <th>Prog_D</th>\n",
       "      <td>35</td>\n",
       "      <td>9</td>\n",
       "      <td>4</td>\n",
       "      <td>3</td>\n",
       "    </tr>\n",
       "    <tr>\n",
       "      <th>Prog_E</th>\n",
       "      <td>52</td>\n",
       "      <td>22</td>\n",
       "      <td>16</td>\n",
       "      <td>11</td>\n",
       "    </tr>\n",
       "  </tbody>\n",
       "</table>\n",
       "</div>"
      ],
      "text/plain": [
       "Chem.SemGrade   A   B   C   D\n",
       "Program ID                   \n",
       "Prog_A         18  11  12   9\n",
       "Prog_B         50  17   7   8\n",
       "Prog_C         27  13   5   3\n",
       "Prog_D         35   9   4   3\n",
       "Prog_E         52  22  16  11"
      ]
     },
     "execution_count": 30,
     "metadata": {},
     "output_type": "execute_result"
    }
   ],
   "source": [
    "ga = grades_acad.pivot_table(index=\"Program ID\", columns=\"Chem.SemGrade\",values ='Program ID',aggfunc=len, fill_value=0)\n",
    "ga"
   ]
  },
  {
   "cell_type": "code",
   "execution_count": 31,
   "metadata": {},
   "outputs": [
    {
     "data": {
      "text/plain": [
       "array([[18, 11, 12,  9],\n",
       "       [50, 17,  7,  8],\n",
       "       [27, 13,  5,  3],\n",
       "       [35,  9,  4,  3],\n",
       "       [52, 22, 16, 11]], dtype=int64)"
      ]
     },
     "execution_count": 31,
     "metadata": {},
     "output_type": "execute_result"
    }
   ],
   "source": [
    "ga_np = ga.to_numpy()\n",
    "ga_np"
   ]
  },
  {
   "cell_type": "code",
   "execution_count": 32,
   "metadata": {},
   "outputs": [
    {
     "name": "stdout",
     "output_type": "stream",
     "text": [
      "chisq stat: 19.213762361046843 \n",
      "p-value: 0.08349867817072279 \n",
      "Degrees of freedom: 12 \n",
      "Expected_counts:\n",
      " [[27.40963855 10.84337349  6.62650602  5.12048193]\n",
      " [44.95180723 17.78313253 10.86746988  8.39759036]\n",
      " [26.31325301 10.40963855  6.36144578  4.91566265]\n",
      " [27.95783133 11.06024096  6.75903614  5.22289157]\n",
      " [55.36746988 21.90361446 13.38554217 10.34337349]]\n"
     ]
    }
   ],
   "source": [
    "from scipy import stats\n",
    "chi2, pval, dof, expected_obs = stats.chi2_contingency(ga_np)\n",
    "print(f\"chisq stat: {chi2} \\np-value: {pval} \\nDegrees of freedom: {dof} \\nExpected_counts:\\n {expected_obs}\")"
   ]
  },
  {
   "cell_type": "code",
   "execution_count": 33,
   "metadata": {},
   "outputs": [
    {
     "name": "stdout",
     "output_type": "stream",
     "text": [
      "Accept null hypothesis that Chemistry Grades and Academic Program are independent.\n"
     ]
    }
   ],
   "source": [
    "if pval < sig_level:\n",
    "    print(\"Reject null hypothesis in favor of the alternative that Chemistry Grades and Academic Program are associated.\")\n",
    "else: \n",
    "    print(\"Accept null hypothesis that Chemistry Grades and Academic Program are independent.\")"
   ]
  },
  {
   "cell_type": "code",
   "execution_count": 34,
   "metadata": {},
   "outputs": [],
   "source": [
    "#note: do another version with at least 5 values in each cell."
   ]
  },
  {
   "cell_type": "markdown",
   "metadata": {},
   "source": [
    "# Question 5: What is the breakdown of each component to the final SemMark? For example, CA, Test 1, Test 2 and Test 3 contribute 40%, 20%, 20% and 20% respectively to the final semester mark for Chem (Chem.SemMark).\n",
    "(15 Marks)\n",
    "\n",
    "\n",
    "\n",
    "Hint: Pick one module and using linear regression, find the contribution of each component toward the final Semester mark. Explain using the statsmodel summary table to support your findings."
   ]
  },
  {
   "cell_type": "code",
   "execution_count": 35,
   "metadata": {},
   "outputs": [
    {
     "name": "stdout",
     "output_type": "stream",
     "text": [
      "[[ 85  68 100  90]\n",
      " [ 90  95 100  88]\n",
      " [ 79  53  29  75]\n",
      " ...\n",
      " [ 85  68  70  55]\n",
      " [ 88  95 100  78]\n",
      " [ 81 100  97  78]]\n",
      "[86 93 63 84 87 90 93 81 82 83 92 93 67 86 79 70 90 94 82 81 94 77 84 80\n",
      " 78 81 97 88 82 73 77 85 44 86 39 78 85 82 56 90 89 89 71 72 97 84 79 74\n",
      " 84 94 84 74 91 80 88 75 85 50 74 67 90 73 66 60 68 87 62 92 91 84 76 81\n",
      " 87 51 28 75 81 83 50 93 50 90 93 82 80 82 87 76 72 61 51 90 56 88 85 64\n",
      " 82 95 94 81 54 85 89 65 77 69 57 88 76 44 66 86 78 77 87 58 80 50 89 67\n",
      " 41 70 75 69 67 68 83 83 85 80 50 93 87 94 87 65 84 75 60 88 58 77 87 94\n",
      " 77 97 77 80 73 71 88 58 89 84 82 70 80 66 93 71 80 64 95 86 65 82 83 89\n",
      " 86 91 73 68 87 78 73 66 83 81 72 91 89 71 79 79 76 79 73 62 94 66 87 88\n",
      " 66 76 85 78 85 91 76 50 96 85 75 82 80 91 91 89 89 93 87 90 88 91 82 98\n",
      " 73 90 67 75 71 86 57 98 63 84 70 82 95 76 59 88 96 58 77 63 86 80 68 77\n",
      " 74 84 82 64 73 92 68 74 83 82 72 75 89 81 51 87 64 61 72 86 92 50 89 80\n",
      " 74 54 68 67 25 72 66 66 81 86 50 55 66 35 67 55 76 78 98 91 88 79 95 92\n",
      " 96 88 79 95 72 77 90 88 85 88 92 80 99 36 71 50 66 82 84 82 90 94 84 72\n",
      " 94 54 98 94 93 75 81 69 69 60 89 87 95 84 90 94 87 73 90 87]\n"
     ]
    }
   ],
   "source": [
    "from sklearn.linear_model import LinearRegression\n",
    "lm = LinearRegression()\n",
    "\n",
    "X3 = data.loc[:,[\"Chem.CA\", \"Chem.TEST1\",\"Chem.TEST2\",\"Chem.TEST3\"]].values\n",
    "y3 = data.loc[:, \"Chem.SemMark\"].values \n",
    "print(X3)\n",
    "print(y3)"
   ]
  },
  {
   "cell_type": "markdown",
   "metadata": {},
   "source": [
    "train it using the training set, features followed by dependent variable.\n"
   ]
  },
  {
   "cell_type": "code",
   "execution_count": 36,
   "metadata": {},
   "outputs": [
    {
     "data": {
      "text/plain": [
       "LinearRegression()"
      ]
     },
     "execution_count": 36,
     "metadata": {},
     "output_type": "execute_result"
    }
   ],
   "source": [
    "# train it using the training set, features followed by dependent variable.\n",
    "lm.fit(X3, y3)"
   ]
  },
  {
   "cell_type": "code",
   "execution_count": null,
   "metadata": {},
   "outputs": [],
   "source": []
  },
  {
   "cell_type": "code",
   "execution_count": 37,
   "metadata": {},
   "outputs": [
    {
     "name": "stdout",
     "output_type": "stream",
     "text": [
      "0.16094570168614553\n",
      "[0.39926902 0.19944308 0.19911926 0.20041963]\n"
     ]
    }
   ],
   "source": [
    "# beta 0 or intercept value\n",
    "print(lm.intercept_) \n",
    "\n",
    "# beta_1 and beta_2\n",
    "print(lm.coef_) # Check the coefficientts"
   ]
  },
  {
   "cell_type": "markdown",
   "metadata": {},
   "source": [
    "<br>\n",
    "Therefore, the equation of our multivariate linear regression model is:\n",
    "\n",
    "$$\\textrm{Chem.SemMark} = 0.16  + 0.4 \\times \\textrm{Chem.CA} + 0.2 \\times \\textrm{Chem.TEST1} +  0.2 \\times \\textrm{Chem.TEST2} + 0.2 \\times \\textrm{Chem.TEST3} $$\n",
    "\n",
    "rounded off to the nearest 2 decimal places.\n",
    "\n",
    "</br>\n"
   ]
  },
  {
   "cell_type": "markdown",
   "metadata": {},
   "source": [
    "## Question 6: If we know a student’s Chem, English, Geo marks, can we predict the Physics mark? Will knowing the Program ID increase the accuracy of the prediction?\n",
    "(20 Marks)"
   ]
  },
  {
   "cell_type": "code",
   "execution_count": 38,
   "metadata": {},
   "outputs": [],
   "source": [
    "#Firstly, we will do a boxplot of all the Sem marks for each subject to look for any outliers.\n",
    "\n"
   ]
  },
  {
   "cell_type": "code",
   "execution_count": 39,
   "metadata": {},
   "outputs": [
    {
     "name": "stdout",
     "output_type": "stream",
     "text": [
      "[[ 86.  77.  81.]\n",
      " [ 93.  84.  67.]\n",
      " [ 63.  79.  65.]\n",
      " [ 84.  78.  72.]\n",
      " [ 87.  88.  93.]\n",
      " [ 90.  76.  62.]\n",
      " [ 93.  80.  97.]\n",
      " [ 81.  80.  69.]\n",
      " [ 82.  81.  73.]\n",
      " [ 83.  79.  76.]\n",
      " [ 92.  85.  81.]\n",
      " [ 93.  82.  79.]\n",
      " [ 67.  78.  79.]\n",
      " [ 86.  83.  82.]\n",
      " [ 79.  84.  76.]\n",
      " [ 70.  81.  56.]\n",
      " [ 90.  84.  94.]\n",
      " [ 94.  77.  85.]\n",
      " [ 82.  80.  75.]\n",
      " [ 81.  79.  76.]\n",
      " [ 94.  88.  97.]\n",
      " [ 77.  85.  95.]\n",
      " [ 84.  85.  72.]\n",
      " [ 80.  80.  88.]\n",
      " [ 78.  80.  77.]\n",
      " [ 81.  80.  92.]\n",
      " [ 97.  85.  88.]\n",
      " [ 88.  79.  91.]\n",
      " [ 82.  78.  80.]\n",
      " [ 73.  78.  79.]\n",
      " [ 77.  78.  91.]\n",
      " [ 85.  80.  91.]\n",
      " [ 44.  71.  58.]\n",
      " [ 86.  80.  84.]\n",
      " [ 39.  76.  69.]\n",
      " [ 78.  82.  81.]\n",
      " [ 85.  81.  77.]\n",
      " [ 82.  84.  81.]\n",
      " [ 56.  80.  81.]\n",
      " [ 90.  82.  86.]\n",
      " [ 89.  84.  93.]\n",
      " [ 89.  84.  82.]\n",
      " [ 71.  80.  68.]\n",
      " [ 72.  78.  66.]\n",
      " [ 97.  82.  87.]\n",
      " [ 84.  79.  78.]\n",
      " [ 79.  76.  75.]\n",
      " [ 74.  75.  88.]\n",
      " [ 84.  75.  85.]\n",
      " [ 94.  86.  83.]\n",
      " [ 84.  82.  91.]\n",
      " [ 74.  80.  81.]\n",
      " [ 91.  85.  98.]\n",
      " [ 80.  78.  76.]\n",
      " [ 88.  81.  92.]\n",
      " [ 75.  78.  74.]\n",
      " [ 85.  80.  70.]\n",
      " [ 50.  70.  56.]\n",
      " [ 74.  80.  83.]\n",
      " [ 67.  75.  70.]\n",
      " [ 90.  81.  89.]\n",
      " [ 73.  75.  51.]\n",
      " [ 66.  80.  68.]\n",
      " [ 60.  80.  55.]\n",
      " [ 68.  84.  50.]\n",
      " [ 87.  77.  98.]\n",
      " [ 62.  75.  70.]\n",
      " [ 92.  79.  75.]\n",
      " [ 91.  82.  93.]\n",
      " [ 84.  85.  86.]\n",
      " [ 76.  81.  89.]\n",
      " [ 81.  75.  58.]\n",
      " [ 87.  86.  71.]\n",
      " [ 51.  54.  68.]\n",
      " [ 28.  72.  56.]\n",
      " [ 75.  82.  78.]\n",
      " [ 81.  79.  80.]\n",
      " [ 83.  83.  94.]\n",
      " [ 50.  78.  41.]\n",
      " [ 93.  80.  92.]\n",
      " [ 50.  71.  24.]\n",
      " [ 90.  74.  88.]\n",
      " [ 93.  78.  93.]\n",
      " [ 82.  80.  89.]\n",
      " [ 80.  80.  89.]\n",
      " [ 82.  75.  82.]\n",
      " [ 87.  78.  81.]\n",
      " [ 76.  72.  76.]\n",
      " [ 72.  76.  72.]\n",
      " [ 61.  70.  55.]\n",
      " [ 51.  58.  30.]\n",
      " [ 90.  77.  82.]\n",
      " [ 56.  80.  87.]\n",
      " [ 88.  83.  78.]\n",
      " [ 85.  88.  87.]\n",
      " [ 64.  76.  65.]\n",
      " [ 82.  72.  84.]\n",
      " [ 95.  73.  95.]\n",
      " [ 94.  80.  84.]\n",
      " [ 81.  71.  82.]\n",
      " [ 54.  67.  54.]\n",
      " [ 85.  77.  80.]\n",
      " [ 89.  87.  72.]\n",
      " [ 65.  81.  58.]\n",
      " [ 77.  77.  89.]\n",
      " [ 69.  80.  67.]\n",
      " [ 57.  75.  56.]\n",
      " [ 88.  82.  93.]\n",
      " [ 76.  81.  84.]\n",
      " [ 44.  61.  53.]\n",
      " [ 66.  78.  75.]\n",
      " [ 86.  87.  78.]\n",
      " [ 78.  77.  70.]\n",
      " [ 77.  78.  75.]\n",
      " [ 87.  85.  64.]\n",
      " [ 58.  63.  57.]\n",
      " [ 80.  80.  73.]\n",
      " [ 50.  65.  61.]\n",
      " [ 89.  86.  84.]\n",
      " [ 67.  82.  75.]\n",
      " [ 41.  65.  67.]\n",
      " [ 70.  82.  89.]\n",
      " [ 75.  67.  61.]\n",
      " [ 69.  76.  82.]\n",
      " [ 67.  80.  63.]\n",
      " [ 68.  65.  85.]\n",
      " [ 83.  77.  86.]\n",
      " [ 83.  82.  83.]\n",
      " [ 85.  88.  90.]\n",
      " [ 80.  80.  92.]\n",
      " [ 50.  74.  85.]\n",
      " [ 93.  84.  74.]\n",
      " [ 87.  82.  81.]\n",
      " [ 94.  83.  92.]\n",
      " [ 87.  83.  42.]\n",
      " [ 65.  81.  78.]\n",
      " [ 84.  84.  79.]\n",
      " [ 75.  80.  38.]\n",
      " [ 60.  69.  17.]\n",
      " [ 88.  88.  96.]\n",
      " [ 58.  82.  64.]\n",
      " [ 77.  82.  75.]\n",
      " [ 87.  88.  92.]\n",
      " [ 94.  86.  90.]\n",
      " [ 77.  83.  64.]\n",
      " [ 97.  81.  90.]\n",
      " [ 77.  79.  87.]\n",
      " [ 80.  82.  60.]\n",
      " [ 73.  78.  64.]\n",
      " [ 71.  69.  28.]\n",
      " [ 88.  86.  86.]\n",
      " [ 58.  79.  39.]\n",
      " [ 89.  81.  96.]\n",
      " [ 84.  85.  80.]\n",
      " [ 82.  81.  89.]\n",
      " [ 70.  80.  69.]\n",
      " [ 80.  78.  81.]\n",
      " [ 66.  26.  18.]\n",
      " [ 93.  92.  99.]\n",
      " [ 71.  81.  77.]\n",
      " [ 80.  90.  76.]\n",
      " [ 64.  75.  75.]\n",
      " [ 95.  80.  74.]\n",
      " [ 86.  88.  87.]\n",
      " [ 65.  74.  65.]\n",
      " [ 82.  82.  70.]\n",
      " [ 83.  82.  81.]\n",
      " [ 89.  78.  76.]\n",
      " [ 86.  69.  73.]\n",
      " [ 91.  72.  88.]\n",
      " [ 73.  69.  34.]\n",
      " [ 68.  77.  41.]\n",
      " [ 87.  83.  88.]\n",
      " [ 78.  86.  79.]\n",
      " [ 73.  81.  59.]\n",
      " [ 66.  82.  69.]\n",
      " [ 83.  78.  61.]\n",
      " [ 81.  84.  91.]\n",
      " [ 72.  85.  66.]\n",
      " [ 91.  87.  80.]\n",
      " [ 89.  82.  91.]\n",
      " [ 71.  78.  77.]\n",
      " [ 79.  86.  85.]\n",
      " [ 79.  83.  71.]\n",
      " [ 76.  76.  90.]\n",
      " [ 79.  79.  81.]\n",
      " [ 73.  74.  79.]\n",
      " [ 62.  73.  68.]\n",
      " [ 94.  78.  88.]\n",
      " [ 66.  79.  70.]\n",
      " [ 87.  78.  94.]\n",
      " [ 88.  83.  96.]\n",
      " [ 66.  76.  74.]\n",
      " [ 76.  76.  72.]\n",
      " [ 85.  83.  76.]\n",
      " [ 78.  76.  69.]\n",
      " [ 85.  78.  82.]\n",
      " [ 91.  76.  85.]\n",
      " [ 76.  83.  70.]\n",
      " [ 50.  79.  70.]\n",
      " [ 96.  83.  96.]\n",
      " [ 85.  79.  93.]\n",
      " [ 75.  68.  72.]\n",
      " [ 82.  76.  68.]\n",
      " [ 80.  83.  86.]\n",
      " [ 91.  79.  88.]\n",
      " [ 91.  79.  88.]\n",
      " [ 89.  74.  83.]\n",
      " [ 89.  77.  81.]\n",
      " [ 93.  75.  65.]\n",
      " [ 87.  80.  84.]\n",
      " [ 90.  85.  72.]\n",
      " [ 88.  75.  86.]\n",
      " [ 91.  85.  81.]\n",
      " [ 82.  74.  85.]\n",
      " [ 98.  89.  94.]\n",
      " [ 73.  72.  65.]\n",
      " [ 90.  84.  70.]\n",
      " [ 67.  75.  71.]\n",
      " [ 75.  79.  90.]\n",
      " [ 71.  81.  65.]\n",
      " [ 86.  77.  73.]\n",
      " [ 57.  72.  50.]\n",
      " [ 98.  86.  91.]\n",
      " [ 63.  72.  24.]\n",
      " [ 84.  79.  78.]\n",
      " [ 70.  74.  51.]\n",
      " [ 82.  80.  78.]\n",
      " [ 95.  72.  82.]\n",
      " [ 76.  75.  50.]\n",
      " [ 59.  78.  35.]\n",
      " [ 88.  82.  75.]\n",
      " [ 96.  84.  85.]\n",
      " [ 58.  78.  50.]\n",
      " [ 77.  80.  74.]\n",
      " [ 63.  80.  55.]\n",
      " [ 86.  75.  97.]\n",
      " [ 80.  78.  69.]\n",
      " [ 68.  80.  65.]\n",
      " [ 77.  81.  79.]\n",
      " [ 74.  82.  61.]\n",
      " [ 84.  78.  79.]\n",
      " [ 82.  76.  89.]\n",
      " [ 64.  80.  67.]\n",
      " [ 73.  84.  66.]\n",
      " [ 92.  76.  88.]\n",
      " [ 68.  80.  62.]\n",
      " [ 74.  60.  51.]\n",
      " [ 83.  81.  66.]\n",
      " [ 82.  80.  62.]\n",
      " [ 72.  83.  71.]\n",
      " [ 75.  83.  77.]\n",
      " [ 89.  78.  61.]\n",
      " [ 81.  80.  62.]\n",
      " [ 51.  62.  19.]\n",
      " [ 87.  80.  78.]\n",
      " [ 64.  76.  37.]\n",
      " [ 61.  81.  80.]\n",
      " [ 72.  73.  93.]\n",
      " [ 86.  78.  80.]\n",
      " [ 92.  86.  86.]\n",
      " [ 50.  77.  56.]\n",
      " [ 89.  88.  82.]\n",
      " [ 80.  80.  82.]\n",
      " [ 74.  76.  88.]\n",
      " [ 54.  78.  44.]\n",
      " [ 68.  86.  71.]\n",
      " [ 67.  81.  89.]\n",
      " [ 25.  71.  36.]\n",
      " [ 72.  74.  75.]\n",
      " [ 66.  73.  58.]\n",
      " [ 66.  81.  91.]\n",
      " [ 81.  84.  85.]\n",
      " [ 86.  84.  78.]\n",
      " [ 50.  74.  60.]\n",
      " [ 55.  51.  23.]\n",
      " [ 66.  81.  82.]\n",
      " [ 35.  80.  51.]\n",
      " [ 67.  77.  76.]\n",
      " [ 55.  75.  64.]\n",
      " [ 76.  78.  73.]\n",
      " [ 78.  83.  82.]\n",
      " [ 98.  88. 100.]\n",
      " [ 91.  83.  90.]\n",
      " [ 88.  89.  70.]\n",
      " [ 79.  83.  81.]\n",
      " [ 95.  89.  96.]\n",
      " [ 92.  87.  93.]\n",
      " [ 96.  85.  96.]\n",
      " [ 88.  81.  88.]\n",
      " [ 79.  85.  95.]\n",
      " [ 95.  86.  97.]\n",
      " [ 72.  80.  73.]\n",
      " [ 77.  85.  80.]\n",
      " [ 90.  81.  97.]\n",
      " [ 88.  86.  95.]\n",
      " [ 85.  85.  94.]\n",
      " [ 88.  85.  73.]\n",
      " [ 92.  80.  98.]\n",
      " [ 80.  83.  75.]\n",
      " [ 99.  85.  86.]\n",
      " [ 36.  76.  32.]\n",
      " [ 71.  78.  67.]\n",
      " [ 50.  78.  80.]\n",
      " [ 66.  75.  87.]\n",
      " [ 82.  71.  72.]\n",
      " [ 84.  81.  96.]\n",
      " [ 82.  79.  93.]\n",
      " [ 90.  83.  92.]\n",
      " [ 94.  86.  90.]\n",
      " [ 84.  88.  78.]\n",
      " [ 72.  79.  82.]\n",
      " [ 94.  84.  74.]\n",
      " [ 54.  77.  54.]\n",
      " [ 98.  82.  81.]\n",
      " [ 94.  82.  94.]\n",
      " [ 93.  88.  92.]\n",
      " [ 75.  79.  92.]\n",
      " [ 81.  84.  92.]\n",
      " [ 69.  79.  68.]\n",
      " [ 69.  84.  72.]\n",
      " [ 60.  79.  52.]\n",
      " [ 89.  85.  80.]\n",
      " [ 87.  83.  87.]\n",
      " [ 95.  84.  92.]\n",
      " [ 84.  79.  78.]\n",
      " [ 90.  80.  92.]\n",
      " [ 94.  81.  82.]\n",
      " [ 87.  83.  90.]\n",
      " [ 73.  81.  68.]\n",
      " [ 90.  83.  68.]\n",
      " [ 87.  78.  76.]]\n",
      "[79. 81. 75. 76. 88. 81. 85. 77. 79. 77. 90. 80. 79. 79. 78. 76. 89. 84.\n",
      " 83. 83. 87. 80. 73. 76. 78. 74. 76. 80. 76. 73. 76. 80. 72. 76. 76. 80.\n",
      " 71. 77. 71. 77. 80. 75. 76. 83. 81. 77. 78. 80. 81. 80. 83. 73. 84. 81.\n",
      " 82. 77. 76. 64. 81. 77. 78. 73. 79. 81. 75. 86. 87. 81. 83. 83. 83. 79.\n",
      " 87. 80. 74. 79. 83. 86. 59. 89. 80. 84. 79. 79. 86. 87. 81. 79. 87. 84.\n",
      " 76. 85. 88. 88. 87. 77. 81. 82. 89. 79. 81. 85. 85. 80. 78. 81. 73. 84.\n",
      " 82. 60. 82. 86. 78. 81. 84. 72. 81. 75. 83. 79. 72. 68. 70. 83. 85. 77.\n",
      " 84. 83. 83. 84. 62. 85. 80. 77. 77. 76. 80. 83. 67. 75. 72. 69. 75. 80.\n",
      " 73. 74. 71. 76. 73. 71. 82. 72. 75. 83. 76. 62. 71. 41. 80. 75. 76. 75.\n",
      " 72. 80. 60. 70. 74. 75. 76. 72. 71. 66. 80. 70. 70. 75. 73. 76. 71. 76.\n",
      " 77. 70. 85. 81. 80. 76. 74. 77. 85. 73. 79. 82. 76. 81. 80. 76. 83. 85.\n",
      " 80. 78. 84. 84. 76. 75. 82. 80. 80. 80. 76. 80. 83. 74. 73. 80. 81. 81.\n",
      " 72. 80. 74. 77. 82. 83. 61. 89. 66. 69. 69. 82. 73. 74. 72. 75. 77. 64.\n",
      " 74. 76. 78. 73. 83. 74. 75. 70. 68. 79. 77. 71. 75. 70. 73. 72. 71. 76.\n",
      " 76. 77. 61. 70. 76. 81. 70. 80. 83. 78. 78. 75. 67. 71. 73. 72. 69. 80.\n",
      " 71. 78. 79. 78. 69. 68. 77. 73. 76. 67. 79. 75. 86. 74. 90. 78. 86. 86.\n",
      " 88. 82. 83. 88. 85. 84. 80. 81. 84. 83. 83. 77. 86. 63. 82. 76. 79. 76.\n",
      " 71. 77. 77. 82. 80. 72. 80. 80. 79. 82. 75. 74. 82. 74. 80. 76. 80. 82.\n",
      " 81. 76. 79. 79. 77. 80. 76. 78.]\n"
     ]
    }
   ],
   "source": [
    "from sklearn.linear_model import LinearRegression\n",
    "lm = LinearRegression()\n",
    "\n",
    "subjects = data.loc[:,[\"Chem.SemMark\",\"English.SemMark\",\"Geo.SemMark\"]].values\n",
    "physics = data.loc[:, \"Physics.SemMark\"].values \n",
    "print(subjects)\n",
    "print(physics)"
   ]
  },
  {
   "cell_type": "code",
   "execution_count": 40,
   "metadata": {},
   "outputs": [
    {
     "data": {
      "text/plain": [
       "LinearRegression()"
      ]
     },
     "execution_count": 40,
     "metadata": {},
     "output_type": "execute_result"
    }
   ],
   "source": [
    "lm.fit(subjects,physics)"
   ]
  },
  {
   "cell_type": "code",
   "execution_count": 41,
   "metadata": {
    "scrolled": true
   },
   "outputs": [
    {
     "name": "stdout",
     "output_type": "stream",
     "text": [
      "43.957974087798604\n",
      "[0.08139218 0.25461271 0.09450665]\n"
     ]
    }
   ],
   "source": [
    "# beta 0 or intercept value\n",
    "print(lm.intercept_) \n",
    "\n",
    "# beta_1 and beta_2\n",
    "print(lm.coef_) # Check the coefficientts"
   ]
  },
  {
   "cell_type": "markdown",
   "metadata": {},
   "source": [
    "<br>\n",
    "Therefore, the equation of our multivariate linear regression model (based on chem,english and geo marks only) is:\n",
    "\n",
    "$$\\textrm{Phys.SemMark} = 43.96  + 0.08 \\times \\textrm{Chem.SemMark} + 0.25 \\times \\textrm{Eng.SemMark} +  0.09 \\times \\textrm{Geo.SemMark} $$\n",
    "\n",
    "rounded off to the nearest 2 decimal places.\n",
    "\n",
    "\n",
    "Next we will calculate r2 score to compare with the second linear regression model.\n",
    "</br>\n"
   ]
  },
  {
   "cell_type": "code",
   "execution_count": 42,
   "metadata": {},
   "outputs": [
    {
     "name": "stdout",
     "output_type": "stream",
     "text": [
      "0.33753542885950727\n"
     ]
    }
   ],
   "source": [
    "y2_pred = lm.predict(subjects)\n",
    "from sklearn.metrics import r2_score\n",
    "print(r2_score(physics,y2_pred))"
   ]
  },
  {
   "cell_type": "code",
   "execution_count": 43,
   "metadata": {},
   "outputs": [],
   "source": [
    "sem_marks = data[['Program ID','Chem.SemMark','Physics.SemMark','English.SemMark','Geo.SemMark']]"
   ]
  },
  {
   "cell_type": "code",
   "execution_count": 44,
   "metadata": {},
   "outputs": [
    {
     "data": {
      "image/png": "[encoded data removed]",
      "text/plain": [
       "<Figure size 864x864 with 1 Axes>"
      ]
     },
     "metadata": {
      "needs_background": "light"
     },
     "output_type": "display_data"
    }
   ],
   "source": [
    "#boxplot of all the marks to show outliers.\n",
    "sem_marks.boxplot(figsize=(12,12))\n",
    "plt.show()"
   ]
  },
  {
   "cell_type": "code",
   "execution_count": 45,
   "metadata": {},
   "outputs": [
    {
     "data": {
      "image/png": "[encoded data removed]",
      "text/plain": [
       "<Figure size 864x864 with 4 Axes>"
      ]
     },
     "metadata": {
      "needs_background": "light"
     },
     "output_type": "display_data"
    }
   ],
   "source": [
    "sem_marks.hist(bins=30,figsize=(12,12))\n",
    "plt.show()"
   ]
  },
  {
   "cell_type": "markdown",
   "metadata": {},
   "source": [
    "From the boxplot, There are a fair amount of outliers. we will trim the data and remove the outliers that could potentially affect the ML model. Below we will find the boundaries of the semmark of each variable."
   ]
  },
  {
   "cell_type": "code",
   "execution_count": 46,
   "metadata": {},
   "outputs": [
    {
     "name": "stdout",
     "output_type": "stream",
     "text": [
      "The upper and lower limits of Chem.SemMark is (113.5, 45.5)\n",
      "The upper and lower limits of Physics.SemMark is (94.0, 62.0)\n",
      "The upper and lower limits of English.SemMark is (92.0, 68.0)\n",
      "The upper and lower limits of Geo.SemMark is (118.0, 38.0)\n"
     ]
    }
   ],
   "source": [
    "def find_boundaries(df, variable, distance):\n",
    "\n",
    "    IQR = df[variable].quantile(0.75) - df[variable].quantile(0.25)\n",
    "\n",
    "    lower_boundary = df[variable].quantile(0.25) - (IQR * distance)\n",
    "    upper_boundary = df[variable].quantile(0.75) + (IQR * distance)\n",
    "\n",
    "    return upper_boundary, lower_boundary\n",
    "\n",
    "SM = ['Chem.SemMark','Physics.SemMark','English.SemMark','Geo.SemMark']\n",
    "\n",
    "for i in SM:\n",
    "    print('The upper and lower limits of', i, 'is', find_boundaries(sem_marks, i,1.5))\n",
    "\n"
   ]
  },
  {
   "cell_type": "markdown",
   "metadata": {},
   "source": [
    "From the results above, it seems like\n",
    "To preserve the distribution of the data and prevent skewing of the results, We will take a more conservative approach to trim outliers based on the upper and lower limits illustrated above. We will trim the values outside of the highers upper limit and the lowest lower limit from those illustratated above. \n",
    "From what we see, the lowest lower limit is from Geo.SemMark.The highest upper limit is 118, also from Geo.SemMark. As both extremes are from Geo.SemMark, we will use this variable to do trimming of outliers.As marks maximum is 100, any upper limit that is above 100 can be disregarded."
   ]
  },
  {
   "cell_type": "code",
   "execution_count": 47,
   "metadata": {},
   "outputs": [],
   "source": [
    "RM_upper_limit,RM_lower_limit = find_boundaries(sem_marks,'Geo.SemMark',1.5)"
   ]
  },
  {
   "cell_type": "code",
   "execution_count": 48,
   "metadata": {},
   "outputs": [],
   "source": [
    "outliers = np.where(sem_marks['Geo.SemMark'] > RM_upper_limit , True,\n",
    "                       np.where(sem_marks['Geo.SemMark'] < RM_lower_limit, True, False))"
   ]
  },
  {
   "cell_type": "code",
   "execution_count": 49,
   "metadata": {},
   "outputs": [],
   "source": [
    "marks = sem_marks.loc[~outliers ]"
   ]
  },
  {
   "cell_type": "code",
   "execution_count": 50,
   "metadata": {},
   "outputs": [
    {
     "data": {
      "text/plain": [
       "(319, 5)"
      ]
     },
     "execution_count": 50,
     "metadata": {},
     "output_type": "execute_result"
    }
   ],
   "source": [
    "marks.shape"
   ]
  },
  {
   "cell_type": "markdown",
   "metadata": {},
   "source": [
    "as we can see from above 319 rows compared to 332 entries before the outliers were trimmed. only 13 values were trimmed, which would remove outliers but not have a huge impact on the original distribution of the data.\n",
    "\n",
    "Next we will do categorical encoding for Program ID and redo the linear model."
   ]
  },
  {
   "cell_type": "code",
   "execution_count": 51,
   "metadata": {},
   "outputs": [],
   "source": [
    "from sklearn.model_selection import train_test_split\n",
    "from feature_engine.encoding import OneHotEncoder, OrdinalEncoder\n"
   ]
  },
  {
   "cell_type": "code",
   "execution_count": 52,
   "metadata": {},
   "outputs": [
    {
     "data": {
      "text/plain": [
       "((223, 4), (96, 4))"
      ]
     },
     "execution_count": 52,
     "metadata": {},
     "output_type": "execute_result"
    }
   ],
   "source": [
    "X_train, X_test, y_train, y_test = train_test_split(\n",
    "    marks.drop('Physics.SemMark', axis=1), marks['Physics.SemMark'], test_size=0.3, random_state=0)\n",
    "\n",
    "X_train.shape, X_test.shape"
   ]
  },
  {
   "cell_type": "code",
   "execution_count": 53,
   "metadata": {},
   "outputs": [
    {
     "data": {
      "text/plain": [
       "OneHotEncoder(variables=['Program ID'])"
      ]
     },
     "execution_count": 53,
     "metadata": {},
     "output_type": "execute_result"
    }
   ],
   "source": [
    "ohe_enc = OneHotEncoder(\n",
    "    # to indicate how many top categories\n",
    "    top_categories=None,  \n",
    "    # we can select which variables to encode\n",
    "    variables=['Program ID'],\n",
    "    # to indicate if we drop one of the binaries\n",
    "    drop_last=False)\n",
    "\n",
    "ohe_enc.fit(X_train)"
   ]
  },
  {
   "cell_type": "code",
   "execution_count": 54,
   "metadata": {},
   "outputs": [],
   "source": [
    "X_train_ohe = ohe_enc.transform(X_train)"
   ]
  },
  {
   "cell_type": "code",
   "execution_count": 55,
   "metadata": {},
   "outputs": [
    {
     "data": {
      "text/html": [
       "<div>\n",
       "<style scoped>\n",
       "    .dataframe tbody tr th:only-of-type {\n",
       "        vertical-align: middle;\n",
       "    }\n",
       "\n",
       "    .dataframe tbody tr th {\n",
       "        vertical-align: top;\n",
       "    }\n",
       "\n",
       "    .dataframe thead th {\n",
       "        text-align: right;\n",
       "    }\n",
       "</style>\n",
       "<table border=\"1\" class=\"dataframe\">\n",
       "  <thead>\n",
       "    <tr style=\"text-align: right;\">\n",
       "      <th></th>\n",
       "      <th>Chem.SemMark</th>\n",
       "      <th>English.SemMark</th>\n",
       "      <th>Geo.SemMark</th>\n",
       "      <th>Program ID_Prog_D</th>\n",
       "      <th>Program ID_Prog_A</th>\n",
       "      <th>Program ID_Prog_C</th>\n",
       "      <th>Program ID_Prog_E</th>\n",
       "      <th>Program ID_Prog_B</th>\n",
       "    </tr>\n",
       "  </thead>\n",
       "  <tbody>\n",
       "    <tr>\n",
       "      <th>305</th>\n",
       "      <td>71</td>\n",
       "      <td>78.0</td>\n",
       "      <td>67.0</td>\n",
       "      <td>1</td>\n",
       "      <td>0</td>\n",
       "      <td>0</td>\n",
       "      <td>0</td>\n",
       "      <td>0</td>\n",
       "    </tr>\n",
       "    <tr>\n",
       "      <th>275</th>\n",
       "      <td>81</td>\n",
       "      <td>84.0</td>\n",
       "      <td>85.0</td>\n",
       "      <td>0</td>\n",
       "      <td>1</td>\n",
       "      <td>0</td>\n",
       "      <td>0</td>\n",
       "      <td>0</td>\n",
       "    </tr>\n",
       "    <tr>\n",
       "      <th>217</th>\n",
       "      <td>98</td>\n",
       "      <td>89.0</td>\n",
       "      <td>94.0</td>\n",
       "      <td>0</td>\n",
       "      <td>0</td>\n",
       "      <td>1</td>\n",
       "      <td>0</td>\n",
       "      <td>0</td>\n",
       "    </tr>\n",
       "    <tr>\n",
       "      <th>93</th>\n",
       "      <td>90</td>\n",
       "      <td>77.0</td>\n",
       "      <td>82.0</td>\n",
       "      <td>0</td>\n",
       "      <td>0</td>\n",
       "      <td>0</td>\n",
       "      <td>1</td>\n",
       "      <td>0</td>\n",
       "    </tr>\n",
       "    <tr>\n",
       "      <th>261</th>\n",
       "      <td>72</td>\n",
       "      <td>73.0</td>\n",
       "      <td>93.0</td>\n",
       "      <td>0</td>\n",
       "      <td>1</td>\n",
       "      <td>0</td>\n",
       "      <td>0</td>\n",
       "      <td>0</td>\n",
       "    </tr>\n",
       "    <tr>\n",
       "      <th>...</th>\n",
       "      <td>...</td>\n",
       "      <td>...</td>\n",
       "      <td>...</td>\n",
       "      <td>...</td>\n",
       "      <td>...</td>\n",
       "      <td>...</td>\n",
       "      <td>...</td>\n",
       "      <td>...</td>\n",
       "    </tr>\n",
       "    <tr>\n",
       "      <th>264</th>\n",
       "      <td>50</td>\n",
       "      <td>77.0</td>\n",
       "      <td>56.0</td>\n",
       "      <td>0</td>\n",
       "      <td>1</td>\n",
       "      <td>0</td>\n",
       "      <td>0</td>\n",
       "      <td>0</td>\n",
       "    </tr>\n",
       "    <tr>\n",
       "      <th>200</th>\n",
       "      <td>76</td>\n",
       "      <td>83.0</td>\n",
       "      <td>70.0</td>\n",
       "      <td>0</td>\n",
       "      <td>0</td>\n",
       "      <td>1</td>\n",
       "      <td>0</td>\n",
       "      <td>0</td>\n",
       "    </tr>\n",
       "    <tr>\n",
       "      <th>121</th>\n",
       "      <td>67</td>\n",
       "      <td>82.0</td>\n",
       "      <td>75.0</td>\n",
       "      <td>0</td>\n",
       "      <td>0</td>\n",
       "      <td>0</td>\n",
       "      <td>1</td>\n",
       "      <td>0</td>\n",
       "    </tr>\n",
       "    <tr>\n",
       "      <th>49</th>\n",
       "      <td>74</td>\n",
       "      <td>75.0</td>\n",
       "      <td>88.0</td>\n",
       "      <td>0</td>\n",
       "      <td>0</td>\n",
       "      <td>0</td>\n",
       "      <td>0</td>\n",
       "      <td>1</td>\n",
       "    </tr>\n",
       "    <tr>\n",
       "      <th>180</th>\n",
       "      <td>72</td>\n",
       "      <td>85.0</td>\n",
       "      <td>66.0</td>\n",
       "      <td>0</td>\n",
       "      <td>0</td>\n",
       "      <td>0</td>\n",
       "      <td>1</td>\n",
       "      <td>0</td>\n",
       "    </tr>\n",
       "  </tbody>\n",
       "</table>\n",
       "<p>223 rows × 8 columns</p>\n",
       "</div>"
      ],
      "text/plain": [
       "     Chem.SemMark  English.SemMark  Geo.SemMark  Program ID_Prog_D  \\\n",
       "305            71             78.0         67.0                  1   \n",
       "275            81             84.0         85.0                  0   \n",
       "217            98             89.0         94.0                  0   \n",
       "93             90             77.0         82.0                  0   \n",
       "261            72             73.0         93.0                  0   \n",
       "..            ...              ...          ...                ...   \n",
       "264            50             77.0         56.0                  0   \n",
       "200            76             83.0         70.0                  0   \n",
       "121            67             82.0         75.0                  0   \n",
       "49             74             75.0         88.0                  0   \n",
       "180            72             85.0         66.0                  0   \n",
       "\n",
       "     Program ID_Prog_A  Program ID_Prog_C  Program ID_Prog_E  \\\n",
       "305                  0                  0                  0   \n",
       "275                  1                  0                  0   \n",
       "217                  0                  1                  0   \n",
       "93                   0                  0                  1   \n",
       "261                  1                  0                  0   \n",
       "..                 ...                ...                ...   \n",
       "264                  1                  0                  0   \n",
       "200                  0                  1                  0   \n",
       "121                  0                  0                  1   \n",
       "49                   0                  0                  0   \n",
       "180                  0                  0                  1   \n",
       "\n",
       "     Program ID_Prog_B  \n",
       "305                  0  \n",
       "275                  0  \n",
       "217                  0  \n",
       "93                   0  \n",
       "261                  0  \n",
       "..                 ...  \n",
       "264                  0  \n",
       "200                  0  \n",
       "121                  0  \n",
       "49                   1  \n",
       "180                  0  \n",
       "\n",
       "[223 rows x 8 columns]"
      ]
     },
     "execution_count": 55,
     "metadata": {},
     "output_type": "execute_result"
    }
   ],
   "source": [
    "X_train_ohe"
   ]
  },
  {
   "cell_type": "code",
   "execution_count": 56,
   "metadata": {},
   "outputs": [
    {
     "name": "stdout",
     "output_type": "stream",
     "text": [
      "r2 for X_train_ohe : 0.30839170998087784\n"
     ]
    }
   ],
   "source": [
    "\n",
    "lm2 = LinearRegression()\n",
    "\n",
    "model = lm2.fit(X_train_ohe, y_train)\n",
    "print('r2 for X_train_ohe :',lm2.score(X_train_ohe, y_train))"
   ]
  },
  {
   "cell_type": "code",
   "execution_count": 57,
   "metadata": {},
   "outputs": [],
   "source": [
    "# decreases r2 using OHE. however can we try ordered ordinal encoding?"
   ]
  },
  {
   "cell_type": "code",
   "execution_count": 69,
   "metadata": {},
   "outputs": [
    {
     "name": "stdout",
     "output_type": "stream",
     "text": [
      "r2 score (predict X train)\n",
      "0.30839170998087784\n"
     ]
    }
   ],
   "source": [
    "Xtrain_pred = lm2.predict(X_train_ohe)\n",
    "from sklearn.metrics import r2_score\n",
    "print('r2 score (predict X train)')\n",
    "print(r2_score(y_train,Xtrain_pred))"
   ]
  },
  {
   "cell_type": "code",
   "execution_count": 59,
   "metadata": {},
   "outputs": [
    {
     "name": "stdout",
     "output_type": "stream",
     "text": [
      "47.628280095196345\n",
      "[ 0.14291335  0.18052384  0.05789408  0.78540692 -1.90871431  0.27216426\n",
      " -0.06478786  0.91593099]\n"
     ]
    }
   ],
   "source": [
    "print(lm2.intercept_) \n",
    "\n",
    "# beta_1 and beta_2\n",
    "print(lm2.coef_) "
   ]
  },
  {
   "cell_type": "code",
   "execution_count": 60,
   "metadata": {},
   "outputs": [
    {
     "name": "stdout",
     "output_type": "stream",
     "text": [
      "r2 for X_test_ohe : 0.26874988849771553\n"
     ]
    }
   ],
   "source": [
    "# repeat for X test\n",
    "X_test_ohe = ohe_enc.transform(X_test)\n",
    "model_test = lm.fit(X_test_ohe, y_test)\n",
    "print('r2 for X_test_ohe :',lm.score(X_test_ohe, y_test))"
   ]
  },
  {
   "cell_type": "code",
   "execution_count": 70,
   "metadata": {},
   "outputs": [
    {
     "name": "stdout",
     "output_type": "stream",
     "text": [
      "r2 score (predict X test)\n",
      "0.1578315846208661\n"
     ]
    }
   ],
   "source": [
    "Xtest_pred = lm2.predict(X_test_ohe)\n",
    "print('r2 score (predict X test)')\n",
    "print(r2_score(y_test,Xtest_pred))"
   ]
  },
  {
   "cell_type": "markdown",
   "metadata": {},
   "source": [
    "We can see that the score for X test does not improve.\n",
    "We will try ordered ordinal encoding also on X train just for comparison:"
   ]
  },
  {
   "cell_type": "code",
   "execution_count": 62,
   "metadata": {},
   "outputs": [
    {
     "data": {
      "text/plain": [
       "OrdinalEncoder()"
      ]
     },
     "execution_count": 62,
     "metadata": {},
     "output_type": "execute_result"
    }
   ],
   "source": [
    "ordinal_enc = OrdinalEncoder(\n",
    "    encoding_method='ordered')\n",
    "ordinal_enc.fit(X_train, y_train)"
   ]
  },
  {
   "cell_type": "code",
   "execution_count": 63,
   "metadata": {},
   "outputs": [
    {
     "data": {
      "text/html": [
       "<div>\n",
       "<style scoped>\n",
       "    .dataframe tbody tr th:only-of-type {\n",
       "        vertical-align: middle;\n",
       "    }\n",
       "\n",
       "    .dataframe tbody tr th {\n",
       "        vertical-align: top;\n",
       "    }\n",
       "\n",
       "    .dataframe thead th {\n",
       "        text-align: right;\n",
       "    }\n",
       "</style>\n",
       "<table border=\"1\" class=\"dataframe\">\n",
       "  <thead>\n",
       "    <tr style=\"text-align: right;\">\n",
       "      <th></th>\n",
       "      <th>Program ID</th>\n",
       "      <th>Chem.SemMark</th>\n",
       "      <th>English.SemMark</th>\n",
       "      <th>Geo.SemMark</th>\n",
       "    </tr>\n",
       "  </thead>\n",
       "  <tbody>\n",
       "    <tr>\n",
       "      <th>305</th>\n",
       "      <td>4</td>\n",
       "      <td>71</td>\n",
       "      <td>78.0</td>\n",
       "      <td>67.0</td>\n",
       "    </tr>\n",
       "    <tr>\n",
       "      <th>275</th>\n",
       "      <td>0</td>\n",
       "      <td>81</td>\n",
       "      <td>84.0</td>\n",
       "      <td>85.0</td>\n",
       "    </tr>\n",
       "    <tr>\n",
       "      <th>217</th>\n",
       "      <td>2</td>\n",
       "      <td>98</td>\n",
       "      <td>89.0</td>\n",
       "      <td>94.0</td>\n",
       "    </tr>\n",
       "    <tr>\n",
       "      <th>93</th>\n",
       "      <td>1</td>\n",
       "      <td>90</td>\n",
       "      <td>77.0</td>\n",
       "      <td>82.0</td>\n",
       "    </tr>\n",
       "    <tr>\n",
       "      <th>261</th>\n",
       "      <td>0</td>\n",
       "      <td>72</td>\n",
       "      <td>73.0</td>\n",
       "      <td>93.0</td>\n",
       "    </tr>\n",
       "    <tr>\n",
       "      <th>...</th>\n",
       "      <td>...</td>\n",
       "      <td>...</td>\n",
       "      <td>...</td>\n",
       "      <td>...</td>\n",
       "    </tr>\n",
       "    <tr>\n",
       "      <th>264</th>\n",
       "      <td>0</td>\n",
       "      <td>50</td>\n",
       "      <td>77.0</td>\n",
       "      <td>56.0</td>\n",
       "    </tr>\n",
       "    <tr>\n",
       "      <th>200</th>\n",
       "      <td>2</td>\n",
       "      <td>76</td>\n",
       "      <td>83.0</td>\n",
       "      <td>70.0</td>\n",
       "    </tr>\n",
       "    <tr>\n",
       "      <th>121</th>\n",
       "      <td>1</td>\n",
       "      <td>67</td>\n",
       "      <td>82.0</td>\n",
       "      <td>75.0</td>\n",
       "    </tr>\n",
       "    <tr>\n",
       "      <th>49</th>\n",
       "      <td>3</td>\n",
       "      <td>74</td>\n",
       "      <td>75.0</td>\n",
       "      <td>88.0</td>\n",
       "    </tr>\n",
       "    <tr>\n",
       "      <th>180</th>\n",
       "      <td>1</td>\n",
       "      <td>72</td>\n",
       "      <td>85.0</td>\n",
       "      <td>66.0</td>\n",
       "    </tr>\n",
       "  </tbody>\n",
       "</table>\n",
       "<p>223 rows × 4 columns</p>\n",
       "</div>"
      ],
      "text/plain": [
       "     Program ID  Chem.SemMark  English.SemMark  Geo.SemMark\n",
       "305           4            71             78.0         67.0\n",
       "275           0            81             84.0         85.0\n",
       "217           2            98             89.0         94.0\n",
       "93            1            90             77.0         82.0\n",
       "261           0            72             73.0         93.0\n",
       "..          ...           ...              ...          ...\n",
       "264           0            50             77.0         56.0\n",
       "200           2            76             83.0         70.0\n",
       "121           1            67             82.0         75.0\n",
       "49            3            74             75.0         88.0\n",
       "180           1            72             85.0         66.0\n",
       "\n",
       "[223 rows x 4 columns]"
      ]
     },
     "execution_count": 63,
     "metadata": {},
     "output_type": "execute_result"
    }
   ],
   "source": [
    "X_train_enc = ordinal_enc.transform(X_train)\n",
    "X_train_enc"
   ]
  },
  {
   "cell_type": "code",
   "execution_count": 64,
   "metadata": {},
   "outputs": [
    {
     "name": "stdout",
     "output_type": "stream",
     "text": [
      "r2 for X_train_enc : 0.3025066883651425\n"
     ]
    }
   ],
   "source": [
    "model2 = lm.fit(X_train_enc, y_train)\n",
    "print('r2 for X_train_enc :',lm.score(X_train_enc, y_train))"
   ]
  },
  {
   "cell_type": "code",
   "execution_count": 65,
   "metadata": {},
   "outputs": [
    {
     "name": "stdout",
     "output_type": "stream",
     "text": [
      "47.56419811696814\n",
      "[0.57382087 0.14770498 0.16254802 0.05902115]\n"
     ]
    }
   ],
   "source": [
    "print(lm.intercept_) \n",
    "\n",
    "# beta_1 and beta_2\n",
    "print(lm.coef_) "
   ]
  },
  {
   "cell_type": "markdown",
   "metadata": {},
   "source": [
    "relying on numerical variables alone gave better accuracy due to slightly higher r2 value. Perhaps program ID is not a good indicator to the eventual physics mark of the student."
   ]
  },
  {
   "cell_type": "code",
   "execution_count": null,
   "metadata": {},
   "outputs": [],
   "source": []
  }
 ],
 "metadata": {
  "kernelspec": {
   "display_name": "Python 3",
   "language": "python",
   "name": "python3"
  },
  "language_info": {
   "codemirror_mode": {
    "name": "ipython",
    "version": 3
   },
   "file_extension": ".py",
   "mimetype": "text/x-python",
   "name": "python",
   "nbconvert_exporter": "python",
   "pygments_lexer": "ipython3",
   "version": "3.8.5"
  }
 },
 "nbformat": 4,
 "nbformat_minor": 4
}
