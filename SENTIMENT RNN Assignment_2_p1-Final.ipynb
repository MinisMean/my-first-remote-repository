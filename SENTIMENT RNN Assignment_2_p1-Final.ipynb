{
 "cells": [
  {
   "cell_type": "markdown",
   "metadata": {},
   "source": [
    "<table class=\"table table-bordered\">\n",
    "    <tr>\n",
    "        <th style=\"text-align:center; width:50%\"><img src='https://www.np.edu.sg/images/default-source/edm/schools-logos/ict-logo-full-colour.jpg'\"></th>\n",
    "        <th style=\"text-align:center;\"><h1>Deep Learning</h1><h2>Assignment 2 (Problem 1) - Sentiment Analysis Model </h2</th>\n",
    "    </tr>\n",
    "</table>"
   ]
  },
  {
   "cell_type": "code",
   "execution_count": 1,
   "metadata": {},
   "outputs": [],
   "source": [
    "# Import the Required Packages\n",
    "import pandas as pd\n",
    "import numpy as np\n",
    "import keras\n",
    "from keras.preprocessing.text import Tokenizer\n",
    "from tensorflow.keras.preprocessing.sequence import pad_sequences\n",
    "from keras.preprocessing.text import Tokenizer\n",
    "from keras.layers import Embedding, LSTM, Dense, Flatten\n",
    "from keras.models import Sequential\n",
    "from sklearn.model_selection import train_test_split\n",
    "import matplotlib.pyplot as plt\n",
    "import re\n",
    "from keras.layers import Embedding\n"
   ]
  },
  {
   "cell_type": "markdown",
   "metadata": {},
   "source": [
    "## Step 1 – Data Loading and Processing"
   ]
  },
  {
   "cell_type": "markdown",
   "metadata": {},
   "source": [
    "### 1.1 Data Loading"
   ]
  },
  {
   "cell_type": "code",
   "execution_count": 2,
   "metadata": {},
   "outputs": [
    {
     "data": {
      "text/html": [
       "<div>\n",
       "<style scoped>\n",
       "    .dataframe tbody tr th:only-of-type {\n",
       "        vertical-align: middle;\n",
       "    }\n",
       "\n",
       "    .dataframe tbody tr th {\n",
       "        vertical-align: top;\n",
       "    }\n",
       "\n",
       "    .dataframe thead th {\n",
       "        text-align: right;\n",
       "    }\n",
       "</style>\n",
       "<table border=\"1\" class=\"dataframe\">\n",
       "  <thead>\n",
       "    <tr style=\"text-align: right;\">\n",
       "      <th></th>\n",
       "      <th>reviewId</th>\n",
       "      <th>userName</th>\n",
       "      <th>userImage</th>\n",
       "      <th>content</th>\n",
       "      <th>score</th>\n",
       "      <th>thumbsUpCount</th>\n",
       "      <th>reviewCreatedVersion</th>\n",
       "      <th>at</th>\n",
       "      <th>replyContent</th>\n",
       "      <th>repliedAt</th>\n",
       "    </tr>\n",
       "  </thead>\n",
       "  <tbody>\n",
       "    <tr>\n",
       "      <th>0</th>\n",
       "      <td>7580cee0-5fa8-49a7-9680-7166a48cb94f</td>\n",
       "      <td>star hernandez</td>\n",
       "      <td>https://play-lh.googleusercontent.com/a-/AD5-W...</td>\n",
       "      <td>I love sonic alot and being able to play it ag...</td>\n",
       "      <td>5</td>\n",
       "      <td>0</td>\n",
       "      <td>3.8.1</td>\n",
       "      <td>2023-01-21 08:34:58</td>\n",
       "      <td>NaN</td>\n",
       "      <td>NaN</td>\n",
       "    </tr>\n",
       "    <tr>\n",
       "      <th>1</th>\n",
       "      <td>aac37283-c39a-4bfe-8ee3-0be29241b74d</td>\n",
       "      <td>один пять-</td>\n",
       "      <td>https://play-lh.googleusercontent.com/a-/AD5-W...</td>\n",
       "      <td>I remember seeing this game on store shelves a...</td>\n",
       "      <td>4</td>\n",
       "      <td>0</td>\n",
       "      <td>3.8.1</td>\n",
       "      <td>2023-01-21 05:05:30</td>\n",
       "      <td>NaN</td>\n",
       "      <td>NaN</td>\n",
       "    </tr>\n",
       "    <tr>\n",
       "      <th>2</th>\n",
       "      <td>60b7c980-1479-4d2d-a8af-96f6bf1f84d8</td>\n",
       "      <td>Antonio Flores</td>\n",
       "      <td>https://play-lh.googleusercontent.com/a-/AD5-W...</td>\n",
       "      <td>Good</td>\n",
       "      <td>5</td>\n",
       "      <td>0</td>\n",
       "      <td>3.8.1</td>\n",
       "      <td>2023-01-20 22:41:53</td>\n",
       "      <td>NaN</td>\n",
       "      <td>NaN</td>\n",
       "    </tr>\n",
       "    <tr>\n",
       "      <th>3</th>\n",
       "      <td>436fb8ba-d594-423c-8dad-0494b09303c3</td>\n",
       "      <td>Scorpion Hitam</td>\n",
       "      <td>https://play-lh.googleusercontent.com/a/AEdFTp...</td>\n",
       "      <td>I like sonic 1</td>\n",
       "      <td>5</td>\n",
       "      <td>0</td>\n",
       "      <td>3.8.1</td>\n",
       "      <td>2023-01-20 21:11:13</td>\n",
       "      <td>NaN</td>\n",
       "      <td>NaN</td>\n",
       "    </tr>\n",
       "    <tr>\n",
       "      <th>4</th>\n",
       "      <td>781a39e1-29eb-4976-9241-a6e42d1e2238</td>\n",
       "      <td>R Praveena</td>\n",
       "      <td>https://play-lh.googleusercontent.com/a-/AD5-W...</td>\n",
       "      <td>I like this game but I can't become super sonic!</td>\n",
       "      <td>4</td>\n",
       "      <td>0</td>\n",
       "      <td>3.8.1</td>\n",
       "      <td>2023-01-20 19:16:39</td>\n",
       "      <td>NaN</td>\n",
       "      <td>NaN</td>\n",
       "    </tr>\n",
       "  </tbody>\n",
       "</table>\n",
       "</div>"
      ],
      "text/plain": [
       "                               reviewId        userName  \\\n",
       "0  7580cee0-5fa8-49a7-9680-7166a48cb94f  star hernandez   \n",
       "1  aac37283-c39a-4bfe-8ee3-0be29241b74d      один пять-   \n",
       "2  60b7c980-1479-4d2d-a8af-96f6bf1f84d8  Antonio Flores   \n",
       "3  436fb8ba-d594-423c-8dad-0494b09303c3  Scorpion Hitam   \n",
       "4  781a39e1-29eb-4976-9241-a6e42d1e2238      R Praveena   \n",
       "\n",
       "                                           userImage  \\\n",
       "0  https://play-lh.googleusercontent.com/a-/AD5-W...   \n",
       "1  https://play-lh.googleusercontent.com/a-/AD5-W...   \n",
       "2  https://play-lh.googleusercontent.com/a-/AD5-W...   \n",
       "3  https://play-lh.googleusercontent.com/a/AEdFTp...   \n",
       "4  https://play-lh.googleusercontent.com/a-/AD5-W...   \n",
       "\n",
       "                                             content  score  thumbsUpCount  \\\n",
       "0  I love sonic alot and being able to play it ag...      5              0   \n",
       "1  I remember seeing this game on store shelves a...      4              0   \n",
       "2                                               Good      5              0   \n",
       "3                                     I like sonic 1      5              0   \n",
       "4   I like this game but I can't become super sonic!      4              0   \n",
       "\n",
       "  reviewCreatedVersion                   at replyContent repliedAt  \n",
       "0                3.8.1  2023-01-21 08:34:58          NaN       NaN  \n",
       "1                3.8.1  2023-01-21 05:05:30          NaN       NaN  \n",
       "2                3.8.1  2023-01-20 22:41:53          NaN       NaN  \n",
       "3                3.8.1  2023-01-20 21:11:13          NaN       NaN  \n",
       "4                3.8.1  2023-01-20 19:16:39          NaN       NaN  "
      ]
     },
     "execution_count": 2,
     "metadata": {},
     "output_type": "execute_result"
    }
   ],
   "source": [
    "df=pd.read_csv('sonic_reviews.csv')\n",
    "df.head()"
   ]
  },
  {
   "cell_type": "code",
   "execution_count": 3,
   "metadata": {},
   "outputs": [
    {
     "name": "stdout",
     "output_type": "stream",
     "text": [
      "<class 'pandas.core.frame.DataFrame'>\n",
      "RangeIndex: 32769 entries, 0 to 32768\n",
      "Data columns (total 10 columns):\n",
      " #   Column                Non-Null Count  Dtype \n",
      "---  ------                --------------  ----- \n",
      " 0   reviewId              32769 non-null  object\n",
      " 1   userName              32769 non-null  object\n",
      " 2   userImage             32769 non-null  object\n",
      " 3   content               32762 non-null  object\n",
      " 4   score                 32769 non-null  int64 \n",
      " 5   thumbsUpCount         32769 non-null  int64 \n",
      " 6   reviewCreatedVersion  15797 non-null  object\n",
      " 7   at                    32769 non-null  object\n",
      " 8   replyContent          141 non-null    object\n",
      " 9   repliedAt             141 non-null    object\n",
      "dtypes: int64(2), object(8)\n",
      "memory usage: 2.5+ MB\n"
     ]
    }
   ],
   "source": [
    "df.info()"
   ]
  },
  {
   "cell_type": "code",
   "execution_count": 4,
   "metadata": {},
   "outputs": [
    {
     "data": {
      "text/html": [
       "<div>\n",
       "<style scoped>\n",
       "    .dataframe tbody tr th:only-of-type {\n",
       "        vertical-align: middle;\n",
       "    }\n",
       "\n",
       "    .dataframe tbody tr th {\n",
       "        vertical-align: top;\n",
       "    }\n",
       "\n",
       "    .dataframe thead th {\n",
       "        text-align: right;\n",
       "    }\n",
       "</style>\n",
       "<table border=\"1\" class=\"dataframe\">\n",
       "  <thead>\n",
       "    <tr style=\"text-align: right;\">\n",
       "      <th></th>\n",
       "      <th>score</th>\n",
       "      <th>thumbsUpCount</th>\n",
       "    </tr>\n",
       "  </thead>\n",
       "  <tbody>\n",
       "    <tr>\n",
       "      <th>count</th>\n",
       "      <td>32769.000000</td>\n",
       "      <td>32769.000000</td>\n",
       "    </tr>\n",
       "    <tr>\n",
       "      <th>mean</th>\n",
       "      <td>3.955537</td>\n",
       "      <td>2.876102</td>\n",
       "    </tr>\n",
       "    <tr>\n",
       "      <th>std</th>\n",
       "      <td>1.558846</td>\n",
       "      <td>31.173374</td>\n",
       "    </tr>\n",
       "    <tr>\n",
       "      <th>min</th>\n",
       "      <td>1.000000</td>\n",
       "      <td>0.000000</td>\n",
       "    </tr>\n",
       "    <tr>\n",
       "      <th>25%</th>\n",
       "      <td>3.000000</td>\n",
       "      <td>0.000000</td>\n",
       "    </tr>\n",
       "    <tr>\n",
       "      <th>50%</th>\n",
       "      <td>5.000000</td>\n",
       "      <td>0.000000</td>\n",
       "    </tr>\n",
       "    <tr>\n",
       "      <th>75%</th>\n",
       "      <td>5.000000</td>\n",
       "      <td>0.000000</td>\n",
       "    </tr>\n",
       "    <tr>\n",
       "      <th>max</th>\n",
       "      <td>5.000000</td>\n",
       "      <td>2031.000000</td>\n",
       "    </tr>\n",
       "  </tbody>\n",
       "</table>\n",
       "</div>"
      ],
      "text/plain": [
       "              score  thumbsUpCount\n",
       "count  32769.000000   32769.000000\n",
       "mean       3.955537       2.876102\n",
       "std        1.558846      31.173374\n",
       "min        1.000000       0.000000\n",
       "25%        3.000000       0.000000\n",
       "50%        5.000000       0.000000\n",
       "75%        5.000000       0.000000\n",
       "max        5.000000    2031.000000"
      ]
     },
     "execution_count": 4,
     "metadata": {},
     "output_type": "execute_result"
    }
   ],
   "source": [
    "df.describe()"
   ]
  },
  {
   "cell_type": "code",
   "execution_count": 5,
   "metadata": {},
   "outputs": [
    {
     "data": {
      "text/plain": [
       "reviewId                0.000000\n",
       "userName                0.000000\n",
       "userImage               0.000000\n",
       "content                 0.000214\n",
       "score                   0.000000\n",
       "thumbsUpCount           0.000000\n",
       "reviewCreatedVersion    0.517929\n",
       "at                      0.000000\n",
       "replyContent            0.995697\n",
       "repliedAt               0.995697\n",
       "dtype: float64"
      ]
     },
     "execution_count": 5,
     "metadata": {},
     "output_type": "execute_result"
    }
   ],
   "source": [
    "df.isnull().mean() # no missing values"
   ]
  },
  {
   "cell_type": "code",
   "execution_count": 6,
   "metadata": {},
   "outputs": [
    {
     "name": "stdout",
     "output_type": "stream",
     "text": [
      "<class 'pandas.core.frame.DataFrame'>\n",
      "RangeIndex: 32769 entries, 0 to 32768\n",
      "Data columns (total 10 columns):\n",
      " #   Column                Non-Null Count  Dtype \n",
      "---  ------                --------------  ----- \n",
      " 0   reviewId              32769 non-null  object\n",
      " 1   userName              32769 non-null  object\n",
      " 2   userImage             32769 non-null  object\n",
      " 3   content               32762 non-null  object\n",
      " 4   score                 32769 non-null  int64 \n",
      " 5   thumbsUpCount         32769 non-null  int64 \n",
      " 6   reviewCreatedVersion  15797 non-null  object\n",
      " 7   at                    32769 non-null  object\n",
      " 8   replyContent          141 non-null    object\n",
      " 9   repliedAt             141 non-null    object\n",
      "dtypes: int64(2), object(8)\n",
      "memory usage: 2.5+ MB\n"
     ]
    }
   ],
   "source": [
    "df.info()"
   ]
  },
  {
   "cell_type": "code",
   "execution_count": 7,
   "metadata": {
    "scrolled": true
   },
   "outputs": [
    {
     "data": {
      "text/html": [
       "<div>\n",
       "<style scoped>\n",
       "    .dataframe tbody tr th:only-of-type {\n",
       "        vertical-align: middle;\n",
       "    }\n",
       "\n",
       "    .dataframe tbody tr th {\n",
       "        vertical-align: top;\n",
       "    }\n",
       "\n",
       "    .dataframe thead th {\n",
       "        text-align: right;\n",
       "    }\n",
       "</style>\n",
       "<table border=\"1\" class=\"dataframe\">\n",
       "  <thead>\n",
       "    <tr style=\"text-align: right;\">\n",
       "      <th></th>\n",
       "      <th>content</th>\n",
       "      <th>score</th>\n",
       "    </tr>\n",
       "  </thead>\n",
       "  <tbody>\n",
       "    <tr>\n",
       "      <th>0</th>\n",
       "      <td>I love sonic alot and being able to play it ag...</td>\n",
       "      <td>5</td>\n",
       "    </tr>\n",
       "    <tr>\n",
       "      <th>1</th>\n",
       "      <td>I remember seeing this game on store shelves a...</td>\n",
       "      <td>4</td>\n",
       "    </tr>\n",
       "    <tr>\n",
       "      <th>2</th>\n",
       "      <td>Good</td>\n",
       "      <td>5</td>\n",
       "    </tr>\n",
       "    <tr>\n",
       "      <th>3</th>\n",
       "      <td>I like sonic 1</td>\n",
       "      <td>5</td>\n",
       "    </tr>\n",
       "    <tr>\n",
       "      <th>4</th>\n",
       "      <td>I like this game but I can't become super sonic!</td>\n",
       "      <td>4</td>\n",
       "    </tr>\n",
       "  </tbody>\n",
       "</table>\n",
       "</div>"
      ],
      "text/plain": [
       "                                             content  score\n",
       "0  I love sonic alot and being able to play it ag...      5\n",
       "1  I remember seeing this game on store shelves a...      4\n",
       "2                                               Good      5\n",
       "3                                     I like sonic 1      5\n",
       "4   I like this game but I can't become super sonic!      4"
      ]
     },
     "execution_count": 7,
     "metadata": {},
     "output_type": "execute_result"
    }
   ],
   "source": [
    "#only getcontent and score\n",
    "df.drop(['userName','reviewCreatedVersion','replyContent','repliedAt','userImage','reviewId','thumbsUpCount','at'],axis=1,inplace=True)\n",
    "df.head(5)"
   ]
  },
  {
   "cell_type": "markdown",
   "metadata": {},
   "source": [
    "### 1.2 Data Processing\n"
   ]
  },
  {
   "cell_type": "code",
   "execution_count": 10,
   "metadata": {},
   "outputs": [
    {
     "name": "stdout",
     "output_type": "stream",
     "text": [
      "<class 'pandas.core.frame.DataFrame'>\n",
      "Int64Index: 32762 entries, 0 to 32768\n",
      "Data columns (total 2 columns):\n",
      " #   Column   Non-Null Count  Dtype \n",
      "---  ------   --------------  ----- \n",
      " 0   content  32762 non-null  object\n",
      " 1   score    32762 non-null  int64 \n",
      "dtypes: int64(1), object(1)\n",
      "memory usage: 767.9+ KB\n"
     ]
    }
   ],
   "source": [
    "#remove handful of blanks\n",
    "df.dropna(inplace=True)\n",
    "df.info()"
   ]
  },
  {
   "cell_type": "code",
   "execution_count": 11,
   "metadata": {},
   "outputs": [
    {
     "data": {
      "text/plain": [
       "content    0.0\n",
       "score      0.0\n",
       "dtype: float64"
      ]
     },
     "execution_count": 11,
     "metadata": {},
     "output_type": "execute_result"
    }
   ],
   "source": [
    "df.isnull().mean() # no missing values"
   ]
  },
  {
   "cell_type": "code",
   "execution_count": 12,
   "metadata": {},
   "outputs": [
    {
     "data": {
      "text/html": [
       "<div>\n",
       "<style scoped>\n",
       "    .dataframe tbody tr th:only-of-type {\n",
       "        vertical-align: middle;\n",
       "    }\n",
       "\n",
       "    .dataframe tbody tr th {\n",
       "        vertical-align: top;\n",
       "    }\n",
       "\n",
       "    .dataframe thead th {\n",
       "        text-align: right;\n",
       "    }\n",
       "</style>\n",
       "<table border=\"1\" class=\"dataframe\">\n",
       "  <thead>\n",
       "    <tr style=\"text-align: right;\">\n",
       "      <th></th>\n",
       "      <th>content</th>\n",
       "      <th>score</th>\n",
       "    </tr>\n",
       "  </thead>\n",
       "  <tbody>\n",
       "    <tr>\n",
       "      <th>0</th>\n",
       "      <td>I love sonic alot and being able to play it ag...</td>\n",
       "      <td>5</td>\n",
       "    </tr>\n",
       "    <tr>\n",
       "      <th>1</th>\n",
       "      <td>I remember seeing this game on store shelves a...</td>\n",
       "      <td>4</td>\n",
       "    </tr>\n",
       "    <tr>\n",
       "      <th>2</th>\n",
       "      <td>Good</td>\n",
       "      <td>5</td>\n",
       "    </tr>\n",
       "    <tr>\n",
       "      <th>3</th>\n",
       "      <td>I like sonic 1</td>\n",
       "      <td>5</td>\n",
       "    </tr>\n",
       "    <tr>\n",
       "      <th>4</th>\n",
       "      <td>I like this game but I cant become super sonic</td>\n",
       "      <td>4</td>\n",
       "    </tr>\n",
       "    <tr>\n",
       "      <th>...</th>\n",
       "      <td>...</td>\n",
       "      <td>...</td>\n",
       "    </tr>\n",
       "    <tr>\n",
       "      <th>32764</th>\n",
       "      <td>Best SEGA game ever Thanks Sega for making thi...</td>\n",
       "      <td>5</td>\n",
       "    </tr>\n",
       "    <tr>\n",
       "      <th>32765</th>\n",
       "      <td>This is just as great as the original classic</td>\n",
       "      <td>5</td>\n",
       "    </tr>\n",
       "    <tr>\n",
       "      <th>32766</th>\n",
       "      <td>Gotta go fasttttt</td>\n",
       "      <td>5</td>\n",
       "    </tr>\n",
       "    <tr>\n",
       "      <th>32767</th>\n",
       "      <td>AM buyed sonic games on play store</td>\n",
       "      <td>1</td>\n",
       "    </tr>\n",
       "    <tr>\n",
       "      <th>32768</th>\n",
       "      <td>Yay</td>\n",
       "      <td>5</td>\n",
       "    </tr>\n",
       "  </tbody>\n",
       "</table>\n",
       "<p>32762 rows × 2 columns</p>\n",
       "</div>"
      ],
      "text/plain": [
       "                                                 content  score\n",
       "0      I love sonic alot and being able to play it ag...      5\n",
       "1      I remember seeing this game on store shelves a...      4\n",
       "2                                                   Good      5\n",
       "3                                         I like sonic 1      5\n",
       "4         I like this game but I cant become super sonic      4\n",
       "...                                                  ...    ...\n",
       "32764  Best SEGA game ever Thanks Sega for making thi...      5\n",
       "32765      This is just as great as the original classic      5\n",
       "32766                                  Gotta go fasttttt      5\n",
       "32767                 AM buyed sonic games on play store      1\n",
       "32768                                                Yay      5\n",
       "\n",
       "[32762 rows x 2 columns]"
      ]
     },
     "execution_count": 12,
     "metadata": {},
     "output_type": "execute_result"
    }
   ],
   "source": [
    "def remove_emojis(text):\n",
    "    return re.sub(r\"[^\\w\\s]\", \"\", text)\n",
    "\n",
    "# Apply the function to the text column\n",
    "df['content'] = df['content'].apply(remove_emojis)\n",
    "\n",
    "df"
   ]
  },
  {
   "cell_type": "code",
   "execution_count": 13,
   "metadata": {},
   "outputs": [],
   "source": [
    "def keep_only_alphabets(text):\n",
    "    return re.sub(r'[^a-zA-Z]', ' ', text)\n",
    "\n",
    "# Apply the function to the 'text' column\n",
    "df['content'] = df['content'].apply(keep_only_alphabets)"
   ]
  },
  {
   "cell_type": "code",
   "execution_count": 14,
   "metadata": {},
   "outputs": [],
   "source": [
    "# Convert the content and scores into numeric tensors\n",
    "# Define the column to be converted\n",
    "column_name = \"content\"\n",
    "\n",
    "# Define the maximum number of words in the vocabulary\n",
    "vocab_size = 15000\n",
    "max_length=200\n",
    "# Create a tokenizer\n",
    "tokenizer = Tokenizer(num_words=vocab_size, oov_token='<OOV>')\n",
    "\n",
    "# Fit the tokenizer on the column\n",
    "tokenizer.fit_on_texts(df[column_name])\n",
    "\n",
    "# Tokenize the column\n",
    "text_tokens = tokenizer.texts_to_sequences(df[column_name])\n",
    "\n",
    "# Pad the sequences\n",
    "text_tokens = pad_sequences(text_tokens, maxlen=max_length, padding='post', truncating='post')\n"
   ]
  },
  {
   "cell_type": "code",
   "execution_count": 15,
   "metadata": {},
   "outputs": [
    {
     "data": {
      "text/plain": [
       "(32762, 200)"
      ]
     },
     "execution_count": 15,
     "metadata": {},
     "output_type": "execute_result"
    }
   ],
   "source": [
    "text_tokens.shape"
   ]
  },
  {
   "cell_type": "code",
   "execution_count": 16,
   "metadata": {},
   "outputs": [
    {
     "data": {
      "text/plain": [
       "0        5\n",
       "1        4\n",
       "2        5\n",
       "3        5\n",
       "4        4\n",
       "        ..\n",
       "32764    5\n",
       "32765    5\n",
       "32766    5\n",
       "32767    1\n",
       "32768    5\n",
       "Name: score, Length: 32762, dtype: int64"
      ]
     },
     "execution_count": 16,
     "metadata": {},
     "output_type": "execute_result"
    }
   ],
   "source": [
    "y= df['score']\n",
    "y"
   ]
  },
  {
   "cell_type": "markdown",
   "metadata": {},
   "source": [
    "Encoding the target variable (score) using one-hot-encoding so that we are able to use categorical crossentropy to predict the output."
   ]
  },
  {
   "cell_type": "code",
   "execution_count": 17,
   "metadata": {},
   "outputs": [
    {
     "name": "stdout",
     "output_type": "stream",
     "text": [
      "(32762, 5)\n"
     ]
    }
   ],
   "source": [
    "ratings = y\n",
    "\n",
    "# Number of unique labels (in this case, 5)\n",
    "num_labels = 5\n",
    "\n",
    "# Create an empty array with the same length as the ratings list\n",
    "encoded_ratings = np.zeros((len(ratings), num_labels))\n",
    "\n",
    "# Iterate through the ratings list\n",
    "for i, rating in enumerate(ratings):\n",
    "    # Set the corresponding column for the current rating to 1\n",
    "    encoded_ratings[i, rating-1] = 1\n",
    "\n",
    "print(encoded_ratings.shape)"
   ]
  },
  {
   "cell_type": "code",
   "execution_count": 18,
   "metadata": {},
   "outputs": [
    {
     "data": {
      "text/plain": [
       "array([[0., 0., 0., 0., 1.],\n",
       "       [0., 0., 0., 1., 0.],\n",
       "       [0., 0., 0., 0., 1.],\n",
       "       ...,\n",
       "       [0., 0., 0., 0., 1.],\n",
       "       [1., 0., 0., 0., 0.],\n",
       "       [0., 0., 0., 0., 1.]])"
      ]
     },
     "execution_count": 18,
     "metadata": {},
     "output_type": "execute_result"
    }
   ],
   "source": [
    "encoded_ratings"
   ]
  },
  {
   "cell_type": "markdown",
   "metadata": {},
   "source": [
    "### 1.3 Data Sampling"
   ]
  },
  {
   "cell_type": "code",
   "execution_count": 19,
   "metadata": {},
   "outputs": [],
   "source": [
    "# Split the X & y into train and test sets\n",
    "from sklearn.model_selection import train_test_split\n",
    "X_train, X_test, y_train, y_test = train_test_split(text_tokens, encoded_ratings, test_size=0.2)"
   ]
  },
  {
   "cell_type": "code",
   "execution_count": 20,
   "metadata": {},
   "outputs": [
    {
     "data": {
      "text/plain": [
       "(26209, 200)"
      ]
     },
     "execution_count": 20,
     "metadata": {},
     "output_type": "execute_result"
    }
   ],
   "source": [
    "X_train.shape"
   ]
  },
  {
   "cell_type": "markdown",
   "metadata": {},
   "source": [
    "## Step 2 – Develop a Sentiment Analysis Model"
   ]
  },
  {
   "cell_type": "markdown",
   "metadata": {},
   "source": [
    "### Model #1 \n",
    "Base model with no layers"
   ]
  },
  {
   "cell_type": "code",
   "execution_count": 27,
   "metadata": {},
   "outputs": [
    {
     "name": "stdout",
     "output_type": "stream",
     "text": [
      "Model: \"sequential\"\n",
      "_________________________________________________________________\n",
      " Layer (type)                Output Shape              Param #   \n",
      "=================================================================\n",
      " embedding (Embedding)       (None, 200, 32)           480000    \n",
      "                                                                 \n",
      " flatten (Flatten)           (None, 6400)              0         \n",
      "                                                                 \n",
      " dense (Dense)               (None, 5)                 32005     \n",
      "                                                                 \n",
      "=================================================================\n",
      "Total params: 512,005\n",
      "Trainable params: 512,005\n",
      "Non-trainable params: 0\n",
      "_________________________________________________________________\n"
     ]
    }
   ],
   "source": [
    "# Step 4: Model training\n",
    "model = Sequential()\n",
    "model.add(Embedding(vocab_size, 32, input_length=max_length))\n",
    "#model.add(LSTM(32))\n",
    "model.add(Flatten())\n",
    "model.add(Dense(5, activation='softmax'))\n",
    "model.compile(loss='categorical_crossentropy', optimizer='rmsprop', metrics=['acc'])\n",
    "model.summary()"
   ]
  },
  {
   "cell_type": "code",
   "execution_count": 28,
   "metadata": {},
   "outputs": [
    {
     "name": "stdout",
     "output_type": "stream",
     "text": [
      "Epoch 1/10\n",
      "656/656 [==============================] - 5s 7ms/step - loss: 0.9224 - acc: 0.6908 - val_loss: 0.8406 - val_acc: 0.7249\n",
      "Epoch 2/10\n",
      "656/656 [==============================] - 4s 6ms/step - loss: 0.7895 - acc: 0.7414 - val_loss: 0.7886 - val_acc: 0.7377\n",
      "Epoch 3/10\n",
      "656/656 [==============================] - 4s 6ms/step - loss: 0.7444 - acc: 0.7565 - val_loss: 0.8057 - val_acc: 0.7386\n",
      "Epoch 4/10\n",
      "656/656 [==============================] - 4s 6ms/step - loss: 0.7139 - acc: 0.7663 - val_loss: 0.7852 - val_acc: 0.7470\n",
      "Epoch 5/10\n",
      "656/656 [==============================] - 4s 6ms/step - loss: 0.6842 - acc: 0.7806 - val_loss: 0.7864 - val_acc: 0.7467\n",
      "Epoch 6/10\n",
      "656/656 [==============================] - 4s 6ms/step - loss: 0.6531 - acc: 0.7929 - val_loss: 0.8042 - val_acc: 0.7451\n",
      "Epoch 7/10\n",
      "656/656 [==============================] - 4s 6ms/step - loss: 0.6234 - acc: 0.8027 - val_loss: 0.8087 - val_acc: 0.7463\n",
      "Epoch 8/10\n",
      "656/656 [==============================] - 4s 6ms/step - loss: 0.5950 - acc: 0.8138 - val_loss: 0.8225 - val_acc: 0.7438\n",
      "Epoch 9/10\n",
      "656/656 [==============================] - 3s 5ms/step - loss: 0.5677 - acc: 0.8239 - val_loss: 0.8405 - val_acc: 0.7417\n",
      "Epoch 10/10\n",
      "656/656 [==============================] - 4s 5ms/step - loss: 0.5432 - acc: 0.8326 - val_loss: 0.8521 - val_acc: 0.7379\n"
     ]
    }
   ],
   "source": [
    "history = model.fit(X_train, y_train, batch_size=32, epochs=10, validation_split=0.2)"
   ]
  },
  {
   "cell_type": "code",
   "execution_count": 1,
   "metadata": {},
   "outputs": [
    {
     "ename": "NameError",
     "evalue": "name 'history' is not defined",
     "output_type": "error",
     "traceback": [
      "\u001b[1;31m---------------------------------------------------------------------------\u001b[0m",
      "\u001b[1;31mNameError\u001b[0m                                 Traceback (most recent call last)",
      "Cell \u001b[1;32mIn[1], line 4\u001b[0m\n\u001b[0;32m      1\u001b[0m \u001b[38;5;66;03m# Plot the Training and Validation Accuracy & Loss Scores\u001b[39;00m\n\u001b[0;32m      2\u001b[0m get_ipython()\u001b[38;5;241m.\u001b[39mrun_line_magic(\u001b[38;5;124m'\u001b[39m\u001b[38;5;124mmatplotlib\u001b[39m\u001b[38;5;124m'\u001b[39m, \u001b[38;5;124m'\u001b[39m\u001b[38;5;124minline\u001b[39m\u001b[38;5;124m'\u001b[39m)\n\u001b[1;32m----> 4\u001b[0m acc \u001b[38;5;241m=\u001b[39m \u001b[43mhistory\u001b[49m\u001b[38;5;241m.\u001b[39mhistory[\u001b[38;5;124m'\u001b[39m\u001b[38;5;124macc\u001b[39m\u001b[38;5;124m'\u001b[39m]\n\u001b[0;32m      5\u001b[0m val_acc \u001b[38;5;241m=\u001b[39m history\u001b[38;5;241m.\u001b[39mhistory[\u001b[38;5;124m'\u001b[39m\u001b[38;5;124mval_acc\u001b[39m\u001b[38;5;124m'\u001b[39m]\n\u001b[0;32m      6\u001b[0m loss \u001b[38;5;241m=\u001b[39m history\u001b[38;5;241m.\u001b[39mhistory[\u001b[38;5;124m'\u001b[39m\u001b[38;5;124mloss\u001b[39m\u001b[38;5;124m'\u001b[39m]\n",
      "\u001b[1;31mNameError\u001b[0m: name 'history' is not defined"
     ]
    }
   ],
   "source": [
    "# Plot the Training and Validation Accuracy & Loss Scores\n",
    "%matplotlib inline\n",
    "\n",
    "acc = history.history['acc']\n",
    "val_acc = history.history['val_acc']\n",
    "loss = history.history['loss']\n",
    "val_loss = history.history['val_loss']\n",
    "\n",
    "epochs = range(len(acc))\n",
    "\n",
    "plt.plot(epochs, acc, 'bo', label='Training acc')\n",
    "plt.plot(epochs, val_acc, 'b', label='Validation acc')\n",
    "plt.title('Training and validation accuracy')\n",
    "plt.legend()\n",
    "\n",
    "plt.figure()\n",
    "\n",
    "plt.plot(epochs, loss, 'bo', label='Training loss')\n",
    "plt.plot(epochs, val_loss, 'b', label='Validation loss')\n",
    "plt.title('Training and validation loss')\n",
    "plt.legend()\n",
    "\n",
    "plt.show()"
   ]
  },
  {
   "cell_type": "code",
   "execution_count": 30,
   "metadata": {},
   "outputs": [],
   "source": [
    "# Save the Model\n",
    "model.save('text_model_1_v1.h5')"
   ]
  },
  {
   "cell_type": "code",
   "execution_count": 31,
   "metadata": {},
   "outputs": [
    {
     "name": "stdout",
     "output_type": "stream",
     "text": [
      "205/205 [==============================] - 0s 2ms/step - loss: 0.8523 - acc: 0.7377\n",
      "Accuracy:  0.7376773953437805\n"
     ]
    }
   ],
   "source": [
    "scores = model.evaluate(X_test, y_test)\n",
    "print(\"Accuracy: \", scores[1])"
   ]
  },
  {
   "cell_type": "code",
   "execution_count": 32,
   "metadata": {},
   "outputs": [
    {
     "name": "stdout",
     "output_type": "stream",
     "text": [
      "Model: \"sequential_1\"\n",
      "_________________________________________________________________\n",
      " Layer (type)                Output Shape              Param #   \n",
      "=================================================================\n",
      " embedding_1 (Embedding)     (None, 200, 32)           480000    \n",
      "                                                                 \n",
      " gru (GRU)                   (None, 200, 4)            456       \n",
      "                                                                 \n",
      " flatten_1 (Flatten)         (None, 800)               0         \n",
      "                                                                 \n",
      " dense_1 (Dense)             (None, 5)                 4005      \n",
      "                                                                 \n",
      "=================================================================\n",
      "Total params: 484,461\n",
      "Trainable params: 484,461\n",
      "Non-trainable params: 0\n",
      "_________________________________________________________________\n"
     ]
    }
   ],
   "source": [
    "# Step 4: Model training\n",
    "from keras.layers import Embedding, GRU, Dense\n",
    "\n",
    "model = Sequential()\n",
    "model.add(Embedding(vocab_size, 32, input_length=max_length))\n",
    "model.add(GRU(4,return_sequences=True, dropout=0.2, recurrent_dropout=0.2))\n",
    "model.add(Flatten())\n",
    "model.add(Dense(5, activation='softmax'))\n",
    "model.compile(loss='categorical_crossentropy', optimizer='rmsprop', metrics=['acc'])\n",
    "model.summary()"
   ]
  },
  {
   "cell_type": "code",
   "execution_count": 33,
   "metadata": {},
   "outputs": [
    {
     "name": "stdout",
     "output_type": "stream",
     "text": [
      "Epoch 1/10\n",
      "656/656 [==============================] - 67s 97ms/step - loss: 0.9256 - acc: 0.6909 - val_loss: 0.8255 - val_acc: 0.7301\n",
      "Epoch 2/10\n",
      "656/656 [==============================] - 68s 103ms/step - loss: 0.8099 - acc: 0.7365 - val_loss: 0.8002 - val_acc: 0.7377\n",
      "Epoch 3/10\n",
      "656/656 [==============================] - 84s 128ms/step - loss: 0.7730 - acc: 0.7465 - val_loss: 0.7857 - val_acc: 0.7430\n",
      "Epoch 4/10\n",
      "656/656 [==============================] - 87s 133ms/step - loss: 0.7484 - acc: 0.7526 - val_loss: 0.8138 - val_acc: 0.7396\n",
      "Epoch 5/10\n",
      "656/656 [==============================] - 86s 131ms/step - loss: 0.7329 - acc: 0.7567 - val_loss: 0.7798 - val_acc: 0.7438\n",
      "Epoch 6/10\n",
      "656/656 [==============================] - 86s 132ms/step - loss: 0.7191 - acc: 0.7634 - val_loss: 0.7732 - val_acc: 0.7484\n",
      "Epoch 7/10\n",
      "656/656 [==============================] - 82s 125ms/step - loss: 0.7096 - acc: 0.7654 - val_loss: 0.7796 - val_acc: 0.7449\n",
      "Epoch 8/10\n",
      "656/656 [==============================] - 82s 125ms/step - loss: 0.6987 - acc: 0.7674 - val_loss: 0.7824 - val_acc: 0.7457\n",
      "Epoch 9/10\n",
      "656/656 [==============================] - 84s 129ms/step - loss: 0.6891 - acc: 0.7714 - val_loss: 0.8033 - val_acc: 0.7472\n",
      "Epoch 10/10\n",
      "656/656 [==============================] - 84s 128ms/step - loss: 0.6800 - acc: 0.7760 - val_loss: 0.7930 - val_acc: 0.7409\n"
     ]
    }
   ],
   "source": [
    "history = model.fit(X_train, y_train, batch_size=32, epochs=10, validation_split=0.2)"
   ]
  },
  {
   "cell_type": "code",
   "execution_count": 34,
   "metadata": {},
   "outputs": [
    {
     "data": {
      "image/png": "[encoded data removed]",
      "text/plain": [
       "<Figure size 432x288 with 1 Axes>"
      ]
     },
     "metadata": {
      "needs_background": "light"
     },
     "output_type": "display_data"
    },
    {
     "data": {
      "image/png": "[encoded data removed]",
      "text/plain": [
       "<Figure size 432x288 with 1 Axes>"
      ]
     },
     "metadata": {
      "needs_background": "light"
     },
     "output_type": "display_data"
    }
   ],
   "source": [
    "# Plot the Training and Validation Accuracy & Loss Scores\n",
    "%matplotlib inline\n",
    "\n",
    "acc = history.history['acc']\n",
    "val_acc = history.history['val_acc']\n",
    "loss = history.history['loss']\n",
    "val_loss = history.history['val_loss']\n",
    "\n",
    "epochs = range(len(acc))\n",
    "\n",
    "plt.plot(epochs, acc, 'bo', label='Training acc')\n",
    "plt.plot(epochs, val_acc, 'b', label='Validation acc')\n",
    "plt.title('Training and validation accuracy')\n",
    "plt.legend()\n",
    "\n",
    "plt.figure()\n",
    "\n",
    "plt.plot(epochs, loss, 'bo', label='Training loss')\n",
    "plt.plot(epochs, val_loss, 'b', label='Validation loss')\n",
    "plt.title('Training and validation loss')\n",
    "plt.legend()\n",
    "\n",
    "plt.show()"
   ]
  },
  {
   "cell_type": "code",
   "execution_count": 35,
   "metadata": {},
   "outputs": [
    {
     "name": "stdout",
     "output_type": "stream",
     "text": [
      "205/205 [==============================] - 3s 15ms/step - loss: 0.7770 - acc: 0.7455\n",
      "Accuracy:  0.7454600930213928\n"
     ]
    }
   ],
   "source": [
    "scores = model.evaluate(X_test, y_test)\n",
    "print(\"Accuracy: \", scores[1])"
   ]
  },
  {
   "cell_type": "code",
   "execution_count": 36,
   "metadata": {},
   "outputs": [],
   "source": [
    "model.save('text_model_1_v2.h5')"
   ]
  },
  {
   "cell_type": "code",
   "execution_count": 37,
   "metadata": {},
   "outputs": [],
   "source": [
    "# Version three - with increased dropout\n",
    "#dropout layers - did not improve sowe will stick with v2 as our best model."
   ]
  },
  {
   "cell_type": "code",
   "execution_count": 38,
   "metadata": {},
   "outputs": [
    {
     "name": "stdout",
     "output_type": "stream",
     "text": [
      "Model: \"sequential_2\"\n",
      "_________________________________________________________________\n",
      " Layer (type)                Output Shape              Param #   \n",
      "=================================================================\n",
      " embedding_2 (Embedding)     (None, 200, 32)           480000    \n",
      "                                                                 \n",
      " gru_1 (GRU)                 (None, 200, 4)            456       \n",
      "                                                                 \n",
      " flatten_2 (Flatten)         (None, 800)               0         \n",
      "                                                                 \n",
      " dense_2 (Dense)             (None, 5)                 4005      \n",
      "                                                                 \n",
      "=================================================================\n",
      "Total params: 484,461\n",
      "Trainable params: 484,461\n",
      "Non-trainable params: 0\n",
      "_________________________________________________________________\n"
     ]
    }
   ],
   "source": [
    "# Step 4: Model training\n",
    "from keras.layers import Embedding, GRU, Dense\n",
    "\n",
    "model = Sequential()\n",
    "model.add(Embedding(vocab_size, 32, input_length=max_length))\n",
    "model.add(GRU(4,return_sequences=True, dropout=0.5, recurrent_dropout=0.5))\n",
    "model.add(Flatten())\n",
    "model.add(Dense(5, activation='softmax'))\n",
    "model.compile(loss='categorical_crossentropy', optimizer='rmsprop', metrics=['acc'])\n",
    "model.summary()"
   ]
  },
  {
   "cell_type": "code",
   "execution_count": 39,
   "metadata": {},
   "outputs": [
    {
     "name": "stdout",
     "output_type": "stream",
     "text": [
      "Epoch 1/10\n",
      "656/656 [==============================] - 71s 104ms/step - loss: 0.9402 - acc: 0.6855 - val_loss: 0.8966 - val_acc: 0.7114\n",
      "Epoch 2/10\n",
      "656/656 [==============================] - 82s 125ms/step - loss: 0.8271 - acc: 0.7297 - val_loss: 0.8305 - val_acc: 0.7261\n",
      "Epoch 3/10\n",
      "656/656 [==============================] - 98s 150ms/step - loss: 0.7905 - acc: 0.7420 - val_loss: 0.7896 - val_acc: 0.7402\n",
      "Epoch 4/10\n",
      "656/656 [==============================] - 85s 130ms/step - loss: 0.7680 - acc: 0.7474 - val_loss: 0.7902 - val_acc: 0.7417\n",
      "Epoch 5/10\n",
      "656/656 [==============================] - 80s 122ms/step - loss: 0.7531 - acc: 0.7527 - val_loss: 0.7908 - val_acc: 0.7432\n",
      "Epoch 6/10\n",
      "656/656 [==============================] - 85s 129ms/step - loss: 0.7439 - acc: 0.7565 - val_loss: 0.7796 - val_acc: 0.7438\n",
      "Epoch 7/10\n",
      "656/656 [==============================] - 82s 125ms/step - loss: 0.7333 - acc: 0.7591 - val_loss: 0.7848 - val_acc: 0.7449\n",
      "Epoch 8/10\n",
      "656/656 [==============================] - 85s 129ms/step - loss: 0.7267 - acc: 0.7613 - val_loss: 0.7884 - val_acc: 0.7413\n",
      "Epoch 9/10\n",
      "656/656 [==============================] - 120s 182ms/step - loss: 0.7199 - acc: 0.7636 - val_loss: 0.7903 - val_acc: 0.7455\n",
      "Epoch 10/10\n",
      "656/656 [==============================] - 119s 182ms/step - loss: 0.7122 - acc: 0.7653 - val_loss: 0.7858 - val_acc: 0.7455\n"
     ]
    }
   ],
   "source": [
    "history = model.fit(X_train, y_train, batch_size=32, epochs=10, validation_split=0.2)"
   ]
  },
  {
   "cell_type": "code",
   "execution_count": 40,
   "metadata": {},
   "outputs": [
    {
     "data": {
      "image/png": "[encoded data removed]",
      "text/plain": [
       "<Figure size 432x288 with 1 Axes>"
      ]
     },
     "metadata": {
      "needs_background": "light"
     },
     "output_type": "display_data"
    },
    {
     "data": {
      "image/png": "[encoded data removed]",
      "text/plain": [
       "<Figure size 432x288 with 1 Axes>"
      ]
     },
     "metadata": {
      "needs_background": "light"
     },
     "output_type": "display_data"
    }
   ],
   "source": [
    "# Plot the Training and Validation Accuracy & Loss Scores\n",
    "%matplotlib inline\n",
    "\n",
    "acc = history.history['acc']\n",
    "val_acc = history.history['val_acc']\n",
    "loss = history.history['loss']\n",
    "val_loss = history.history['val_loss']\n",
    "\n",
    "epochs = range(len(acc))\n",
    "\n",
    "plt.plot(epochs, acc, 'bo', label='Training acc')\n",
    "plt.plot(epochs, val_acc, 'b', label='Validation acc')\n",
    "plt.title('Training and validation accuracy')\n",
    "plt.legend()\n",
    "\n",
    "plt.figure()\n",
    "\n",
    "plt.plot(epochs, loss, 'bo', label='Training loss')\n",
    "plt.plot(epochs, val_loss, 'b', label='Validation loss')\n",
    "plt.title('Training and validation loss')\n",
    "plt.legend()\n",
    "\n",
    "plt.show()"
   ]
  },
  {
   "cell_type": "code",
   "execution_count": 41,
   "metadata": {},
   "outputs": [],
   "source": [
    "# Save the Model\n",
    "model.save('text_model_1_v3.h5')#best model so far"
   ]
  },
  {
   "cell_type": "code",
   "execution_count": 42,
   "metadata": {},
   "outputs": [
    {
     "name": "stdout",
     "output_type": "stream",
     "text": [
      "205/205 [==============================] - 3s 15ms/step - loss: 0.7668 - acc: 0.7444\n",
      "Accuracy:  0.7443918585777283\n"
     ]
    }
   ],
   "source": [
    "scores = model.evaluate(X_test, y_test)\n",
    "print(\"Accuracy: \", scores[1])"
   ]
  },
  {
   "cell_type": "markdown",
   "metadata": {},
   "source": [
    "### Model #2 "
   ]
  },
  {
   "cell_type": "code",
   "execution_count": 43,
   "metadata": {},
   "outputs": [],
   "source": [
    "# Build the Model\n",
    "import numpy as np\n",
    "\n",
    "# Load the pre-trained embeddings\n",
    "embeddings_index = {}\n",
    "with open('glove.6B.300d.txt',encoding='utf-8') as f:\n",
    "    for line in f:\n",
    "        values = line.split()\n",
    "        word = values[0]\n",
    "        coefs = np.asarray(values[1:], dtype='float32')\n",
    "        embeddings_index[word] = coefs"
   ]
  },
  {
   "cell_type": "code",
   "execution_count": 44,
   "metadata": {},
   "outputs": [
    {
     "data": {
      "text/plain": [
       "14908"
      ]
     },
     "execution_count": 44,
     "metadata": {},
     "output_type": "execute_result"
    }
   ],
   "source": [
    "len(tokenizer.word_index.items())"
   ]
  },
  {
   "cell_type": "code",
   "execution_count": 45,
   "metadata": {},
   "outputs": [],
   "source": [
    "vocab_size=15000 #( 14908-1\n",
    "\n",
    "embedding_matrix = np.zeros((vocab_size, 300))\n",
    "for word, i in tokenizer.word_index.items():\n",
    "    embedding_vector = embeddings_index.get(word)\n",
    "    if embedding_vector is not None:\n",
    "        embedding_matrix[i] = embedding_vector"
   ]
  },
  {
   "cell_type": "code",
   "execution_count": 46,
   "metadata": {},
   "outputs": [
    {
     "data": {
      "text/plain": [
       "(15000, 300)"
      ]
     },
     "execution_count": 46,
     "metadata": {},
     "output_type": "execute_result"
    }
   ],
   "source": [
    "embedding_matrix.shape"
   ]
  },
  {
   "cell_type": "code",
   "execution_count": 47,
   "metadata": {},
   "outputs": [
    {
     "name": "stdout",
     "output_type": "stream",
     "text": [
      "Model: \"sequential_3\"\n",
      "_________________________________________________________________\n",
      " Layer (type)                Output Shape              Param #   \n",
      "=================================================================\n",
      " embedding_3 (Embedding)     (None, 200, 300)          4500000   \n",
      "                                                                 \n",
      " gru_2 (GRU)                 (None, 4)                 3672      \n",
      "                                                                 \n",
      " flatten_3 (Flatten)         (None, 4)                 0         \n",
      "                                                                 \n",
      " dense_3 (Dense)             (None, 5)                 25        \n",
      "                                                                 \n",
      "=================================================================\n",
      "Total params: 4,503,697\n",
      "Trainable params: 3,697\n",
      "Non-trainable params: 4,500,000\n",
      "_________________________________________________________________\n",
      "Epoch 1/10\n",
      "656/656 [==============================] - 98s 142ms/step - loss: 1.1896 - acc: 0.6273 - val_loss: 1.1236 - val_acc: 0.6269\n",
      "Epoch 2/10\n",
      "656/656 [==============================] - 92s 140ms/step - loss: 1.1289 - acc: 0.6282 - val_loss: 1.1222 - val_acc: 0.6271\n",
      "Epoch 3/10\n",
      "656/656 [==============================] - 91s 139ms/step - loss: 1.1288 - acc: 0.6283 - val_loss: 1.1221 - val_acc: 0.6271\n",
      "Epoch 4/10\n",
      "656/656 [==============================] - 91s 139ms/step - loss: 1.1289 - acc: 0.6283 - val_loss: 1.1228 - val_acc: 0.6271\n",
      "Epoch 5/10\n",
      "656/656 [==============================] - 92s 140ms/step - loss: 1.1288 - acc: 0.6283 - val_loss: 1.1225 - val_acc: 0.6271\n",
      "Epoch 6/10\n",
      "656/656 [==============================] - 92s 140ms/step - loss: 1.1285 - acc: 0.6284 - val_loss: 1.1231 - val_acc: 0.6271\n",
      "Epoch 7/10\n",
      "656/656 [==============================] - 92s 141ms/step - loss: 1.1288 - acc: 0.6284 - val_loss: 1.1222 - val_acc: 0.6271\n",
      "Epoch 8/10\n",
      "656/656 [==============================] - 93s 141ms/step - loss: 1.1286 - acc: 0.6284 - val_loss: 1.1220 - val_acc: 0.6271\n",
      "Epoch 9/10\n",
      "656/656 [==============================] - 92s 141ms/step - loss: 1.1287 - acc: 0.6284 - val_loss: 1.1218 - val_acc: 0.6271\n",
      "Epoch 10/10\n",
      "656/656 [==============================] - 92s 141ms/step - loss: 1.1287 - acc: 0.6285 - val_loss: 1.1216 - val_acc: 0.6271\n"
     ]
    }
   ],
   "source": [
    "#Model 2 Version 1\n",
    "\n",
    "model = Sequential()\n",
    "model.add(Embedding(vocab_size, 300, weights=[embedding_matrix], input_length=max_length, trainable=False))\n",
    "model.add(GRU(4))\n",
    "model.add(Flatten())\n",
    "model.add(Dense(5, activation='softmax'))\n",
    "model.compile(loss='categorical_crossentropy', optimizer='rmsprop', metrics=['acc'])\n",
    "model.summary()\n",
    "history=model.fit(X_train, y_train, epochs=10, batch_size=32,validation_split=0.2)\n"
   ]
  },
  {
   "cell_type": "code",
   "execution_count": 48,
   "metadata": {},
   "outputs": [
    {
     "data": {
      "image/png": "[encoded data removed]",
      "text/plain": [
       "<Figure size 432x288 with 1 Axes>"
      ]
     },
     "metadata": {
      "needs_background": "light"
     },
     "output_type": "display_data"
    },
    {
     "data": {
      "image/png": "[encoded data removed]",
      "text/plain": [
       "<Figure size 432x288 with 1 Axes>"
      ]
     },
     "metadata": {
      "needs_background": "light"
     },
     "output_type": "display_data"
    }
   ],
   "source": [
    "# Plot the Training and Validation Accuracy & Loss Scores\n",
    "%matplotlib inline\n",
    "\n",
    "acc = history.history['acc']\n",
    "val_acc = history.history['val_acc']\n",
    "loss = history.history['loss']\n",
    "val_loss = history.history['val_loss']\n",
    "\n",
    "epochs = range(len(acc))\n",
    "\n",
    "plt.plot(epochs, acc, 'bo', label='Training acc')\n",
    "plt.plot(epochs, val_acc, 'b', label='Validation acc')\n",
    "plt.title('Training and validation accuracy')\n",
    "plt.legend()\n",
    "\n",
    "plt.figure()\n",
    "\n",
    "plt.plot(epochs, loss, 'bo', label='Training loss')\n",
    "plt.plot(epochs, val_loss, 'b', label='Validation loss')\n",
    "plt.title('Training and validation loss')\n",
    "plt.legend()\n",
    "\n",
    "plt.show()"
   ]
  },
  {
   "cell_type": "code",
   "execution_count": 50,
   "metadata": {},
   "outputs": [],
   "source": [
    "model.save('text_model_2_v1.h5')"
   ]
  },
  {
   "cell_type": "code",
   "execution_count": 51,
   "metadata": {},
   "outputs": [
    {
     "name": "stdout",
     "output_type": "stream",
     "text": [
      "Model: \"sequential_4\"\n",
      "_________________________________________________________________\n",
      " Layer (type)                Output Shape              Param #   \n",
      "=================================================================\n",
      " embedding_4 (Embedding)     (None, 200, 300)          4500000   \n",
      "                                                                 \n",
      " gru_3 (GRU)                 (None, 200, 4)            3672      \n",
      "                                                                 \n",
      " flatten_4 (Flatten)         (None, 800)               0         \n",
      "                                                                 \n",
      " dense_4 (Dense)             (None, 5)                 4005      \n",
      "                                                                 \n",
      "=================================================================\n",
      "Total params: 4,507,677\n",
      "Trainable params: 7,677\n",
      "Non-trainable params: 4,500,000\n",
      "_________________________________________________________________\n"
     ]
    }
   ],
   "source": [
    "#model2 version 2\n",
    "# Build the model\n",
    "model = Sequential()\n",
    "model.add(Embedding(vocab_size, 300, weights=[embedding_matrix], input_length=max_length, trainable=False))\n",
    "model.add(GRU(4,return_sequences=True, dropout=0.5, recurrent_dropout=0.5))\n",
    "model.add(Flatten())\n",
    "model.add(Dense(5, activation='softmax'))\n",
    "model.compile(loss='categorical_crossentropy', optimizer='rmsprop', metrics=['acc'])\n",
    "model.summary()\n"
   ]
  },
  {
   "cell_type": "code",
   "execution_count": 52,
   "metadata": {},
   "outputs": [
    {
     "name": "stdout",
     "output_type": "stream",
     "text": [
      "Epoch 1/10\n",
      "656/656 [==============================] - 155s 221ms/step - loss: 0.9578 - acc: 0.6774 - val_loss: 0.8790 - val_acc: 0.7142\n",
      "Epoch 2/10\n",
      "656/656 [==============================] - 139s 211ms/step - loss: 0.8640 - acc: 0.7167 - val_loss: 0.8218 - val_acc: 0.7291\n",
      "Epoch 3/10\n",
      "656/656 [==============================] - 142s 216ms/step - loss: 0.8416 - acc: 0.7217 - val_loss: 0.8119 - val_acc: 0.7327\n",
      "Epoch 4/10\n",
      "656/656 [==============================] - 137s 208ms/step - loss: 0.8265 - acc: 0.7284 - val_loss: 0.7969 - val_acc: 0.7379\n",
      "Epoch 5/10\n",
      "656/656 [==============================] - 144s 219ms/step - loss: 0.8179 - acc: 0.7303 - val_loss: 0.7959 - val_acc: 0.7379\n",
      "Epoch 6/10\n",
      "656/656 [==============================] - 150s 229ms/step - loss: 0.8153 - acc: 0.7316 - val_loss: 0.8013 - val_acc: 0.7346\n",
      "Epoch 7/10\n",
      "656/656 [==============================] - 149s 227ms/step - loss: 0.8060 - acc: 0.7326 - val_loss: 0.8172 - val_acc: 0.7352\n",
      "Epoch 8/10\n",
      "656/656 [==============================] - 149s 227ms/step - loss: 0.8058 - acc: 0.7345 - val_loss: 0.7928 - val_acc: 0.7369\n",
      "Epoch 9/10\n",
      "656/656 [==============================] - 149s 227ms/step - loss: 0.8006 - acc: 0.7358 - val_loss: 0.7871 - val_acc: 0.7394\n",
      "Epoch 10/10\n",
      "656/656 [==============================] - 139s 212ms/step - loss: 0.7959 - acc: 0.7362 - val_loss: 0.7955 - val_acc: 0.7409\n"
     ]
    }
   ],
   "source": [
    "# Train the Model\n",
    "history=model.fit(X_train, y_train, epochs=10, batch_size=32,validation_split=0.2)\n"
   ]
  },
  {
   "cell_type": "code",
   "execution_count": 53,
   "metadata": {},
   "outputs": [
    {
     "data": {
      "image/png": "[encoded data removed]",
      "text/plain": [
       "<Figure size 432x288 with 1 Axes>"
      ]
     },
     "metadata": {
      "needs_background": "light"
     },
     "output_type": "display_data"
    },
    {
     "data": {
      "image/png": "[encoded data removed]",
      "text/plain": [
       "<Figure size 432x288 with 1 Axes>"
      ]
     },
     "metadata": {
      "needs_background": "light"
     },
     "output_type": "display_data"
    }
   ],
   "source": [
    "# Plot the Training and Validation Accuracy & Loss Scores\n",
    "%matplotlib inline\n",
    "\n",
    "acc = history.history['acc']\n",
    "val_acc = history.history['val_acc']\n",
    "loss = history.history['loss']\n",
    "val_loss = history.history['val_loss']\n",
    "\n",
    "epochs = range(len(acc))\n",
    "\n",
    "plt.plot(epochs, acc, 'bo', label='Training acc')\n",
    "plt.plot(epochs, val_acc, 'b', label='Validation acc')\n",
    "plt.title('Training and validation accuracy')\n",
    "plt.legend()\n",
    "\n",
    "plt.figure()\n",
    "\n",
    "plt.plot(epochs, loss, 'bo', label='Training loss')\n",
    "plt.plot(epochs, val_loss, 'b', label='Validation loss')\n",
    "plt.title('Training and validation loss')\n",
    "plt.legend()\n",
    "\n",
    "plt.show()"
   ]
  },
  {
   "cell_type": "code",
   "execution_count": 54,
   "metadata": {},
   "outputs": [],
   "source": [
    "# Save the Model\n",
    "# we can see a relatively good fit\n",
    "model.save('text_model_2_v2.h5')"
   ]
  },
  {
   "cell_type": "code",
   "execution_count": 55,
   "metadata": {},
   "outputs": [
    {
     "name": "stdout",
     "output_type": "stream",
     "text": [
      "205/205 [==============================] - 9s 44ms/step - loss: 0.7876 - acc: 0.7383\n",
      "Accuracy:  0.7382878065109253\n"
     ]
    }
   ],
   "source": [
    "scores = model.evaluate(X_test, y_test)\n",
    "print(\"Accuracy: \", scores[1])"
   ]
  },
  {
   "cell_type": "markdown",
   "metadata": {},
   "source": [
    "## Step 3 – Evaluate the Model using Testing Data"
   ]
  },
  {
   "cell_type": "code",
   "execution_count": 23,
   "metadata": {},
   "outputs": [
    {
     "name": "stdout",
     "output_type": "stream",
     "text": [
      "205/205 [==============================] - 4s 15ms/step - loss: 0.7205 - acc: 0.7613\n",
      "test acc: 0.7613306641578674 test loss: 0.7205145359039307\n"
     ]
    }
   ],
   "source": [
    "# Model #1 (replicate where necessary for other models)\n",
    "model1 = keras.models.load_model('text_model_1_v2.h5')\n",
    "test_loss, test_acc = model1.evaluate(X_test, y_test)\n",
    "print('test acc:', test_acc,'test loss:', test_loss)"
   ]
  },
  {
   "cell_type": "code",
   "execution_count": 24,
   "metadata": {},
   "outputs": [
    {
     "name": "stdout",
     "output_type": "stream",
     "text": [
      "205/205 [==============================] - 5s 22ms/step - loss: 0.7826 - acc: 0.7420\n",
      "test acc: 0.741950273513794 test loss: 0.7826244831085205\n"
     ]
    }
   ],
   "source": [
    "# Model #2 (replicate where necessary for other models)\n",
    "model2 = keras.models.load_model('text_model_2_v2.h5')\n",
    "test_loss, test_acc = model2.evaluate(X_test, y_test)\n",
    "print('test acc:', test_acc,'test loss:', test_loss)"
   ]
  },
  {
   "cell_type": "code",
   "execution_count": null,
   "metadata": {},
   "outputs": [],
   "source": [
    "# Save the Best Model\n",
    "#model.save('text_model_best.h5')"
   ]
  },
  {
   "cell_type": "markdown",
   "metadata": {},
   "source": [
    "## Step 4 – Use the Best Model to make prediction"
   ]
  },
  {
   "cell_type": "code",
   "execution_count": 25,
   "metadata": {},
   "outputs": [],
   "source": [
    "model = keras.models.load_model('text_model_1_v2.h5')"
   ]
  },
  {
   "cell_type": "code",
   "execution_count": 26,
   "metadata": {},
   "outputs": [
    {
     "name": "stdout",
     "output_type": "stream",
     "text": [
      "very good game. my favourite and the best out of all the sonic games.\n",
      "(1, 200, 1)\n",
      "1/1 [==============================] - 0s 412ms/step\n",
      "The sentiment is:  5 \n",
      "\n",
      "          1         2         3         4         5\n",
      "0  0.00029  0.000778  0.005203  0.069734  0.923994\n"
     ]
    }
   ],
   "source": [
    "#takes the user input\n",
    "# convert the user input into numeric tensor\n",
    "text_input = np.array([input()])\n",
    "text_input= tokenizer.texts_to_sequences(text_input)\n",
    "text_input=np.array(text_input)\n",
    "text_input=pad_sequences(text_input,maxlen=200, padding='post', truncating='post')\n",
    "text_input=text_input.reshape((text_input.shape[0],text_input.shape[1],1))\n",
    "print(text_input.shape)\n",
    "# show the model output using predict function\n",
    "\n",
    "def prediction(model, text_input, items_l):\n",
    "    prob = model.predict(np.array(text_input))\n",
    "    pro_df = pd.DataFrame(prob, columns = items_l)\n",
    "    result = items_l[np.argmax(prob)]\n",
    "    return pro_df, result\n",
    "\n",
    "sent=[1,2,3,4,5]\n",
    "prob_df, result = prediction(model, text_input, sent)\n",
    "print('The sentiment is: ', result, '\\n\\n', prob_df)\n",
    "#prediction=model.predict(np.array(text_input))\n",
    "#print(prediction)"
   ]
  },
  {
   "cell_type": "code",
   "execution_count": null,
   "metadata": {},
   "outputs": [],
   "source": []
  }
 ],
 "metadata": {
  "kernelspec": {
   "display_name": "Python 3 (ipykernel)",
   "language": "python",
   "name": "python3"
  },
  "language_info": {
   "codemirror_mode": {
    "name": "ipython",
    "version": 3
   },
   "file_extension": ".py",
   "mimetype": "text/x-python",
   "name": "python",
   "nbconvert_exporter": "python",
   "pygments_lexer": "ipython3",
   "version": "3.10.9"
  }
 },
 "nbformat": 4,
 "nbformat_minor": 2
}
