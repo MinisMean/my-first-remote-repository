{
 "cells": [
  {
   "cell_type": "markdown",
   "metadata": {},
   "source": [
    "# Please key in your particulars here : \n",
    "## Name:\n",
    "### Student Number:\n",
    " "
   ]
  },
  {
   "cell_type": "code",
   "execution_count": 48,
   "metadata": {},
   "outputs": [],
   "source": [
    "# import the required packages\n",
    "import numpy as np\n",
    "import pandas as pd\n",
    "from sklearn.preprocessing import OneHotEncoder\n",
    "from sklearn.preprocessing import LabelEncoder\n",
    "from sklearn.preprocessing import OrdinalEncoder\n",
    "\n",
    "# for visualisation\n",
    "import matplotlib.pyplot as plt \n",
    "%matplotlib inline\n",
    "\n",
    "#import the required libraries\n",
    "from sklearn.compose import ColumnTransformer\n",
    "\n",
    "from sklearn.cluster import KMeans\n",
    "from sklearn.preprocessing import StandardScaler\n",
    "import scipy.cluster.hierarchy as shc\n",
    "from sklearn.cluster import AgglomerativeClustering\n",
    "from sklearn.preprocessing import StandardScaler,normalize\n",
    "from sklearn.metrics import silhouette_score\n",
    "import seaborn as sns"
   ]
  },
  {
   "cell_type": "markdown",
   "metadata": {},
   "source": [
    "# 1. Build Clustering Models using Numerical Data\n"
   ]
  },
  {
   "cell_type": "markdown",
   "metadata": {},
   "source": [
    "### 1.1 Data exploration and manipulation"
   ]
  },
  {
   "cell_type": "code",
   "execution_count": 2,
   "metadata": {},
   "outputs": [],
   "source": [
    "df = pd.read_csv(\"Bank_Data.csv\")"
   ]
  },
  {
   "cell_type": "code",
   "execution_count": 3,
   "metadata": {},
   "outputs": [
    {
     "data": {
      "text/html": [
       "<div>\n",
       "<style scoped>\n",
       "    .dataframe tbody tr th:only-of-type {\n",
       "        vertical-align: middle;\n",
       "    }\n",
       "\n",
       "    .dataframe tbody tr th {\n",
       "        vertical-align: top;\n",
       "    }\n",
       "\n",
       "    .dataframe thead th {\n",
       "        text-align: right;\n",
       "    }\n",
       "</style>\n",
       "<table border=\"1\" class=\"dataframe\">\n",
       "  <thead>\n",
       "    <tr style=\"text-align: right;\">\n",
       "      <th></th>\n",
       "      <th>Account Status</th>\n",
       "      <th>Duration in month</th>\n",
       "      <th>Credit History</th>\n",
       "      <th>Purpose</th>\n",
       "      <th>Credit amount</th>\n",
       "      <th>Savings account or bonds</th>\n",
       "      <th>Present employment since</th>\n",
       "      <th>Instalment rate in percentage of disposable income</th>\n",
       "      <th>Personal status and sex</th>\n",
       "      <th>Other debtors or guarantors</th>\n",
       "      <th>...</th>\n",
       "      <th>Property</th>\n",
       "      <th>Age in years</th>\n",
       "      <th>Other installment plans</th>\n",
       "      <th>Housing</th>\n",
       "      <th>Number of existing credits at this bank</th>\n",
       "      <th>Job</th>\n",
       "      <th>Number of people being liable to provide maintenance for</th>\n",
       "      <th>Telephone</th>\n",
       "      <th>Foreign worker</th>\n",
       "      <th>Target</th>\n",
       "    </tr>\n",
       "  </thead>\n",
       "  <tbody>\n",
       "    <tr>\n",
       "      <th>0</th>\n",
       "      <td>Salary assignments for at least 1 year</td>\n",
       "      <td>6</td>\n",
       "      <td>critical account/ other credits existing (not ...</td>\n",
       "      <td>radio/television</td>\n",
       "      <td>1169</td>\n",
       "      <td>Savings account</td>\n",
       "      <td>&gt; 7 years</td>\n",
       "      <td>4</td>\n",
       "      <td>male : single</td>\n",
       "      <td>none</td>\n",
       "      <td>...</td>\n",
       "      <td>real estate</td>\n",
       "      <td>67</td>\n",
       "      <td>none</td>\n",
       "      <td>own</td>\n",
       "      <td>2</td>\n",
       "      <td>skilled employee / official</td>\n",
       "      <td>1</td>\n",
       "      <td>yes, registered under the customers name</td>\n",
       "      <td>yes</td>\n",
       "      <td>1</td>\n",
       "    </tr>\n",
       "    <tr>\n",
       "      <th>1</th>\n",
       "      <td>Salary assignments for at least 2 year</td>\n",
       "      <td>48</td>\n",
       "      <td>existing credits paid back duly till now</td>\n",
       "      <td>radio/television</td>\n",
       "      <td>5951</td>\n",
       "      <td>Savings account</td>\n",
       "      <td>1 - 4 years</td>\n",
       "      <td>2</td>\n",
       "      <td>female : divorced/separated/married</td>\n",
       "      <td>none</td>\n",
       "      <td>...</td>\n",
       "      <td>real estate</td>\n",
       "      <td>22</td>\n",
       "      <td>none</td>\n",
       "      <td>own</td>\n",
       "      <td>1</td>\n",
       "      <td>skilled employee / official</td>\n",
       "      <td>1</td>\n",
       "      <td>None</td>\n",
       "      <td>yes</td>\n",
       "      <td>2</td>\n",
       "    </tr>\n",
       "    <tr>\n",
       "      <th>2</th>\n",
       "      <td>No Checking account</td>\n",
       "      <td>12</td>\n",
       "      <td>critical account/ other credits existing (not ...</td>\n",
       "      <td>education</td>\n",
       "      <td>2096</td>\n",
       "      <td>Savings account</td>\n",
       "      <td>4- 7 years</td>\n",
       "      <td>2</td>\n",
       "      <td>male : single</td>\n",
       "      <td>none</td>\n",
       "      <td>...</td>\n",
       "      <td>real estate</td>\n",
       "      <td>49</td>\n",
       "      <td>none</td>\n",
       "      <td>own</td>\n",
       "      <td>1</td>\n",
       "      <td>unskilled - resident</td>\n",
       "      <td>2</td>\n",
       "      <td>None</td>\n",
       "      <td>yes</td>\n",
       "      <td>1</td>\n",
       "    </tr>\n",
       "    <tr>\n",
       "      <th>3</th>\n",
       "      <td>Salary assignments for at least 1 year</td>\n",
       "      <td>42</td>\n",
       "      <td>existing credits paid back duly till now</td>\n",
       "      <td>furniture/equipment</td>\n",
       "      <td>7882</td>\n",
       "      <td>Savings account</td>\n",
       "      <td>4- 7 years</td>\n",
       "      <td>2</td>\n",
       "      <td>male : single</td>\n",
       "      <td>guarantor</td>\n",
       "      <td>...</td>\n",
       "      <td>building society savings agreement/ life insur...</td>\n",
       "      <td>45</td>\n",
       "      <td>none</td>\n",
       "      <td>for free</td>\n",
       "      <td>1</td>\n",
       "      <td>skilled employee / official</td>\n",
       "      <td>2</td>\n",
       "      <td>None</td>\n",
       "      <td>yes</td>\n",
       "      <td>1</td>\n",
       "    </tr>\n",
       "    <tr>\n",
       "      <th>4</th>\n",
       "      <td>Salary assignments for at least 1 year</td>\n",
       "      <td>24</td>\n",
       "      <td>delay in paying off in the past</td>\n",
       "      <td>car(new)</td>\n",
       "      <td>4870</td>\n",
       "      <td>Savings account</td>\n",
       "      <td>1 - 4 years</td>\n",
       "      <td>3</td>\n",
       "      <td>male : single</td>\n",
       "      <td>none</td>\n",
       "      <td>...</td>\n",
       "      <td>unknown / no property</td>\n",
       "      <td>53</td>\n",
       "      <td>none</td>\n",
       "      <td>for free</td>\n",
       "      <td>2</td>\n",
       "      <td>skilled employee / official</td>\n",
       "      <td>2</td>\n",
       "      <td>None</td>\n",
       "      <td>yes</td>\n",
       "      <td>2</td>\n",
       "    </tr>\n",
       "  </tbody>\n",
       "</table>\n",
       "<p>5 rows × 21 columns</p>\n",
       "</div>"
      ],
      "text/plain": [
       "                           Account Status  Duration in month  \\\n",
       "0  Salary assignments for at least 1 year                  6   \n",
       "1  Salary assignments for at least 2 year                 48   \n",
       "2                     No Checking account                 12   \n",
       "3  Salary assignments for at least 1 year                 42   \n",
       "4  Salary assignments for at least 1 year                 24   \n",
       "\n",
       "                                      Credit History              Purpose  \\\n",
       "0  critical account/ other credits existing (not ...     radio/television   \n",
       "1           existing credits paid back duly till now     radio/television   \n",
       "2  critical account/ other credits existing (not ...            education   \n",
       "3           existing credits paid back duly till now  furniture/equipment   \n",
       "4                    delay in paying off in the past             car(new)   \n",
       "\n",
       "   Credit amount Savings account or bonds Present employment since  \\\n",
       "0           1169          Savings account                > 7 years   \n",
       "1           5951          Savings account              1 - 4 years   \n",
       "2           2096          Savings account               4- 7 years   \n",
       "3           7882          Savings account               4- 7 years   \n",
       "4           4870          Savings account              1 - 4 years   \n",
       "\n",
       "   Instalment rate in percentage of disposable income  \\\n",
       "0                                                  4    \n",
       "1                                                  2    \n",
       "2                                                  2    \n",
       "3                                                  2    \n",
       "4                                                  3    \n",
       "\n",
       "               Personal status and sex Other debtors or guarantors  ...  \\\n",
       "0                        male : single                        none  ...   \n",
       "1  female : divorced/separated/married                        none  ...   \n",
       "2                        male : single                        none  ...   \n",
       "3                        male : single                   guarantor  ...   \n",
       "4                        male : single                        none  ...   \n",
       "\n",
       "                                            Property Age in years  \\\n",
       "0                                        real estate           67   \n",
       "1                                        real estate           22   \n",
       "2                                        real estate           49   \n",
       "3  building society savings agreement/ life insur...           45   \n",
       "4                              unknown / no property           53   \n",
       "\n",
       "   Other installment plans   Housing Number of existing credits at this bank  \\\n",
       "0                     none       own                                       2   \n",
       "1                     none       own                                       1   \n",
       "2                     none       own                                       1   \n",
       "3                     none  for free                                       1   \n",
       "4                     none  for free                                       2   \n",
       "\n",
       "                           Job  \\\n",
       "0  skilled employee / official   \n",
       "1  skilled employee / official   \n",
       "2         unskilled - resident   \n",
       "3  skilled employee / official   \n",
       "4  skilled employee / official   \n",
       "\n",
       "  Number of people being liable to provide maintenance for  \\\n",
       "0                                                  1         \n",
       "1                                                  1         \n",
       "2                                                  2         \n",
       "3                                                  2         \n",
       "4                                                  2         \n",
       "\n",
       "                                  Telephone Foreign worker Target  \n",
       "0  yes, registered under the customers name            yes      1  \n",
       "1                                      None            yes      2  \n",
       "2                                      None            yes      1  \n",
       "3                                      None            yes      1  \n",
       "4                                      None            yes      2  \n",
       "\n",
       "[5 rows x 21 columns]"
      ]
     },
     "execution_count": 3,
     "metadata": {},
     "output_type": "execute_result"
    }
   ],
   "source": [
    "df.head()"
   ]
  },
  {
   "cell_type": "code",
   "execution_count": 4,
   "metadata": {},
   "outputs": [
    {
     "name": "stdout",
     "output_type": "stream",
     "text": [
      "<class 'pandas.core.frame.DataFrame'>\n",
      "RangeIndex: 1000 entries, 0 to 999\n",
      "Data columns (total 21 columns):\n",
      " #   Column                                                    Non-Null Count  Dtype \n",
      "---  ------                                                    --------------  ----- \n",
      " 0   Account Status                                            1000 non-null   object\n",
      " 1   Duration in month                                         1000 non-null   int64 \n",
      " 2   Credit History                                            1000 non-null   object\n",
      " 3   Purpose                                                   1000 non-null   object\n",
      " 4   Credit amount                                             1000 non-null   int64 \n",
      " 5   Savings account or bonds                                  1000 non-null   object\n",
      " 6   Present employment since                                  1000 non-null   object\n",
      " 7   Instalment rate in percentage of disposable income        1000 non-null   int64 \n",
      " 8   Personal status and sex                                   1000 non-null   object\n",
      " 9   Other debtors or guarantors                               1000 non-null   object\n",
      " 10  Present residence since                                   1000 non-null   int64 \n",
      " 11  Property                                                  1000 non-null   object\n",
      " 12  Age in years                                              1000 non-null   int64 \n",
      " 13  Other installment plans                                   1000 non-null   object\n",
      " 14  Housing                                                   1000 non-null   object\n",
      " 15  Number of existing credits at this bank                   1000 non-null   int64 \n",
      " 16  Job                                                       1000 non-null   object\n",
      " 17  Number of people being liable to provide maintenance for  1000 non-null   int64 \n",
      " 18  Telephone                                                 1000 non-null   object\n",
      " 19  Foreign worker                                            1000 non-null   object\n",
      " 20  Target                                                    1000 non-null   int64 \n",
      "dtypes: int64(8), object(13)\n",
      "memory usage: 164.2+ KB\n"
     ]
    }
   ],
   "source": [
    "df.info()"
   ]
  },
  {
   "cell_type": "code",
   "execution_count": 5,
   "metadata": {},
   "outputs": [
    {
     "data": {
      "text/html": [
       "<div>\n",
       "<style scoped>\n",
       "    .dataframe tbody tr th:only-of-type {\n",
       "        vertical-align: middle;\n",
       "    }\n",
       "\n",
       "    .dataframe tbody tr th {\n",
       "        vertical-align: top;\n",
       "    }\n",
       "\n",
       "    .dataframe thead th {\n",
       "        text-align: right;\n",
       "    }\n",
       "</style>\n",
       "<table border=\"1\" class=\"dataframe\">\n",
       "  <thead>\n",
       "    <tr style=\"text-align: right;\">\n",
       "      <th></th>\n",
       "      <th>Duration in month</th>\n",
       "      <th>Credit amount</th>\n",
       "      <th>Instalment rate in percentage of disposable income</th>\n",
       "      <th>Present residence since</th>\n",
       "      <th>Age in years</th>\n",
       "      <th>Number of existing credits at this bank</th>\n",
       "      <th>Number of people being liable to provide maintenance for</th>\n",
       "      <th>Target</th>\n",
       "    </tr>\n",
       "  </thead>\n",
       "  <tbody>\n",
       "    <tr>\n",
       "      <th>count</th>\n",
       "      <td>1000.000000</td>\n",
       "      <td>1000.000000</td>\n",
       "      <td>1000.000000</td>\n",
       "      <td>1000.000000</td>\n",
       "      <td>1000.000000</td>\n",
       "      <td>1000.000000</td>\n",
       "      <td>1000.000000</td>\n",
       "      <td>1000.000000</td>\n",
       "    </tr>\n",
       "    <tr>\n",
       "      <th>mean</th>\n",
       "      <td>20.903000</td>\n",
       "      <td>3271.258000</td>\n",
       "      <td>2.973000</td>\n",
       "      <td>2.845000</td>\n",
       "      <td>35.546000</td>\n",
       "      <td>1.407000</td>\n",
       "      <td>1.155000</td>\n",
       "      <td>1.300000</td>\n",
       "    </tr>\n",
       "    <tr>\n",
       "      <th>std</th>\n",
       "      <td>12.058814</td>\n",
       "      <td>2822.736876</td>\n",
       "      <td>1.118715</td>\n",
       "      <td>1.103718</td>\n",
       "      <td>11.375469</td>\n",
       "      <td>0.577654</td>\n",
       "      <td>0.362086</td>\n",
       "      <td>0.458487</td>\n",
       "    </tr>\n",
       "    <tr>\n",
       "      <th>min</th>\n",
       "      <td>4.000000</td>\n",
       "      <td>250.000000</td>\n",
       "      <td>1.000000</td>\n",
       "      <td>1.000000</td>\n",
       "      <td>19.000000</td>\n",
       "      <td>1.000000</td>\n",
       "      <td>1.000000</td>\n",
       "      <td>1.000000</td>\n",
       "    </tr>\n",
       "    <tr>\n",
       "      <th>25%</th>\n",
       "      <td>12.000000</td>\n",
       "      <td>1365.500000</td>\n",
       "      <td>2.000000</td>\n",
       "      <td>2.000000</td>\n",
       "      <td>27.000000</td>\n",
       "      <td>1.000000</td>\n",
       "      <td>1.000000</td>\n",
       "      <td>1.000000</td>\n",
       "    </tr>\n",
       "    <tr>\n",
       "      <th>50%</th>\n",
       "      <td>18.000000</td>\n",
       "      <td>2319.500000</td>\n",
       "      <td>3.000000</td>\n",
       "      <td>3.000000</td>\n",
       "      <td>33.000000</td>\n",
       "      <td>1.000000</td>\n",
       "      <td>1.000000</td>\n",
       "      <td>1.000000</td>\n",
       "    </tr>\n",
       "    <tr>\n",
       "      <th>75%</th>\n",
       "      <td>24.000000</td>\n",
       "      <td>3972.250000</td>\n",
       "      <td>4.000000</td>\n",
       "      <td>4.000000</td>\n",
       "      <td>42.000000</td>\n",
       "      <td>2.000000</td>\n",
       "      <td>1.000000</td>\n",
       "      <td>2.000000</td>\n",
       "    </tr>\n",
       "    <tr>\n",
       "      <th>max</th>\n",
       "      <td>72.000000</td>\n",
       "      <td>18424.000000</td>\n",
       "      <td>4.000000</td>\n",
       "      <td>4.000000</td>\n",
       "      <td>75.000000</td>\n",
       "      <td>4.000000</td>\n",
       "      <td>2.000000</td>\n",
       "      <td>2.000000</td>\n",
       "    </tr>\n",
       "  </tbody>\n",
       "</table>\n",
       "</div>"
      ],
      "text/plain": [
       "       Duration in month  Credit amount  \\\n",
       "count        1000.000000    1000.000000   \n",
       "mean           20.903000    3271.258000   \n",
       "std            12.058814    2822.736876   \n",
       "min             4.000000     250.000000   \n",
       "25%            12.000000    1365.500000   \n",
       "50%            18.000000    2319.500000   \n",
       "75%            24.000000    3972.250000   \n",
       "max            72.000000   18424.000000   \n",
       "\n",
       "       Instalment rate in percentage of disposable income  \\\n",
       "count                                        1000.000000    \n",
       "mean                                            2.973000    \n",
       "std                                             1.118715    \n",
       "min                                             1.000000    \n",
       "25%                                             2.000000    \n",
       "50%                                             3.000000    \n",
       "75%                                             4.000000    \n",
       "max                                             4.000000    \n",
       "\n",
       "       Present residence since  Age in years  \\\n",
       "count              1000.000000   1000.000000   \n",
       "mean                  2.845000     35.546000   \n",
       "std                   1.103718     11.375469   \n",
       "min                   1.000000     19.000000   \n",
       "25%                   2.000000     27.000000   \n",
       "50%                   3.000000     33.000000   \n",
       "75%                   4.000000     42.000000   \n",
       "max                   4.000000     75.000000   \n",
       "\n",
       "       Number of existing credits at this bank  \\\n",
       "count                              1000.000000   \n",
       "mean                                  1.407000   \n",
       "std                                   0.577654   \n",
       "min                                   1.000000   \n",
       "25%                                   1.000000   \n",
       "50%                                   1.000000   \n",
       "75%                                   2.000000   \n",
       "max                                   4.000000   \n",
       "\n",
       "       Number of people being liable to provide maintenance for       Target  \n",
       "count                                        1000.000000         1000.000000  \n",
       "mean                                            1.155000            1.300000  \n",
       "std                                             0.362086            0.458487  \n",
       "min                                             1.000000            1.000000  \n",
       "25%                                             1.000000            1.000000  \n",
       "50%                                             1.000000            1.000000  \n",
       "75%                                             1.000000            2.000000  \n",
       "max                                             2.000000            2.000000  "
      ]
     },
     "execution_count": 5,
     "metadata": {},
     "output_type": "execute_result"
    }
   ],
   "source": [
    "df.describe()"
   ]
  },
  {
   "cell_type": "code",
   "execution_count": 6,
   "metadata": {},
   "outputs": [],
   "source": [
    "# 1000 entries\n",
    "#cluster analysis based on data."
   ]
  },
  {
   "cell_type": "code",
   "execution_count": 7,
   "metadata": {},
   "outputs": [
    {
     "data": {
      "text/plain": [
       "Account Status                                              0.0\n",
       "Duration in month                                           0.0\n",
       "Credit History                                              0.0\n",
       "Purpose                                                     0.0\n",
       "Credit amount                                               0.0\n",
       "Savings account or bonds                                    0.0\n",
       "Present employment since                                    0.0\n",
       "Instalment rate in percentage of disposable income          0.0\n",
       "Personal status and sex                                     0.0\n",
       "Other debtors or guarantors                                 0.0\n",
       "Present residence since                                     0.0\n",
       "Property                                                    0.0\n",
       "Age in years                                                0.0\n",
       "Other installment plans                                     0.0\n",
       "Housing                                                     0.0\n",
       "Number of existing credits at this bank                     0.0\n",
       "Job                                                         0.0\n",
       "Number of people being liable to provide maintenance for    0.0\n",
       "Telephone                                                   0.0\n",
       "Foreign worker                                              0.0\n",
       "Target                                                      0.0\n",
       "dtype: float64"
      ]
     },
     "execution_count": 7,
     "metadata": {},
     "output_type": "execute_result"
    }
   ],
   "source": [
    "df.isnull().mean() # no missing values"
   ]
  },
  {
   "cell_type": "code",
   "execution_count": 8,
   "metadata": {},
   "outputs": [
    {
     "name": "stdout",
     "output_type": "stream",
     "text": [
      "Account Status\n"
     ]
    },
    {
     "data": {
      "image/png": "[encoded data removed]",
      "text/plain": [
       "<Figure size 432x288 with 1 Axes>"
      ]
     },
     "metadata": {
      "needs_background": "light"
     },
     "output_type": "display_data"
    },
    {
     "name": "stdout",
     "output_type": "stream",
     "text": [
      "Duration in month\n"
     ]
    },
    {
     "data": {
      "image/png": "[encoded data removed]",
      "text/plain": [
       "<Figure size 432x288 with 1 Axes>"
      ]
     },
     "metadata": {
      "needs_background": "light"
     },
     "output_type": "display_data"
    },
    {
     "name": "stdout",
     "output_type": "stream",
     "text": [
      "Credit History\n"
     ]
    },
    {
     "data": {
      "image/png": "[encoded data removed]",
      "text/plain": [
       "<Figure size 432x288 with 1 Axes>"
      ]
     },
     "metadata": {
      "needs_background": "light"
     },
     "output_type": "display_data"
    },
    {
     "name": "stdout",
     "output_type": "stream",
     "text": [
      "Purpose\n"
     ]
    },
    {
     "data": {
      "image/png": "[encoded data removed]",
      "text/plain": [
       "<Figure size 432x288 with 1 Axes>"
      ]
     },
     "metadata": {
      "needs_background": "light"
     },
     "output_type": "display_data"
    },
    {
     "name": "stdout",
     "output_type": "stream",
     "text": [
      "Credit amount\n"
     ]
    },
    {
     "data": {
      "image/png": "[encoded data removed]",
      "text/plain": [
       "<Figure size 432x288 with 1 Axes>"
      ]
     },
     "metadata": {
      "needs_background": "light"
     },
     "output_type": "display_data"
    },
    {
     "name": "stdout",
     "output_type": "stream",
     "text": [
      "Savings account or bonds\n"
     ]
    },
    {
     "data": {
      "image/png": "[encoded data removed]",
      "text/plain": [
       "<Figure size 432x288 with 1 Axes>"
      ]
     },
     "metadata": {
      "needs_background": "light"
     },
     "output_type": "display_data"
    },
    {
     "name": "stdout",
     "output_type": "stream",
     "text": [
      "Present employment since\n"
     ]
    },
    {
     "data": {
      "image/png": "[encoded data removed]",
      "text/plain": [
       "<Figure size 432x288 with 1 Axes>"
      ]
     },
     "metadata": {
      "needs_background": "light"
     },
     "output_type": "display_data"
    },
    {
     "name": "stdout",
     "output_type": "stream",
     "text": [
      "Instalment rate in percentage of disposable income\n"
     ]
    },
    {
     "data": {
      "image/png": "[encoded data removed]",
      "text/plain": [
       "<Figure size 432x288 with 1 Axes>"
      ]
     },
     "metadata": {
      "needs_background": "light"
     },
     "output_type": "display_data"
    },
    {
     "name": "stdout",
     "output_type": "stream",
     "text": [
      "Personal status and sex\n"
     ]
    },
    {
     "data": {
      "image/png": "[encoded data removed]",
      "text/plain": [
       "<Figure size 432x288 with 1 Axes>"
      ]
     },
     "metadata": {
      "needs_background": "light"
     },
     "output_type": "display_data"
    },
    {
     "name": "stdout",
     "output_type": "stream",
     "text": [
      "Other debtors or guarantors\n"
     ]
    },
    {
     "data": {
      "image/png": "[encoded data removed]",
      "text/plain": [
       "<Figure size 432x288 with 1 Axes>"
      ]
     },
     "metadata": {
      "needs_background": "light"
     },
     "output_type": "display_data"
    },
    {
     "name": "stdout",
     "output_type": "stream",
     "text": [
      "Present residence since\n"
     ]
    },
    {
     "data": {
      "image/png": "[encoded data removed]",
      "text/plain": [
       "<Figure size 432x288 with 1 Axes>"
      ]
     },
     "metadata": {
      "needs_background": "light"
     },
     "output_type": "display_data"
    },
    {
     "name": "stdout",
     "output_type": "stream",
     "text": [
      "Property\n"
     ]
    },
    {
     "data": {
      "image/png": "[encoded data removed]",
      "text/plain": [
       "<Figure size 432x288 with 1 Axes>"
      ]
     },
     "metadata": {
      "needs_background": "light"
     },
     "output_type": "display_data"
    },
    {
     "name": "stdout",
     "output_type": "stream",
     "text": [
      "Age in years\n"
     ]
    },
    {
     "data": {
      "image/png": "[encoded data removed]",
      "text/plain": [
       "<Figure size 432x288 with 1 Axes>"
      ]
     },
     "metadata": {
      "needs_background": "light"
     },
     "output_type": "display_data"
    },
    {
     "name": "stdout",
     "output_type": "stream",
     "text": [
      "Other installment plans\n"
     ]
    },
    {
     "data": {
      "image/png": "[encoded data removed]",
      "text/plain": [
       "<Figure size 432x288 with 1 Axes>"
      ]
     },
     "metadata": {
      "needs_background": "light"
     },
     "output_type": "display_data"
    },
    {
     "name": "stdout",
     "output_type": "stream",
     "text": [
      "Housing\n"
     ]
    },
    {
     "data": {
      "image/png": "[encoded data removed]",
      "text/plain": [
       "<Figure size 432x288 with 1 Axes>"
      ]
     },
     "metadata": {
      "needs_background": "light"
     },
     "output_type": "display_data"
    },
    {
     "name": "stdout",
     "output_type": "stream",
     "text": [
      "Number of existing credits at this bank\n"
     ]
    },
    {
     "data": {
      "image/png": "[encoded data removed]",
      "text/plain": [
       "<Figure size 432x288 with 1 Axes>"
      ]
     },
     "metadata": {
      "needs_background": "light"
     },
     "output_type": "display_data"
    },
    {
     "name": "stdout",
     "output_type": "stream",
     "text": [
      "Job\n"
     ]
    },
    {
     "data": {
      "image/png": "[encoded data removed]",
      "text/plain": [
       "<Figure size 432x288 with 1 Axes>"
      ]
     },
     "metadata": {
      "needs_background": "light"
     },
     "output_type": "display_data"
    },
    {
     "name": "stdout",
     "output_type": "stream",
     "text": [
      "Number of people being liable to provide maintenance for\n"
     ]
    },
    {
     "data": {
      "image/png": "[encoded data removed]",
      "text/plain": [
       "<Figure size 432x288 with 1 Axes>"
      ]
     },
     "metadata": {
      "needs_background": "light"
     },
     "output_type": "display_data"
    },
    {
     "name": "stdout",
     "output_type": "stream",
     "text": [
      "Telephone\n"
     ]
    },
    {
     "data": {
      "image/png": "[encoded data removed]",
      "text/plain": [
       "<Figure size 432x288 with 1 Axes>"
      ]
     },
     "metadata": {
      "needs_background": "light"
     },
     "output_type": "display_data"
    },
    {
     "name": "stdout",
     "output_type": "stream",
     "text": [
      "Foreign worker\n"
     ]
    },
    {
     "data": {
      "image/png": "[encoded data removed]",
      "text/plain": [
       "<Figure size 432x288 with 1 Axes>"
      ]
     },
     "metadata": {
      "needs_background": "light"
     },
     "output_type": "display_data"
    },
    {
     "name": "stdout",
     "output_type": "stream",
     "text": [
      "Target\n"
     ]
    },
    {
     "data": {
      "image/png": "[encoded data removed]",
      "text/plain": [
       "<Figure size 432x288 with 1 Axes>"
      ]
     },
     "metadata": {
      "needs_background": "light"
     },
     "output_type": "display_data"
    }
   ],
   "source": [
    "#shows histograms of all the columns. Doesnt really have any outliers.\n",
    "col = df.columns.values.tolist()\n",
    "for i in col:\n",
    "    histoo = df[i].hist(bins=5)\n",
    "    print(i)\n",
    "    plt.show()"
   ]
  },
  {
   "cell_type": "code",
   "execution_count": 9,
   "metadata": {},
   "outputs": [
    {
     "data": {
      "text/html": [
       "<div>\n",
       "<style scoped>\n",
       "    .dataframe tbody tr th:only-of-type {\n",
       "        vertical-align: middle;\n",
       "    }\n",
       "\n",
       "    .dataframe tbody tr th {\n",
       "        vertical-align: top;\n",
       "    }\n",
       "\n",
       "    .dataframe thead th {\n",
       "        text-align: right;\n",
       "    }\n",
       "</style>\n",
       "<table border=\"1\" class=\"dataframe\">\n",
       "  <thead>\n",
       "    <tr style=\"text-align: right;\">\n",
       "      <th></th>\n",
       "      <th>Account Status</th>\n",
       "      <th>Duration in month</th>\n",
       "      <th>Credit History</th>\n",
       "      <th>Purpose</th>\n",
       "      <th>Credit amount</th>\n",
       "      <th>Savings account or bonds</th>\n",
       "      <th>Present employment since</th>\n",
       "      <th>Instalment rate in percentage of disposable income</th>\n",
       "      <th>Personal status and sex</th>\n",
       "      <th>Other debtors or guarantors</th>\n",
       "      <th>...</th>\n",
       "      <th>Other installment plans</th>\n",
       "      <th>Housing</th>\n",
       "      <th>Number of existing credits at this bank</th>\n",
       "      <th>Job</th>\n",
       "      <th>Number of people being liable to provide maintenance for</th>\n",
       "      <th>Telephone</th>\n",
       "      <th>Foreign worker</th>\n",
       "      <th>Target</th>\n",
       "      <th>Sex</th>\n",
       "      <th>Personal Status</th>\n",
       "    </tr>\n",
       "  </thead>\n",
       "  <tbody>\n",
       "    <tr>\n",
       "      <th>0</th>\n",
       "      <td>Salary assignments for at least 1 year</td>\n",
       "      <td>6</td>\n",
       "      <td>critical account/ other credits existing (not ...</td>\n",
       "      <td>radio/television</td>\n",
       "      <td>1169</td>\n",
       "      <td>Savings account</td>\n",
       "      <td>&gt; 7 years</td>\n",
       "      <td>4</td>\n",
       "      <td>male : single</td>\n",
       "      <td>none</td>\n",
       "      <td>...</td>\n",
       "      <td>none</td>\n",
       "      <td>own</td>\n",
       "      <td>2</td>\n",
       "      <td>skilled employee / official</td>\n",
       "      <td>1</td>\n",
       "      <td>yes, registered under the customers name</td>\n",
       "      <td>yes</td>\n",
       "      <td>1</td>\n",
       "      <td>male</td>\n",
       "      <td>single</td>\n",
       "    </tr>\n",
       "    <tr>\n",
       "      <th>1</th>\n",
       "      <td>Salary assignments for at least 2 year</td>\n",
       "      <td>48</td>\n",
       "      <td>existing credits paid back duly till now</td>\n",
       "      <td>radio/television</td>\n",
       "      <td>5951</td>\n",
       "      <td>Savings account</td>\n",
       "      <td>1 - 4 years</td>\n",
       "      <td>2</td>\n",
       "      <td>female : divorced/separated/married</td>\n",
       "      <td>none</td>\n",
       "      <td>...</td>\n",
       "      <td>none</td>\n",
       "      <td>own</td>\n",
       "      <td>1</td>\n",
       "      <td>skilled employee / official</td>\n",
       "      <td>1</td>\n",
       "      <td>None</td>\n",
       "      <td>yes</td>\n",
       "      <td>2</td>\n",
       "      <td>female</td>\n",
       "      <td>divorced/separated/married</td>\n",
       "    </tr>\n",
       "    <tr>\n",
       "      <th>2</th>\n",
       "      <td>No Checking account</td>\n",
       "      <td>12</td>\n",
       "      <td>critical account/ other credits existing (not ...</td>\n",
       "      <td>education</td>\n",
       "      <td>2096</td>\n",
       "      <td>Savings account</td>\n",
       "      <td>4- 7 years</td>\n",
       "      <td>2</td>\n",
       "      <td>male : single</td>\n",
       "      <td>none</td>\n",
       "      <td>...</td>\n",
       "      <td>none</td>\n",
       "      <td>own</td>\n",
       "      <td>1</td>\n",
       "      <td>unskilled - resident</td>\n",
       "      <td>2</td>\n",
       "      <td>None</td>\n",
       "      <td>yes</td>\n",
       "      <td>1</td>\n",
       "      <td>male</td>\n",
       "      <td>single</td>\n",
       "    </tr>\n",
       "    <tr>\n",
       "      <th>3</th>\n",
       "      <td>Salary assignments for at least 1 year</td>\n",
       "      <td>42</td>\n",
       "      <td>existing credits paid back duly till now</td>\n",
       "      <td>furniture/equipment</td>\n",
       "      <td>7882</td>\n",
       "      <td>Savings account</td>\n",
       "      <td>4- 7 years</td>\n",
       "      <td>2</td>\n",
       "      <td>male : single</td>\n",
       "      <td>guarantor</td>\n",
       "      <td>...</td>\n",
       "      <td>none</td>\n",
       "      <td>for free</td>\n",
       "      <td>1</td>\n",
       "      <td>skilled employee / official</td>\n",
       "      <td>2</td>\n",
       "      <td>None</td>\n",
       "      <td>yes</td>\n",
       "      <td>1</td>\n",
       "      <td>male</td>\n",
       "      <td>single</td>\n",
       "    </tr>\n",
       "    <tr>\n",
       "      <th>4</th>\n",
       "      <td>Salary assignments for at least 1 year</td>\n",
       "      <td>24</td>\n",
       "      <td>delay in paying off in the past</td>\n",
       "      <td>car(new)</td>\n",
       "      <td>4870</td>\n",
       "      <td>Savings account</td>\n",
       "      <td>1 - 4 years</td>\n",
       "      <td>3</td>\n",
       "      <td>male : single</td>\n",
       "      <td>none</td>\n",
       "      <td>...</td>\n",
       "      <td>none</td>\n",
       "      <td>for free</td>\n",
       "      <td>2</td>\n",
       "      <td>skilled employee / official</td>\n",
       "      <td>2</td>\n",
       "      <td>None</td>\n",
       "      <td>yes</td>\n",
       "      <td>2</td>\n",
       "      <td>male</td>\n",
       "      <td>single</td>\n",
       "    </tr>\n",
       "  </tbody>\n",
       "</table>\n",
       "<p>5 rows × 23 columns</p>\n",
       "</div>"
      ],
      "text/plain": [
       "                           Account Status  Duration in month  \\\n",
       "0  Salary assignments for at least 1 year                  6   \n",
       "1  Salary assignments for at least 2 year                 48   \n",
       "2                     No Checking account                 12   \n",
       "3  Salary assignments for at least 1 year                 42   \n",
       "4  Salary assignments for at least 1 year                 24   \n",
       "\n",
       "                                      Credit History              Purpose  \\\n",
       "0  critical account/ other credits existing (not ...     radio/television   \n",
       "1           existing credits paid back duly till now     radio/television   \n",
       "2  critical account/ other credits existing (not ...            education   \n",
       "3           existing credits paid back duly till now  furniture/equipment   \n",
       "4                    delay in paying off in the past             car(new)   \n",
       "\n",
       "   Credit amount Savings account or bonds Present employment since  \\\n",
       "0           1169          Savings account                > 7 years   \n",
       "1           5951          Savings account              1 - 4 years   \n",
       "2           2096          Savings account               4- 7 years   \n",
       "3           7882          Savings account               4- 7 years   \n",
       "4           4870          Savings account              1 - 4 years   \n",
       "\n",
       "   Instalment rate in percentage of disposable income  \\\n",
       "0                                                  4    \n",
       "1                                                  2    \n",
       "2                                                  2    \n",
       "3                                                  2    \n",
       "4                                                  3    \n",
       "\n",
       "               Personal status and sex Other debtors or guarantors  ...  \\\n",
       "0                        male : single                        none  ...   \n",
       "1  female : divorced/separated/married                        none  ...   \n",
       "2                        male : single                        none  ...   \n",
       "3                        male : single                   guarantor  ...   \n",
       "4                        male : single                        none  ...   \n",
       "\n",
       "   Other installment plans   Housing  Number of existing credits at this bank  \\\n",
       "0                     none       own                                        2   \n",
       "1                     none       own                                        1   \n",
       "2                     none       own                                        1   \n",
       "3                     none  for free                                        1   \n",
       "4                     none  for free                                        2   \n",
       "\n",
       "                           Job  \\\n",
       "0  skilled employee / official   \n",
       "1  skilled employee / official   \n",
       "2         unskilled - resident   \n",
       "3  skilled employee / official   \n",
       "4  skilled employee / official   \n",
       "\n",
       "  Number of people being liable to provide maintenance for  \\\n",
       "0                                                  1         \n",
       "1                                                  1         \n",
       "2                                                  2         \n",
       "3                                                  2         \n",
       "4                                                  2         \n",
       "\n",
       "                                  Telephone Foreign worker  Target     Sex  \\\n",
       "0  yes, registered under the customers name            yes       1    male   \n",
       "1                                      None            yes       2  female   \n",
       "2                                      None            yes       1    male   \n",
       "3                                      None            yes       1    male   \n",
       "4                                      None            yes       2    male   \n",
       "\n",
       "              Personal Status  \n",
       "0                      single  \n",
       "1  divorced/separated/married  \n",
       "2                      single  \n",
       "3                      single  \n",
       "4                      single  \n",
       "\n",
       "[5 rows x 23 columns]"
      ]
     },
     "execution_count": 9,
     "metadata": {},
     "output_type": "execute_result"
    }
   ],
   "source": [
    "df[['Sex', 'Personal Status']] = df['Personal status and sex'].str.split(' : ', 1, expand=True)\n",
    "df.head()"
   ]
  },
  {
   "cell_type": "code",
   "execution_count": 10,
   "metadata": {},
   "outputs": [
    {
     "data": {
      "text/html": [
       "<div>\n",
       "<style scoped>\n",
       "    .dataframe tbody tr th:only-of-type {\n",
       "        vertical-align: middle;\n",
       "    }\n",
       "\n",
       "    .dataframe tbody tr th {\n",
       "        vertical-align: top;\n",
       "    }\n",
       "\n",
       "    .dataframe thead th {\n",
       "        text-align: right;\n",
       "    }\n",
       "</style>\n",
       "<table border=\"1\" class=\"dataframe\">\n",
       "  <thead>\n",
       "    <tr style=\"text-align: right;\">\n",
       "      <th></th>\n",
       "      <th>Account Status</th>\n",
       "      <th>Duration in month</th>\n",
       "      <th>Credit History</th>\n",
       "      <th>Purpose</th>\n",
       "      <th>Credit amount</th>\n",
       "      <th>Present employment since</th>\n",
       "      <th>Instalment rate in percentage of disposable income</th>\n",
       "      <th>Other debtors or guarantors</th>\n",
       "      <th>Present residence since</th>\n",
       "      <th>Property</th>\n",
       "      <th>Age in years</th>\n",
       "      <th>Other installment plans</th>\n",
       "      <th>Housing</th>\n",
       "      <th>Number of existing credits at this bank</th>\n",
       "      <th>Job</th>\n",
       "      <th>Number of people being liable to provide maintenance for</th>\n",
       "      <th>Telephone</th>\n",
       "      <th>Target</th>\n",
       "      <th>Sex</th>\n",
       "      <th>Personal Status</th>\n",
       "    </tr>\n",
       "  </thead>\n",
       "  <tbody>\n",
       "    <tr>\n",
       "      <th>0</th>\n",
       "      <td>Salary assignments for at least 1 year</td>\n",
       "      <td>6</td>\n",
       "      <td>critical account/ other credits existing (not ...</td>\n",
       "      <td>radio/television</td>\n",
       "      <td>1169</td>\n",
       "      <td>&gt; 7 years</td>\n",
       "      <td>4</td>\n",
       "      <td>none</td>\n",
       "      <td>4</td>\n",
       "      <td>real estate</td>\n",
       "      <td>67</td>\n",
       "      <td>none</td>\n",
       "      <td>own</td>\n",
       "      <td>2</td>\n",
       "      <td>skilled employee / official</td>\n",
       "      <td>1</td>\n",
       "      <td>yes, registered under the customers name</td>\n",
       "      <td>1</td>\n",
       "      <td>male</td>\n",
       "      <td>single</td>\n",
       "    </tr>\n",
       "    <tr>\n",
       "      <th>1</th>\n",
       "      <td>Salary assignments for at least 2 year</td>\n",
       "      <td>48</td>\n",
       "      <td>existing credits paid back duly till now</td>\n",
       "      <td>radio/television</td>\n",
       "      <td>5951</td>\n",
       "      <td>1 - 4 years</td>\n",
       "      <td>2</td>\n",
       "      <td>none</td>\n",
       "      <td>2</td>\n",
       "      <td>real estate</td>\n",
       "      <td>22</td>\n",
       "      <td>none</td>\n",
       "      <td>own</td>\n",
       "      <td>1</td>\n",
       "      <td>skilled employee / official</td>\n",
       "      <td>1</td>\n",
       "      <td>None</td>\n",
       "      <td>2</td>\n",
       "      <td>female</td>\n",
       "      <td>divorced/separated/married</td>\n",
       "    </tr>\n",
       "    <tr>\n",
       "      <th>2</th>\n",
       "      <td>No Checking account</td>\n",
       "      <td>12</td>\n",
       "      <td>critical account/ other credits existing (not ...</td>\n",
       "      <td>education</td>\n",
       "      <td>2096</td>\n",
       "      <td>4- 7 years</td>\n",
       "      <td>2</td>\n",
       "      <td>none</td>\n",
       "      <td>3</td>\n",
       "      <td>real estate</td>\n",
       "      <td>49</td>\n",
       "      <td>none</td>\n",
       "      <td>own</td>\n",
       "      <td>1</td>\n",
       "      <td>unskilled - resident</td>\n",
       "      <td>2</td>\n",
       "      <td>None</td>\n",
       "      <td>1</td>\n",
       "      <td>male</td>\n",
       "      <td>single</td>\n",
       "    </tr>\n",
       "    <tr>\n",
       "      <th>3</th>\n",
       "      <td>Salary assignments for at least 1 year</td>\n",
       "      <td>42</td>\n",
       "      <td>existing credits paid back duly till now</td>\n",
       "      <td>furniture/equipment</td>\n",
       "      <td>7882</td>\n",
       "      <td>4- 7 years</td>\n",
       "      <td>2</td>\n",
       "      <td>guarantor</td>\n",
       "      <td>4</td>\n",
       "      <td>building society savings agreement/ life insur...</td>\n",
       "      <td>45</td>\n",
       "      <td>none</td>\n",
       "      <td>for free</td>\n",
       "      <td>1</td>\n",
       "      <td>skilled employee / official</td>\n",
       "      <td>2</td>\n",
       "      <td>None</td>\n",
       "      <td>1</td>\n",
       "      <td>male</td>\n",
       "      <td>single</td>\n",
       "    </tr>\n",
       "    <tr>\n",
       "      <th>4</th>\n",
       "      <td>Salary assignments for at least 1 year</td>\n",
       "      <td>24</td>\n",
       "      <td>delay in paying off in the past</td>\n",
       "      <td>car(new)</td>\n",
       "      <td>4870</td>\n",
       "      <td>1 - 4 years</td>\n",
       "      <td>3</td>\n",
       "      <td>none</td>\n",
       "      <td>4</td>\n",
       "      <td>unknown / no property</td>\n",
       "      <td>53</td>\n",
       "      <td>none</td>\n",
       "      <td>for free</td>\n",
       "      <td>2</td>\n",
       "      <td>skilled employee / official</td>\n",
       "      <td>2</td>\n",
       "      <td>None</td>\n",
       "      <td>2</td>\n",
       "      <td>male</td>\n",
       "      <td>single</td>\n",
       "    </tr>\n",
       "    <tr>\n",
       "      <th>...</th>\n",
       "      <td>...</td>\n",
       "      <td>...</td>\n",
       "      <td>...</td>\n",
       "      <td>...</td>\n",
       "      <td>...</td>\n",
       "      <td>...</td>\n",
       "      <td>...</td>\n",
       "      <td>...</td>\n",
       "      <td>...</td>\n",
       "      <td>...</td>\n",
       "      <td>...</td>\n",
       "      <td>...</td>\n",
       "      <td>...</td>\n",
       "      <td>...</td>\n",
       "      <td>...</td>\n",
       "      <td>...</td>\n",
       "      <td>...</td>\n",
       "      <td>...</td>\n",
       "      <td>...</td>\n",
       "      <td>...</td>\n",
       "    </tr>\n",
       "    <tr>\n",
       "      <th>995</th>\n",
       "      <td>No Checking account</td>\n",
       "      <td>12</td>\n",
       "      <td>existing credits paid back duly till now</td>\n",
       "      <td>furniture/equipment</td>\n",
       "      <td>1736</td>\n",
       "      <td>4- 7 years</td>\n",
       "      <td>3</td>\n",
       "      <td>none</td>\n",
       "      <td>4</td>\n",
       "      <td>real estate</td>\n",
       "      <td>31</td>\n",
       "      <td>none</td>\n",
       "      <td>own</td>\n",
       "      <td>1</td>\n",
       "      <td>unskilled - resident</td>\n",
       "      <td>1</td>\n",
       "      <td>None</td>\n",
       "      <td>1</td>\n",
       "      <td>female</td>\n",
       "      <td>divorced/separated/married</td>\n",
       "    </tr>\n",
       "    <tr>\n",
       "      <th>996</th>\n",
       "      <td>Salary assignments for at least 1 year</td>\n",
       "      <td>30</td>\n",
       "      <td>existing credits paid back duly till now</td>\n",
       "      <td>car(used)</td>\n",
       "      <td>3857</td>\n",
       "      <td>1 - 4 years</td>\n",
       "      <td>4</td>\n",
       "      <td>none</td>\n",
       "      <td>4</td>\n",
       "      <td>building society savings agreement/ life insur...</td>\n",
       "      <td>40</td>\n",
       "      <td>none</td>\n",
       "      <td>own</td>\n",
       "      <td>1</td>\n",
       "      <td>management/ self-employed/\\nhighly qualified e...</td>\n",
       "      <td>1</td>\n",
       "      <td>yes, registered under the customers name</td>\n",
       "      <td>1</td>\n",
       "      <td>male</td>\n",
       "      <td>divorced/separated</td>\n",
       "    </tr>\n",
       "    <tr>\n",
       "      <th>997</th>\n",
       "      <td>No Checking account</td>\n",
       "      <td>12</td>\n",
       "      <td>existing credits paid back duly till now</td>\n",
       "      <td>radio/television</td>\n",
       "      <td>804</td>\n",
       "      <td>&gt; 7 years</td>\n",
       "      <td>4</td>\n",
       "      <td>none</td>\n",
       "      <td>4</td>\n",
       "      <td>car or other, not in attribute 6</td>\n",
       "      <td>38</td>\n",
       "      <td>none</td>\n",
       "      <td>own</td>\n",
       "      <td>1</td>\n",
       "      <td>skilled employee / official</td>\n",
       "      <td>1</td>\n",
       "      <td>None</td>\n",
       "      <td>1</td>\n",
       "      <td>male</td>\n",
       "      <td>single</td>\n",
       "    </tr>\n",
       "    <tr>\n",
       "      <th>998</th>\n",
       "      <td>Salary assignments for at least 1 year</td>\n",
       "      <td>45</td>\n",
       "      <td>existing credits paid back duly till now</td>\n",
       "      <td>radio/television</td>\n",
       "      <td>1845</td>\n",
       "      <td>1 - 4 years</td>\n",
       "      <td>4</td>\n",
       "      <td>none</td>\n",
       "      <td>4</td>\n",
       "      <td>unknown / no property</td>\n",
       "      <td>23</td>\n",
       "      <td>none</td>\n",
       "      <td>for free</td>\n",
       "      <td>1</td>\n",
       "      <td>skilled employee / official</td>\n",
       "      <td>1</td>\n",
       "      <td>yes, registered under the customers name</td>\n",
       "      <td>2</td>\n",
       "      <td>male</td>\n",
       "      <td>single</td>\n",
       "    </tr>\n",
       "    <tr>\n",
       "      <th>999</th>\n",
       "      <td>Salary assignments for at least 2 year</td>\n",
       "      <td>45</td>\n",
       "      <td>critical account/ other credits existing (not ...</td>\n",
       "      <td>car(used)</td>\n",
       "      <td>4576</td>\n",
       "      <td>unemployed</td>\n",
       "      <td>3</td>\n",
       "      <td>none</td>\n",
       "      <td>4</td>\n",
       "      <td>car or other, not in attribute 6</td>\n",
       "      <td>27</td>\n",
       "      <td>none</td>\n",
       "      <td>own</td>\n",
       "      <td>1</td>\n",
       "      <td>skilled employee / official</td>\n",
       "      <td>1</td>\n",
       "      <td>None</td>\n",
       "      <td>1</td>\n",
       "      <td>male</td>\n",
       "      <td>single</td>\n",
       "    </tr>\n",
       "  </tbody>\n",
       "</table>\n",
       "<p>1000 rows × 20 columns</p>\n",
       "</div>"
      ],
      "text/plain": [
       "                             Account Status  Duration in month  \\\n",
       "0    Salary assignments for at least 1 year                  6   \n",
       "1    Salary assignments for at least 2 year                 48   \n",
       "2                       No Checking account                 12   \n",
       "3    Salary assignments for at least 1 year                 42   \n",
       "4    Salary assignments for at least 1 year                 24   \n",
       "..                                      ...                ...   \n",
       "995                     No Checking account                 12   \n",
       "996  Salary assignments for at least 1 year                 30   \n",
       "997                     No Checking account                 12   \n",
       "998  Salary assignments for at least 1 year                 45   \n",
       "999  Salary assignments for at least 2 year                 45   \n",
       "\n",
       "                                        Credit History              Purpose  \\\n",
       "0    critical account/ other credits existing (not ...     radio/television   \n",
       "1             existing credits paid back duly till now     radio/television   \n",
       "2    critical account/ other credits existing (not ...            education   \n",
       "3             existing credits paid back duly till now  furniture/equipment   \n",
       "4                      delay in paying off in the past             car(new)   \n",
       "..                                                 ...                  ...   \n",
       "995           existing credits paid back duly till now  furniture/equipment   \n",
       "996           existing credits paid back duly till now            car(used)   \n",
       "997           existing credits paid back duly till now     radio/television   \n",
       "998           existing credits paid back duly till now     radio/television   \n",
       "999  critical account/ other credits existing (not ...            car(used)   \n",
       "\n",
       "     Credit amount Present employment since  \\\n",
       "0             1169                > 7 years   \n",
       "1             5951              1 - 4 years   \n",
       "2             2096               4- 7 years   \n",
       "3             7882               4- 7 years   \n",
       "4             4870              1 - 4 years   \n",
       "..             ...                      ...   \n",
       "995           1736               4- 7 years   \n",
       "996           3857              1 - 4 years   \n",
       "997            804                > 7 years   \n",
       "998           1845              1 - 4 years   \n",
       "999           4576               unemployed   \n",
       "\n",
       "     Instalment rate in percentage of disposable income  \\\n",
       "0                                                    4    \n",
       "1                                                    2    \n",
       "2                                                    2    \n",
       "3                                                    2    \n",
       "4                                                    3    \n",
       "..                                                 ...    \n",
       "995                                                  3    \n",
       "996                                                  4    \n",
       "997                                                  4    \n",
       "998                                                  4    \n",
       "999                                                  3    \n",
       "\n",
       "    Other debtors or guarantors  Present residence since  \\\n",
       "0                          none                        4   \n",
       "1                          none                        2   \n",
       "2                          none                        3   \n",
       "3                     guarantor                        4   \n",
       "4                          none                        4   \n",
       "..                          ...                      ...   \n",
       "995                        none                        4   \n",
       "996                        none                        4   \n",
       "997                        none                        4   \n",
       "998                        none                        4   \n",
       "999                        none                        4   \n",
       "\n",
       "                                              Property  Age in years  \\\n",
       "0                                          real estate            67   \n",
       "1                                          real estate            22   \n",
       "2                                          real estate            49   \n",
       "3    building society savings agreement/ life insur...            45   \n",
       "4                                unknown / no property            53   \n",
       "..                                                 ...           ...   \n",
       "995                                        real estate            31   \n",
       "996  building society savings agreement/ life insur...            40   \n",
       "997                   car or other, not in attribute 6            38   \n",
       "998                              unknown / no property            23   \n",
       "999                   car or other, not in attribute 6            27   \n",
       "\n",
       "    Other installment plans   Housing  \\\n",
       "0                      none       own   \n",
       "1                      none       own   \n",
       "2                      none       own   \n",
       "3                      none  for free   \n",
       "4                      none  for free   \n",
       "..                      ...       ...   \n",
       "995                    none       own   \n",
       "996                    none       own   \n",
       "997                    none       own   \n",
       "998                    none  for free   \n",
       "999                    none       own   \n",
       "\n",
       "     Number of existing credits at this bank  \\\n",
       "0                                          2   \n",
       "1                                          1   \n",
       "2                                          1   \n",
       "3                                          1   \n",
       "4                                          2   \n",
       "..                                       ...   \n",
       "995                                        1   \n",
       "996                                        1   \n",
       "997                                        1   \n",
       "998                                        1   \n",
       "999                                        1   \n",
       "\n",
       "                                                   Job  \\\n",
       "0                          skilled employee / official   \n",
       "1                          skilled employee / official   \n",
       "2                                 unskilled - resident   \n",
       "3                          skilled employee / official   \n",
       "4                          skilled employee / official   \n",
       "..                                                 ...   \n",
       "995                               unskilled - resident   \n",
       "996  management/ self-employed/\\nhighly qualified e...   \n",
       "997                        skilled employee / official   \n",
       "998                        skilled employee / official   \n",
       "999                        skilled employee / official   \n",
       "\n",
       "     Number of people being liable to provide maintenance for  \\\n",
       "0                                                    1          \n",
       "1                                                    1          \n",
       "2                                                    2          \n",
       "3                                                    2          \n",
       "4                                                    2          \n",
       "..                                                 ...          \n",
       "995                                                  1          \n",
       "996                                                  1          \n",
       "997                                                  1          \n",
       "998                                                  1          \n",
       "999                                                  1          \n",
       "\n",
       "                                    Telephone  Target     Sex  \\\n",
       "0    yes, registered under the customers name       1    male   \n",
       "1                                        None       2  female   \n",
       "2                                        None       1    male   \n",
       "3                                        None       1    male   \n",
       "4                                        None       2    male   \n",
       "..                                        ...     ...     ...   \n",
       "995                                      None       1  female   \n",
       "996  yes, registered under the customers name       1    male   \n",
       "997                                      None       1    male   \n",
       "998  yes, registered under the customers name       2    male   \n",
       "999                                      None       1    male   \n",
       "\n",
       "                Personal Status  \n",
       "0                        single  \n",
       "1    divorced/separated/married  \n",
       "2                        single  \n",
       "3                        single  \n",
       "4                        single  \n",
       "..                          ...  \n",
       "995  divorced/separated/married  \n",
       "996          divorced/separated  \n",
       "997                      single  \n",
       "998                      single  \n",
       "999                      single  \n",
       "\n",
       "[1000 rows x 20 columns]"
      ]
     },
     "execution_count": 10,
     "metadata": {},
     "output_type": "execute_result"
    }
   ],
   "source": [
    "# we will drop Savings Account as based on the Histogram everyone is of the same value, Foreign worker is mostly the same value nad personal status and de\n",
    "df.drop(['Savings account or bonds','Foreign worker','Personal status and sex'],axis=1,inplace=True)\n",
    "df.head()"
   ]
  },
  {
   "cell_type": "code",
   "execution_count": 11,
   "metadata": {},
   "outputs": [
    {
     "data": {
      "text/plain": [
       "Index(['Account Status', 'Duration in month', 'Credit History', 'Purpose',\n",
       "       'Credit amount', 'Present employment since',\n",
       "       'Instalment rate in percentage of disposable income',\n",
       "       'Other debtors or guarantors', 'Present residence since', 'Property',\n",
       "       'Age in years', 'Other installment plans', 'Housing',\n",
       "       'Number of existing credits at this bank', 'Job',\n",
       "       'Number of people being liable to provide maintenance for', 'Telephone',\n",
       "       'Target', 'Sex', 'Personal Status'],\n",
       "      dtype='object')"
      ]
     },
     "execution_count": 11,
     "metadata": {},
     "output_type": "execute_result"
    }
   ],
   "source": [
    "df.columns"
   ]
  },
  {
   "cell_type": "code",
   "execution_count": 12,
   "metadata": {},
   "outputs": [],
   "source": [
    "from sklearn.compose import ColumnTransformer\n",
    "from sklearn.preprocessing import OneHotEncoder\n",
    "\n",
    "\n",
    "# specify which columns to apply the encoder to\n",
    "columns_to_encode = ['Credit History', 'Purpose','Other debtors or guarantors','Property','Other installment plans','Housing','Job','Sex', 'Personal Status']\n",
    "\n",
    "encoder = OneHotEncoder()\n",
    "\n",
    "# create an instance of the ColumnTransformer class\n",
    "preprocessor = ColumnTransformer(\n",
    "    transformers=[\n",
    "        ('one_hot_encoder', encoder, columns_to_encode)\n",
    "    ],\n",
    "    remainder='passthrough'\n",
    ")\n",
    "\n",
    "# fit the preprocessor to your dataset\n",
    "preprocessor.fit(df)\n",
    "\n",
    "# use the transform method to perform one-hot encoding on the specified columns\n",
    "encoded_data = preprocessor.transform(df)"
   ]
  },
  {
   "cell_type": "code",
   "execution_count": 13,
   "metadata": {},
   "outputs": [
    {
     "data": {
      "text/plain": [
       "array([[0.0, 1.0, 0.0, ..., 1,\n",
       "        'yes, registered under the customers name', 1],\n",
       "       [0.0, 0.0, 0.0, ..., 1, 'None', 2],\n",
       "       [0.0, 1.0, 0.0, ..., 2, 'None', 1],\n",
       "       ...,\n",
       "       [0.0, 0.0, 0.0, ..., 1, 'None', 1],\n",
       "       [0.0, 0.0, 0.0, ..., 1,\n",
       "        'yes, registered under the customers name', 2],\n",
       "       [0.0, 1.0, 0.0, ..., 1, 'None', 1]], dtype=object)"
      ]
     },
     "execution_count": 13,
     "metadata": {},
     "output_type": "execute_result"
    }
   ],
   "source": [
    "encoded_data"
   ]
  },
  {
   "cell_type": "code",
   "execution_count": 47,
   "metadata": {},
   "outputs": [
    {
     "data": {
      "text/html": [
       "<style>#sk-container-id-4 {color: black;background-color: white;}#sk-container-id-4 pre{padding: 0;}#sk-container-id-4 div.sk-toggleable {background-color: white;}#sk-container-id-4 label.sk-toggleable__label {cursor: pointer;display: block;width: 100%;margin-bottom: 0;padding: 0.3em;box-sizing: border-box;text-align: center;}#sk-container-id-4 label.sk-toggleable__label-arrow:before {content: \"▸\";float: left;margin-right: 0.25em;color: #696969;}#sk-container-id-4 label.sk-toggleable__label-arrow:hover:before {color: black;}#sk-container-id-4 div.sk-estimator:hover label.sk-toggleable__label-arrow:before {color: black;}#sk-container-id-4 div.sk-toggleable__content {max-height: 0;max-width: 0;overflow: hidden;text-align: left;background-color: #f0f8ff;}#sk-container-id-4 div.sk-toggleable__content pre {margin: 0.2em;color: black;border-radius: 0.25em;background-color: #f0f8ff;}#sk-container-id-4 input.sk-toggleable__control:checked~div.sk-toggleable__content {max-height: 200px;max-width: 100%;overflow: auto;}#sk-container-id-4 input.sk-toggleable__control:checked~label.sk-toggleable__label-arrow:before {content: \"▾\";}#sk-container-id-4 div.sk-estimator input.sk-toggleable__control:checked~label.sk-toggleable__label {background-color: #d4ebff;}#sk-container-id-4 div.sk-label input.sk-toggleable__control:checked~label.sk-toggleable__label {background-color: #d4ebff;}#sk-container-id-4 input.sk-hidden--visually {border: 0;clip: rect(1px 1px 1px 1px);clip: rect(1px, 1px, 1px, 1px);height: 1px;margin: -1px;overflow: hidden;padding: 0;position: absolute;width: 1px;}#sk-container-id-4 div.sk-estimator {font-family: monospace;background-color: #f0f8ff;border: 1px dotted black;border-radius: 0.25em;box-sizing: border-box;margin-bottom: 0.5em;}#sk-container-id-4 div.sk-estimator:hover {background-color: #d4ebff;}#sk-container-id-4 div.sk-parallel-item::after {content: \"\";width: 100%;border-bottom: 1px solid gray;flex-grow: 1;}#sk-container-id-4 div.sk-label:hover label.sk-toggleable__label {background-color: #d4ebff;}#sk-container-id-4 div.sk-serial::before {content: \"\";position: absolute;border-left: 1px solid gray;box-sizing: border-box;top: 0;bottom: 0;left: 50%;z-index: 0;}#sk-container-id-4 div.sk-serial {display: flex;flex-direction: column;align-items: center;background-color: white;padding-right: 0.2em;padding-left: 0.2em;position: relative;}#sk-container-id-4 div.sk-item {position: relative;z-index: 1;}#sk-container-id-4 div.sk-parallel {display: flex;align-items: stretch;justify-content: center;background-color: white;position: relative;}#sk-container-id-4 div.sk-item::before, #sk-container-id-4 div.sk-parallel-item::before {content: \"\";position: absolute;border-left: 1px solid gray;box-sizing: border-box;top: 0;bottom: 0;left: 50%;z-index: -1;}#sk-container-id-4 div.sk-parallel-item {display: flex;flex-direction: column;z-index: 1;position: relative;background-color: white;}#sk-container-id-4 div.sk-parallel-item:first-child::after {align-self: flex-end;width: 50%;}#sk-container-id-4 div.sk-parallel-item:last-child::after {align-self: flex-start;width: 50%;}#sk-container-id-4 div.sk-parallel-item:only-child::after {width: 0;}#sk-container-id-4 div.sk-dashed-wrapped {border: 1px dashed gray;margin: 0 0.4em 0.5em 0.4em;box-sizing: border-box;padding-bottom: 0.4em;background-color: white;}#sk-container-id-4 div.sk-label label {font-family: monospace;font-weight: bold;display: inline-block;line-height: 1.2em;}#sk-container-id-4 div.sk-label-container {text-align: center;}#sk-container-id-4 div.sk-container {/* jupyter's `normalize.less` sets `[hidden] { display: none; }` but bootstrap.min.css set `[hidden] { display: none !important; }` so we also need the `!important` here to be able to override the default hidden behavior on the sphinx rendered scikit-learn.org. See: https://github.com/scikit-learn/scikit-learn/issues/21755 */display: inline-block !important;position: relative;}#sk-container-id-4 div.sk-text-repr-fallback {display: none;}</style><div id=\"sk-container-id-4\" class=\"sk-top-container\"><div class=\"sk-text-repr-fallback\"><pre>OrdinalEncoder()</pre><b>In a Jupyter environment, please rerun this cell to show the HTML representation or trust the notebook. <br />On GitHub, the HTML representation is unable to render, please try loading this page with nbviewer.org.</b></div><div class=\"sk-container\" hidden><div class=\"sk-item\"><div class=\"sk-estimator sk-toggleable\"><input class=\"sk-toggleable__control sk-hidden--visually\" id=\"sk-estimator-id-4\" type=\"checkbox\" checked><label for=\"sk-estimator-id-4\" class=\"sk-toggleable__label sk-toggleable__label-arrow\">OrdinalEncoder</label><div class=\"sk-toggleable__content\"><pre>OrdinalEncoder()</pre></div></div></div></div></div>"
      ],
      "text/plain": [
       "OrdinalEncoder()"
      ]
     },
     "execution_count": 47,
     "metadata": {},
     "output_type": "execute_result"
    }
   ],
   "source": [
    "ordinal_enc = OrdinalEncoder()\n",
    "ordinal_enc.fit(encoded_data)"
   ]
  },
  {
   "cell_type": "code",
   "execution_count": 15,
   "metadata": {},
   "outputs": [
    {
     "data": {
      "text/plain": [
       "array([[0., 1., 0., ..., 0., 1., 0.],\n",
       "       [0., 0., 0., ..., 0., 0., 1.],\n",
       "       [0., 1., 0., ..., 1., 0., 0.],\n",
       "       ...,\n",
       "       [0., 0., 0., ..., 0., 0., 0.],\n",
       "       [0., 0., 0., ..., 0., 1., 1.],\n",
       "       [0., 1., 0., ..., 0., 0., 0.]])"
      ]
     },
     "execution_count": 15,
     "metadata": {},
     "output_type": "execute_result"
    }
   ],
   "source": [
    "X_train_enc = ordinal_enc.transform(encoded_data)\n",
    "X_train_enc"
   ]
  },
  {
   "cell_type": "code",
   "execution_count": 16,
   "metadata": {},
   "outputs": [
    {
     "data": {
      "text/plain": [
       "array([[-0.22699055,  1.55337352, -0.31063037, ..., -0.42828957,\n",
       "         1.21459768, -0.65465367],\n",
       "       [-0.22699055, -0.64376017, -0.31063037, ..., -0.42828957,\n",
       "        -0.82331789,  1.52752523],\n",
       "       [-0.22699055,  1.55337352, -0.31063037, ...,  2.33486893,\n",
       "        -0.82331789, -0.65465367],\n",
       "       ...,\n",
       "       [-0.22699055, -0.64376017, -0.31063037, ..., -0.42828957,\n",
       "        -0.82331789, -0.65465367],\n",
       "       [-0.22699055, -0.64376017, -0.31063037, ..., -0.42828957,\n",
       "         1.21459768,  1.52752523],\n",
       "       [-0.22699055,  1.55337352, -0.31063037, ..., -0.42828957,\n",
       "        -0.82331789, -0.65465367]])"
      ]
     },
     "execution_count": 16,
     "metadata": {},
     "output_type": "execute_result"
    }
   ],
   "source": [
    "scaler=StandardScaler()\n",
    "X_scaled=scaler.fit_transform(X_train_enc)\n",
    "X_scaled"
   ]
  },
  {
   "cell_type": "code",
   "execution_count": 17,
   "metadata": {},
   "outputs": [],
   "source": [
    "#pip install -U threadpoolctl"
   ]
  },
  {
   "cell_type": "code",
   "execution_count": 18,
   "metadata": {},
   "outputs": [
    {
     "name": "stderr",
     "output_type": "stream",
     "text": [
      "C:\\Users\\Min\\anaconda3\\lib\\site-packages\\sklearn\\cluster\\_kmeans.py:1382: UserWarning: KMeans is known to have a memory leak on Windows with MKL, when there are less chunks than available threads. You can avoid it by setting the environment variable OMP_NUM_THREADS=4.\n",
      "  warnings.warn(\n"
     ]
    },
    {
     "data": {
      "text/plain": [
       "array([[-3.73945587e-03, -3.49158956e-02,  4.12359267e-01,\n",
       "        -1.92877613e-01, -1.96746164e-02,  1.20051320e-01,\n",
       "        -6.89245172e-02,  5.33165018e-01, -1.10207754e-01,\n",
       "        -6.35730347e-02, -9.45973165e-02,  1.11092957e-01,\n",
       "        -2.21107694e-01, -1.49982957e-01,  3.22763448e-02,\n",
       "        -2.06767666e-01, -2.34205723e-01,  3.20212168e-01,\n",
       "         2.12358789e-02,  3.95115828e-01, -3.58950321e-01,\n",
       "        -9.28610289e-02, -1.87019640e-02, -1.41256524e-01,\n",
       "         2.90276274e-01, -3.47960103e-01,  3.14840368e-01,\n",
       "        -8.97912575e-02,  2.36539521e+00, -1.30487651e+00,\n",
       "        -1.49982957e-01, -4.69879518e-01, -5.40027427e-01,\n",
       "         5.40027427e-01,  3.23393263e-01, -5.40027427e-01,\n",
       "        -1.93254002e-01,  4.72447136e-01, -1.14403922e-01,\n",
       "         3.46764412e-01,  6.52663570e-01,  6.78014885e-01,\n",
       "         1.42672613e-01, -2.33173375e-02,  2.11059571e-01,\n",
       "         4.63050469e-02,  7.10764263e-02,  9.69065684e-01,\n",
       "         1.34085692e-01],\n",
       "       [-1.03458279e-01, -2.62923665e-01,  1.88260832e-02,\n",
       "         3.00541462e-01, -6.80413817e-02,  3.26623179e-02,\n",
       "        -4.88144186e-02, -1.19533713e-01,  1.22453060e-02,\n",
       "        -1.68238205e-01, -2.62325274e-01, -1.10207754e-01,\n",
       "         3.26652629e-01,  1.22713329e-01,  3.28249151e-01,\n",
       "        -2.06767666e-01, -2.34205723e-01,  3.20212168e-01,\n",
       "        -1.26349674e-02, -5.37941518e-02,  3.80763305e-01,\n",
       "        -3.89713683e-01, -9.34633845e-02,  1.01086248e-01,\n",
       "        -3.30752138e-02, -3.47960103e-01,  4.49492932e-02,\n",
       "         2.28684326e-01, -3.04139691e-01,  2.41643798e-01,\n",
       "        -1.49982957e-01,  3.33333333e-02, -6.70280063e-01,\n",
       "         6.70280063e-01, -2.29415734e-01, -6.70280063e-01,\n",
       "         3.14158642e+00, -1.10108555e+00,  1.28934803e-02,\n",
       "        -3.33114280e-01, -6.20125094e-01, -4.12474648e-01,\n",
       "        -3.54751000e-02, -2.94606641e-01, -5.07965495e-01,\n",
       "        -2.43058022e-01, -4.28289566e-01, -6.24960775e-02,\n",
       "        -1.01835015e-01],\n",
       "       [ 1.05715119e-02,  3.22809642e-02, -2.20120357e-01,\n",
       "         1.71077448e-01, -2.04124145e-01, -1.54474570e-01,\n",
       "        -7.63103815e-03, -2.54504737e-01, -1.10207754e-01,\n",
       "        -2.29415734e-01,  3.29055390e-01,  8.31738860e-01,\n",
       "         4.56856824e-03, -1.49982957e-01, -9.52981407e-02,\n",
       "         4.83634613e+00, -2.34205723e-01, -3.12292942e+00,\n",
       "        -6.36607972e-02, -2.14958817e-01,  5.70974007e-02,\n",
       "         2.83725200e-01,  4.29145913e-02,  1.67378794e-02,\n",
       "        -1.00921806e-01, -1.75136614e-02, -1.59108028e-01,\n",
       "         2.01929799e-01,  1.60879210e-01,  2.28366666e-02,\n",
       "        -1.49982957e-01, -1.15384615e-01, -6.04305433e-02,\n",
       "         6.04305433e-02, -1.11766640e-01, -6.04305433e-02,\n",
       "        -5.21645999e-02,  1.35394573e-01, -1.04541732e-03,\n",
       "         1.19349866e-01,  4.16210636e-01,  8.42248139e-02,\n",
       "        -4.46477179e-02, -4.54403143e-02, -1.43820475e-01,\n",
       "        -8.31806461e-02, -1.44888695e-01, -3.95042095e-02,\n",
       "         2.96552518e-01],\n",
       "       [-2.26990552e-01,  1.14269432e+00, -2.77640740e-01,\n",
       "        -7.24857321e-01, -1.56431588e-01, -1.38280654e-01,\n",
       "        -1.55361416e-01,  2.14582641e-01,  6.14554141e-02,\n",
       "        -1.00771397e-01,  1.53652169e-02, -1.10207754e-01,\n",
       "         1.46535759e-01, -2.25547863e-02,  3.66150696e-03,\n",
       "        -2.06767666e-01, -2.34205723e-01,  3.20212168e-01,\n",
       "         3.58148188e-01, -6.99350434e-02, -2.43835841e-02,\n",
       "        -2.97191854e-01, -2.12690209e-01,  2.85869284e-01,\n",
       "        -1.77917272e-01, -3.47960103e-01,  5.31148175e-01,\n",
       "        -3.45037767e-01, -4.16784021e-01,  7.66356045e-01,\n",
       "        -1.49982957e-01, -5.00000000e-01, -6.70280063e-01,\n",
       "         6.70280063e-01,  2.78729396e-02, -6.70280063e-01,\n",
       "        -3.18310518e-01,  7.95524730e-01, -3.13693587e-01,\n",
       "        -7.56047000e-02, -1.75350190e-01,  5.13014270e-01,\n",
       "         3.33401303e-01,  3.60771353e-01,  4.86175136e-01,\n",
       "         6.06217905e-01,  1.07169231e-02,  1.86116925e-01,\n",
       "        -4.71105913e-01],\n",
       "       [ 4.04708573e-01,  1.55197534e-01, -3.10630372e-01,\n",
       "        -1.51181463e-01,  2.78351107e-02, -2.05803319e-02,\n",
       "         6.28288807e-01, -1.89319867e-01,  3.07245859e-01,\n",
       "        -2.08559758e-02, -3.52049490e-01,  3.07245859e-01,\n",
       "        -4.21138927e-01,  4.69781330e-01, -9.52981407e-02,\n",
       "         2.51697225e-01, -2.34205723e-01,  7.19929605e-03,\n",
       "        -2.26567938e-01, -2.22383479e-01,  1.81424893e-01,\n",
       "         3.28931109e-01, -7.62072582e-03,  1.27564926e-01,\n",
       "        -2.22076436e-01,  2.37831316e-01, -2.69896725e-01,\n",
       "         1.25922617e-01, -4.16784021e-01, -1.30487651e+00,\n",
       "         6.66742420e+00, -5.00000000e-01,  5.09098347e-01,\n",
       "        -5.09098347e-01, -2.29415734e-01,  5.09098347e-01,\n",
       "        -3.77443302e-03, -3.70438203e-01,  6.64220149e-01,\n",
       "        -3.31260376e-01, -3.87647784e-01,  1.05251628e+00,\n",
       "        -5.85623709e-01, -2.30328829e-01,  3.88711057e-01,\n",
       "         3.97258944e-01, -5.14952265e-02, -2.67522735e-01,\n",
       "         3.96759800e-02],\n",
       "       [ 1.29352544e-01, -5.22241776e-02,  1.64547208e-01,\n",
       "        -1.56435684e-01,  1.39353984e-01, -1.00326165e-01,\n",
       "         1.50803849e-02,  4.83618049e-01, -1.10207754e-01,\n",
       "         5.20597242e-01, -1.95395368e-01,  1.54714731e-01,\n",
       "        -3.45212437e-01, -1.88789737e-02, -9.52981407e-02,\n",
       "        -2.06767666e-01, -2.34205723e-01,  3.20212168e-01,\n",
       "        -5.26841693e-01, -7.04986516e-01, -6.05335018e-01,\n",
       "         2.29054466e+00,  2.09681138e-01, -1.39767883e-01,\n",
       "        -8.57774777e-02,  2.71899593e+00, -1.53366081e+00,\n",
       "        -3.91686287e-01,  4.22632861e-01, -1.03561628e-02,\n",
       "        -1.49982957e-01, -3.07692308e-01, -3.37634870e-01,\n",
       "         3.37634870e-01, -9.70605028e-02, -3.37634870e-01,\n",
       "        -2.85042278e-01,  5.21794610e-01,  9.94754787e-02,\n",
       "         5.29851610e-01,  5.50149951e-01,  5.20442553e-01,\n",
       "         1.27338869e-01,  6.28610383e-01,  6.59106575e-01,\n",
       "        -5.46247702e-03,  3.42206552e-01,  3.52402631e-01,\n",
       "         3.10540844e-01],\n",
       "       [-9.77984337e-02, -7.47813271e-02, -9.96807351e-02,\n",
       "         1.75375722e-01, -2.11443338e-02, -1.25825533e-01,\n",
       "        -6.90716809e-03, -1.42252939e-01,  7.27400446e-02,\n",
       "         6.30664766e-02,  1.92146977e-01, -1.10207754e-01,\n",
       "         6.38871495e-03, -4.13390187e-02,  3.12598151e-02,\n",
       "        -2.06767666e-01, -2.34205723e-01,  3.20212168e-01,\n",
       "         1.20510406e-01,  1.49470813e-01, -6.92382775e-03,\n",
       "        -3.27313577e-01, -6.78201673e-02,  8.89359665e-02,\n",
       "        -5.26530297e-02, -3.47960103e-01, -7.01321707e-02,\n",
       "         3.64482208e-01, -1.58734261e-01,  1.30958010e-01,\n",
       "        -1.49982957e-01,  3.78486056e-02,  1.49191369e+00,\n",
       "        -1.49191369e+00, -2.29415734e-01,  1.49191369e+00,\n",
       "        -3.18310518e-01, -1.10108555e+00, -1.77054543e-02,\n",
       "        -1.25164907e-01, -2.21770267e-01, -4.06486823e-01,\n",
       "        -1.21938901e-01, -1.47890186e-02, -3.55310673e-01,\n",
       "        -1.59792979e-01, -3.29212170e-01, -1.33187120e-01,\n",
       "         6.69433368e-02],\n",
       "       [ 2.18438318e-01, -1.36729319e-01, -3.10630372e-01,\n",
       "         2.48139361e-01, -1.05987537e-01, -1.97793294e-01,\n",
       "        -5.30538843e-02, -1.49058624e-01, -1.10207754e-01,\n",
       "        -2.29415734e-01, -1.20473831e-01,  6.64072362e-02,\n",
       "         4.89978944e-01,  1.12225010e-01, -9.52981407e-02,\n",
       "        -2.06767666e-01,  4.26975049e+00, -3.12292942e+00,\n",
       "         1.33760568e-01, -5.41643950e-01,  6.98161032e-01,\n",
       "        -3.20096583e-01,  3.20858835e-01, -2.13902191e-01,\n",
       "        -1.31210464e-01, -2.86001395e-01,  1.24304918e-01,\n",
       "         8.48787394e-02, -3.62628093e-01,  8.92223254e-02,\n",
       "        -1.49982957e-01,  2.69230769e-01, -4.65703269e-02,\n",
       "         4.65703269e-02, -1.41178913e-01, -4.65703269e-02,\n",
       "         2.13981318e-01, -1.91654419e-02,  3.60829808e-01,\n",
       "        -1.79894397e-01, -2.72644364e-01, -2.26212350e-01,\n",
       "        -2.74490592e-02, -1.20980479e-01, -1.00664566e-01,\n",
       "        -1.05385837e-01,  1.56224730e-01, -3.13838998e-01,\n",
       "        -2.35003882e-01],\n",
       "       [ 1.31473634e-01, -5.78369287e-01,  1.51617205e-01,\n",
       "         3.09605411e-01,  1.90758874e-01,  3.35955269e-01,\n",
       "        -1.16862168e-01, -1.43033132e-01,  5.37918798e-02,\n",
       "        -1.20170146e-01,  8.64523181e-02, -5.55412092e-02,\n",
       "        -1.37872863e-02,  1.23362606e-02, -9.52981407e-02,\n",
       "        -2.06767666e-01, -2.34205723e-01,  3.20212168e-01,\n",
       "        -8.42707200e-02,  5.84253025e-01, -2.69539783e-01,\n",
       "        -3.27707782e-01,  2.83556071e-02, -1.18586652e-01,\n",
       "         1.71676110e-01, -3.47960103e-01,  4.37071347e-01,\n",
       "        -2.34025677e-01, -4.16784021e-01,  7.17040984e-01,\n",
       "        -1.49982957e-01, -4.40476190e-01, -6.70280063e-01,\n",
       "         6.70280063e-01,  4.53369188e-01, -6.70280063e-01,\n",
       "        -3.18310518e-01,  6.09194619e-01,  3.62909155e-02,\n",
       "         2.44126319e-01,  2.27051713e-01, -1.52043865e-01,\n",
       "         2.94703111e-02, -3.45110637e-01, -2.28063730e-01,\n",
       "        -1.99757900e-01, -3.35526388e-02, -1.19751801e-01,\n",
       "         7.27392967e-02],\n",
       "       [ 6.97208664e-03,  2.43970612e-01,  8.15796937e-02,\n",
       "        -2.52373874e-01, -4.94846413e-02,  4.76794755e-02,\n",
       "         3.53916464e-01, -2.72398622e-01, -1.10207754e-01,\n",
       "         2.31733065e-03, -1.55285858e-01, -1.10207754e-01,\n",
       "        -1.61976510e-02,  5.66051382e-02,  1.16582462e-02,\n",
       "        -2.06767666e-01, -2.34205723e-01,  3.20212168e-01,\n",
       "         7.65755600e-04, -4.26149206e-01,  7.20177359e-01,\n",
       "        -3.42699538e-01,  3.61765490e-02, -6.71312372e-02,\n",
       "         6.42890520e-02, -3.47960103e-01,  2.32517134e-01,\n",
       "         7.35141457e-03, -4.16784021e-01, -1.22119034e+00,\n",
       "        -1.49982957e-01,  1.89898990e+00, -6.70280063e-01,\n",
       "         6.70280063e-01, -4.40292823e-02, -6.70280063e-01,\n",
       "        -3.18310518e-01,  8.27011610e-01, -3.27247300e-02,\n",
       "        -4.89110885e-01, -2.23450770e-01, -2.16805163e-01,\n",
       "        -1.65559500e-01, -5.17793490e-02,  3.01022654e-01,\n",
       "         2.39803953e-01,  7.71870183e-01, -5.55712816e-01,\n",
       "        -1.47682815e-01]])"
      ]
     },
     "execution_count": 18,
     "metadata": {},
     "output_type": "execute_result"
    }
   ],
   "source": [
    "kmeans=KMeans(n_clusters=10,n_init=20,max_iter=300,random_state=1)\n",
    "kmeans.fit(X_scaled)\n",
    "kmeans.cluster_centers_"
   ]
  },
  {
   "cell_type": "code",
   "execution_count": 45,
   "metadata": {},
   "outputs": [
    {
     "data": {
      "image/png": "[encoded data removed]",
      "text/plain": [
       "<Figure size 432x288 with 1 Axes>"
      ]
     },
     "metadata": {
      "needs_background": "light"
     },
     "output_type": "display_data"
    }
   ],
   "source": [
    "plt.scatter(X_scaled[:, 0], X_scaled[:, 1], c=kmeans.labels_, cmap='rainbow')\n",
    "plt.scatter(kmeans.cluster_centers_[:, 0], kmeans.cluster_centers_[:, 1], color='black')\n",
    "plt.show()"
   ]
  },
  {
   "cell_type": "code",
   "execution_count": 19,
   "metadata": {},
   "outputs": [
    {
     "data": {
      "image/png": "[encoded data removed]",
      "text/plain": [
       "<Figure size 432x288 with 1 Axes>"
      ]
     },
     "metadata": {
      "needs_background": "light"
     },
     "output_type": "display_data"
    }
   ],
   "source": [
    "y_pred=kmeans.predict(X_scaled)\n",
    "\n",
    "# Visualise the Clusters and their corresponding centroids in the below graph \n",
    "plt.scatter(X_scaled[:,0], X_scaled[:,1], c = y_pred) \n",
    "plt.scatter (kmeans.cluster_centers_[:, 0], kmeans.cluster_centers_[:, 1], s = 100, c = 'red')\n",
    "plt.xlabel('x') \n",
    "plt.ylabel('y') \n",
    "plt.show()"
   ]
  },
  {
   "cell_type": "code",
   "execution_count": 20,
   "metadata": {},
   "outputs": [
    {
     "data": {
      "text/plain": [
       "35518.11366895344"
      ]
     },
     "execution_count": 20,
     "metadata": {},
     "output_type": "execute_result"
    }
   ],
   "source": [
    "kmeans.inertia_"
   ]
  },
  {
   "cell_type": "code",
   "execution_count": null,
   "metadata": {},
   "outputs": [],
   "source": [
    "#might indicate that this is not suitable for kmeans clustering."
   ]
  },
  {
   "cell_type": "markdown",
   "metadata": {},
   "source": [
    "### 1.2 K-Means Clustering"
   ]
  },
  {
   "cell_type": "code",
   "execution_count": null,
   "metadata": {},
   "outputs": [],
   "source": []
  },
  {
   "cell_type": "markdown",
   "metadata": {},
   "source": [
    "### 1.3 Hierarchical Clustering"
   ]
  },
  {
   "cell_type": "code",
   "execution_count": 23,
   "metadata": {},
   "outputs": [
    {
     "data": {
      "text/plain": [
       "array([[-0.22699055,  1.55337352, -0.31063037, ..., -0.42828957,\n",
       "         1.21459768, -0.65465367],\n",
       "       [-0.22699055, -0.64376017, -0.31063037, ..., -0.42828957,\n",
       "        -0.82331789,  1.52752523],\n",
       "       [-0.22699055,  1.55337352, -0.31063037, ...,  2.33486893,\n",
       "        -0.82331789, -0.65465367],\n",
       "       ...,\n",
       "       [-0.22699055, -0.64376017, -0.31063037, ..., -0.42828957,\n",
       "        -0.82331789, -0.65465367],\n",
       "       [-0.22699055, -0.64376017, -0.31063037, ..., -0.42828957,\n",
       "         1.21459768,  1.52752523],\n",
       "       [-0.22699055,  1.55337352, -0.31063037, ..., -0.42828957,\n",
       "        -0.82331789, -0.65465367]])"
      ]
     },
     "execution_count": 23,
     "metadata": {},
     "output_type": "execute_result"
    }
   ],
   "source": [
    "X_scaled"
   ]
  },
  {
   "cell_type": "code",
   "execution_count": 24,
   "metadata": {},
   "outputs": [
    {
     "name": "stdout",
     "output_type": "stream",
     "text": [
      "[[ 0.          9.14381063  7.82370676 ...  5.81789158  8.60446659\n",
      "   7.95065785]\n",
      " [ 9.14381063  0.          9.8655857  ...  7.92163739  7.77798564\n",
      "   8.22045671]\n",
      " [ 7.82370676  9.8655857   0.         ...  8.3437604  10.36222196\n",
      "   8.94076639]\n",
      " ...\n",
      " [ 5.81789158  7.92163739  8.3437604  ...  0.          7.02767036\n",
      "   6.61217917]\n",
      " [ 8.60446659  7.77798564 10.36222196 ...  7.02767036  0.\n",
      "   8.44621815]\n",
      " [ 7.95065785  8.22045671  8.94076639 ...  6.61217917  8.44621815\n",
      "   0.        ]]\n"
     ]
    }
   ],
   "source": [
    "from scipy.spatial.distance import cdist\n",
    "print(cdist(X_scaled,X_scaled))"
   ]
  },
  {
   "cell_type": "code",
   "execution_count": 25,
   "metadata": {},
   "outputs": [
    {
     "name": "stdout",
     "output_type": "stream",
     "text": [
      "(1000, 1000)\n"
     ]
    }
   ],
   "source": [
    "print(cdist(X_scaled,X_scaled).shape)"
   ]
  },
  {
   "cell_type": "code",
   "execution_count": 26,
   "metadata": {},
   "outputs": [
    {
     "data": {
      "text/plain": [
       "array([[9.00000000e+00, 3.20000000e+02, 1.96601054e-01, 2.00000000e+00],\n",
       "       [6.05000000e+02, 7.43000000e+02, 2.19285791e-01, 2.00000000e+00],\n",
       "       [4.56000000e+02, 5.86000000e+02, 5.89011710e-01, 2.00000000e+00],\n",
       "       ...,\n",
       "       [1.99300000e+03, 1.99500000e+03, 5.82320418e+01, 7.11000000e+02],\n",
       "       [1.98700000e+03, 1.99400000e+03, 6.03239725e+01, 2.89000000e+02],\n",
       "       [1.99600000e+03, 1.99700000e+03, 6.58750391e+01, 1.00000000e+03]])"
      ]
     },
     "execution_count": 26,
     "metadata": {},
     "output_type": "execute_result"
    }
   ],
   "source": [
    "Z=shc.linkage(X_scaled,method='ward')\n",
    "Z"
   ]
  },
  {
   "cell_type": "code",
   "execution_count": 27,
   "metadata": {},
   "outputs": [
    {
     "data": {
      "image/png": "[encoded data removed]",
      "text/plain": [
       "<Figure size 864x864 with 1 Axes>"
      ]
     },
     "metadata": {
      "needs_background": "light"
     },
     "output_type": "display_data"
    }
   ],
   "source": [
    "# generate dendrograms\n",
    "\n",
    "plt.figure(figsize=(12,12))\n",
    "plt.title('Visualising the hierarchival Clustering')\n",
    "Dendrogram=shc.dendrogram(Z)"
   ]
  },
  {
   "cell_type": "code",
   "execution_count": 28,
   "metadata": {},
   "outputs": [
    {
     "data": {
      "text/html": [
       "<style>#sk-container-id-2 {color: black;background-color: white;}#sk-container-id-2 pre{padding: 0;}#sk-container-id-2 div.sk-toggleable {background-color: white;}#sk-container-id-2 label.sk-toggleable__label {cursor: pointer;display: block;width: 100%;margin-bottom: 0;padding: 0.3em;box-sizing: border-box;text-align: center;}#sk-container-id-2 label.sk-toggleable__label-arrow:before {content: \"▸\";float: left;margin-right: 0.25em;color: #696969;}#sk-container-id-2 label.sk-toggleable__label-arrow:hover:before {color: black;}#sk-container-id-2 div.sk-estimator:hover label.sk-toggleable__label-arrow:before {color: black;}#sk-container-id-2 div.sk-toggleable__content {max-height: 0;max-width: 0;overflow: hidden;text-align: left;background-color: #f0f8ff;}#sk-container-id-2 div.sk-toggleable__content pre {margin: 0.2em;color: black;border-radius: 0.25em;background-color: #f0f8ff;}#sk-container-id-2 input.sk-toggleable__control:checked~div.sk-toggleable__content {max-height: 200px;max-width: 100%;overflow: auto;}#sk-container-id-2 input.sk-toggleable__control:checked~label.sk-toggleable__label-arrow:before {content: \"▾\";}#sk-container-id-2 div.sk-estimator input.sk-toggleable__control:checked~label.sk-toggleable__label {background-color: #d4ebff;}#sk-container-id-2 div.sk-label input.sk-toggleable__control:checked~label.sk-toggleable__label {background-color: #d4ebff;}#sk-container-id-2 input.sk-hidden--visually {border: 0;clip: rect(1px 1px 1px 1px);clip: rect(1px, 1px, 1px, 1px);height: 1px;margin: -1px;overflow: hidden;padding: 0;position: absolute;width: 1px;}#sk-container-id-2 div.sk-estimator {font-family: monospace;background-color: #f0f8ff;border: 1px dotted black;border-radius: 0.25em;box-sizing: border-box;margin-bottom: 0.5em;}#sk-container-id-2 div.sk-estimator:hover {background-color: #d4ebff;}#sk-container-id-2 div.sk-parallel-item::after {content: \"\";width: 100%;border-bottom: 1px solid gray;flex-grow: 1;}#sk-container-id-2 div.sk-label:hover label.sk-toggleable__label {background-color: #d4ebff;}#sk-container-id-2 div.sk-serial::before {content: \"\";position: absolute;border-left: 1px solid gray;box-sizing: border-box;top: 0;bottom: 0;left: 50%;z-index: 0;}#sk-container-id-2 div.sk-serial {display: flex;flex-direction: column;align-items: center;background-color: white;padding-right: 0.2em;padding-left: 0.2em;position: relative;}#sk-container-id-2 div.sk-item {position: relative;z-index: 1;}#sk-container-id-2 div.sk-parallel {display: flex;align-items: stretch;justify-content: center;background-color: white;position: relative;}#sk-container-id-2 div.sk-item::before, #sk-container-id-2 div.sk-parallel-item::before {content: \"\";position: absolute;border-left: 1px solid gray;box-sizing: border-box;top: 0;bottom: 0;left: 50%;z-index: -1;}#sk-container-id-2 div.sk-parallel-item {display: flex;flex-direction: column;z-index: 1;position: relative;background-color: white;}#sk-container-id-2 div.sk-parallel-item:first-child::after {align-self: flex-end;width: 50%;}#sk-container-id-2 div.sk-parallel-item:last-child::after {align-self: flex-start;width: 50%;}#sk-container-id-2 div.sk-parallel-item:only-child::after {width: 0;}#sk-container-id-2 div.sk-dashed-wrapped {border: 1px dashed gray;margin: 0 0.4em 0.5em 0.4em;box-sizing: border-box;padding-bottom: 0.4em;background-color: white;}#sk-container-id-2 div.sk-label label {font-family: monospace;font-weight: bold;display: inline-block;line-height: 1.2em;}#sk-container-id-2 div.sk-label-container {text-align: center;}#sk-container-id-2 div.sk-container {/* jupyter's `normalize.less` sets `[hidden] { display: none; }` but bootstrap.min.css set `[hidden] { display: none !important; }` so we also need the `!important` here to be able to override the default hidden behavior on the sphinx rendered scikit-learn.org. See: https://github.com/scikit-learn/scikit-learn/issues/21755 */display: inline-block !important;position: relative;}#sk-container-id-2 div.sk-text-repr-fallback {display: none;}</style><div id=\"sk-container-id-2\" class=\"sk-top-container\"><div class=\"sk-text-repr-fallback\"><pre>AgglomerativeClustering(n_clusters=3)</pre><b>In a Jupyter environment, please rerun this cell to show the HTML representation or trust the notebook. <br />On GitHub, the HTML representation is unable to render, please try loading this page with nbviewer.org.</b></div><div class=\"sk-container\" hidden><div class=\"sk-item\"><div class=\"sk-estimator sk-toggleable\"><input class=\"sk-toggleable__control sk-hidden--visually\" id=\"sk-estimator-id-2\" type=\"checkbox\" checked><label for=\"sk-estimator-id-2\" class=\"sk-toggleable__label sk-toggleable__label-arrow\">AgglomerativeClustering</label><div class=\"sk-toggleable__content\"><pre>AgglomerativeClustering(n_clusters=3)</pre></div></div></div></div></div>"
      ],
      "text/plain": [
       "AgglomerativeClustering(n_clusters=3)"
      ]
     },
     "execution_count": 28,
     "metadata": {},
     "output_type": "execute_result"
    }
   ],
   "source": [
    "ac3=AgglomerativeClustering(n_clusters=3)\n",
    "ac3"
   ]
  },
  {
   "cell_type": "code",
   "execution_count": 29,
   "metadata": {},
   "outputs": [
    {
     "data": {
      "text/plain": [
       "array([0, 1, 0, 2, 0, 0, 0, 0, 0, 0, 1, 1, 1, 0, 1, 1, 0, 0, 0, 0, 0, 0,\n",
       "       0, 0, 0, 0, 0, 0, 2, 0, 0, 0, 0, 0, 1, 0, 0, 2, 1, 0, 0, 0, 0, 0,\n",
       "       0, 1, 0, 1, 0, 2, 0, 0, 0, 0, 0, 0, 0, 0, 0, 2, 0, 2, 0, 0, 1, 0,\n",
       "       1, 0, 0, 1, 1, 0, 0, 1, 0, 0, 0, 0, 0, 0, 1, 0, 1, 0, 0, 2, 1, 0,\n",
       "       0, 0, 0, 0, 1, 2, 0, 0, 0, 0, 0, 0, 0, 0, 0, 0, 0, 0, 0, 0, 1, 0,\n",
       "       0, 0, 0, 0, 0, 0, 0, 2, 1, 0, 1, 0, 0, 0, 1, 0, 0, 0, 0, 2, 0, 0,\n",
       "       0, 0, 1, 1, 0, 0, 2, 1, 1, 0, 0, 0, 1, 0, 1, 1, 2, 0, 0, 0, 0, 0,\n",
       "       0, 1, 0, 1, 0, 0, 0, 1, 1, 0, 0, 0, 1, 1, 1, 0, 0, 1, 0, 2, 0, 0,\n",
       "       0, 0, 0, 0, 0, 0, 0, 0, 0, 0, 0, 1, 0, 0, 0, 0, 0, 0, 2, 0, 1, 1,\n",
       "       0, 0, 0, 0, 0, 1, 0, 0, 0, 1, 0, 0, 0, 1, 0, 0, 0, 1, 0, 0, 0, 1,\n",
       "       2, 0, 0, 0, 0, 0, 2, 0, 0, 0, 0, 0, 0, 2, 0, 0, 1, 0, 1, 2, 1, 0,\n",
       "       0, 1, 1, 0, 0, 0, 0, 2, 1, 1, 2, 0, 0, 0, 0, 0, 0, 1, 0, 1, 0, 0,\n",
       "       0, 0, 0, 0, 0, 0, 0, 1, 2, 0, 0, 0, 1, 0, 1, 0, 0, 0, 0, 0, 0, 1,\n",
       "       0, 0, 2, 0, 0, 0, 0, 0, 0, 1, 0, 2, 0, 0, 1, 0, 0, 2, 0, 0, 0, 0,\n",
       "       1, 0, 0, 0, 1, 0, 0, 0, 2, 1, 0, 0, 0, 0, 0, 0, 1, 0, 0, 1, 0, 0,\n",
       "       0, 0, 0, 1, 0, 0, 2, 1, 0, 0, 0, 1, 0, 2, 2, 1, 2, 1, 0, 0, 1, 1,\n",
       "       0, 0, 0, 0, 2, 0, 0, 1, 0, 0, 0, 0, 1, 0, 0, 1, 0, 1, 0, 0, 1, 0,\n",
       "       0, 2, 0, 0, 0, 1, 0, 0, 1, 0, 0, 1, 1, 0, 0, 1, 0, 1, 0, 1, 0, 0,\n",
       "       0, 0, 0, 1, 0, 0, 0, 0, 0, 0, 0, 0, 0, 0, 1, 0, 0, 0, 1, 0, 0, 0,\n",
       "       0, 1, 1, 0, 0, 0, 1, 0, 0, 0, 0, 1, 0, 0, 0, 0, 0, 0, 0, 1, 1, 1,\n",
       "       0, 2, 0, 0, 1, 0, 1, 2, 0, 0, 0, 1, 0, 0, 2, 0, 0, 0, 1, 0, 2, 0,\n",
       "       1, 1, 0, 2, 0, 0, 0, 0, 0, 0, 0, 1, 0, 0, 0, 0, 0, 0, 1, 0, 1, 0,\n",
       "       0, 0, 0, 2, 0, 2, 0, 0, 1, 0, 0, 0, 2, 0, 2, 0, 1, 0, 0, 0, 1, 2,\n",
       "       0, 0, 0, 0, 0, 0, 0, 2, 0, 1, 0, 1, 0, 0, 0, 1, 0, 0, 2, 0, 0, 0,\n",
       "       0, 0, 0, 1, 0, 0, 0, 0, 0, 1, 0, 0, 0, 0, 0, 0, 0, 0, 1, 0, 1, 0,\n",
       "       0, 0, 2, 0, 0, 0, 0, 0, 0, 0, 0, 2, 1, 0, 0, 0, 0, 0, 0, 1, 1, 2,\n",
       "       0, 1, 0, 2, 1, 0, 0, 1, 2, 0, 1, 0, 0, 1, 0, 2, 1, 0, 1, 0, 1, 1,\n",
       "       0, 0, 1, 0, 0, 0, 2, 1, 0, 0, 1, 0, 0, 2, 0, 0, 1, 0, 1, 2, 0, 0,\n",
       "       0, 0, 2, 0, 0, 0, 0, 1, 0, 0, 0, 0, 0, 0, 1, 0, 0, 2, 1, 0, 1, 0,\n",
       "       1, 0, 1, 0, 0, 2, 0, 0, 0, 1, 0, 0, 0, 0, 2, 0, 0, 0, 0, 0, 0, 0,\n",
       "       0, 0, 0, 0, 0, 0, 0, 0, 2, 0, 0, 0, 0, 0, 0, 0, 0, 0, 0, 1, 0, 0,\n",
       "       0, 0, 0, 0, 0, 0, 2, 0, 0, 0, 0, 0, 0, 0, 2, 1, 0, 0, 1, 0, 0, 0,\n",
       "       1, 0, 0, 0, 1, 0, 0, 0, 0, 0, 0, 0, 0, 0, 0, 0, 0, 0, 1, 1, 1, 1,\n",
       "       0, 1, 0, 0, 0, 0, 2, 0, 1, 1, 0, 0, 0, 0, 0, 0, 0, 0, 0, 0, 1, 1,\n",
       "       0, 0, 1, 1, 1, 1, 0, 1, 1, 0, 2, 0, 1, 1, 0, 0, 0, 2, 0, 0, 0, 0,\n",
       "       0, 0, 0, 0, 1, 1, 0, 2, 0, 0, 2, 0, 1, 1, 0, 0, 0, 0, 0, 0, 1, 0,\n",
       "       0, 0, 0, 1, 0, 1, 0, 1, 0, 2, 1, 0, 1, 0, 0, 0, 0, 1, 0, 2, 0, 1,\n",
       "       0, 0, 1, 1, 0, 0, 0, 0, 0, 0, 0, 0, 1, 0, 0, 0, 0, 1, 0, 1, 1, 0,\n",
       "       1, 1, 0, 2, 0, 0, 0, 0, 0, 0, 0, 0, 0, 0, 2, 0, 0, 0, 0, 0, 1, 0,\n",
       "       1, 2, 0, 0, 1, 0, 0, 1, 0, 0, 0, 1, 0, 0, 0, 1, 2, 1, 2, 0, 0, 0,\n",
       "       0, 0, 0, 1, 0, 0, 0, 0, 0, 2, 0, 0, 0, 0, 0, 0, 0, 1, 1, 2, 2, 0,\n",
       "       0, 0, 0, 0, 2, 0, 0, 1, 0, 1, 1, 0, 0, 0, 2, 0, 0, 0, 1, 0, 1, 0,\n",
       "       0, 0, 1, 0, 0, 0, 2, 1, 0, 0, 1, 0, 1, 0, 0, 0, 0, 0, 0, 0, 2, 0,\n",
       "       0, 0, 2, 0, 1, 0, 0, 0, 2, 0, 0, 0, 0, 0, 0, 0, 0, 0, 0, 1, 0, 0,\n",
       "       0, 0, 0, 0, 1, 2, 1, 1, 2, 0, 0, 0, 0, 0, 0, 0, 0, 1, 0, 1, 0, 0,\n",
       "       0, 0, 0, 0, 0, 1, 0, 0, 0, 0], dtype=int64)"
      ]
     },
     "execution_count": 29,
     "metadata": {},
     "output_type": "execute_result"
    }
   ],
   "source": [
    "ac3.fit_predict(X_scaled)"
   ]
  },
  {
   "cell_type": "code",
   "execution_count": 31,
   "metadata": {},
   "outputs": [
    {
     "data": {
      "image/png": "[encoded data removed]",
      "text/plain": [
       "<Figure size 432x432 with 1 Axes>"
      ]
     },
     "metadata": {
      "needs_background": "light"
     },
     "output_type": "display_data"
    }
   ],
   "source": [
    "plt.figure(figsize=(6,6))\n",
    "plt.scatter(X_scaled[:,0],X_scaled[:,1],\n",
    "           c=ac3.fit_predict(X_scaled),cmap='rainbow')\n",
    "plt.xlabel('X')\n",
    "plt.ylabel('Y')\n",
    "plt.show()"
   ]
  },
  {
   "cell_type": "code",
   "execution_count": 32,
   "metadata": {},
   "outputs": [
    {
     "data": {
      "text/plain": [
       "0.06954244033592427"
      ]
     },
     "execution_count": 32,
     "metadata": {},
     "output_type": "execute_result"
    }
   ],
   "source": [
    "#silhouettescore\n",
    "\n",
    "from sklearn.metrics import silhouette_score\n",
    "silhouette_score(X_scaled,ac3.labels_)"
   ]
  },
  {
   "cell_type": "code",
   "execution_count": 33,
   "metadata": {},
   "outputs": [],
   "source": [
    "k_range=range(2,11)\n",
    "silhouette_scores=[]\n",
    "for i in k_range:\n",
    "    ac_i=AgglomerativeClustering(n_clusters=i,linkage='ward')\n",
    "    silhouette_scores.append(silhouette_score(X_scaled,ac_i.fit_predict(X_scaled)))"
   ]
  },
  {
   "cell_type": "code",
   "execution_count": 36,
   "metadata": {},
   "outputs": [
    {
     "data": {
      "image/png": "[encoded data removed]",
      "text/plain": [
       "<Figure size 432x288 with 1 Axes>"
      ]
     },
     "metadata": {
      "needs_background": "light"
     },
     "output_type": "display_data"
    }
   ],
   "source": [
    "plt.bar(k_range,silhouette_scores)\n",
    "plt.xlabel('Number of clusters',fontsize=20)\n",
    "plt.ylabel('silouette score',fontsize=20)\n",
    "plt.axis([1,11,0,0.1])\n",
    "plt.show()"
   ]
  },
  {
   "cell_type": "code",
   "execution_count": null,
   "metadata": {},
   "outputs": [],
   "source": [
    "#highest silouette score at 5 clusters."
   ]
  },
  {
   "cell_type": "code",
   "execution_count": 39,
   "metadata": {},
   "outputs": [
    {
     "data": {
      "text/html": [
       "<style>#sk-container-id-3 {color: black;background-color: white;}#sk-container-id-3 pre{padding: 0;}#sk-container-id-3 div.sk-toggleable {background-color: white;}#sk-container-id-3 label.sk-toggleable__label {cursor: pointer;display: block;width: 100%;margin-bottom: 0;padding: 0.3em;box-sizing: border-box;text-align: center;}#sk-container-id-3 label.sk-toggleable__label-arrow:before {content: \"▸\";float: left;margin-right: 0.25em;color: #696969;}#sk-container-id-3 label.sk-toggleable__label-arrow:hover:before {color: black;}#sk-container-id-3 div.sk-estimator:hover label.sk-toggleable__label-arrow:before {color: black;}#sk-container-id-3 div.sk-toggleable__content {max-height: 0;max-width: 0;overflow: hidden;text-align: left;background-color: #f0f8ff;}#sk-container-id-3 div.sk-toggleable__content pre {margin: 0.2em;color: black;border-radius: 0.25em;background-color: #f0f8ff;}#sk-container-id-3 input.sk-toggleable__control:checked~div.sk-toggleable__content {max-height: 200px;max-width: 100%;overflow: auto;}#sk-container-id-3 input.sk-toggleable__control:checked~label.sk-toggleable__label-arrow:before {content: \"▾\";}#sk-container-id-3 div.sk-estimator input.sk-toggleable__control:checked~label.sk-toggleable__label {background-color: #d4ebff;}#sk-container-id-3 div.sk-label input.sk-toggleable__control:checked~label.sk-toggleable__label {background-color: #d4ebff;}#sk-container-id-3 input.sk-hidden--visually {border: 0;clip: rect(1px 1px 1px 1px);clip: rect(1px, 1px, 1px, 1px);height: 1px;margin: -1px;overflow: hidden;padding: 0;position: absolute;width: 1px;}#sk-container-id-3 div.sk-estimator {font-family: monospace;background-color: #f0f8ff;border: 1px dotted black;border-radius: 0.25em;box-sizing: border-box;margin-bottom: 0.5em;}#sk-container-id-3 div.sk-estimator:hover {background-color: #d4ebff;}#sk-container-id-3 div.sk-parallel-item::after {content: \"\";width: 100%;border-bottom: 1px solid gray;flex-grow: 1;}#sk-container-id-3 div.sk-label:hover label.sk-toggleable__label {background-color: #d4ebff;}#sk-container-id-3 div.sk-serial::before {content: \"\";position: absolute;border-left: 1px solid gray;box-sizing: border-box;top: 0;bottom: 0;left: 50%;z-index: 0;}#sk-container-id-3 div.sk-serial {display: flex;flex-direction: column;align-items: center;background-color: white;padding-right: 0.2em;padding-left: 0.2em;position: relative;}#sk-container-id-3 div.sk-item {position: relative;z-index: 1;}#sk-container-id-3 div.sk-parallel {display: flex;align-items: stretch;justify-content: center;background-color: white;position: relative;}#sk-container-id-3 div.sk-item::before, #sk-container-id-3 div.sk-parallel-item::before {content: \"\";position: absolute;border-left: 1px solid gray;box-sizing: border-box;top: 0;bottom: 0;left: 50%;z-index: -1;}#sk-container-id-3 div.sk-parallel-item {display: flex;flex-direction: column;z-index: 1;position: relative;background-color: white;}#sk-container-id-3 div.sk-parallel-item:first-child::after {align-self: flex-end;width: 50%;}#sk-container-id-3 div.sk-parallel-item:last-child::after {align-self: flex-start;width: 50%;}#sk-container-id-3 div.sk-parallel-item:only-child::after {width: 0;}#sk-container-id-3 div.sk-dashed-wrapped {border: 1px dashed gray;margin: 0 0.4em 0.5em 0.4em;box-sizing: border-box;padding-bottom: 0.4em;background-color: white;}#sk-container-id-3 div.sk-label label {font-family: monospace;font-weight: bold;display: inline-block;line-height: 1.2em;}#sk-container-id-3 div.sk-label-container {text-align: center;}#sk-container-id-3 div.sk-container {/* jupyter's `normalize.less` sets `[hidden] { display: none; }` but bootstrap.min.css set `[hidden] { display: none !important; }` so we also need the `!important` here to be able to override the default hidden behavior on the sphinx rendered scikit-learn.org. See: https://github.com/scikit-learn/scikit-learn/issues/21755 */display: inline-block !important;position: relative;}#sk-container-id-3 div.sk-text-repr-fallback {display: none;}</style><div id=\"sk-container-id-3\" class=\"sk-top-container\"><div class=\"sk-text-repr-fallback\"><pre>AgglomerativeClustering(n_clusters=5)</pre><b>In a Jupyter environment, please rerun this cell to show the HTML representation or trust the notebook. <br />On GitHub, the HTML representation is unable to render, please try loading this page with nbviewer.org.</b></div><div class=\"sk-container\" hidden><div class=\"sk-item\"><div class=\"sk-estimator sk-toggleable\"><input class=\"sk-toggleable__control sk-hidden--visually\" id=\"sk-estimator-id-3\" type=\"checkbox\" checked><label for=\"sk-estimator-id-3\" class=\"sk-toggleable__label sk-toggleable__label-arrow\">AgglomerativeClustering</label><div class=\"sk-toggleable__content\"><pre>AgglomerativeClustering(n_clusters=5)</pre></div></div></div></div></div>"
      ],
      "text/plain": [
       "AgglomerativeClustering(n_clusters=5)"
      ]
     },
     "execution_count": 39,
     "metadata": {},
     "output_type": "execute_result"
    }
   ],
   "source": [
    "ac5=AgglomerativeClustering(n_clusters=5)\n",
    "ac5"
   ]
  },
  {
   "cell_type": "code",
   "execution_count": 40,
   "metadata": {},
   "outputs": [
    {
     "data": {
      "text/plain": [
       "array([1, 0, 3, 2, 3, 3, 1, 1, 1, 1, 0, 0, 0, 1, 0, 0, 1, 1, 3, 1, 1, 1,\n",
       "       1, 1, 1, 1, 1, 1, 2, 1, 1, 1, 1, 1, 0, 1, 3, 2, 0, 1, 1, 1, 1, 1,\n",
       "       3, 0, 1, 0, 1, 2, 1, 1, 1, 1, 3, 1, 1, 1, 1, 2, 1, 2, 1, 1, 0, 1,\n",
       "       0, 1, 3, 0, 0, 1, 4, 0, 3, 3, 1, 1, 1, 1, 0, 1, 0, 4, 1, 2, 0, 3,\n",
       "       1, 1, 1, 1, 0, 2, 1, 1, 3, 1, 1, 1, 1, 1, 1, 1, 1, 4, 1, 1, 0, 1,\n",
       "       1, 3, 1, 1, 1, 1, 1, 2, 0, 1, 0, 1, 1, 3, 0, 1, 1, 1, 1, 2, 1, 3,\n",
       "       1, 3, 0, 0, 1, 1, 2, 0, 0, 1, 1, 1, 0, 1, 0, 0, 2, 1, 3, 1, 1, 1,\n",
       "       1, 0, 1, 0, 1, 1, 1, 0, 0, 3, 1, 1, 0, 0, 0, 1, 1, 0, 1, 2, 3, 3,\n",
       "       1, 1, 1, 1, 1, 1, 1, 1, 1, 1, 3, 0, 1, 1, 1, 1, 1, 1, 2, 3, 0, 0,\n",
       "       3, 1, 3, 1, 1, 0, 1, 3, 1, 0, 1, 1, 1, 0, 1, 1, 1, 0, 1, 1, 1, 0,\n",
       "       2, 3, 1, 1, 1, 1, 2, 3, 1, 3, 1, 3, 1, 2, 1, 1, 0, 1, 0, 2, 0, 1,\n",
       "       1, 0, 0, 1, 1, 1, 1, 2, 0, 0, 2, 1, 1, 1, 1, 1, 1, 0, 1, 0, 3, 3,\n",
       "       1, 1, 1, 1, 1, 1, 1, 0, 2, 1, 1, 1, 0, 1, 0, 1, 1, 1, 1, 1, 1, 0,\n",
       "       1, 4, 2, 1, 1, 1, 3, 3, 1, 0, 1, 2, 1, 1, 0, 1, 1, 2, 3, 1, 1, 1,\n",
       "       0, 1, 4, 1, 0, 1, 1, 1, 2, 0, 3, 1, 1, 1, 3, 1, 0, 1, 1, 0, 1, 1,\n",
       "       3, 3, 1, 0, 1, 1, 2, 0, 1, 1, 3, 0, 1, 2, 2, 0, 2, 0, 1, 3, 0, 0,\n",
       "       1, 1, 3, 1, 2, 1, 1, 0, 3, 1, 1, 1, 0, 1, 1, 0, 1, 0, 1, 1, 0, 3,\n",
       "       4, 2, 1, 3, 3, 0, 1, 3, 0, 1, 1, 0, 0, 1, 1, 0, 1, 0, 3, 0, 1, 3,\n",
       "       3, 1, 1, 0, 1, 1, 1, 1, 1, 1, 1, 1, 1, 1, 0, 1, 1, 1, 0, 1, 1, 3,\n",
       "       1, 0, 0, 1, 1, 1, 0, 1, 1, 1, 1, 0, 1, 4, 3, 1, 1, 1, 1, 0, 0, 0,\n",
       "       1, 2, 4, 3, 0, 3, 0, 2, 1, 1, 1, 0, 1, 1, 2, 1, 1, 3, 0, 1, 2, 1,\n",
       "       0, 0, 1, 2, 1, 1, 1, 1, 1, 3, 1, 0, 1, 1, 1, 1, 1, 1, 0, 1, 0, 1,\n",
       "       1, 1, 1, 2, 1, 2, 1, 1, 0, 1, 1, 1, 2, 1, 2, 1, 0, 3, 1, 1, 0, 2,\n",
       "       1, 1, 1, 1, 1, 3, 1, 2, 1, 0, 1, 0, 1, 3, 1, 0, 1, 1, 2, 1, 3, 1,\n",
       "       1, 1, 3, 0, 1, 1, 1, 1, 1, 0, 3, 1, 1, 3, 1, 1, 1, 3, 0, 1, 0, 3,\n",
       "       1, 1, 2, 1, 1, 1, 1, 1, 1, 1, 3, 2, 0, 3, 1, 1, 1, 1, 1, 0, 0, 2,\n",
       "       1, 0, 1, 2, 0, 3, 1, 0, 2, 1, 0, 1, 3, 0, 1, 2, 0, 1, 0, 1, 0, 0,\n",
       "       4, 1, 0, 1, 1, 3, 2, 0, 3, 1, 0, 1, 1, 2, 1, 3, 0, 3, 0, 2, 1, 1,\n",
       "       3, 1, 2, 1, 1, 1, 1, 0, 3, 1, 1, 1, 1, 3, 0, 1, 1, 2, 0, 1, 0, 1,\n",
       "       0, 1, 0, 1, 3, 2, 1, 1, 1, 0, 1, 3, 3, 1, 2, 1, 1, 3, 1, 1, 1, 1,\n",
       "       1, 1, 1, 1, 3, 4, 1, 1, 2, 1, 1, 1, 1, 1, 1, 1, 1, 1, 1, 0, 3, 3,\n",
       "       1, 3, 1, 3, 1, 3, 2, 1, 1, 1, 1, 1, 1, 1, 2, 0, 1, 3, 0, 3, 3, 1,\n",
       "       0, 3, 1, 1, 0, 1, 1, 3, 1, 1, 1, 1, 1, 3, 1, 1, 1, 3, 0, 0, 0, 0,\n",
       "       1, 0, 1, 1, 1, 1, 2, 1, 0, 0, 1, 1, 1, 1, 1, 1, 1, 1, 1, 1, 0, 0,\n",
       "       1, 1, 0, 0, 0, 0, 1, 0, 0, 3, 2, 1, 0, 0, 1, 3, 1, 2, 1, 1, 1, 1,\n",
       "       1, 3, 1, 1, 0, 0, 1, 2, 1, 1, 2, 1, 0, 0, 1, 1, 1, 1, 3, 3, 0, 1,\n",
       "       1, 1, 3, 0, 3, 0, 1, 0, 3, 2, 0, 1, 0, 1, 1, 1, 3, 0, 1, 2, 1, 0,\n",
       "       3, 1, 0, 0, 4, 1, 1, 1, 1, 1, 1, 1, 0, 1, 3, 3, 1, 0, 1, 0, 0, 1,\n",
       "       0, 0, 1, 2, 1, 1, 1, 1, 1, 1, 1, 1, 1, 1, 2, 1, 3, 1, 1, 1, 0, 3,\n",
       "       0, 2, 1, 1, 0, 1, 1, 0, 1, 1, 1, 0, 1, 1, 1, 0, 2, 0, 2, 1, 3, 1,\n",
       "       1, 1, 1, 0, 1, 3, 1, 1, 1, 2, 1, 1, 1, 1, 1, 1, 1, 0, 0, 2, 2, 1,\n",
       "       3, 1, 1, 1, 2, 3, 1, 0, 1, 0, 0, 1, 1, 4, 2, 3, 1, 1, 0, 1, 0, 1,\n",
       "       1, 1, 0, 3, 1, 1, 2, 0, 1, 1, 0, 1, 0, 1, 3, 1, 1, 1, 1, 1, 2, 1,\n",
       "       1, 1, 2, 1, 0, 1, 1, 1, 2, 1, 1, 1, 1, 3, 1, 1, 1, 1, 1, 0, 1, 1,\n",
       "       1, 1, 1, 1, 0, 2, 0, 0, 2, 1, 1, 1, 1, 1, 1, 1, 1, 0, 1, 0, 3, 1,\n",
       "       3, 1, 1, 1, 1, 0, 1, 1, 3, 1], dtype=int64)"
      ]
     },
     "execution_count": 40,
     "metadata": {},
     "output_type": "execute_result"
    }
   ],
   "source": [
    "ac5.fit_predict(X_scaled)"
   ]
  },
  {
   "cell_type": "code",
   "execution_count": 41,
   "metadata": {},
   "outputs": [
    {
     "data": {
      "image/png": "[encoded data removed]",
      "text/plain": [
       "<Figure size 432x432 with 1 Axes>"
      ]
     },
     "metadata": {
      "needs_background": "light"
     },
     "output_type": "display_data"
    }
   ],
   "source": [
    "plt.figure(figsize=(6,6))\n",
    "plt.scatter(X_scaled[:,0],X_scaled[:,1],\n",
    "           c=ac5.fit_predict(X_scaled),cmap='rainbow')\n",
    "plt.xlabel('age_scaled')\n",
    "plt.ylabel('annual_sal_scaled')\n",
    "plt.show()"
   ]
  },
  {
   "cell_type": "code",
   "execution_count": 42,
   "metadata": {},
   "outputs": [
    {
     "data": {
      "text/plain": [
       "0.07517706351853734"
      ]
     },
     "execution_count": 42,
     "metadata": {},
     "output_type": "execute_result"
    }
   ],
   "source": [
    "silhouette_score(X_scaled,ac5.fit_predict(X_scaled))"
   ]
  },
  {
   "cell_type": "code",
   "execution_count": null,
   "metadata": {},
   "outputs": [],
   "source": []
  }
 ],
 "metadata": {
  "kernelspec": {
   "display_name": "Python 3",
   "language": "python",
   "name": "python3"
  },
  "language_info": {
   "codemirror_mode": {
    "name": "ipython",
    "version": 3
   },
   "file_extension": ".py",
   "mimetype": "text/x-python",
   "name": "python",
   "nbconvert_exporter": "python",
   "pygments_lexer": "ipython3",
   "version": "3.8.5"
  }
 },
 "nbformat": 4,
 "nbformat_minor": 2
}
